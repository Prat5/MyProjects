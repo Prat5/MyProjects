{
 "cells": [
  {
   "cell_type": "markdown",
   "id": "d15359b4",
   "metadata": {},
   "source": [
    "# Python"
   ]
  },
  {
   "cell_type": "markdown",
   "id": "fcc579a2",
   "metadata": {},
   "source": [
    "## Why Python ?"
   ]
  },
  {
   "cell_type": "markdown",
   "id": "cb206364",
   "metadata": {},
   "source": [
    "1. Design Philosophy ( Very Easy to Learn)\n",
    "2. Batteries Included (For small common functions, we already have functions available. Eg. print function)\n",
    "3. General Purpose Language (Can be used in multiple domains such as Data Science, Web Development, Software Development etc.)\n",
    "4. Libraries/communities "
   ]
  },
  {
   "cell_type": "markdown",
   "id": "b11429d6",
   "metadata": {},
   "source": [
    "## Why Python for Data Science?"
   ]
  },
  {
   "cell_type": "markdown",
   "id": "2c93c033",
   "metadata": {},
   "source": [
    "1. Easy to Learn\n",
    "2. Proximity with Maths (It already had libraries such as numpy, pandas etc.)\n",
    "3. Community"
   ]
  },
  {
   "cell_type": "markdown",
   "id": "8c713af1",
   "metadata": {},
   "source": [
    "## Writing 1st Program and 'print' outputs"
   ]
  },
  {
   "cell_type": "code",
   "execution_count": 1,
   "id": "52db4be9",
   "metadata": {
    "ExecuteTime": {
     "end_time": "2023-02-25T06:29:35.454461Z",
     "start_time": "2023-02-25T06:29:35.442545Z"
    }
   },
   "outputs": [
    {
     "name": "stdout",
     "output_type": "stream",
     "text": [
      "Hello world\n"
     ]
    }
   ],
   "source": [
    "print('Hello world')"
   ]
  },
  {
   "cell_type": "code",
   "execution_count": 2,
   "id": "6b13823c",
   "metadata": {
    "ExecuteTime": {
     "end_time": "2023-02-25T06:29:35.516477Z",
     "start_time": "2023-02-25T06:29:35.457603Z"
    }
   },
   "outputs": [
    {
     "name": "stdout",
     "output_type": "stream",
     "text": [
      "Hello 1 1.232 True\n"
     ]
    }
   ],
   "source": [
    "print('Hello',1,1.232,True)"
   ]
  },
  {
   "cell_type": "markdown",
   "id": "e5159db1",
   "metadata": {},
   "source": [
    "### Changing the SEPERATOR :\n",
    "By default the sep : ' ' is a space but we could customize it to our liking/need."
   ]
  },
  {
   "cell_type": "code",
   "execution_count": 3,
   "id": "731c2ff4",
   "metadata": {
    "ExecuteTime": {
     "end_time": "2023-02-25T06:29:35.532475Z",
     "start_time": "2023-02-25T06:29:35.520475Z"
    }
   },
   "outputs": [
    {
     "name": "stdout",
     "output_type": "stream",
     "text": [
      "Hello---1---1.232---True\n"
     ]
    }
   ],
   "source": [
    "print('Hello',1,1.232,True,sep='---')"
   ]
  },
  {
   "cell_type": "markdown",
   "id": "19824d01",
   "metadata": {},
   "source": [
    "### Changing the END parameter :\n",
    "If we use 2 print statements one after the other, it'd print the output in 2 lines.The reason being, the default end is '\\n'. Python gives us the flexibility to change/override it to our liking."
   ]
  },
  {
   "cell_type": "code",
   "execution_count": 4,
   "id": "d21cddc9",
   "metadata": {
    "ExecuteTime": {
     "end_time": "2023-02-25T06:29:35.548475Z",
     "start_time": "2023-02-25T06:29:35.535475Z"
    }
   },
   "outputs": [
    {
     "name": "stdout",
     "output_type": "stream",
     "text": [
      "Hello\n",
      "World\n"
     ]
    }
   ],
   "source": [
    "print('Hello')\n",
    "print('World')"
   ]
  },
  {
   "cell_type": "code",
   "execution_count": 5,
   "id": "664fd53b",
   "metadata": {
    "ExecuteTime": {
     "end_time": "2023-02-25T06:29:35.564475Z",
     "start_time": "2023-02-25T06:29:35.551474Z"
    }
   },
   "outputs": [
    {
     "name": "stdout",
     "output_type": "stream",
     "text": [
      "Hello*:?World\n"
     ]
    }
   ],
   "source": [
    "print('Hello',end='*:?')\n",
    "print('World')"
   ]
  },
  {
   "cell_type": "markdown",
   "id": "fe034665",
   "metadata": {},
   "source": [
    "## Data Types in Python:"
   ]
  },
  {
   "cell_type": "markdown",
   "id": "aea13c10",
   "metadata": {},
   "source": [
    "### Integer :\n",
    "Can handle upto 1 * 10^308 integers."
   ]
  },
  {
   "cell_type": "code",
   "execution_count": 6,
   "id": "98199f8b",
   "metadata": {
    "ExecuteTime": {
     "end_time": "2023-02-25T06:29:35.580485Z",
     "start_time": "2023-02-25T06:29:35.567475Z"
    }
   },
   "outputs": [
    {
     "name": "stdout",
     "output_type": "stream",
     "text": [
      "4\n"
     ]
    }
   ],
   "source": [
    "print(4)"
   ]
  },
  {
   "cell_type": "code",
   "execution_count": 7,
   "id": "3b206fc6",
   "metadata": {
    "ExecuteTime": {
     "end_time": "2023-02-25T06:29:35.596006Z",
     "start_time": "2023-02-25T06:29:35.584487Z"
    }
   },
   "outputs": [
    {
     "name": "stdout",
     "output_type": "stream",
     "text": [
      "1e+308\n"
     ]
    }
   ],
   "source": [
    "print(1e308)"
   ]
  },
  {
   "cell_type": "code",
   "execution_count": 8,
   "id": "8d6c9b31",
   "metadata": {
    "ExecuteTime": {
     "end_time": "2023-02-25T06:29:35.612002Z",
     "start_time": "2023-02-25T06:29:35.599003Z"
    }
   },
   "outputs": [
    {
     "name": "stdout",
     "output_type": "stream",
     "text": [
      "inf\n"
     ]
    }
   ],
   "source": [
    "print(1e309)"
   ]
  },
  {
   "cell_type": "markdown",
   "id": "b700d5e8",
   "metadata": {},
   "source": [
    "### Decimal/Float :\n",
    "Can handle 1*10^308 decimals"
   ]
  },
  {
   "cell_type": "code",
   "execution_count": 9,
   "id": "5d2f567e",
   "metadata": {
    "ExecuteTime": {
     "end_time": "2023-02-25T06:29:35.628000Z",
     "start_time": "2023-02-25T06:29:35.618003Z"
    }
   },
   "outputs": [
    {
     "name": "stdout",
     "output_type": "stream",
     "text": [
      "1.2e+308\n"
     ]
    }
   ],
   "source": [
    "print(1.2e308)"
   ]
  },
  {
   "cell_type": "code",
   "execution_count": 10,
   "id": "59804f98",
   "metadata": {
    "ExecuteTime": {
     "end_time": "2023-02-25T06:29:35.644003Z",
     "start_time": "2023-02-25T06:29:35.631002Z"
    }
   },
   "outputs": [
    {
     "name": "stdout",
     "output_type": "stream",
     "text": [
      "inf\n"
     ]
    }
   ],
   "source": [
    "print(1.2e309)"
   ]
  },
  {
   "cell_type": "markdown",
   "id": "c1a376f9",
   "metadata": {},
   "source": [
    "### Boolean (True/False)"
   ]
  },
  {
   "cell_type": "code",
   "execution_count": 11,
   "id": "14e04f53",
   "metadata": {
    "ExecuteTime": {
     "end_time": "2023-02-25T06:29:35.660007Z",
     "start_time": "2023-02-25T06:29:35.647002Z"
    }
   },
   "outputs": [
    {
     "name": "stdout",
     "output_type": "stream",
     "text": [
      "True\n",
      "False\n"
     ]
    }
   ],
   "source": [
    "print(True)\n",
    "print(False)"
   ]
  },
  {
   "cell_type": "markdown",
   "id": "43899e37",
   "metadata": {},
   "source": [
    "### String/Text :"
   ]
  },
  {
   "cell_type": "code",
   "execution_count": 12,
   "id": "f19f829f",
   "metadata": {
    "ExecuteTime": {
     "end_time": "2023-02-25T06:29:35.675000Z",
     "start_time": "2023-02-25T06:29:35.663010Z"
    }
   },
   "outputs": [
    {
     "name": "stdout",
     "output_type": "stream",
     "text": [
      "Hello World\n"
     ]
    }
   ],
   "source": [
    "print('Hello World')"
   ]
  },
  {
   "cell_type": "markdown",
   "id": "d7b11102",
   "metadata": {
    "ExecuteTime": {
     "end_time": "2023-02-23T13:46:21.194222Z",
     "start_time": "2023-02-23T13:46:21.183221Z"
    }
   },
   "source": [
    "### Complex Numbers : (Real part & Imaginary Part)"
   ]
  },
  {
   "cell_type": "code",
   "execution_count": 13,
   "id": "7250cc59",
   "metadata": {
    "ExecuteTime": {
     "end_time": "2023-02-25T06:29:35.690283Z",
     "start_time": "2023-02-25T06:29:35.678001Z"
    }
   },
   "outputs": [
    {
     "name": "stdout",
     "output_type": "stream",
     "text": [
      "(5+6j)\n"
     ]
    }
   ],
   "source": [
    "print(5+6j)"
   ]
  },
  {
   "cell_type": "markdown",
   "id": "cc8e0793",
   "metadata": {
    "ExecuteTime": {
     "end_time": "2023-02-23T13:48:20.165592Z",
     "start_time": "2023-02-23T13:48:20.148911Z"
    }
   },
   "source": [
    "### List [ ] :"
   ]
  },
  {
   "cell_type": "code",
   "execution_count": 14,
   "id": "4c3d34f2",
   "metadata": {
    "ExecuteTime": {
     "end_time": "2023-02-25T06:29:35.705796Z",
     "start_time": "2023-02-25T06:29:35.693789Z"
    }
   },
   "outputs": [
    {
     "name": "stdout",
     "output_type": "stream",
     "text": [
      "[1, 2, 4, 67, 1, 32]\n"
     ]
    }
   ],
   "source": [
    "print([1,2,4,67,1,32])"
   ]
  },
  {
   "cell_type": "markdown",
   "id": "25475240",
   "metadata": {},
   "source": [
    "### Tuple ():"
   ]
  },
  {
   "cell_type": "code",
   "execution_count": 15,
   "id": "38377393",
   "metadata": {
    "ExecuteTime": {
     "end_time": "2023-02-25T06:29:35.721795Z",
     "start_time": "2023-02-25T06:29:35.708797Z"
    }
   },
   "outputs": [
    {
     "name": "stdout",
     "output_type": "stream",
     "text": [
      "(1, 1, 23, 4, 5, 6789)\n"
     ]
    }
   ],
   "source": [
    "print((1,1,23,4,5,6789))"
   ]
  },
  {
   "cell_type": "markdown",
   "id": "6257976e",
   "metadata": {},
   "source": [
    "### Sets {} :"
   ]
  },
  {
   "cell_type": "code",
   "execution_count": 16,
   "id": "498760d5",
   "metadata": {
    "ExecuteTime": {
     "end_time": "2023-02-25T06:29:35.737803Z",
     "start_time": "2023-02-25T06:29:35.724795Z"
    }
   },
   "outputs": [
    {
     "name": "stdout",
     "output_type": "stream",
     "text": [
      "{1, 4, 5, 6789, 23}\n"
     ]
    }
   ],
   "source": [
    "print({1,1,23,4,5,6789})"
   ]
  },
  {
   "cell_type": "markdown",
   "id": "4d2665cf",
   "metadata": {},
   "source": [
    "### Dictionary {}:"
   ]
  },
  {
   "cell_type": "code",
   "execution_count": 17,
   "id": "be7bdc2c",
   "metadata": {
    "ExecuteTime": {
     "end_time": "2023-02-25T06:29:35.753798Z",
     "start_time": "2023-02-25T06:29:35.740797Z"
    }
   },
   "outputs": [
    {
     "name": "stdout",
     "output_type": "stream",
     "text": [
      "{'Name': 'Prateek', 'gender': 'Male', 'Weight': 65}\n"
     ]
    }
   ],
   "source": [
    "print({'Name': 'Prateek', 'gender': 'Male', 'Weight': 65})"
   ]
  },
  {
   "cell_type": "markdown",
   "id": "604e1c28",
   "metadata": {},
   "source": [
    "## Type Function: Used to detect the data type "
   ]
  },
  {
   "cell_type": "code",
   "execution_count": 18,
   "id": "6ce2d34e",
   "metadata": {
    "ExecuteTime": {
     "end_time": "2023-02-25T06:29:35.778134Z",
     "start_time": "2023-02-25T06:29:35.755795Z"
    }
   },
   "outputs": [
    {
     "data": {
      "text/plain": [
       "int"
      ]
     },
     "execution_count": 18,
     "metadata": {},
     "output_type": "execute_result"
    }
   ],
   "source": [
    "type(4)"
   ]
  },
  {
   "cell_type": "code",
   "execution_count": 19,
   "id": "3ef3a545",
   "metadata": {
    "ExecuteTime": {
     "end_time": "2023-02-25T06:29:35.793483Z",
     "start_time": "2023-02-25T06:29:35.781481Z"
    }
   },
   "outputs": [
    {
     "data": {
      "text/plain": [
       "float"
      ]
     },
     "execution_count": 19,
     "metadata": {},
     "output_type": "execute_result"
    }
   ],
   "source": [
    "type(3.4)"
   ]
  },
  {
   "cell_type": "code",
   "execution_count": 20,
   "id": "b0f06f45",
   "metadata": {
    "ExecuteTime": {
     "end_time": "2023-02-25T06:29:35.808698Z",
     "start_time": "2023-02-25T06:29:35.796699Z"
    }
   },
   "outputs": [
    {
     "data": {
      "text/plain": [
       "bool"
      ]
     },
     "execution_count": 20,
     "metadata": {},
     "output_type": "execute_result"
    }
   ],
   "source": [
    "type(True)"
   ]
  },
  {
   "cell_type": "code",
   "execution_count": 21,
   "id": "3b6e08a6",
   "metadata": {
    "ExecuteTime": {
     "end_time": "2023-02-25T06:29:35.823696Z",
     "start_time": "2023-02-25T06:29:35.811695Z"
    }
   },
   "outputs": [
    {
     "data": {
      "text/plain": [
       "complex"
      ]
     },
     "execution_count": 21,
     "metadata": {},
     "output_type": "execute_result"
    }
   ],
   "source": [
    "type(3+5j)"
   ]
  },
  {
   "cell_type": "code",
   "execution_count": 22,
   "id": "e7795d48",
   "metadata": {
    "ExecuteTime": {
     "end_time": "2023-02-25T06:29:35.839694Z",
     "start_time": "2023-02-25T06:29:35.826698Z"
    }
   },
   "outputs": [
    {
     "data": {
      "text/plain": [
       "list"
      ]
     },
     "execution_count": 22,
     "metadata": {},
     "output_type": "execute_result"
    }
   ],
   "source": [
    "type([1,34,2])"
   ]
  },
  {
   "cell_type": "code",
   "execution_count": 23,
   "id": "a8da07e8",
   "metadata": {
    "ExecuteTime": {
     "end_time": "2023-02-25T06:29:35.855697Z",
     "start_time": "2023-02-25T06:29:35.843696Z"
    }
   },
   "outputs": [
    {
     "data": {
      "text/plain": [
       "tuple"
      ]
     },
     "execution_count": 23,
     "metadata": {},
     "output_type": "execute_result"
    }
   ],
   "source": [
    "type((1,2,1,23))"
   ]
  },
  {
   "cell_type": "code",
   "execution_count": 24,
   "id": "4ac8e27a",
   "metadata": {
    "ExecuteTime": {
     "end_time": "2023-02-25T06:29:35.870697Z",
     "start_time": "2023-02-25T06:29:35.858695Z"
    }
   },
   "outputs": [
    {
     "data": {
      "text/plain": [
       "set"
      ]
     },
     "execution_count": 24,
     "metadata": {},
     "output_type": "execute_result"
    }
   ],
   "source": [
    "type({1,1,2,45,65})"
   ]
  },
  {
   "cell_type": "code",
   "execution_count": 25,
   "id": "603702f1",
   "metadata": {
    "ExecuteTime": {
     "end_time": "2023-02-25T06:29:35.885704Z",
     "start_time": "2023-02-25T06:29:35.873696Z"
    }
   },
   "outputs": [
    {
     "data": {
      "text/plain": [
       "dict"
      ]
     },
     "execution_count": 25,
     "metadata": {},
     "output_type": "execute_result"
    }
   ],
   "source": [
    "type({'Name':'Prateek','Age':30})"
   ]
  },
  {
   "cell_type": "markdown",
   "id": "66b21a24",
   "metadata": {},
   "source": [
    "## Variables:\n",
    "Variables are containers, where in we store any data."
   ]
  },
  {
   "cell_type": "code",
   "execution_count": 26,
   "id": "32fe720a",
   "metadata": {
    "ExecuteTime": {
     "end_time": "2023-02-25T06:29:35.900194Z",
     "start_time": "2023-02-25T06:29:35.888703Z"
    }
   },
   "outputs": [
    {
     "name": "stdout",
     "output_type": "stream",
     "text": [
      "Prateek\n"
     ]
    }
   ],
   "source": [
    "name = 'Prateek'\n",
    "print(name)"
   ]
  },
  {
   "cell_type": "code",
   "execution_count": 27,
   "id": "9104f3df",
   "metadata": {
    "ExecuteTime": {
     "end_time": "2023-02-25T06:29:35.915472Z",
     "start_time": "2023-02-25T06:29:35.910472Z"
    }
   },
   "outputs": [
    {
     "name": "stdout",
     "output_type": "stream",
     "text": [
      "9\n"
     ]
    }
   ],
   "source": [
    "a= 4\n",
    "b= 5\n",
    "print(a+b)"
   ]
  },
  {
   "cell_type": "markdown",
   "id": "3d1f8bb1",
   "metadata": {
    "ExecuteTime": {
     "end_time": "2023-02-23T16:49:10.155214Z",
     "start_time": "2023-02-23T16:49:10.138623Z"
    }
   },
   "source": [
    "#### Literals: \n",
    "The value that is stored in a variable is called Literal"
   ]
  },
  {
   "cell_type": "markdown",
   "id": "3f28135b",
   "metadata": {},
   "source": [
    "### Dynamic Typing vs Static Typing :\n",
    "If we had to create a variable in c, then command would be like\n",
    "\n",
    "int a = 5 we need to specify the data type. This is called **Static typing**.\n",
    "\n",
    "where as in Python,we write it as \n",
    "\n",
    "a=5 we do not have to type any data type, python takes care of it for us and this is called **Dynamic Typing**\n"
   ]
  },
  {
   "cell_type": "markdown",
   "id": "734c8429",
   "metadata": {},
   "source": [
    "### Dynamic Binding vs Static Binding\n",
    "\n",
    "In static Binding, once we specify the data type of a variable, if changed it have to be of same data type.\n",
    "Eg: int a = 5 if a is changed it'd have to be a integer.\n",
    "\n",
    "where as\n",
    "\n",
    "In Dynamic Binding a variable would not have a fixed Data type.\n",
    "eg :"
   ]
  },
  {
   "cell_type": "code",
   "execution_count": 28,
   "id": "edfb5366",
   "metadata": {
    "ExecuteTime": {
     "end_time": "2023-02-25T06:29:35.931466Z",
     "start_time": "2023-02-25T06:29:35.919468Z"
    }
   },
   "outputs": [
    {
     "name": "stdout",
     "output_type": "stream",
     "text": [
      "5\n",
      "xyz\n"
     ]
    }
   ],
   "source": [
    "a = 5\n",
    "print(a)\n",
    "a = 'xyz'\n",
    "print(a)"
   ]
  },
  {
   "cell_type": "code",
   "execution_count": 29,
   "id": "80251448",
   "metadata": {
    "ExecuteTime": {
     "end_time": "2023-02-25T06:29:35.946469Z",
     "start_time": "2023-02-25T06:29:35.935474Z"
    }
   },
   "outputs": [
    {
     "name": "stdout",
     "output_type": "stream",
     "text": [
      "5 5 5\n"
     ]
    }
   ],
   "source": [
    "a=5\n",
    "b=5\n",
    "c=5\n",
    "print(a,b,c)"
   ]
  },
  {
   "cell_type": "code",
   "execution_count": 30,
   "id": "3dc9531f",
   "metadata": {
    "ExecuteTime": {
     "end_time": "2023-02-25T06:29:35.961466Z",
     "start_time": "2023-02-25T06:29:35.950473Z"
    }
   },
   "outputs": [
    {
     "name": "stdout",
     "output_type": "stream",
     "text": [
      "5 5 5\n"
     ]
    }
   ],
   "source": [
    "a,b,c = 5,5,5\n",
    "print(a,b,c)"
   ]
  },
  {
   "cell_type": "code",
   "execution_count": 31,
   "id": "a5927991",
   "metadata": {
    "ExecuteTime": {
     "end_time": "2023-02-25T06:29:35.977469Z",
     "start_time": "2023-02-25T06:29:35.966470Z"
    }
   },
   "outputs": [
    {
     "name": "stdout",
     "output_type": "stream",
     "text": [
      "5 5 5\n"
     ]
    }
   ],
   "source": [
    "a=b=c=5\n",
    "print(a,b,c)"
   ]
  },
  {
   "cell_type": "markdown",
   "id": "c097d2ef",
   "metadata": {},
   "source": [
    "## Keywords and Identifiers :"
   ]
  },
  {
   "attachments": {
    "image.png": {
     "image/png": "[encoded data removed]"
    }
   },
   "cell_type": "markdown",
   "id": "062315df",
   "metadata": {},
   "source": [
    "### Keywords :\n",
    "\n",
    "![image.png](attachment:image.png)\n",
    "\n",
    "These are 33 words which are reserved by python for a predefined functionality."
   ]
  },
  {
   "cell_type": "markdown",
   "id": "443d7212",
   "metadata": {},
   "source": [
    "### Identifier:\n",
    "These are the names given to a variable or a function by a programmer.\n",
    "1. It cannot start with a digit.\n",
    "2. Only 1 special character can be used _ \n",
    "3. Identifiers cannot be a keyword."
   ]
  },
  {
   "cell_type": "markdown",
   "id": "731d1239",
   "metadata": {},
   "source": [
    "## Getting an Input from user 'INPUT FUNCTION'"
   ]
  },
  {
   "cell_type": "code",
   "execution_count": 32,
   "id": "5a405c4c",
   "metadata": {
    "ExecuteTime": {
     "end_time": "2023-02-25T06:29:44.144582Z",
     "start_time": "2023-02-25T06:29:35.983481Z"
    }
   },
   "outputs": [
    {
     "name": "stdout",
     "output_type": "stream",
     "text": [
      "Enter a number :4\n",
      "Enter a number :6\n",
      "46\n"
     ]
    }
   ],
   "source": [
    "a = input('Enter a number :')\n",
    "b = input('Enter a number :')\n",
    "print(a + b)"
   ]
  },
  {
   "cell_type": "markdown",
   "id": "5f957ba3",
   "metadata": {},
   "source": [
    "## Type Conversion:\n",
    "Process of converting one data type to another."
   ]
  },
  {
   "cell_type": "markdown",
   "id": "c774866e",
   "metadata": {},
   "source": [
    "### Implicit Type Conversion vs Explicit Type Conversion :"
   ]
  },
  {
   "cell_type": "markdown",
   "id": "101b67a3",
   "metadata": {},
   "source": [
    "#### Implicit Type Conversion :\n",
    "This type of conversion is handled by python automatically and no action is required by a user. Eg:"
   ]
  },
  {
   "cell_type": "code",
   "execution_count": 36,
   "id": "2731909c",
   "metadata": {
    "ExecuteTime": {
     "end_time": "2023-02-25T06:30:06.098652Z",
     "start_time": "2023-02-25T06:30:06.081634Z"
    }
   },
   "outputs": [
    {
     "name": "stdout",
     "output_type": "stream",
     "text": [
      "10.6\n"
     ]
    }
   ],
   "source": [
    "print(5+5.6)"
   ]
  },
  {
   "cell_type": "code",
   "execution_count": 37,
   "id": "efe5e41c",
   "metadata": {
    "ExecuteTime": {
     "end_time": "2023-02-25T06:30:07.627770Z",
     "start_time": "2023-02-25T06:30:07.603154Z"
    }
   },
   "outputs": [
    {
     "name": "stdout",
     "output_type": "stream",
     "text": [
      "<class 'int'> <class 'float'>\n"
     ]
    }
   ],
   "source": [
    "print(type(5),type(5.6))"
   ]
  },
  {
   "cell_type": "markdown",
   "id": "cc65dd3d",
   "metadata": {},
   "source": [
    "#### Explicit Type Conversion :\n",
    "These are the type of conversions that python fails to convert and a user has to convert the data types himself. Eg:"
   ]
  },
  {
   "cell_type": "code",
   "execution_count": 38,
   "id": "11664089",
   "metadata": {
    "ExecuteTime": {
     "end_time": "2023-02-25T06:30:08.738875Z",
     "start_time": "2023-02-25T06:30:08.710416Z"
    }
   },
   "outputs": [
    {
     "ename": "TypeError",
     "evalue": "unsupported operand type(s) for +: 'int' and 'str'",
     "output_type": "error",
     "traceback": [
      "\u001b[1;31m---------------------------------------------------------------------------\u001b[0m",
      "\u001b[1;31mTypeError\u001b[0m                                 Traceback (most recent call last)",
      "\u001b[1;32m~\\AppData\\Local\\Temp\\ipykernel_10820\\2353599133.py\u001b[0m in \u001b[0;36m<cell line: 1>\u001b[1;34m()\u001b[0m\n\u001b[1;32m----> 1\u001b[1;33m \u001b[0mprint\u001b[0m\u001b[1;33m(\u001b[0m\u001b[1;36m4\u001b[0m\u001b[1;33m+\u001b[0m\u001b[1;34m'5'\u001b[0m\u001b[1;33m)\u001b[0m\u001b[1;33m\u001b[0m\u001b[1;33m\u001b[0m\u001b[0m\n\u001b[0m",
      "\u001b[1;31mTypeError\u001b[0m: unsupported operand type(s) for +: 'int' and 'str'"
     ]
    }
   ],
   "source": [
    "print(4+'5')"
   ]
  },
  {
   "cell_type": "code",
   "execution_count": 39,
   "id": "a00f62cc",
   "metadata": {
    "ExecuteTime": {
     "end_time": "2023-02-25T06:30:09.344990Z",
     "start_time": "2023-02-25T06:30:09.326430Z"
    }
   },
   "outputs": [
    {
     "name": "stdout",
     "output_type": "stream",
     "text": [
      "9\n"
     ]
    }
   ],
   "source": [
    "print(4+int('5'))"
   ]
  },
  {
   "cell_type": "code",
   "execution_count": 40,
   "id": "afdd0677",
   "metadata": {
    "ExecuteTime": {
     "end_time": "2023-02-25T06:30:31.533588Z",
     "start_time": "2023-02-25T06:30:10.020130Z"
    }
   },
   "outputs": [
    {
     "name": "stdout",
     "output_type": "stream",
     "text": [
      "Enter a number :4\n",
      "Enter a number :45.4\n",
      "49.4\n",
      "<class 'str'>\n"
     ]
    }
   ],
   "source": [
    "a = input('Enter a number :')\n",
    "b = input('Enter a number :')\n",
    "result = float(a) + float(b)  ## Result changed to float.\n",
    "print(result)\n",
    "print(type(a))  ## But original data type is not changed."
   ]
  },
  {
   "cell_type": "markdown",
   "id": "e0a95cc8",
   "metadata": {},
   "source": [
    "## Operators in Python :\n",
    "1. Arithmetic Operators\n",
    "2. Relational Operators\n",
    "3. Logical Operators\n",
    "4. Bitwise Operators\n",
    "5. Assignment Operators\n",
    "6. Membership Operators"
   ]
  },
  {
   "cell_type": "markdown",
   "id": "ea946c61",
   "metadata": {},
   "source": [
    "### Arithmetic Operators :"
   ]
  },
  {
   "cell_type": "code",
   "execution_count": 41,
   "id": "43637ef7",
   "metadata": {
    "ExecuteTime": {
     "end_time": "2023-02-25T06:30:35.855475Z",
     "start_time": "2023-02-25T06:30:35.832154Z"
    }
   },
   "outputs": [
    {
     "name": "stdout",
     "output_type": "stream",
     "text": [
      "3\n",
      "7\n",
      "10\n",
      "2.5\n",
      "2\n",
      "1\n",
      "25\n"
     ]
    }
   ],
   "source": [
    "print(5 - 2)\n",
    "\n",
    "print(5 + 2)\n",
    "\n",
    "print(5 * 2)\n",
    "\n",
    "print(5 / 2)\n",
    "\n",
    "print(\n",
    "    5 //\n",
    "    2)  ## This would convert the answer into an integer rather than a decimal.\n",
    "\n",
    "print(5 % 2)  ## This would show the remainder of the division\n",
    "\n",
    "print(5**2)  ## To the power off"
   ]
  },
  {
   "cell_type": "markdown",
   "id": "b05b6aa2",
   "metadata": {
    "ExecuteTime": {
     "end_time": "2023-02-24T06:33:41.089376Z",
     "start_time": "2023-02-24T06:33:41.073048Z"
    }
   },
   "source": [
    "### Relational Operators :"
   ]
  },
  {
   "cell_type": "code",
   "execution_count": 42,
   "id": "3ade511f",
   "metadata": {
    "ExecuteTime": {
     "end_time": "2023-02-25T06:30:37.026204Z",
     "start_time": "2023-02-25T06:30:37.000298Z"
    }
   },
   "outputs": [
    {
     "name": "stdout",
     "output_type": "stream",
     "text": [
      "True\n",
      "True\n",
      "True\n",
      "True\n",
      "False\n"
     ]
    }
   ],
   "source": [
    "print(4<5)\n",
    "print(4>=4)\n",
    "print(4<=4)\n",
    "print(4==4)\n",
    "print(4!=4)"
   ]
  },
  {
   "cell_type": "markdown",
   "id": "ae080956",
   "metadata": {
    "ExecuteTime": {
     "end_time": "2023-02-24T06:38:07.804891Z",
     "start_time": "2023-02-24T06:38:07.781697Z"
    }
   },
   "source": [
    "### Logical Operators :\n",
    "1. AND\n",
    "2. OR\n",
    "3. NOT"
   ]
  },
  {
   "cell_type": "markdown",
   "id": "63006f18",
   "metadata": {},
   "source": [
    "### Bitwise Operators :\n",
    "1. Bitwise AND - &\n",
    "2. Bitwise OR - |\n",
    "3. Bitwise NOT - ~\n",
    "\n",
    "Not used in Data Science :\n",
    "\n",
    "4. Bitwise XOR - ^ \n",
    "5. Bitwise LEFT SHIFT - >>\n",
    "6. Bitwise RIGHT SHIFT - <<"
   ]
  },
  {
   "cell_type": "markdown",
   "id": "d2255f06",
   "metadata": {},
   "source": [
    "### Assignment Operator : \n",
    "a = 2\n",
    "\n",
    "In a=2, a is a variable 2 is the literal and = is assignment operator.\n",
    "\n",
    "Assignment operator can be used in different ways. Eg."
   ]
  },
  {
   "cell_type": "code",
   "execution_count": 43,
   "id": "4390917b",
   "metadata": {
    "ExecuteTime": {
     "end_time": "2023-02-25T06:30:39.140195Z",
     "start_time": "2023-02-25T06:30:39.114625Z"
    }
   },
   "outputs": [
    {
     "data": {
      "text/plain": [
       "4"
      ]
     },
     "execution_count": 43,
     "metadata": {},
     "output_type": "execute_result"
    }
   ],
   "source": [
    "a=2\n",
    "a = a+2 \n",
    "a"
   ]
  },
  {
   "cell_type": "code",
   "execution_count": 44,
   "id": "9b6b612b",
   "metadata": {
    "ExecuteTime": {
     "end_time": "2023-02-25T06:30:48.512431Z",
     "start_time": "2023-02-25T06:30:48.486280Z"
    }
   },
   "outputs": [
    {
     "name": "stdout",
     "output_type": "stream",
     "text": [
      "4\n"
     ]
    }
   ],
   "source": [
    "a=2\n",
    "a += 2\n",
    "print(a)"
   ]
  },
  {
   "cell_type": "code",
   "execution_count": 45,
   "id": "8c3ea011",
   "metadata": {
    "ExecuteTime": {
     "end_time": "2023-02-25T06:30:48.854376Z",
     "start_time": "2023-02-25T06:30:48.845460Z"
    }
   },
   "outputs": [
    {
     "data": {
      "text/plain": [
       "4"
      ]
     },
     "execution_count": 45,
     "metadata": {},
     "output_type": "execute_result"
    }
   ],
   "source": [
    "a=2\n",
    "a *= 2\n",
    "a"
   ]
  },
  {
   "cell_type": "markdown",
   "id": "d593fff2",
   "metadata": {},
   "source": [
    "### Membership Operator : \n",
    "IN / NOT IN"
   ]
  },
  {
   "cell_type": "code",
   "execution_count": 46,
   "id": "d5e630df",
   "metadata": {
    "ExecuteTime": {
     "end_time": "2023-02-25T06:30:49.841443Z",
     "start_time": "2023-02-25T06:30:49.815941Z"
    }
   },
   "outputs": [
    {
     "name": "stdout",
     "output_type": "stream",
     "text": [
      "True\n"
     ]
    }
   ],
   "source": [
    "print('l' in 'Delhi')"
   ]
  },
  {
   "cell_type": "code",
   "execution_count": 47,
   "id": "26a918b8",
   "metadata": {
    "ExecuteTime": {
     "end_time": "2023-02-25T06:30:50.241583Z",
     "start_time": "2023-02-25T06:30:50.225927Z"
    }
   },
   "outputs": [
    {
     "name": "stdout",
     "output_type": "stream",
     "text": [
      "False\n"
     ]
    }
   ],
   "source": [
    "print('z' in 'Delhi')"
   ]
  },
  {
   "cell_type": "code",
   "execution_count": 48,
   "id": "cec50a8b",
   "metadata": {
    "ExecuteTime": {
     "end_time": "2023-02-25T06:30:50.706637Z",
     "start_time": "2023-02-25T06:30:50.689176Z"
    }
   },
   "outputs": [
    {
     "name": "stdout",
     "output_type": "stream",
     "text": [
      "True\n"
     ]
    }
   ],
   "source": [
    "print(23 in [1,23,4,67,89])"
   ]
  },
  {
   "cell_type": "code",
   "execution_count": 49,
   "id": "6bfaf2b4",
   "metadata": {
    "ExecuteTime": {
     "end_time": "2023-02-25T06:30:51.091903Z",
     "start_time": "2023-02-25T06:30:51.070920Z"
    }
   },
   "outputs": [
    {
     "name": "stdout",
     "output_type": "stream",
     "text": [
      "False\n"
     ]
    }
   ],
   "source": [
    "print(23 not in [1,23,4,67,89])"
   ]
  },
  {
   "cell_type": "markdown",
   "id": "264d2eef",
   "metadata": {
    "ExecuteTime": {
     "end_time": "2023-02-24T07:18:06.942110Z",
     "start_time": "2023-02-24T07:18:06.901833Z"
    }
   },
   "source": [
    "#### Finding the sum of 3 digit number entered by a user :"
   ]
  },
  {
   "cell_type": "code",
   "execution_count": 50,
   "id": "a9373f81",
   "metadata": {
    "ExecuteTime": {
     "end_time": "2023-02-25T06:30:59.449181Z",
     "start_time": "2023-02-25T06:30:51.870483Z"
    }
   },
   "outputs": [
    {
     "name": "stdout",
     "output_type": "stream",
     "text": [
      "Enter a 3 digit number345\n",
      "12\n"
     ]
    }
   ],
   "source": [
    "number = int(input('Enter a 3 digit number'))\n",
    "a = number % 10\n",
    "\n",
    "number = number // 10\n",
    "b = number % 10\n",
    "\n",
    "number = number // 10\n",
    "c = number % 10\n",
    "\n",
    "sum = a + b + c\n",
    "print(sum)"
   ]
  },
  {
   "cell_type": "markdown",
   "id": "3bf47382",
   "metadata": {},
   "source": [
    "## IF / ELSE STATEMENTS :"
   ]
  },
  {
   "cell_type": "code",
   "execution_count": 51,
   "id": "bad8957b",
   "metadata": {
    "ExecuteTime": {
     "end_time": "2023-02-25T06:31:25.387777Z",
     "start_time": "2023-02-25T06:31:10.221621Z"
    }
   },
   "outputs": [
    {
     "name": "stdout",
     "output_type": "stream",
     "text": [
      "Enter a username :\n",
      "Enter a password1234\n",
      "Login Failed : Incorrect Username or Password\n"
     ]
    }
   ],
   "source": [
    "Username = 'prateek@gmail.com'\n",
    "Password = '1234'\n",
    "\n",
    "## We need to build a program which checks if the user name and password is correct if yes  print logged in else incorrect details.\n",
    "\n",
    "username_input = input('Enter a username :')\n",
    "password_input = input('Enter a password')\n",
    "\n",
    "if Username == username_input and Password == password_input:\n",
    "    print('Logged in')\n",
    "elif Username == username_input and Password != password_input:\n",
    "    print('Incorrect password, Please try again')\n",
    "    pw_new = input('Enter the Password again')\n",
    "    if Password == pw_new:\n",
    "        print('Finally!! logged in :) ')\n",
    "    else:\n",
    "        print('Tu ghar ja')\n",
    "else:\n",
    "    print('Login Failed : Incorrect Username or Password')"
   ]
  },
  {
   "cell_type": "code",
   "execution_count": 52,
   "id": "ae698ba9",
   "metadata": {
    "ExecuteTime": {
     "end_time": "2023-02-25T06:31:41.186016Z",
     "start_time": "2023-02-25T06:31:31.874859Z"
    }
   },
   "outputs": [
    {
     "name": "stdout",
     "output_type": "stream",
     "text": [
      "Enter the 1st Number11\n",
      "Enter the 2nd Number2\n",
      "Enter the 3rd Number34\n",
      "The smallest number is  2\n"
     ]
    }
   ],
   "source": [
    "## Finding the smallest of 3 Numbers:\n",
    "\n",
    "a = int(input('Enter the 1st Number'))\n",
    "b = int(input('Enter the 2nd Number'))\n",
    "c = int(input('Enter the 3rd Number'))\n",
    "\n",
    "if a < b and a < c:\n",
    "    print('The smallest number is ', a)\n",
    "\n",
    "elif b < c:\n",
    "    print('The smallest number is ', b)\n",
    "\n",
    "else:\n",
    "    print('The smallest number is ', c)"
   ]
  },
  {
   "cell_type": "code",
   "execution_count": 54,
   "id": "3ac0a8b7",
   "metadata": {
    "ExecuteTime": {
     "end_time": "2023-02-25T06:32:04.474015Z",
     "start_time": "2023-02-25T06:31:58.126452Z"
    }
   },
   "outputs": [
    {
     "name": "stdout",
     "output_type": "stream",
     "text": [
      "Enter the 1st Number3\n",
      "Enter the 2nd Number4\n",
      "Enter the operation to perform*\n",
      "12\n"
     ]
    }
   ],
   "source": [
    "## Calculator\n",
    "\n",
    "a = int(input('Enter the 1st Number'))\n",
    "b = int(input('Enter the 2nd Number'))\n",
    "operation = input('Enter the operation to perform')\n",
    "\n",
    "if operation == '-':\n",
    "    print(a - b)\n",
    "elif operation == '+':\n",
    "    print(a + b)\n",
    "elif operation == '*':\n",
    "    print(a * b)\n",
    "else:\n",
    "    print(a / b)"
   ]
  },
  {
   "cell_type": "markdown",
   "id": "1a9f0577",
   "metadata": {},
   "source": [
    "## Modules in Python :\n",
    "It is a file that contains functions in it."
   ]
  },
  {
   "cell_type": "code",
   "execution_count": 57,
   "id": "c54f6e40",
   "metadata": {
    "ExecuteTime": {
     "end_time": "2023-02-25T06:33:55.396507Z",
     "start_time": "2023-02-25T06:33:55.374220Z"
    }
   },
   "outputs": [],
   "source": [
    "import warnings\n",
    "warnings.filterwarnings('ignore')"
   ]
  },
  {
   "cell_type": "code",
   "execution_count": 58,
   "id": "8f52d949",
   "metadata": {
    "ExecuteTime": {
     "end_time": "2023-02-25T06:34:26.845985Z",
     "start_time": "2023-02-25T06:34:03.394956Z"
    },
    "scrolled": true
   },
   "outputs": [
    {
     "name": "stdout",
     "output_type": "stream",
     "text": [
      "\n",
      "Please wait a moment while I gather a list of all available modules...\n",
      "\n"
     ]
    },
    {
     "name": "stderr",
     "output_type": "stream",
     "text": [
      "C:\\Users\\prate\\anaconda3\\lib\\site-packages\\torch\\distributed\\_sharded_tensor\\__init__.py:8: DeprecationWarning:\n",
      "\n",
      "torch.distributed._sharded_tensor will be deprecated, use torch.distributed._shard.sharded_tensor instead\n",
      "\n",
      "C:\\Users\\prate\\anaconda3\\lib\\site-packages\\torch\\distributed\\_sharding_spec\\__init__.py:8: DeprecationWarning:\n",
      "\n",
      "torch.distributed._sharding_spec will be deprecated, use torch.distributed._shard.sharding_spec instead\n",
      "\n",
      "WARNING:torch.distributed.elastic.multiprocessing.redirects:NOTE: Redirects are currently not supported in Windows or MacOs.\n",
      "No CUDA runtime is found, using CUDA_HOME='C:\\Program Files\\NVIDIA GPU Computing Toolkit\\CUDA\\v11.2'\n",
      "C:\\Users\\prate\\anaconda3\\lib\\pkgutil.py:108: VisibleDeprecationWarning:\n",
      "\n",
      "zmq.eventloop.minitornado is deprecated in pyzmq 14.0 and will be removed.\n",
      "    Install tornado itself to use zmq with the tornado IOLoop.\n",
      "    \n",
      "\n"
     ]
    },
    {
     "name": "stdout",
     "output_type": "stream",
     "text": [
      "6b397dd64e00b5aff23d__mypyc confection          mpmath              sortedcontainers\n",
      "Cython              configparser        msgpack             soupsieve\n",
      "Geometry            constantly          msilib              spacy\n",
      "IPython             contextlib          msvcrt              spacy_legacy\n",
      "MySQLdb             contextvars         multidict           spacy_loggers\n",
      "OpenSSL             contourpy           multipledispatch    sphinx\n",
      "PIL                 cookiecutter        multiprocess        sphinxify\n",
      "PyQt5               copy                multiprocessing     sphinxthread\n",
      "TBB                 copyreg             munkres             spyder\n",
      "__future__          crypt               murmurhash          spyder_kernels\n",
      "_abc                cryptography        mypy_extensions     sqlalchemy\n",
      "_aix_support        cssselect           mysql               sqlite3\n",
      "_argon2_cffi_bindings csv                 mysqlx              sre_compile\n",
      "_ast                ctypes              nacl                sre_constants\n",
      "_asyncio            curl                navigator_updater   sre_parse\n",
      "_bisect             curses              nbclassic           srsly\n",
      "_black_version      cwp                 nbclient            ssl\n",
      "_blake2             cycler              nbconvert           sspi\n",
      "_bootlocale         cymem               nbformat            sspicon\n",
      "_bootsubprocess     cython              nest_asyncio        stack_data\n",
      "_bz2                cythonmagic         netbios             stat\n",
      "_cffi_backend       cytoolz             netrc               statistics\n",
      "_codecs             daal4py             networkx            statsmodels\n",
      "_codecs_cn          dask                nltk                storemagic\n",
      "_codecs_hk          dataclasses         nntplib             string\n",
      "_codecs_iso2022     datasets            nose                stringprep\n",
      "_codecs_jp          datashader          notebook            struct\n",
      "_codecs_kr          datashape           notebook_shim       subprocess\n",
      "_codecs_tw          datatile            nt                  sunau\n",
      "_collections        datetime            ntpath              symbol\n",
      "_collections_abc    dateutil            ntsecuritycon       sympy\n",
      "_compat_pickle      dbi                 nturl2path          sympyprinting\n",
      "_compression        dbm                 numba               symtable\n",
      "_contextvars        dde                 numbergen           sys\n",
      "_csv                debugpy             numbers             sysconfig\n",
      "_ctypes             decimal             numexpr             tables\n",
      "_ctypes_test        decorator           numpy               tabnanny\n",
      "_datetime           defusedxml          numpydoc            tabulate\n",
      "_decimal            diff_match_patch    oauthlib            tarfile\n",
      "_distutils_hack     difflib             odbc                tbb\n",
      "_elementtree        dill                olefile             tblib\n",
      "_functools          dis                 onedal              telnetlib\n",
      "_hashlib            distributed         opcode              tempfile\n",
      "_heapq              distutils           openpyxl            tenacity\n",
      "_imp                docstring_to_markdown operator            tensorboard\n",
      "_io                 doctest             opt_einsum          tensorboard_data_server\n",
      "_json               docutils            optparse            tensorboard_plugin_wit\n",
      "_locale             duckduckgo_search   os                  tensorflow_estimator\n",
      "_lsprof             email               packaging           tensorflow_io_gcs_filesystem\n",
      "_lzma               encodings           pandas              termcolor\n",
      "_markupbase         ensurepip           pandas_summary      terminado\n",
      "_md5                entrypoints         pandoc              test\n",
      "_msi                enum                pandocfilters       test_pycosat\n",
      "_multibytecodec     erfa                panel               testpath\n",
      "_multiprocess       errno               param               tests\n",
      "_multiprocessing    et_xmlfile          paramiko            text_unidecode\n",
      "_nsis               exceptiongroup      parsel              textdistance\n",
      "_opcode             executing           parser              textwrap\n",
      "_operator           fastai              parso               thinc\n",
      "_osx_support        fastbook            partd               this\n",
      "_overlapped         fastcore            past                threading\n",
      "_peg_parser         fastdownload        pasta               threadpoolctl\n",
      "_pickle             fastjsonschema      pathlib             three_merge\n",
      "_plotly_future_     fastprogress        pathspec            tifffile\n",
      "_plotly_utils       faulthandler        pathy               time\n",
      "_py_abc             filecmp             patsy               timeit\n",
      "_pydecimal          fileinput           pdb                 timer\n",
      "_pyio               filelock            pep8                tinycss\n",
      "_pyrsistent_version flake8              perfmon             tinycss2\n",
      "_pytest             flask               pexpect             tk\n",
      "_queue              flatbuffers         pickle              tkinter\n",
      "_random             fnmatch             pickleshare         tldextract\n",
      "_sha1               fontTools           pickletools         tlz\n",
      "_sha256             formatter           pip                 token\n",
      "_sha3               fractions           pipes               tokenize\n",
      "_sha512             frozenlist          pkg_resources       tokenizers\n",
      "_signal             fsspec              pkginfo             toml\n",
      "_sitebuiltins       ftplib              pkgutil             tomli\n",
      "_socket             functools           platform            tomlkit\n",
      "_sqlite3            functorch           platformdirs        toolz\n",
      "_sre                future              plistlib            torch\n",
      "_ssl                gast                plotly              torchgen\n",
      "_stat               gc                  pluggy              torchvision\n",
      "_statistics         genericpath         plumbum             tornado\n",
      "_string             gensim              ply                 tqdm\n",
      "_strptime           getopt              poplib              trace\n",
      "_struct             getpass             posixpath           traceback\n",
      "_symtable           gettext             poyo                tracemalloc\n",
      "_system_path        glob                pprint              traceml\n",
      "_testbuffer         glob2               preshed             traitlets\n",
      "_testcapi           google_auth_oauthlib profile             transformers\n",
      "_testconsole        google_crc32c       prometheus_client   tty\n",
      "_testimportmultiple graphlib            prompt_toolkit      turtle\n",
      "_testinternalcapi   graphviz            protego             turtledemo\n",
      "_testmultiphase     greenlet            pstats              twisted\n",
      "_thread             grpc                psutil              typed_ast\n",
      "_threading_local    gzip                pty                 typer\n",
      "_tkinter            h5py                ptyprocess          types\n",
      "_tracemalloc        hamcrest            pure_eval           typing\n",
      "_uuid               hashlib             pvectorc            typing_extensions\n",
      "_warnings           heapdict            py                  ujson\n",
      "_weakref            heapq               py_compile          unicodedata\n",
      "_weakrefset         hmac                pyarrow             unidecode\n",
      "_win32sysloader     holoviews           pyasn1              unittest\n",
      "_winapi             html                pyasn1_modules      urllib\n",
      "_winxptheme         http                pyclbr              urllib3\n",
      "_xxsubinterpreters  huggingface_hub     pycodestyle         uu\n",
      "_yaml               hvplot              pycosat             uuid\n",
      "_zoneinfo           hyperlink           pycparser           venv\n",
      "abc                 idlelib             pyct                w3lib\n",
      "absl                idna                pycurl              warnings\n",
      "adodbapi            imagecodecs         pydantic            wasabi\n",
      "afxres              imageio             pydispatch          watchdog\n",
      "aifc                imagesize           pydoc               wave\n",
      "aiohttp             imaplib             pydoc_data          wcwidth\n",
      "aiosignal           imghdr              pydocstyle          weakref\n",
      "alabaster           imp                 pyexpat             webbrowser\n",
      "anaconda_navigator  importlib           pyflakes            webencodings\n",
      "anaconda_project    importlib_metadata  pygments            websocket\n",
      "antigravity         incremental         pylab               werkzeug\n",
      "anyio               inflection          pylint              whatthepatch\n",
      "appdirs             iniconfig           pylint_venv         wheel\n",
      "argon2              inspect             pyls_spyder         widgetsnbextension\n",
      "argparse            intake              pylsp               win2kras\n",
      "array               intervaltree        pylsp_black         win32api\n",
      "arrow               io                  pylsp_jsonrpc       win32clipboard\n",
      "ast                 ipaddress           pyodbc              win32com\n",
      "astroid             ipykernel           pyparsing           win32con\n",
      "astropy             ipykernel_launcher  pyreadline          win32console\n",
      "asttokens           ipython_genutils    pyrsistent          win32cred\n",
      "astunparse          ipywidgets          pytest              win32crypt\n",
      "async_timeout       isapi               pythoncom           win32cryptcon\n",
      "asynchat            isort               pytoolconfig        win32ctypes\n",
      "asyncio             isympy              pytz                win32event\n",
      "asyncore            itemadapter         pyviz_comms         win32evtlog\n",
      "atexit              itemloaders         pywin               win32evtlogutil\n",
      "atomicwrites        itertools           pywin32_bootstrap   win32file\n",
      "attr                itsdangerous        pywin32_testutil    win32gui\n",
      "attrs               jdcal               pywintypes          win32gui_struct\n",
      "audioop             jedi                pywt                win32help\n",
      "automat             jellyfish           pyximport           win32inet\n",
      "autopep8            jinja2              qdarkstyle          win32inetcon\n",
      "autoreload          jinja2_time         qstylizer           win32job\n",
      "babel               jmespath            qtawesome           win32lz\n",
      "backcall            joblib              qtconsole           win32net\n",
      "backports           json                qtpy                win32netcon\n",
      "base64              json5               queue               win32pdh\n",
      "bcrypt              jsonschema          queuelib            win32pdhquery\n",
      "bdb                 jupyter             quopri              win32pdhutil\n",
      "binaryornot         jupyter_client      random              win32pipe\n",
      "binascii            jupyter_console     rasutil             win32print\n",
      "binhex              jupyter_contrib_core re                  win32process\n",
      "binstar_client      jupyter_contrib_nbextensions readline            win32profile\n",
      "bisect              jupyter_core        regcheck            win32ras\n",
      "bitarray            jupyter_highlight_selected_word regex               win32rcparser\n",
      "bkcharts            jupyter_nbextensions_configurator regutil             win32security\n",
      "black               jupyter_server      repo_cli            win32service\n",
      "blackd              jupyterlab          reprlib             win32serviceutil\n",
      "bleach              jupyterlab_plotly   requests            win32timezone\n",
      "blib2to3            jupyterlab_pygments requests_file       win32trace\n",
      "blis                jupyterlab_server   requests_oauthlib   win32traceutil\n",
      "bokeh               jupyterlab_widgets  responses           win32transaction\n",
      "boto3               jwt                 rise                win32ts\n",
      "botocore            keras               rlcompleter         win32ui\n",
      "bottleneck          keras_preprocessing rmagic              win32uiole\n",
      "brotli              keyring             rope                win32verstamp\n",
      "bs4                 keyword             rsa                 win32wnet\n",
      "builtins            kiwisolver          rtree               win_inet_pton\n",
      "bz2                 labelImg            ruamel_yaml         win_unicode_console\n",
      "cProfile            langcodes           run                 wincertstore\n",
      "cachetools          latex_envs          runpy               winerror\n",
      "caffe2              lazy_object_proxy   s3transfer          winioctlcon\n",
      "calendar            lib2to3             sched               winnt\n",
      "catalogue           libarchive          scipy               winperf\n",
      "certifi             libfuturize         scrapy              winpty\n",
      "cffi                libpasteurize       seaborn             winreg\n",
      "cgi                 libs                secrets             winsound\n",
      "cgitb               lief                select              winxpgui\n",
      "chardet             linecache           selectors           winxptheme\n",
      "charset_normalizer  llvmlite            send2trash          wrapt\n",
      "chunk               locale              sentencepiece       wsgiref\n",
      "clang               locket              service_identity    xarray\n",
      "click               logging             servicemanager      xdrlib\n",
      "cloudpickle         lxml                setuptools          xlrd\n",
      "clyent              lzma                shelve              xlsxwriter\n",
      "cmath               mailbox             shlex               xlwings\n",
      "cmd                 mailcap             shutil              xml\n",
      "code                markdown            signal              xmlrpc\n",
      "codecs              markupsafe          sipbuild            xxhash\n",
      "codeop              marshal             site                xxsubtype\n",
      "collections         math                six                 xyzservices\n",
      "colorama            matplotlib          skimage             yaml\n",
      "colorcet            matplotlib_inline   sklearn             yapf\n",
      "colorsys            mccabe              sklearnex           yapftests\n",
      "commctrl            menuinst            slugify             yarl\n",
      "compileall          mimetypes           smart_open          zict\n",
      "comtypes            mistune             smtpd               zipapp\n",
      "concurrent          mkl                 smtplib             zipfile\n",
      "conda               mkl_fft             snappy              zipimport\n",
      "conda_build         mkl_random          sndhdr              zipp\n",
      "conda_content_trust mlxtend             sniffio             zlib\n",
      "conda_env           mmap                snowballstemmer     zmq\n",
      "conda_pack          mmapfile            socket              zoneinfo\n",
      "conda_package_handling mmsystem            socketserver        zope\n",
      "conda_token         mock                socks               ~harset_normalizer\n",
      "conda_verify        modulefinder        sockshandler        ~yarrow\n",
      "conf                more_itertools      sortedcollections   \n",
      "\n",
      "Enter any module name to get more help.  Or, type \"modules spam\" to search\n",
      "for modules whose name or summary contain the string \"spam\".\n",
      "\n"
     ]
    }
   ],
   "source": [
    "help('modules')"
   ]
  },
  {
   "cell_type": "markdown",
   "id": "fa9024c5",
   "metadata": {},
   "source": [
    "## Loops in Python :\n",
    "1. WHILE\n",
    "2. FOR"
   ]
  },
  {
   "cell_type": "markdown",
   "id": "f55f6fa5",
   "metadata": {},
   "source": [
    "### While Loop :"
   ]
  },
  {
   "cell_type": "code",
   "execution_count": 59,
   "id": "eb447d1a",
   "metadata": {
    "ExecuteTime": {
     "end_time": "2023-02-25T06:35:27.409147Z",
     "start_time": "2023-02-25T06:35:17.562723Z"
    }
   },
   "outputs": [
    {
     "name": "stdout",
     "output_type": "stream",
     "text": [
      "Enter a number :10\n",
      "10 * 1 = 10\n",
      "10 * 2 = 20\n",
      "10 * 3 = 30\n",
      "10 * 4 = 40\n",
      "10 * 5 = 50\n",
      "10 * 6 = 60\n",
      "10 * 7 = 70\n",
      "10 * 8 = 80\n",
      "10 * 9 = 90\n",
      "10 * 10 = 100\n"
     ]
    }
   ],
   "source": [
    "## Tables :\n",
    "\n",
    "number = int(input('Enter a number :'))\n",
    "\n",
    "i = 1\n",
    "\n",
    "while i < 11:\n",
    "    print(number, '*', i, '=', number * i)\n",
    "    i += 1"
   ]
  },
  {
   "cell_type": "code",
   "execution_count": 60,
   "id": "d350b850",
   "metadata": {
    "ExecuteTime": {
     "end_time": "2023-02-25T06:35:29.984208Z",
     "start_time": "2023-02-25T06:35:29.964758Z"
    }
   },
   "outputs": [],
   "source": [
    "import random"
   ]
  },
  {
   "cell_type": "code",
   "execution_count": 61,
   "id": "b77743f3",
   "metadata": {
    "ExecuteTime": {
     "end_time": "2023-02-25T06:35:48.015737Z",
     "start_time": "2023-02-25T06:35:30.615408Z"
    }
   },
   "outputs": [
    {
     "name": "stdout",
     "output_type": "stream",
     "text": [
      "Number to Guess :  15\n",
      "The Number to be guessed is between 1-100 :30\n",
      "Incorrect Guess!!! Enter a Lower Number : \n",
      "Enter a new guess : 10\n",
      "Incorrect Guess!!! Enter a Bigger Number : \n",
      "Enter a new guess : 15\n",
      "Correct Guess\n"
     ]
    }
   ],
   "source": [
    "## Number guessing game : We'd give user 3 chances in every chance we'd give him a clue if the number to be guessed should be lower or higher than the guessed one.\n",
    "## If 3 chances are exhausted we'd call him a looser.\n",
    "\n",
    "a = random.randint(1, 100)\n",
    "print('Number to Guess : ', a)\n",
    "guess = int(input('The Number to be guessed is between 1-100 :'))\n",
    "\n",
    "counter = 1\n",
    "\n",
    "while guess != a:\n",
    "    if guess < a:\n",
    "        print('Incorrect Guess!!! Enter a Bigger Number : ')\n",
    "    else:\n",
    "        print('Incorrect Guess!!! Enter a Lower Number : ')\n",
    "    guess = int(input('Enter a new guess : '))\n",
    "    counter += 1\n",
    "else:\n",
    "    print('Correct Guess')"
   ]
  },
  {
   "cell_type": "markdown",
   "id": "e39dfd05",
   "metadata": {},
   "source": [
    "### FOR LOOP"
   ]
  },
  {
   "cell_type": "markdown",
   "id": "952814da",
   "metadata": {},
   "source": [
    "##### Program : The current population of a town is 10000. The population of the town is increasing at a rate of 10% year. You have to write a program to find out the population at the end of each of the last 10 years"
   ]
  },
  {
   "cell_type": "code",
   "execution_count": 62,
   "id": "7d568e27",
   "metadata": {
    "ExecuteTime": {
     "end_time": "2023-02-25T06:35:52.520468Z",
     "start_time": "2023-02-25T06:35:52.509539Z"
    }
   },
   "outputs": [
    {
     "name": "stdout",
     "output_type": "stream",
     "text": [
      "For year 2023 the population is 10000\n",
      "For year 2022 the population is 9091\n",
      "For year 2021 the population is 8265\n",
      "For year 2020 the population is 7514\n",
      "For year 2019 the population is 6831\n",
      "For year 2018 the population is 6210\n",
      "For year 2017 the population is 5645\n",
      "For year 2016 the population is 5132\n",
      "For year 2015 the population is 4665\n",
      "For year 2014 the population is 4241\n",
      "For year 2013 the population is 3855\n"
     ]
    }
   ],
   "source": [
    "current_year = 2023\n",
    "current_population = 10000\n",
    "for i in range(0, 11):\n",
    "    print('For year', current_year, 'the population is', current_population)\n",
    "    current_population = round(current_population / 1.1)\n",
    "    ## Current_population = previous_population + (10/100)*Previous_population\n",
    "    ## Current_population = previous_population + 0.1Previous_population\n",
    "    ## Current_population = 1.1*previous_population\n",
    "    ## previous_population = Current_population/1.1\n",
    "    current_year -= 1"
   ]
  },
  {
   "cell_type": "markdown",
   "id": "11b9da21",
   "metadata": {},
   "source": [
    "##### Sequence Sum:\n",
    "\n",
    "1/1!+ 2/2!+ 3/3!+ ......"
   ]
  },
  {
   "cell_type": "code",
   "execution_count": 63,
   "id": "ac91472f",
   "metadata": {
    "ExecuteTime": {
     "end_time": "2023-02-25T06:35:59.050169Z",
     "start_time": "2023-02-25T06:35:55.516539Z"
    }
   },
   "outputs": [
    {
     "name": "stdout",
     "output_type": "stream",
     "text": [
      "Enter a number : 5\n",
      "2.708333333333333\n"
     ]
    }
   ],
   "source": [
    "n = int(input('Enter a number : '))\n",
    "\n",
    "result = 0\n",
    "factorial = 1\n",
    "\n",
    "for i in range(1, n + 1):\n",
    "    factorial = factorial * i\n",
    "    result = result + i / factorial\n",
    "\n",
    "print(result)"
   ]
  },
  {
   "cell_type": "markdown",
   "id": "240a215a",
   "metadata": {},
   "source": [
    "### Nested Loops :"
   ]
  },
  {
   "cell_type": "markdown",
   "id": "bd41e731",
   "metadata": {},
   "source": [
    "##### Unique Pairs :"
   ]
  },
  {
   "cell_type": "code",
   "execution_count": 64,
   "id": "cd93747d",
   "metadata": {
    "ExecuteTime": {
     "end_time": "2023-02-25T06:36:02.103468Z",
     "start_time": "2023-02-25T06:36:02.082302Z"
    }
   },
   "outputs": [
    {
     "name": "stdout",
     "output_type": "stream",
     "text": [
      "1 1\n",
      "1 2\n",
      "1 3\n",
      "1 4\n",
      "2 1\n",
      "2 2\n",
      "2 3\n",
      "2 4\n",
      "3 1\n",
      "3 2\n",
      "3 3\n",
      "3 4\n",
      "4 1\n",
      "4 2\n",
      "4 3\n",
      "4 4\n"
     ]
    }
   ],
   "source": [
    "for i in range(1,5):\n",
    "    for j in range(1,5):\n",
    "        print(i,j)"
   ]
  },
  {
   "attachments": {
    "image.png": {
     "image/png": "[encoded data removed]"
    }
   },
   "cell_type": "markdown",
   "id": "0738af73",
   "metadata": {},
   "source": [
    "##### Print\n",
    "![image.png](attachment:image.png)"
   ]
  },
  {
   "cell_type": "code",
   "execution_count": 65,
   "id": "67199c69",
   "metadata": {
    "ExecuteTime": {
     "end_time": "2023-02-25T06:36:06.686735Z",
     "start_time": "2023-02-25T06:36:04.080585Z"
    }
   },
   "outputs": [
    {
     "name": "stdout",
     "output_type": "stream",
     "text": [
      "Enter the number of rows : 6\n",
      "*\n",
      "**\n",
      "***\n",
      "****\n",
      "*****\n",
      "******\n"
     ]
    }
   ],
   "source": [
    "rows = int(input('Enter the number of rows : '))\n",
    "\n",
    "for i in range(1, rows + 1):\n",
    "    for j in range(1, i + 1):\n",
    "        print('*', end='')\n",
    "    print()"
   ]
  },
  {
   "attachments": {
    "image-2.png": {
     "image/png": "[encoded data removed]"
    }
   },
   "cell_type": "markdown",
   "id": "5c9139c5",
   "metadata": {
    "ExecuteTime": {
     "end_time": "2023-02-24T17:47:04.883642Z",
     "start_time": "2023-02-24T17:47:04.858984Z"
    }
   },
   "source": [
    "##### Pattern 2 :\n",
    "![image-2.png](attachment:image-2.png)"
   ]
  },
  {
   "cell_type": "code",
   "execution_count": 66,
   "id": "eb47da71",
   "metadata": {
    "ExecuteTime": {
     "end_time": "2023-02-25T06:36:10.957660Z",
     "start_time": "2023-02-25T06:36:09.023772Z"
    }
   },
   "outputs": [
    {
     "name": "stdout",
     "output_type": "stream",
     "text": [
      "Enter the Number of rows : 6\n",
      "1\n",
      "121\n",
      "12321\n",
      "1234321\n",
      "123454321\n",
      "12345654321\n"
     ]
    }
   ],
   "source": [
    "rows = int(input('Enter the Number of rows : '))\n",
    "\n",
    "for i in range(1, rows + 1):\n",
    "    for j in range(1, i + 1):\n",
    "        print(j, end='')\n",
    "    for k in range(i - 1, 0, -1):\n",
    "        print(k, end='')\n",
    "    print()"
   ]
  },
  {
   "cell_type": "markdown",
   "id": "bc31466d",
   "metadata": {},
   "source": [
    "## Loop Control Statement :\n",
    "1. BREAK\n",
    "2. CONTINUE\n",
    "3. PASS"
   ]
  },
  {
   "cell_type": "markdown",
   "id": "1f61f806",
   "metadata": {},
   "source": [
    "### Break :"
   ]
  },
  {
   "cell_type": "code",
   "execution_count": 67,
   "id": "05f06f95",
   "metadata": {
    "ExecuteTime": {
     "end_time": "2023-02-25T06:36:14.734908Z",
     "start_time": "2023-02-25T06:36:14.708068Z"
    },
    "scrolled": true
   },
   "outputs": [
    {
     "name": "stdout",
     "output_type": "stream",
     "text": [
      "1\n",
      "2\n",
      "3\n",
      "4\n"
     ]
    }
   ],
   "source": [
    "for i in range(1,10):\n",
    "    if i == 5:\n",
    "        break\n",
    "    print(i)"
   ]
  },
  {
   "cell_type": "code",
   "execution_count": 68,
   "id": "ef749a4a",
   "metadata": {
    "ExecuteTime": {
     "end_time": "2023-02-25T06:36:26.948879Z",
     "start_time": "2023-02-25T06:36:15.297868Z"
    }
   },
   "outputs": [
    {
     "name": "stdout",
     "output_type": "stream",
     "text": [
      "Enter lower range10\n",
      "Enter upper range100\n",
      "11\n",
      "13\n",
      "17\n",
      "19\n",
      "23\n",
      "29\n",
      "31\n",
      "37\n",
      "41\n",
      "43\n",
      "47\n",
      "53\n",
      "59\n",
      "61\n",
      "67\n",
      "71\n",
      "73\n",
      "79\n",
      "83\n",
      "89\n",
      "97\n"
     ]
    }
   ],
   "source": [
    "lower = int(input('Enter lower range'))\n",
    "upper = int(input('Enter upper range'))\n",
    "\n",
    "for i in range(lower,upper+1):\n",
    "    for j in range(2,i): ## We take 2 because a prime number is the one that is divisible by 1 and itself only and not any number in between hence 2,i and not i+1\n",
    "        if i%j == 0: ## if the result of i/j gives a remainder 0 that means no. is divisible and not prime \n",
    "            break ## we use break so as to not check fo other values by which the number i is perfectly divisible any more.\n",
    "    else:\n",
    "        print(i)"
   ]
  },
  {
   "cell_type": "markdown",
   "id": "d4a5b02e",
   "metadata": {},
   "source": [
    "### Continue :"
   ]
  },
  {
   "cell_type": "code",
   "execution_count": 69,
   "id": "4b4676ca",
   "metadata": {
    "ExecuteTime": {
     "end_time": "2023-02-25T06:36:29.815299Z",
     "start_time": "2023-02-25T06:36:29.795114Z"
    }
   },
   "outputs": [
    {
     "name": "stdout",
     "output_type": "stream",
     "text": [
      "1\n",
      "2\n",
      "3\n",
      "4\n",
      "6\n",
      "7\n",
      "8\n",
      "9\n"
     ]
    }
   ],
   "source": [
    "for i in range(1, 10):\n",
    "    if i == 5:\n",
    "        continue\n",
    "    print(i)"
   ]
  },
  {
   "cell_type": "markdown",
   "id": "0345a8ee",
   "metadata": {},
   "source": [
    "### Pass :"
   ]
  },
  {
   "cell_type": "code",
   "execution_count": 70,
   "id": "c0ac1b90",
   "metadata": {
    "ExecuteTime": {
     "end_time": "2023-02-25T06:36:31.981397Z",
     "start_time": "2023-02-25T06:36:31.962914Z"
    }
   },
   "outputs": [],
   "source": [
    "for i in range(1,10):\n",
    "    pass"
   ]
  },
  {
   "cell_type": "markdown",
   "id": "512ad25c",
   "metadata": {},
   "source": [
    "/*"
   ]
  },
  {
   "cell_type": "markdown",
   "id": "c6619402",
   "metadata": {},
   "source": [
    "## Strings"
   ]
  },
  {
   "cell_type": "markdown",
   "id": "4ced3563",
   "metadata": {},
   "source": [
    "#### Indexing :"
   ]
  },
  {
   "cell_type": "code",
   "execution_count": 71,
   "id": "8f4d6287",
   "metadata": {
    "ExecuteTime": {
     "end_time": "2023-02-25T06:36:34.739481Z",
     "start_time": "2023-02-25T06:36:34.708169Z"
    }
   },
   "outputs": [
    {
     "name": "stdout",
     "output_type": "stream",
     "text": [
      "Positive Indexing : e\n",
      "Positive Indexing : w\n",
      "Negitive indexing :  l\n"
     ]
    }
   ],
   "source": [
    "s = 'hello world'\n",
    "print('Positive Indexing :',s[1])\n",
    "print('Positive Indexing :',s[6])\n",
    "print('Negitive indexing : ',s[-2])"
   ]
  },
  {
   "cell_type": "markdown",
   "id": "bf1b2684",
   "metadata": {},
   "source": [
    "#### Slicing :"
   ]
  },
  {
   "cell_type": "code",
   "execution_count": 72,
   "id": "3a515cb4",
   "metadata": {
    "ExecuteTime": {
     "end_time": "2023-02-25T06:36:35.851761Z",
     "start_time": "2023-02-25T06:36:35.830871Z"
    },
    "scrolled": true
   },
   "outputs": [
    {
     "name": "stdout",
     "output_type": "stream",
     "text": [
      "Positive Indexing ==> Range : llo w\n",
      "Positive Indexing ==> From start to specified number : hello \n",
      "Positive Indexing ==> From specified Start to end : orld\n",
      "Positive Indexing ==> with Step Size: hlo\n",
      "Negitive Indexing ==> print the output in reverse order:  olleh\n",
      "Negitive Indexing ==> print the output in reverse order: dlrow olleh\n"
     ]
    }
   ],
   "source": [
    "s = 'hello world'\n",
    "print('Positive Indexing ==> Range :',s[2:7])\n",
    "print('Positive Indexing ==> From start to specified number :',s[:6])\n",
    "print('Positive Indexing ==> From specified Start to end :',s[7:])\n",
    "print('Positive Indexing ==> with Step Size:',s[0:5:2])\n",
    "print('Negitive Indexing ==> print the output in reverse order:',s[5::-1])\n",
    "print('Negitive Indexing ==> print the output in reverse order:',s[::-1])"
   ]
  },
  {
   "cell_type": "code",
   "execution_count": 73,
   "id": "742ff276",
   "metadata": {
    "ExecuteTime": {
     "end_time": "2023-02-25T06:36:36.388698Z",
     "start_time": "2023-02-25T06:36:36.109445Z"
    }
   },
   "outputs": [
    {
     "ename": "TypeError",
     "evalue": "'str' object does not support item assignment",
     "output_type": "error",
     "traceback": [
      "\u001b[1;31m---------------------------------------------------------------------------\u001b[0m",
      "\u001b[1;31mTypeError\u001b[0m                                 Traceback (most recent call last)",
      "\u001b[1;32m~\\AppData\\Local\\Temp\\ipykernel_10820\\3995756531.py\u001b[0m in \u001b[0;36m<cell line: 2>\u001b[1;34m()\u001b[0m\n\u001b[0;32m      1\u001b[0m \u001b[0ms\u001b[0m \u001b[1;33m=\u001b[0m \u001b[1;34m'hello world'\u001b[0m\u001b[1;33m\u001b[0m\u001b[1;33m\u001b[0m\u001b[0m\n\u001b[1;32m----> 2\u001b[1;33m \u001b[0ms\u001b[0m\u001b[1;33m[\u001b[0m\u001b[1;36m0\u001b[0m\u001b[1;33m]\u001b[0m \u001b[1;33m=\u001b[0m \u001b[1;34m'H'\u001b[0m\u001b[1;33m\u001b[0m\u001b[1;33m\u001b[0m\u001b[0m\n\u001b[0m",
      "\u001b[1;31mTypeError\u001b[0m: 'str' object does not support item assignment"
     ]
    }
   ],
   "source": [
    "s = 'hello world'\n",
    "s[0] = 'H'"
   ]
  },
  {
   "cell_type": "markdown",
   "id": "ad257e2e",
   "metadata": {},
   "source": [
    "#### Editing and Deleting in String : Strings are immutable editing not allowed."
   ]
  },
  {
   "cell_type": "code",
   "execution_count": 74,
   "id": "acc370ae",
   "metadata": {
    "ExecuteTime": {
     "end_time": "2023-02-25T06:36:36.579175Z",
     "start_time": "2023-02-25T06:36:36.532839Z"
    }
   },
   "outputs": [
    {
     "ename": "NameError",
     "evalue": "name 's' is not defined",
     "output_type": "error",
     "traceback": [
      "\u001b[1;31m---------------------------------------------------------------------------\u001b[0m",
      "\u001b[1;31mNameError\u001b[0m                                 Traceback (most recent call last)",
      "\u001b[1;32m~\\AppData\\Local\\Temp\\ipykernel_10820\\3998078315.py\u001b[0m in \u001b[0;36m<cell line: 4>\u001b[1;34m()\u001b[0m\n\u001b[0;32m      2\u001b[0m \u001b[0ms\u001b[0m \u001b[1;33m=\u001b[0m \u001b[1;34m'hello world'\u001b[0m\u001b[1;33m\u001b[0m\u001b[1;33m\u001b[0m\u001b[0m\n\u001b[0;32m      3\u001b[0m \u001b[1;32mdel\u001b[0m \u001b[0ms\u001b[0m\u001b[1;33m\u001b[0m\u001b[1;33m\u001b[0m\u001b[0m\n\u001b[1;32m----> 4\u001b[1;33m \u001b[0mprint\u001b[0m\u001b[1;33m(\u001b[0m\u001b[0ms\u001b[0m\u001b[1;33m)\u001b[0m\u001b[1;33m\u001b[0m\u001b[1;33m\u001b[0m\u001b[0m\n\u001b[0m",
      "\u001b[1;31mNameError\u001b[0m: name 's' is not defined"
     ]
    }
   ],
   "source": [
    "## Allows complete deletion of string.\n",
    "s = 'hello world'\n",
    "del s\n",
    "print(s)"
   ]
  },
  {
   "cell_type": "code",
   "execution_count": 75,
   "id": "86994304",
   "metadata": {
    "ExecuteTime": {
     "end_time": "2023-02-25T06:36:36.767196Z",
     "start_time": "2023-02-25T06:36:36.711446Z"
    }
   },
   "outputs": [
    {
     "ename": "TypeError",
     "evalue": "'str' object does not support item deletion",
     "output_type": "error",
     "traceback": [
      "\u001b[1;31m---------------------------------------------------------------------------\u001b[0m",
      "\u001b[1;31mTypeError\u001b[0m                                 Traceback (most recent call last)",
      "\u001b[1;32m~\\AppData\\Local\\Temp\\ipykernel_10820\\3393360694.py\u001b[0m in \u001b[0;36m<cell line: 3>\u001b[1;34m()\u001b[0m\n\u001b[0;32m      1\u001b[0m \u001b[1;31m## Partial deletion == editing is not allowed.\u001b[0m\u001b[1;33m\u001b[0m\u001b[1;33m\u001b[0m\u001b[0m\n\u001b[0;32m      2\u001b[0m \u001b[0ms\u001b[0m \u001b[1;33m=\u001b[0m \u001b[1;34m'hello world'\u001b[0m\u001b[1;33m\u001b[0m\u001b[1;33m\u001b[0m\u001b[0m\n\u001b[1;32m----> 3\u001b[1;33m \u001b[1;32mdel\u001b[0m \u001b[0ms\u001b[0m\u001b[1;33m[\u001b[0m\u001b[1;36m2\u001b[0m\u001b[1;33m:\u001b[0m\u001b[1;36m5\u001b[0m\u001b[1;33m]\u001b[0m\u001b[1;33m\u001b[0m\u001b[1;33m\u001b[0m\u001b[0m\n\u001b[0m\u001b[0;32m      4\u001b[0m \u001b[0mprint\u001b[0m\u001b[1;33m(\u001b[0m\u001b[0ms\u001b[0m\u001b[1;33m)\u001b[0m\u001b[1;33m\u001b[0m\u001b[1;33m\u001b[0m\u001b[0m\n",
      "\u001b[1;31mTypeError\u001b[0m: 'str' object does not support item deletion"
     ]
    }
   ],
   "source": [
    "## Partial deletion == editing is not allowed.\n",
    "s = 'hello world'\n",
    "del s[2:5]\n",
    "print(s)"
   ]
  },
  {
   "cell_type": "markdown",
   "id": "f95944cb",
   "metadata": {},
   "source": [
    "##### Arithmetic Operation :"
   ]
  },
  {
   "cell_type": "code",
   "execution_count": 76,
   "id": "4682cbcb",
   "metadata": {
    "ExecuteTime": {
     "end_time": "2023-02-25T06:36:38.261722Z",
     "start_time": "2023-02-25T06:36:38.254855Z"
    }
   },
   "outputs": [
    {
     "name": "stdout",
     "output_type": "stream",
     "text": [
      "Mumbai Delhi\n"
     ]
    }
   ],
   "source": [
    "print('Mumbai'+ ' '+'Delhi')"
   ]
  },
  {
   "cell_type": "code",
   "execution_count": 77,
   "id": "24dd51a8",
   "metadata": {
    "ExecuteTime": {
     "end_time": "2023-02-25T06:36:38.646457Z",
     "start_time": "2023-02-25T06:36:38.625427Z"
    }
   },
   "outputs": [
    {
     "name": "stdout",
     "output_type": "stream",
     "text": [
      "Mumbai Mumbai Mumbai Mumbai Mumbai \n"
     ]
    }
   ],
   "source": [
    "print('Mumbai '*5)"
   ]
  },
  {
   "attachments": {
    "image.png": {
     "image/png": "[encoded data removed]"
    }
   },
   "cell_type": "markdown",
   "id": "489c310d",
   "metadata": {},
   "source": [
    "##### Relational Operations :\n",
    "This is based on ascii chart as below :\n",
    "![image.png](attachment:image.png)"
   ]
  },
  {
   "cell_type": "code",
   "execution_count": 78,
   "id": "ac1b06d3",
   "metadata": {
    "ExecuteTime": {
     "end_time": "2023-02-25T06:36:40.073290Z",
     "start_time": "2023-02-25T06:36:40.033920Z"
    }
   },
   "outputs": [
    {
     "name": "stdout",
     "output_type": "stream",
     "text": [
      "True\n",
      "False\n",
      "False\n",
      "False\n"
     ]
    }
   ],
   "source": [
    "print('delhi' == 'delhi')\n",
    "print('delhi' != 'delhi')\n",
    "print ('arunachal'>'goa')\n",
    "print('Goa'>'goa') ##  G is on no. 47 and g on 67 hence g is greater and not G"
   ]
  },
  {
   "cell_type": "markdown",
   "id": "0db7930e",
   "metadata": {},
   "source": [
    "### Common Functions :\n",
    "1. len\n",
    "2. max\n",
    "3. min\n",
    "4. sorted"
   ]
  },
  {
   "cell_type": "code",
   "execution_count": 81,
   "id": "8c545182",
   "metadata": {
    "ExecuteTime": {
     "end_time": "2023-02-25T06:40:35.871329Z",
     "start_time": "2023-02-25T06:40:35.856371Z"
    }
   },
   "outputs": [
    {
     "name": "stdout",
     "output_type": "stream",
     "text": [
      "11\n",
      "w\n",
      " \n",
      "[' ', 'H', 'd', 'e', 'l', 'l', 'l', 'o', 'o', 'r', 'w']\n",
      "['w', 'r', 'o', 'o', 'l', 'l', 'l', 'e', 'd', 'H', ' ']\n"
     ]
    }
   ],
   "source": [
    "print(len('Hello world'))\n",
    "print(max('Hello world')) ##based on ascii basis\n",
    "print(min('Hellw world')) ##based on ascii basis\n",
    "print(sorted('Hello world')) ##Ascending order\n",
    "print(sorted('Hello world',reverse=True)) ## Descending order"
   ]
  },
  {
   "cell_type": "markdown",
   "id": "8f7636fa",
   "metadata": {
    "ExecuteTime": {
     "end_time": "2023-02-25T06:38:47.361883Z",
     "start_time": "2023-02-25T06:38:47.349624Z"
    }
   },
   "source": [
    "### String Specific Functions"
   ]
  },
  {
   "cell_type": "markdown",
   "id": "13c2543d",
   "metadata": {},
   "source": [
    "#### Capitalize/Title/Upper/Lower/Swapcase"
   ]
  },
  {
   "cell_type": "code",
   "execution_count": 85,
   "id": "4316dec9",
   "metadata": {
    "ExecuteTime": {
     "end_time": "2023-02-25T06:51:10.428122Z",
     "start_time": "2023-02-25T06:51:10.404883Z"
    }
   },
   "outputs": [
    {
     "name": "stdout",
     "output_type": "stream",
     "text": [
      "Prints 1st letter as capital ==> Hello world\n",
      "Prints 1st letter of each word as capital ==> HELLO WORLD\n",
      "Prints letter as lower ==> hello world\n",
      "Switches the case of characters from upper to lower and lower to upper ==> hELLO WORLD\n"
     ]
    }
   ],
   "source": [
    "s = 'Hello world'\n",
    "print('Prints 1st letter as capital ==>',s.capitalize())\n",
    "print('Prints 1st letter of each word as capital ==>',s.upper())\n",
    "print('Prints letter as lower ==>',s.lower())\n",
    "print('Switches the case of characters from upper to lower and lower to upper ==>',s.swapcase())"
   ]
  },
  {
   "cell_type": "markdown",
   "id": "56d9ed2a",
   "metadata": {},
   "source": [
    "#### Count/Find/Index"
   ]
  },
  {
   "cell_type": "code",
   "execution_count": 86,
   "id": "2b8c7358",
   "metadata": {
    "ExecuteTime": {
     "end_time": "2023-02-25T06:52:43.429734Z",
     "start_time": "2023-02-25T06:52:43.400860Z"
    }
   },
   "outputs": [
    {
     "data": {
      "text/plain": [
       "3"
      ]
     },
     "execution_count": 86,
     "metadata": {},
     "output_type": "execute_result"
    }
   ],
   "source": [
    "s = 'my name is prateek'\n",
    "s.count('e')"
   ]
  },
  {
   "cell_type": "code",
   "execution_count": 87,
   "id": "0017003c",
   "metadata": {
    "ExecuteTime": {
     "end_time": "2023-02-25T06:53:10.416309Z",
     "start_time": "2023-02-25T06:53:10.394275Z"
    }
   },
   "outputs": [
    {
     "data": {
      "text/plain": [
       "8"
      ]
     },
     "execution_count": 87,
     "metadata": {},
     "output_type": "execute_result"
    }
   ],
   "source": [
    "s = 'my name is prateek'\n",
    "s.find('is') ## Same as index but will return -1 if you are trying to find something thats not available in the text"
   ]
  },
  {
   "cell_type": "code",
   "execution_count": 88,
   "id": "a4fca0e2",
   "metadata": {
    "ExecuteTime": {
     "end_time": "2023-02-25T06:53:46.486085Z",
     "start_time": "2023-02-25T06:53:46.460620Z"
    }
   },
   "outputs": [
    {
     "data": {
      "text/plain": [
       "8"
      ]
     },
     "execution_count": 88,
     "metadata": {},
     "output_type": "execute_result"
    }
   ],
   "source": [
    "s = 'my name is prateek'\n",
    "s.index('is') ## will throw and error if you are trying to find something that doesnot exist in the string."
   ]
  },
  {
   "cell_type": "markdown",
   "id": "2d9632ad",
   "metadata": {},
   "source": [
    "#### Ends with/ Starts with"
   ]
  },
  {
   "cell_type": "code",
   "execution_count": 89,
   "id": "8897fce9",
   "metadata": {
    "ExecuteTime": {
     "end_time": "2023-02-25T06:54:55.662728Z",
     "start_time": "2023-02-25T06:54:55.641459Z"
    }
   },
   "outputs": [
    {
     "name": "stdout",
     "output_type": "stream",
     "text": [
      "True\n",
      "False\n"
     ]
    }
   ],
   "source": [
    "s = 'my name is prateek'\n",
    "print(s.startswith('m'))\n",
    "print(s.startswith('p'))"
   ]
  },
  {
   "cell_type": "code",
   "execution_count": 90,
   "id": "2fc06116",
   "metadata": {
    "ExecuteTime": {
     "end_time": "2023-02-25T06:55:35.977910Z",
     "start_time": "2023-02-25T06:55:35.953093Z"
    }
   },
   "outputs": [
    {
     "name": "stdout",
     "output_type": "stream",
     "text": [
      "False\n",
      "True\n"
     ]
    }
   ],
   "source": [
    "s = 'my name is prateek'\n",
    "print(s.endswith('y'))\n",
    "print(s.endswith('k'))"
   ]
  },
  {
   "cell_type": "markdown",
   "id": "103e5768",
   "metadata": {},
   "source": [
    "#### Format :"
   ]
  },
  {
   "cell_type": "code",
   "execution_count": 91,
   "id": "e2f0fe6f",
   "metadata": {
    "ExecuteTime": {
     "end_time": "2023-02-25T07:04:27.250595Z",
     "start_time": "2023-02-25T07:04:27.228049Z"
    }
   },
   "outputs": [
    {
     "data": {
      "text/plain": [
       "'Hi, my name is Prateek and I am a Male'"
      ]
     },
     "execution_count": 91,
     "metadata": {},
     "output_type": "execute_result"
    }
   ],
   "source": [
    "name = 'Prateek'\n",
    "gender = 'Male'\n",
    "'Hi, my name is {} and I am a {}'.format(name, gender)"
   ]
  },
  {
   "cell_type": "code",
   "execution_count": 92,
   "id": "6fd8f8c0",
   "metadata": {
    "ExecuteTime": {
     "end_time": "2023-02-25T07:06:31.274924Z",
     "start_time": "2023-02-25T07:06:31.245237Z"
    }
   },
   "outputs": [
    {
     "data": {
      "text/plain": [
       "'Hi, my name is Prateek and I am a Male'"
      ]
     },
     "execution_count": 92,
     "metadata": {},
     "output_type": "execute_result"
    }
   ],
   "source": [
    "'Hi, my name is {1} and I am a {0}'.format(gender,name)"
   ]
  },
  {
   "cell_type": "markdown",
   "id": "4e6ec5a3",
   "metadata": {},
   "source": [
    "#### isalnum/isalpha/isdigit"
   ]
  },
  {
   "cell_type": "code",
   "execution_count": 94,
   "id": "bbd78af0",
   "metadata": {
    "ExecuteTime": {
     "end_time": "2023-02-25T07:09:11.312378Z",
     "start_time": "2023-02-25T07:09:11.288350Z"
    }
   },
   "outputs": [
    {
     "name": "stdout",
     "output_type": "stream",
     "text": [
      "Checks if string has alpha numeric characters == >  True\n"
     ]
    }
   ],
   "source": [
    "s = 'Prateek1234'\n",
    "print('Checks if string has alpha numeric characters == > ',s.isalnum())"
   ]
  },
  {
   "cell_type": "code",
   "execution_count": 95,
   "id": "6d8370eb",
   "metadata": {
    "ExecuteTime": {
     "end_time": "2023-02-25T07:10:36.608217Z",
     "start_time": "2023-02-25T07:10:36.584008Z"
    }
   },
   "outputs": [
    {
     "name": "stdout",
     "output_type": "stream",
     "text": [
      "Checks if string has alpha characters only == >  False\n",
      "Checks if string has alpha numeric characters == >  True\n"
     ]
    }
   ],
   "source": [
    "s = 'Prateek1234'\n",
    "print('Checks if string has alpha characters only == > ', s.isalpha())\n",
    "\n",
    "s = 'Prateek'\n",
    "print('Checks if string has alpha characters only== > ', s.isalpha())"
   ]
  },
  {
   "cell_type": "code",
   "execution_count": 97,
   "id": "53360aaa",
   "metadata": {
    "ExecuteTime": {
     "end_time": "2023-02-25T07:12:07.718252Z",
     "start_time": "2023-02-25T07:12:07.693582Z"
    }
   },
   "outputs": [
    {
     "name": "stdout",
     "output_type": "stream",
     "text": [
      "Checks if string has numeric characters only == >  False\n",
      "Checks if string has numeric characters only == >  True\n"
     ]
    }
   ],
   "source": [
    "s = 'Prateek1234'\n",
    "print('Checks if string has numeric characters only == > ', s.isdigit())\n",
    "\n",
    "s = '1234'\n",
    "print('Checks if string has numeric characters only == > ', s.isdigit())"
   ]
  },
  {
   "cell_type": "markdown",
   "id": "283d497f",
   "metadata": {},
   "source": [
    "#### Split/Join :"
   ]
  },
  {
   "cell_type": "code",
   "execution_count": 98,
   "id": "4d7e208b",
   "metadata": {
    "ExecuteTime": {
     "end_time": "2023-02-25T07:14:08.358851Z",
     "start_time": "2023-02-25T07:14:08.342332Z"
    }
   },
   "outputs": [
    {
     "name": "stdout",
     "output_type": "stream",
     "text": [
      "['my', 'name', 'is', 'prateek']\n"
     ]
    }
   ],
   "source": [
    "s = 'my name is prateek'\n",
    "print(s.split(' '))"
   ]
  },
  {
   "cell_type": "code",
   "execution_count": 101,
   "id": "b638087a",
   "metadata": {
    "ExecuteTime": {
     "end_time": "2023-02-25T07:15:06.788903Z",
     "start_time": "2023-02-25T07:15:06.765248Z"
    }
   },
   "outputs": [
    {
     "data": {
      "text/plain": [
       "'my name is prateek'"
      ]
     },
     "execution_count": 101,
     "metadata": {},
     "output_type": "execute_result"
    }
   ],
   "source": [
    "s = ['my', 'name', 'is', 'prateek']\n",
    "' '.join(s)"
   ]
  },
  {
   "cell_type": "markdown",
   "id": "19481b59",
   "metadata": {},
   "source": [
    "#### Replace "
   ]
  },
  {
   "cell_type": "code",
   "execution_count": 102,
   "id": "76b4eb7a",
   "metadata": {
    "ExecuteTime": {
     "end_time": "2023-02-25T07:20:35.238114Z",
     "start_time": "2023-02-25T07:20:35.214516Z"
    }
   },
   "outputs": [
    {
     "data": {
      "text/plain": [
       "'my name is Prateek'"
      ]
     },
     "execution_count": 102,
     "metadata": {},
     "output_type": "execute_result"
    }
   ],
   "source": [
    "s = 'my name is prateek'\n",
    "s.replace('prateek', 'Prateek')"
   ]
  },
  {
   "cell_type": "markdown",
   "id": "83a28d04",
   "metadata": {},
   "source": [
    "#### Strip "
   ]
  },
  {
   "cell_type": "code",
   "execution_count": 103,
   "id": "38cbd626",
   "metadata": {
    "ExecuteTime": {
     "end_time": "2023-02-25T07:21:19.895605Z",
     "start_time": "2023-02-25T07:21:19.871788Z"
    }
   },
   "outputs": [
    {
     "data": {
      "text/plain": [
       "'my name is prateek'"
      ]
     },
     "execution_count": 103,
     "metadata": {},
     "output_type": "execute_result"
    }
   ],
   "source": [
    "s = '  my name is prateek '\n",
    "s.strip()"
   ]
  },
  {
   "cell_type": "markdown",
   "id": "392e99f4",
   "metadata": {
    "ExecuteTime": {
     "end_time": "2023-02-25T07:34:37.554703Z",
     "start_time": "2023-02-25T07:34:37.523628Z"
    }
   },
   "source": [
    "##### Exercise :\n",
    "Extract the user name from an email address. Eg : if email address is prateek24python@gmail.com extract prateek24python without using split."
   ]
  },
  {
   "cell_type": "code",
   "execution_count": 106,
   "id": "fee7c1c8",
   "metadata": {
    "ExecuteTime": {
     "end_time": "2023-02-25T07:39:53.094475Z",
     "start_time": "2023-02-25T07:39:45.723358Z"
    }
   },
   "outputs": [
    {
     "name": "stdout",
     "output_type": "stream",
     "text": [
      "Enter an email addressprateek24python@gmail.com\n",
      "prateek24python\n"
     ]
    }
   ],
   "source": [
    "username = input('Enter an email address')\n",
    "\n",
    "index_position = s.index('@')\n",
    "name = username[0:index_position]\n",
    "print(name)"
   ]
  },
  {
   "cell_type": "code",
   "execution_count": 112,
   "id": "6268710a",
   "metadata": {
    "ExecuteTime": {
     "end_time": "2023-02-25T07:57:17.534537Z",
     "start_time": "2023-02-25T07:57:09.163395Z"
    }
   },
   "outputs": [
    {
     "name": "stdout",
     "output_type": "stream",
     "text": [
      "Enter a word to check for palindrome :malayalam\n",
      "malayalam  is Palindrome\n"
     ]
    }
   ],
   "source": [
    "text = input('Enter a word to check for palindrome : ')\n",
    "new = text[::-1]\n",
    "if text == new:\n",
    "    print(text, ' is Palindrome')\n",
    "else:\n",
    "    print(text, 'is not a Palindrome')"
   ]
  },
  {
   "cell_type": "code",
   "execution_count": 17,
   "id": "b9a3564a",
   "metadata": {
    "ExecuteTime": {
     "end_time": "2023-02-25T13:00:21.508858Z",
     "start_time": "2023-02-25T13:00:11.235343Z"
    }
   },
   "outputs": [
    {
     "name": "stdout",
     "output_type": "stream",
     "text": [
      "Enter a text to count words : in the end it doesn't even matter how hard\n",
      "9\n"
     ]
    }
   ],
   "source": [
    "txt = input('Enter a text to count words : ')\n",
    "\n",
    "txt_1 = txt.split(' ')\n",
    "count = 0\n",
    "for i in txt_1:\n",
    "    count +=1\n",
    "print(count)"
   ]
  },
  {
   "cell_type": "markdown",
   "id": "d16b7e0c",
   "metadata": {},
   "source": [
    "## Lists\n",
    "List is a data type where you can store multiple items under 1 name. More technically, lists act like dynamic arrays which means you can add more items on the fly.\n",
    "\n",
    "L = [20,'Jessa',35.75,[30,40,80]]"
   ]
  },
  {
   "cell_type": "markdown",
   "id": "5a377853",
   "metadata": {},
   "source": [
    "### Arrays vs List :\n",
    "\n",
    "* Fixed vs Dynamic Size (In lists we do not have to specify its size beforehand, we can add items later as well)\n",
    "* Convenience --> Hetrogeneous (Lists unlike arrays can contain different data types, in arrays we need to specify the data type beforehand and the inputs have to be of same type)\n",
    "* Speed of Execution (Lists are slower in execution)\n",
    "* Memory (Lists consume more memory)"
   ]
  },
  {
   "cell_type": "markdown",
   "id": "a1f87087",
   "metadata": {},
   "source": [
    "### Characteristics of a List :\n",
    "* Ordered\n",
    "* Changable/Mutable\n",
    "* Hetrogeneous\n",
    "* Can have Duplicates\n",
    "* Are Dynamic\n",
    "* Items can be accessed\n",
    "* Can contain any type of object in Python."
   ]
  },
  {
   "cell_type": "markdown",
   "id": "6ab75377",
   "metadata": {},
   "source": [
    "### Creating a List"
   ]
  },
  {
   "cell_type": "code",
   "execution_count": 29,
   "id": "93cac89f",
   "metadata": {
    "ExecuteTime": {
     "end_time": "2023-02-25T18:11:40.301782Z",
     "start_time": "2023-02-25T18:11:40.269097Z"
    }
   },
   "outputs": [
    {
     "name": "stdout",
     "output_type": "stream",
     "text": [
      "[]\n",
      "[1, 2, 3, 4, 5]\n",
      "[1, 2, 3, [4, 5]]\n",
      "[[[1, 2], [3, 4]], [[5, 6], [7, 8]]]\n",
      "[1, True, 5.6, (5+6j), 'hello']\n",
      "['H', 'e', 'l', 'l', 'o']\n"
     ]
    }
   ],
   "source": [
    "# Empty List :\n",
    "print([])\n",
    "\n",
    "# 1D List ==> Homogenious Type :\n",
    "print([1,2,3,4,5])\n",
    "\n",
    "# 2D List ==> Hetrogenous Type :\n",
    "print([1,2,3,[4,5]])\n",
    "\n",
    "# 3D list Homogenous Type:\n",
    "print([[[1,2],[3,4]],[[5,6],[7,8]]])\n",
    "\n",
    "# Hetrogenous Type :\n",
    "print([1,True,5.6,(5+6j),'hello'])\n",
    "\n",
    "print(list('Hello'))"
   ]
  },
  {
   "cell_type": "markdown",
   "id": "57868995",
   "metadata": {},
   "source": [
    "### Accessing Items from a List :"
   ]
  },
  {
   "cell_type": "markdown",
   "id": "8eab672a",
   "metadata": {},
   "source": [
    "#### Indexing"
   ]
  },
  {
   "cell_type": "code",
   "execution_count": 30,
   "id": "74b81b2c",
   "metadata": {
    "ExecuteTime": {
     "end_time": "2023-02-25T18:12:57.534463Z",
     "start_time": "2023-02-25T18:12:57.517787Z"
    }
   },
   "outputs": [
    {
     "name": "stdout",
     "output_type": "stream",
     "text": [
      "2\n",
      "[4, 5]\n",
      "5\n"
     ]
    }
   ],
   "source": [
    "l = [1,2,3,[4,5]]\n",
    "print(l[1])\n",
    "print(l[3])\n",
    "print(l[3][1])"
   ]
  },
  {
   "cell_type": "code",
   "execution_count": 33,
   "id": "2ff3cf7e",
   "metadata": {
    "ExecuteTime": {
     "end_time": "2023-02-25T18:15:29.474100Z",
     "start_time": "2023-02-25T18:15:29.458063Z"
    }
   },
   "outputs": [
    {
     "name": "stdout",
     "output_type": "stream",
     "text": [
      "Finding 5 :  5\n"
     ]
    }
   ],
   "source": [
    "L = [[[1,2],[3,4]],[[5,6],[7,8]]]\n",
    "\n",
    "print('Finding 5 : ',L[1][0][0])"
   ]
  },
  {
   "cell_type": "markdown",
   "id": "09c214f9",
   "metadata": {
    "ExecuteTime": {
     "end_time": "2023-02-25T18:15:45.924239Z",
     "start_time": "2023-02-25T18:15:45.899544Z"
    }
   },
   "source": [
    "#### Slicing :"
   ]
  },
  {
   "cell_type": "code",
   "execution_count": 42,
   "id": "eae79211",
   "metadata": {
    "ExecuteTime": {
     "end_time": "2023-02-25T18:18:05.180022Z",
     "start_time": "2023-02-25T18:18:05.156601Z"
    }
   },
   "outputs": [
    {
     "name": "stdout",
     "output_type": "stream",
     "text": [
      "[3, 4, 5]\n",
      "[1, 2, 3]\n",
      "Step size :  [2, 4]\n"
     ]
    }
   ],
   "source": [
    "L = [1,2,3,4,5,6]\n",
    "print(L[2:5])\n",
    "print(L[:3])\n",
    "print('Step size : ',L[1:5:2])"
   ]
  },
  {
   "cell_type": "markdown",
   "id": "6077c2cb",
   "metadata": {},
   "source": [
    "### Adding Items to a List :"
   ]
  },
  {
   "cell_type": "markdown",
   "id": "d0ea2c2a",
   "metadata": {},
   "source": [
    "#### Append : Adds 1 item"
   ]
  },
  {
   "cell_type": "code",
   "execution_count": 43,
   "id": "d2362d97",
   "metadata": {
    "ExecuteTime": {
     "end_time": "2023-02-25T18:21:16.984141Z",
     "start_time": "2023-02-25T18:21:16.960757Z"
    }
   },
   "outputs": [
    {
     "name": "stdout",
     "output_type": "stream",
     "text": [
      "[1, 2, 3, 4, 5]\n"
     ]
    }
   ],
   "source": [
    "L = [1,2,3,4]\n",
    "L.append(5)\n",
    "print(L)"
   ]
  },
  {
   "cell_type": "code",
   "execution_count": 44,
   "id": "45eb6ffb",
   "metadata": {
    "ExecuteTime": {
     "end_time": "2023-02-25T18:22:21.230222Z",
     "start_time": "2023-02-25T18:22:21.204889Z"
    }
   },
   "outputs": [
    {
     "name": "stdout",
     "output_type": "stream",
     "text": [
      "[1, 2, 3, 4, [5, 6, 7]]\n"
     ]
    }
   ],
   "source": [
    "L = [1,2,3,4]\n",
    "L.append([5,6,7]) ##Appends a list and not the digits\n",
    "print(L)"
   ]
  },
  {
   "cell_type": "markdown",
   "id": "0efc3282",
   "metadata": {},
   "source": [
    "#### Extend : Adds multiple items"
   ]
  },
  {
   "cell_type": "code",
   "execution_count": 45,
   "id": "97271bfd",
   "metadata": {
    "ExecuteTime": {
     "end_time": "2023-02-25T18:23:09.690873Z",
     "start_time": "2023-02-25T18:23:09.666831Z"
    }
   },
   "outputs": [
    {
     "name": "stdout",
     "output_type": "stream",
     "text": [
      "[1, 2, 3, 4, 5, 6, 7]\n"
     ]
    }
   ],
   "source": [
    "L = [1,2,3,4]\n",
    "L.extend([5,6,7])\n",
    "print(L)"
   ]
  },
  {
   "cell_type": "code",
   "execution_count": 46,
   "id": "9992d92b",
   "metadata": {
    "ExecuteTime": {
     "end_time": "2023-02-25T18:25:33.466826Z",
     "start_time": "2023-02-25T18:25:33.441940Z"
    }
   },
   "outputs": [
    {
     "data": {
      "text/plain": [
       "[1, 2, 3, 4, 'D', 'e', 'l', 'h', 'i']"
      ]
     },
     "execution_count": 46,
     "metadata": {},
     "output_type": "execute_result"
    }
   ],
   "source": [
    "L = [1,2,3,4]\n",
    "L.extend('Delhi')\n",
    "L"
   ]
  },
  {
   "cell_type": "markdown",
   "id": "8dfd984f",
   "metadata": {},
   "source": [
    "#### Insert : Adding item at a desired location"
   ]
  },
  {
   "cell_type": "code",
   "execution_count": 48,
   "id": "6f7ab89e",
   "metadata": {
    "ExecuteTime": {
     "end_time": "2023-02-25T18:27:47.934274Z",
     "start_time": "2023-02-25T18:27:47.900759Z"
    }
   },
   "outputs": [
    {
     "data": {
      "text/plain": [
       "[1, 10, 100, 2, 3, 4]"
      ]
     },
     "execution_count": 48,
     "metadata": {},
     "output_type": "execute_result"
    }
   ],
   "source": [
    "L = [1,10,2,3,4]\n",
    "L.insert(2,100) ##Need to give index position and then the item\n",
    "L"
   ]
  },
  {
   "cell_type": "markdown",
   "id": "0a7abd7e",
   "metadata": {
    "ExecuteTime": {
     "end_time": "2023-02-25T18:29:18.974991Z",
     "start_time": "2023-02-25T18:29:18.950410Z"
    }
   },
   "source": [
    "### Editing Items in a List :"
   ]
  },
  {
   "cell_type": "markdown",
   "id": "8112eb3e",
   "metadata": {},
   "source": [
    "#### Editing with Indexing"
   ]
  },
  {
   "cell_type": "code",
   "execution_count": 50,
   "id": "594f4ea8",
   "metadata": {
    "ExecuteTime": {
     "end_time": "2023-02-25T18:30:11.543163Z",
     "start_time": "2023-02-25T18:30:11.519136Z"
    }
   },
   "outputs": [
    {
     "name": "stdout",
     "output_type": "stream",
     "text": [
      "[1, 2, 3, 5000]\n"
     ]
    }
   ],
   "source": [
    "L = [1,2,3,4]\n",
    "L[-1] = 5000\n",
    "print(L)"
   ]
  },
  {
   "cell_type": "markdown",
   "id": "d794d671",
   "metadata": {},
   "source": [
    "#### Editing with Slicing"
   ]
  },
  {
   "cell_type": "code",
   "execution_count": 52,
   "id": "d08475a3",
   "metadata": {
    "ExecuteTime": {
     "end_time": "2023-02-25T18:31:35.050325Z",
     "start_time": "2023-02-25T18:31:35.018482Z"
    }
   },
   "outputs": [
    {
     "data": {
      "text/plain": [
       "[1, 2, 30, 50, 70, 90, 110]"
      ]
     },
     "execution_count": 52,
     "metadata": {},
     "output_type": "execute_result"
    }
   ],
   "source": [
    "L = [1,2,3,4]\n",
    "L[2:7] = [30,50,70,90,110]\n",
    "L"
   ]
  },
  {
   "cell_type": "markdown",
   "id": "5c9fd292",
   "metadata": {},
   "source": [
    "### Deleting Items in a List :"
   ]
  },
  {
   "cell_type": "markdown",
   "id": "3c368d17",
   "metadata": {},
   "source": [
    "#### Del : Deletes entire List"
   ]
  },
  {
   "cell_type": "code",
   "execution_count": 54,
   "id": "16959383",
   "metadata": {
    "ExecuteTime": {
     "end_time": "2023-02-25T18:33:24.823703Z",
     "start_time": "2023-02-25T18:33:24.790726Z"
    }
   },
   "outputs": [
    {
     "ename": "NameError",
     "evalue": "name 'L' is not defined",
     "output_type": "error",
     "traceback": [
      "\u001b[1;31m---------------------------------------------------------------------------\u001b[0m",
      "\u001b[1;31mNameError\u001b[0m                                 Traceback (most recent call last)",
      "\u001b[1;32m~\\AppData\\Local\\Temp\\ipykernel_24568\\1403497226.py\u001b[0m in \u001b[0;36m<cell line: 3>\u001b[1;34m()\u001b[0m\n\u001b[0;32m      1\u001b[0m \u001b[0mL\u001b[0m \u001b[1;33m=\u001b[0m \u001b[1;33m[\u001b[0m\u001b[1;36m1\u001b[0m\u001b[1;33m,\u001b[0m\u001b[1;36m2\u001b[0m\u001b[1;33m,\u001b[0m\u001b[1;36m3\u001b[0m\u001b[1;33m,\u001b[0m\u001b[1;36m4\u001b[0m\u001b[1;33m]\u001b[0m\u001b[1;33m\u001b[0m\u001b[1;33m\u001b[0m\u001b[0m\n\u001b[0;32m      2\u001b[0m \u001b[1;32mdel\u001b[0m \u001b[0mL\u001b[0m\u001b[1;33m\u001b[0m\u001b[1;33m\u001b[0m\u001b[0m\n\u001b[1;32m----> 3\u001b[1;33m \u001b[0mL\u001b[0m\u001b[1;33m\u001b[0m\u001b[1;33m\u001b[0m\u001b[0m\n\u001b[0m",
      "\u001b[1;31mNameError\u001b[0m: name 'L' is not defined"
     ]
    }
   ],
   "source": [
    "L = [1,2,3,4]\n",
    "del L\n",
    "L"
   ]
  },
  {
   "cell_type": "code",
   "execution_count": 55,
   "id": "319c9829",
   "metadata": {
    "ExecuteTime": {
     "end_time": "2023-02-25T18:33:56.561226Z",
     "start_time": "2023-02-25T18:33:56.537338Z"
    }
   },
   "outputs": [
    {
     "data": {
      "text/plain": [
       "[1, 2, 3]"
      ]
     },
     "execution_count": 55,
     "metadata": {},
     "output_type": "execute_result"
    }
   ],
   "source": [
    "L = [1,2,3,4]\n",
    "del L[-1]\n",
    "L"
   ]
  },
  {
   "cell_type": "code",
   "execution_count": 56,
   "id": "500838d9",
   "metadata": {
    "ExecuteTime": {
     "end_time": "2023-02-25T18:34:34.163989Z",
     "start_time": "2023-02-25T18:34:34.140441Z"
    }
   },
   "outputs": [
    {
     "data": {
      "text/plain": [
       "[1, 2]"
      ]
     },
     "execution_count": 56,
     "metadata": {},
     "output_type": "execute_result"
    }
   ],
   "source": [
    "L = [1,2,3,4]\n",
    "del L[2:]\n",
    "L"
   ]
  },
  {
   "cell_type": "markdown",
   "id": "2774d361",
   "metadata": {},
   "source": [
    "#### Remove : Need to specify the Item not the Location"
   ]
  },
  {
   "cell_type": "code",
   "execution_count": 57,
   "id": "1e5a87fb",
   "metadata": {
    "ExecuteTime": {
     "end_time": "2023-02-25T18:36:04.500017Z",
     "start_time": "2023-02-25T18:36:04.476317Z"
    }
   },
   "outputs": [
    {
     "name": "stdout",
     "output_type": "stream",
     "text": [
      "[1, 2, 3]\n"
     ]
    }
   ],
   "source": [
    "L = [1,2,3,4]\n",
    "L.remove(4)\n",
    "print(L)"
   ]
  },
  {
   "cell_type": "markdown",
   "id": "a2840356",
   "metadata": {},
   "source": [
    "#### Pop : If index is provided, it'd delete the last item else the index position if provided"
   ]
  },
  {
   "cell_type": "code",
   "execution_count": 58,
   "id": "f5d0c647",
   "metadata": {
    "ExecuteTime": {
     "end_time": "2023-02-25T18:39:41.362389Z",
     "start_time": "2023-02-25T18:39:41.330387Z"
    }
   },
   "outputs": [
    {
     "data": {
      "text/plain": [
       "[1, 2, 3]"
      ]
     },
     "execution_count": 58,
     "metadata": {},
     "output_type": "execute_result"
    }
   ],
   "source": [
    "L = [1,2,3,4]\n",
    "L.pop()\n",
    "L"
   ]
  },
  {
   "cell_type": "code",
   "execution_count": 59,
   "id": "00c22c37",
   "metadata": {
    "ExecuteTime": {
     "end_time": "2023-02-25T18:39:55.799866Z",
     "start_time": "2023-02-25T18:39:55.774782Z"
    }
   },
   "outputs": [
    {
     "data": {
      "text/plain": [
       "[1, 2, 4]"
      ]
     },
     "execution_count": 59,
     "metadata": {},
     "output_type": "execute_result"
    }
   ],
   "source": [
    "L = [1,2,3,4]\n",
    "L.pop(2)\n",
    "L"
   ]
  },
  {
   "cell_type": "markdown",
   "id": "41ed6de9",
   "metadata": {},
   "source": [
    "#### Clear : Will clear all the item from a List."
   ]
  },
  {
   "cell_type": "code",
   "execution_count": 60,
   "id": "1e3986cb",
   "metadata": {
    "ExecuteTime": {
     "end_time": "2023-02-25T18:41:52.817406Z",
     "start_time": "2023-02-25T18:41:52.794086Z"
    }
   },
   "outputs": [
    {
     "data": {
      "text/plain": [
       "[]"
      ]
     },
     "execution_count": 60,
     "metadata": {},
     "output_type": "execute_result"
    }
   ],
   "source": [
    "L = [1,2,3,4]\n",
    "L.clear()\n",
    "L"
   ]
  },
  {
   "cell_type": "markdown",
   "id": "32d679b6",
   "metadata": {},
   "source": [
    "### Operations on List :\n",
    "* Arithmetic \n",
    "* Membership\n",
    "* Loop"
   ]
  },
  {
   "cell_type": "markdown",
   "id": "b8ddf43f",
   "metadata": {},
   "source": [
    "#### Arithmetic Operation : {+,*}"
   ]
  },
  {
   "cell_type": "code",
   "execution_count": 62,
   "id": "cd4b7037",
   "metadata": {
    "ExecuteTime": {
     "end_time": "2023-02-25T18:44:59.726214Z",
     "start_time": "2023-02-25T18:44:59.701706Z"
    }
   },
   "outputs": [
    {
     "data": {
      "text/plain": [
       "[1, 2, 3, 4, 5, 6, 7, 8]"
      ]
     },
     "execution_count": 62,
     "metadata": {},
     "output_type": "execute_result"
    }
   ],
   "source": [
    "L1 = [1,2,3,4]\n",
    "L2 = [5,6,7,8]\n",
    "\n",
    "L = L1+L2 ## Acts as merging operation\n",
    "L"
   ]
  },
  {
   "cell_type": "code",
   "execution_count": 63,
   "id": "8152ed05",
   "metadata": {
    "ExecuteTime": {
     "end_time": "2023-02-25T18:45:59.104330Z",
     "start_time": "2023-02-25T18:45:59.080107Z"
    }
   },
   "outputs": [
    {
     "data": {
      "text/plain": [
       "[1, 2, 3, 4, 1, 2, 3, 4, 1, 2, 3, 4]"
      ]
     },
     "execution_count": 63,
     "metadata": {},
     "output_type": "execute_result"
    }
   ],
   "source": [
    "L1 = [1,2,3,4]\n",
    "L = L1*3\n",
    "L"
   ]
  },
  {
   "cell_type": "markdown",
   "id": "293a6690",
   "metadata": {},
   "source": [
    "#### Membership Operators : {IN/NOT IN}"
   ]
  },
  {
   "cell_type": "code",
   "execution_count": 64,
   "id": "ef81c53c",
   "metadata": {
    "ExecuteTime": {
     "end_time": "2023-02-25T18:48:57.227521Z",
     "start_time": "2023-02-25T18:48:57.161816Z"
    }
   },
   "outputs": [
    {
     "name": "stdout",
     "output_type": "stream",
     "text": [
      "False\n",
      "True\n"
     ]
    }
   ],
   "source": [
    "L1 = [1,2,3,4,5]\n",
    "L2 = [1,2,3,4,[5,6]]\n",
    "\n",
    "print(5 not in L1)\n",
    "print([5,6] in L2)"
   ]
  },
  {
   "cell_type": "markdown",
   "id": "f9e563ca",
   "metadata": {},
   "source": [
    "#### Loops"
   ]
  },
  {
   "cell_type": "code",
   "execution_count": 65,
   "id": "7e9d5501",
   "metadata": {
    "ExecuteTime": {
     "end_time": "2023-02-25T18:50:42.204137Z",
     "start_time": "2023-02-25T18:50:42.179906Z"
    }
   },
   "outputs": [
    {
     "name": "stdout",
     "output_type": "stream",
     "text": [
      "1\n",
      "2\n",
      "3\n",
      "4\n",
      "5\n"
     ]
    }
   ],
   "source": [
    "L1 = [1,2,3,4,5]\n",
    "for i in L1:\n",
    "    print(i)"
   ]
  },
  {
   "cell_type": "code",
   "execution_count": 66,
   "id": "32da0e69",
   "metadata": {
    "ExecuteTime": {
     "end_time": "2023-02-25T18:53:19.380904Z",
     "start_time": "2023-02-25T18:53:19.356450Z"
    }
   },
   "outputs": [
    {
     "name": "stdout",
     "output_type": "stream",
     "text": [
      "[[1, 2], [3, 4]]\n",
      "[[5, 6], [7, 8]]\n"
     ]
    }
   ],
   "source": [
    "L3 =[[[1,2],[3,4]],[[5,6],[7,8]]]\n",
    "for i in L3:\n",
    "    print(i)"
   ]
  },
  {
   "cell_type": "markdown",
   "id": "8b27a142",
   "metadata": {},
   "source": [
    "### List Functions :"
   ]
  },
  {
   "cell_type": "markdown",
   "id": "262f8ea7",
   "metadata": {},
   "source": [
    "#### len/min/max/sorted"
   ]
  },
  {
   "cell_type": "code",
   "execution_count": 68,
   "id": "31fd7fed",
   "metadata": {
    "ExecuteTime": {
     "end_time": "2023-02-25T19:00:43.261812Z",
     "start_time": "2023-02-25T19:00:43.234612Z"
    }
   },
   "outputs": [
    {
     "name": "stdout",
     "output_type": "stream",
     "text": [
      "11\n",
      "1\n",
      "6\n",
      "[1, 2, 3, 3, 3, 3, 3, 4, 4, 5, 6]\n"
     ]
    }
   ],
   "source": [
    "L = [1,2,3,4,5,6,3,4,3,3,3]\n",
    "print(len(L))\n",
    "print(min(L))\n",
    "print(max(L))\n",
    "print(sorted(L))"
   ]
  },
  {
   "cell_type": "markdown",
   "id": "ee54eee4",
   "metadata": {
    "ExecuteTime": {
     "end_time": "2023-02-25T19:00:47.599185Z",
     "start_time": "2023-02-25T19:00:47.574993Z"
    }
   },
   "source": [
    "#### Count"
   ]
  },
  {
   "cell_type": "code",
   "execution_count": 70,
   "id": "9dc88b31",
   "metadata": {
    "ExecuteTime": {
     "end_time": "2023-02-25T19:01:00.873439Z",
     "start_time": "2023-02-25T19:01:00.858806Z"
    }
   },
   "outputs": [
    {
     "name": "stdout",
     "output_type": "stream",
     "text": [
      "5\n"
     ]
    }
   ],
   "source": [
    "L = [1,2,3,4,5,6,3,4,3,3,3]\n",
    "print(L.count(3))"
   ]
  },
  {
   "cell_type": "markdown",
   "id": "1a8aab21",
   "metadata": {},
   "source": [
    "#### Index "
   ]
  },
  {
   "cell_type": "code",
   "execution_count": 1,
   "id": "89d01715",
   "metadata": {
    "ExecuteTime": {
     "end_time": "2023-02-26T13:04:04.626236Z",
     "start_time": "2023-02-26T13:04:04.589093Z"
    }
   },
   "outputs": [
    {
     "name": "stdout",
     "output_type": "stream",
     "text": [
      "1\n"
     ]
    }
   ],
   "source": [
    "L = [1,2,3,4,5,6,3,4,3,3,3]\n",
    "print(L.index(2))"
   ]
  },
  {
   "cell_type": "code",
   "execution_count": 72,
   "id": "1232d32e",
   "metadata": {
    "ExecuteTime": {
     "end_time": "2023-02-25T19:03:16.753440Z",
     "start_time": "2023-02-25T19:03:16.728421Z"
    }
   },
   "outputs": [
    {
     "name": "stdout",
     "output_type": "stream",
     "text": [
      "2\n"
     ]
    }
   ],
   "source": [
    "L = [1,2,3,4,5,6,3,4,3,3,3]\n",
    "print(L.index(3)) ## For repeated numbers it returns 1st occurance position"
   ]
  },
  {
   "cell_type": "markdown",
   "id": "cac587b0",
   "metadata": {},
   "source": [
    "#### Reverse : Permanant operation...Makes changes to the original variable"
   ]
  },
  {
   "cell_type": "code",
   "execution_count": 74,
   "id": "b69969d9",
   "metadata": {
    "ExecuteTime": {
     "end_time": "2023-02-25T19:05:15.233824Z",
     "start_time": "2023-02-25T19:05:15.201043Z"
    }
   },
   "outputs": [
    {
     "data": {
      "text/plain": [
       "[3, 3, 3, 4, 3, 6, 5, 4, 3, 2, 1]"
      ]
     },
     "execution_count": 74,
     "metadata": {},
     "output_type": "execute_result"
    }
   ],
   "source": [
    "L = [1,2,3,4,5,6,3,4,3,3,3]\n",
    "L.reverse()\n",
    "L"
   ]
  },
  {
   "cell_type": "markdown",
   "id": "191149a1",
   "metadata": {},
   "source": [
    "#### Sort vs Sorted : \n",
    "Sort will makes permanant change to a list."
   ]
  },
  {
   "cell_type": "code",
   "execution_count": 77,
   "id": "b77ed500",
   "metadata": {
    "ExecuteTime": {
     "end_time": "2023-02-25T19:10:59.138178Z",
     "start_time": "2023-02-25T19:10:59.114105Z"
    }
   },
   "outputs": [
    {
     "name": "stdout",
     "output_type": "stream",
     "text": [
      "Original List  [1, 2, 3, 4, 5, 6, 3, 4, 3, 3, 3]\n",
      "Sorted List (Temp Change)  [1, 2, 3, 3, 3, 3, 3, 4, 4, 5, 6]\n",
      "Original List  [1, 2, 3, 4, 5, 6, 3, 4, 3, 3, 3]\n",
      "Sort list (Permanant Change)  [1, 2, 3, 3, 3, 3, 3, 4, 4, 5, 6]\n",
      "Original List  [1, 2, 3, 3, 3, 3, 3, 4, 4, 5, 6]\n"
     ]
    }
   ],
   "source": [
    "L = [1,2,3,4,5,6,3,4,3,3,3]\n",
    "print('Original List ',L)\n",
    "print('Sorted List (Temp Change) ',sorted(L))\n",
    "print('Original List ',L)\n",
    "L.sort()\n",
    "print('Sort list (Permanant Change) ',L )\n",
    "print('Original List ',L)"
   ]
  },
  {
   "cell_type": "code",
   "execution_count": 79,
   "id": "b9e74bd6",
   "metadata": {
    "ExecuteTime": {
     "end_time": "2023-02-25T19:13:24.946275Z",
     "start_time": "2023-02-25T19:13:24.914310Z"
    }
   },
   "outputs": [
    {
     "name": "stdout",
     "output_type": "stream",
     "text": [
      "[1, 2, 3, 4]  and its memory location ID is  2556719813120\n",
      "[1, 2, 3, 4]  and its memory location ID is  2556722845056\n"
     ]
    }
   ],
   "source": [
    "#### Copy :\n",
    "\n",
    "L = [1,2,3,4]\n",
    "print(L,' and its memory location ID is ', id(L))\n",
    "\n",
    "L1 = L.copy()\n",
    "print(L1,' and its memory location ID is ', id(L1))"
   ]
  },
  {
   "cell_type": "markdown",
   "id": "717f3f9c",
   "metadata": {},
   "source": [
    "### List Comprehension :\n",
    "List Comprehension provides a concise way of creating lists."
   ]
  },
  {
   "cell_type": "markdown",
   "id": "1d779dac",
   "metadata": {},
   "source": [
    "#### Advantages of List Comprehension :\n",
    "1. More time efficient and space efficient than Loops.\n",
    "2. Requires fewer lines of code.\n",
    "3. Transform iterative statements into a formula."
   ]
  },
  {
   "cell_type": "code",
   "execution_count": 2,
   "id": "7ba64567",
   "metadata": {
    "ExecuteTime": {
     "end_time": "2023-02-26T13:18:03.742680Z",
     "start_time": "2023-02-26T13:18:03.728395Z"
    }
   },
   "outputs": [
    {
     "name": "stdout",
     "output_type": "stream",
     "text": [
      "[1, 2, 3, 4, 5, 6, 7, 8, 9, 10]\n"
     ]
    }
   ],
   "source": [
    "## We can write :\n",
    "L =[i for i in range(1,11)]\n",
    "print(L)"
   ]
  },
  {
   "cell_type": "code",
   "execution_count": 3,
   "id": "2f101797",
   "metadata": {
    "ExecuteTime": {
     "end_time": "2023-02-26T13:19:10.128902Z",
     "start_time": "2023-02-26T13:19:10.108090Z"
    }
   },
   "outputs": [
    {
     "name": "stdout",
     "output_type": "stream",
     "text": [
      "[1, 2, 3, 4, 5, 6, 7, 8, 9, 10]\n"
     ]
    }
   ],
   "source": [
    "## Instead of \n",
    "\n",
    "L= []\n",
    "for i in range(1,11):\n",
    "    L.append(i)\n",
    "print(L)"
   ]
  },
  {
   "cell_type": "code",
   "execution_count": 4,
   "id": "3c6d6d1e",
   "metadata": {
    "ExecuteTime": {
     "end_time": "2023-02-26T13:32:03.105153Z",
     "start_time": "2023-02-26T13:32:03.063627Z"
    }
   },
   "outputs": [
    {
     "data": {
      "text/plain": [
       "[4, 9, 16]"
      ]
     },
     "execution_count": 4,
     "metadata": {},
     "output_type": "execute_result"
    }
   ],
   "source": [
    "## Finding the Squares of numbers in a List.\n",
    "\n",
    "L = [2,3,4]\n",
    "\n",
    "[i**2 for i in L]"
   ]
  },
  {
   "cell_type": "code",
   "execution_count": 5,
   "id": "da34de6d",
   "metadata": {
    "ExecuteTime": {
     "end_time": "2023-02-26T13:33:53.900964Z",
     "start_time": "2023-02-26T13:33:53.875945Z"
    }
   },
   "outputs": [
    {
     "data": {
      "text/plain": [
       "[5, 10, 15, 20, 25, 30, 35, 40, 45, 50]"
      ]
     },
     "execution_count": 5,
     "metadata": {},
     "output_type": "execute_result"
    }
   ],
   "source": [
    "## Print all the Numbers divisible by 5 in the range of 1 to 50.\n",
    "\n",
    "[i for i in range(1,51) if i%5==0]"
   ]
  },
  {
   "cell_type": "code",
   "execution_count": 8,
   "id": "ec4690cc",
   "metadata": {
    "ExecuteTime": {
     "end_time": "2023-02-26T13:39:41.108033Z",
     "start_time": "2023-02-26T13:39:41.077398Z"
    }
   },
   "outputs": [
    {
     "data": {
      "text/plain": [
       "['python', 'php']"
      ]
     },
     "execution_count": 8,
     "metadata": {},
     "output_type": "execute_result"
    }
   ],
   "source": [
    "## Find a language which starts with letter P \n",
    "\n",
    "Languages = ['java','python','php','c','javascripts']\n",
    "\n",
    "[language for language in Languages if language.startswith('p')]"
   ]
  },
  {
   "cell_type": "code",
   "execution_count": 10,
   "id": "285234dc",
   "metadata": {
    "ExecuteTime": {
     "end_time": "2023-02-26T13:45:40.738947Z",
     "start_time": "2023-02-26T13:45:40.732437Z"
    }
   },
   "outputs": [
    {
     "data": {
      "text/plain": [
       "['apple']"
      ]
     },
     "execution_count": 10,
     "metadata": {},
     "output_type": "execute_result"
    }
   ],
   "source": [
    "## Nested if with List Comprehension :\n",
    "\n",
    "## Print the names of the fruits that are available in my_fruit and basket and start with a.\n",
    "\n",
    "basket = ['apple','guava','cherry','banana']\n",
    "my_fruit = ['apple','kiwi','grapes','banana']\n",
    "\n",
    "[i for i in my_fruit for j in basket if i==j and i.startswith('a')]"
   ]
  },
  {
   "cell_type": "code",
   "execution_count": 21,
   "id": "55d03c19",
   "metadata": {
    "ExecuteTime": {
     "end_time": "2023-02-26T16:21:19.994788Z",
     "start_time": "2023-02-26T16:21:19.971590Z"
    }
   },
   "outputs": [
    {
     "data": {
      "text/plain": [
       "[[1, 2, 3], [2, 4, 6], [3, 6, 9]]"
      ]
     },
     "execution_count": 21,
     "metadata": {},
     "output_type": "execute_result"
    }
   ],
   "source": [
    "## Print a (3,3) matrix using list comprehension --> Nested List Comprehension\n",
    "[[i*j for i in range(1,4)] for j in range(1,4)]"
   ]
  },
  {
   "cell_type": "code",
   "execution_count": 46,
   "id": "d432ef4c",
   "metadata": {
    "ExecuteTime": {
     "end_time": "2023-02-26T16:53:55.146320Z",
     "start_time": "2023-02-26T16:53:55.114144Z"
    }
   },
   "outputs": [
    {
     "data": {
      "text/plain": [
       "[5, 6, 7, 8, 10, 12, 14, 16, 15, 18, 21, 24, 20, 24, 28, 32]"
      ]
     },
     "execution_count": 46,
     "metadata": {},
     "output_type": "execute_result"
    }
   ],
   "source": [
    "L1 = [1,2,3,4]\n",
    "L2 = [5,6,7,8]\n",
    "\n",
    "[i*j for i in L1 for j in L2]"
   ]
  },
  {
   "cell_type": "markdown",
   "id": "5601f258",
   "metadata": {
    "ExecuteTime": {
     "end_time": "2023-02-26T16:56:15.723551Z",
     "start_time": "2023-02-26T16:56:15.699503Z"
    }
   },
   "source": [
    "### 2 ways to traverse a list \n",
    "1. itemwise\n",
    "2. indexwise"
   ]
  },
  {
   "cell_type": "markdown",
   "id": "680df0b1",
   "metadata": {},
   "source": [
    "#### Itemwise"
   ]
  },
  {
   "cell_type": "code",
   "execution_count": 48,
   "id": "8dde57ae",
   "metadata": {
    "ExecuteTime": {
     "end_time": "2023-02-26T16:58:33.941381Z",
     "start_time": "2023-02-26T16:58:33.917667Z"
    }
   },
   "outputs": [
    {
     "name": "stdout",
     "output_type": "stream",
     "text": [
      "A\n",
      "B\n",
      "C\n",
      "D\n"
     ]
    }
   ],
   "source": [
    "L = ['A','B','C','D']\n",
    "\n",
    "for i in L:\n",
    "    print(i)"
   ]
  },
  {
   "cell_type": "markdown",
   "id": "1b65e768",
   "metadata": {
    "ExecuteTime": {
     "end_time": "2023-02-26T16:59:26.485530Z",
     "start_time": "2023-02-26T16:59:26.470200Z"
    }
   },
   "source": [
    "#### Indexwise"
   ]
  },
  {
   "cell_type": "code",
   "execution_count": 49,
   "id": "7a48b348",
   "metadata": {
    "ExecuteTime": {
     "end_time": "2023-02-26T16:59:09.832340Z",
     "start_time": "2023-02-26T16:59:09.808281Z"
    }
   },
   "outputs": [
    {
     "name": "stdout",
     "output_type": "stream",
     "text": [
      "0\n",
      "1\n",
      "2\n",
      "3\n"
     ]
    }
   ],
   "source": [
    "L = ['A','B','C','D']\n",
    "\n",
    "for i in range(0,len(L)):\n",
    "    print(i)"
   ]
  },
  {
   "cell_type": "code",
   "execution_count": 51,
   "id": "4202b88c",
   "metadata": {
    "ExecuteTime": {
     "end_time": "2023-02-26T17:00:41.466154Z",
     "start_time": "2023-02-26T17:00:41.442249Z"
    }
   },
   "outputs": [
    {
     "name": "stdout",
     "output_type": "stream",
     "text": [
      "A\n",
      "B\n",
      "C\n",
      "D\n"
     ]
    }
   ],
   "source": [
    "## Printing items using Indexwise method\n",
    "\n",
    "L = ['A','B','C','D']\n",
    "\n",
    "for i in range(0,len(L)):\n",
    "    print(L[i])"
   ]
  },
  {
   "cell_type": "markdown",
   "id": "51f9692a",
   "metadata": {},
   "source": [
    "### Zip Function :\n",
    "The zip() function returns a zip object, which is an iterator of tuples where the first item in each passed iterator is passedired together, and theen the esecond item in each passed iterator are paired together.\n",
    "\n",
    "If the passed iterator have different lengths, the iterator have different lengths the iterator with the least items decides tehe length of the new iterator."
   ]
  },
  {
   "cell_type": "code",
   "execution_count": 55,
   "id": "6726b40a",
   "metadata": {
    "ExecuteTime": {
     "end_time": "2023-02-26T17:10:57.495655Z",
     "start_time": "2023-02-26T17:10:57.463037Z"
    }
   },
   "outputs": [
    {
     "data": {
      "text/plain": [
       "[(1, -1), (2, -2), (3, -3), (4, -4)]"
      ]
     },
     "execution_count": 55,
     "metadata": {},
     "output_type": "execute_result"
    }
   ],
   "source": [
    "## Adding the numbers in thee matrix :\n",
    "L1 = [1,2,3,4]\n",
    "L2 = [-1,-2,-3,-4]\n",
    "\n",
    "L3 = list(zip(L1,L2))\n",
    "L3"
   ]
  },
  {
   "cell_type": "code",
   "execution_count": 58,
   "id": "7f20a065",
   "metadata": {
    "ExecuteTime": {
     "end_time": "2023-02-26T17:13:22.855058Z",
     "start_time": "2023-02-26T17:13:22.830349Z"
    }
   },
   "outputs": [
    {
     "data": {
      "text/plain": [
       "[0, 0, 0, 0]"
      ]
     },
     "execution_count": 58,
     "metadata": {},
     "output_type": "execute_result"
    }
   ],
   "source": [
    "[i+j for i,j in L3]"
   ]
  },
  {
   "cell_type": "markdown",
   "id": "ed512531",
   "metadata": {},
   "source": [
    "### Disadvantages of Python Lists :\n",
    "* Slow\n",
    "* Uses more Memory\n",
    "* Risky because Lists are mutable in nature"
   ]
  },
  {
   "cell_type": "markdown",
   "id": "0f83809a",
   "metadata": {},
   "source": [
    "## Tuples :\n",
    "A tuple in python is similar to Lists. The difference between the two is that we cannot change the elements of a tuple once it is assigned whereas we can change the elements in a list.\n",
    "\n",
    "In short, a tuple is an immutable list. A tuple can not be changed in any way once created.\n",
    "\n",
    "**Characteristics**\n",
    "   - Ordered\n",
    "   - Un-changable // immutable\n",
    "   - Allows Duplicates"
   ]
  },
  {
   "cell_type": "markdown",
   "id": "f06e9efb",
   "metadata": {},
   "source": [
    "### Creating a Tuple :"
   ]
  },
  {
   "cell_type": "markdown",
   "id": "81baa5bd",
   "metadata": {},
   "source": [
    "#### Empty Tuple"
   ]
  },
  {
   "cell_type": "code",
   "execution_count": 59,
   "id": "92989225",
   "metadata": {
    "ExecuteTime": {
     "end_time": "2023-02-26T17:33:29.327463Z",
     "start_time": "2023-02-26T17:33:29.302881Z"
    }
   },
   "outputs": [
    {
     "name": "stdout",
     "output_type": "stream",
     "text": [
      "()\n"
     ]
    }
   ],
   "source": [
    "t1 = ()\n",
    "print(t1)"
   ]
  },
  {
   "cell_type": "markdown",
   "id": "956e1f3c",
   "metadata": {},
   "source": [
    "#### Creating a tuple with a single element :"
   ]
  },
  {
   "cell_type": "code",
   "execution_count": 60,
   "id": "174473a1",
   "metadata": {
    "ExecuteTime": {
     "end_time": "2023-02-26T17:35:08.471892Z",
     "start_time": "2023-02-26T17:35:08.455813Z"
    }
   },
   "outputs": [
    {
     "name": "stdout",
     "output_type": "stream",
     "text": [
      "2  we see tuple is not created and its type is  <class 'int'>\n"
     ]
    }
   ],
   "source": [
    "t1 = (2)\n",
    "print(t1,' we see tuple is not created and its type is ',type(t1))"
   ]
  },
  {
   "cell_type": "code",
   "execution_count": 62,
   "id": "69dfa114",
   "metadata": {
    "ExecuteTime": {
     "end_time": "2023-02-26T17:35:41.124536Z",
     "start_time": "2023-02-26T17:35:41.108483Z"
    }
   },
   "outputs": [
    {
     "name": "stdout",
     "output_type": "stream",
     "text": [
      "(2,) <class 'tuple'>\n"
     ]
    }
   ],
   "source": [
    "t1 = (2,)\n",
    "print(t1, type(t1))"
   ]
  },
  {
   "cell_type": "code",
   "execution_count": 64,
   "id": "8c56f4d9",
   "metadata": {
    "ExecuteTime": {
     "end_time": "2023-02-26T17:38:34.365816Z",
     "start_time": "2023-02-26T17:38:34.332793Z"
    }
   },
   "outputs": [
    {
     "name": "stdout",
     "output_type": "stream",
     "text": [
      "(1, 2, 3, 4)\n",
      "(1, 2.3, True, [1, 2, 3])\n",
      "(1, 2, 3, (4, 5))\n",
      "('H', 'e', 'l', 'l', 'o')\n"
     ]
    }
   ],
   "source": [
    "## Homogeneous Tuple :\n",
    "t1 = (1,2,3,4)\n",
    "print(t1)\n",
    "\n",
    "## Hetrogeneous Tuple :\n",
    "t1 = (1,2.3,True,[1,2,3])\n",
    "print(t1)\n",
    "\n",
    "## Tuple inside a Tuple :\n",
    "t1 = (1,2,3,(4,5))\n",
    "print(t1)\n",
    "\n",
    "## Using type conversion :\n",
    "t1 = tuple('Hello')\n",
    "print(t1)"
   ]
  },
  {
   "cell_type": "markdown",
   "id": "7b97fb38",
   "metadata": {},
   "source": [
    "### Accessing Items\n",
    "* Indexing\n",
    "* Slicing"
   ]
  },
  {
   "cell_type": "code",
   "execution_count": 65,
   "id": "1b362940",
   "metadata": {
    "ExecuteTime": {
     "end_time": "2023-02-26T17:53:59.495465Z",
     "start_time": "2023-02-26T17:53:59.470578Z"
    }
   },
   "outputs": [
    {
     "name": "stdout",
     "output_type": "stream",
     "text": [
      "(1, 2, 3, 4)\n",
      "3\n",
      "4\n",
      "(3, 4)\n"
     ]
    }
   ],
   "source": [
    "t3 = (1,2,3,4)\n",
    "print(t3)\n",
    "print(t3[2])\n",
    "print(t3[-1])\n",
    "print(t3[2:4])"
   ]
  },
  {
   "cell_type": "markdown",
   "id": "317492f6",
   "metadata": {},
   "source": [
    "### Editing Items in Tuples : Cannot be Editied"
   ]
  },
  {
   "cell_type": "code",
   "execution_count": 67,
   "id": "424efc97",
   "metadata": {
    "ExecuteTime": {
     "end_time": "2023-02-26T17:55:22.557242Z",
     "start_time": "2023-02-26T17:55:22.524607Z"
    }
   },
   "outputs": [
    {
     "ename": "TypeError",
     "evalue": "'tuple' object does not support item assignment",
     "output_type": "error",
     "traceback": [
      "\u001b[1;31m---------------------------------------------------------------------------\u001b[0m",
      "\u001b[1;31mTypeError\u001b[0m                                 Traceback (most recent call last)",
      "\u001b[1;32m~\\AppData\\Local\\Temp\\ipykernel_24676\\1329380573.py\u001b[0m in \u001b[0;36m<cell line: 2>\u001b[1;34m()\u001b[0m\n\u001b[0;32m      1\u001b[0m \u001b[0mt1\u001b[0m \u001b[1;33m=\u001b[0m \u001b[1;33m(\u001b[0m\u001b[1;36m1\u001b[0m\u001b[1;33m,\u001b[0m\u001b[1;36m2\u001b[0m\u001b[1;33m,\u001b[0m\u001b[1;36m3\u001b[0m\u001b[1;33m,\u001b[0m\u001b[1;36m4\u001b[0m\u001b[1;33m)\u001b[0m\u001b[1;33m\u001b[0m\u001b[1;33m\u001b[0m\u001b[0m\n\u001b[1;32m----> 2\u001b[1;33m \u001b[0mt1\u001b[0m\u001b[1;33m[\u001b[0m\u001b[1;36m2\u001b[0m\u001b[1;33m]\u001b[0m \u001b[1;33m=\u001b[0m \u001b[1;36m300\u001b[0m\u001b[1;33m\u001b[0m\u001b[1;33m\u001b[0m\u001b[0m\n\u001b[0m",
      "\u001b[1;31mTypeError\u001b[0m: 'tuple' object does not support item assignment"
     ]
    }
   ],
   "source": [
    "t1 = (1,2,3,4) \n",
    "t1[2] = 300"
   ]
  },
  {
   "cell_type": "markdown",
   "id": "5529e5e8",
   "metadata": {},
   "source": [
    "### Adding Items in Tuple : Not possible"
   ]
  },
  {
   "cell_type": "markdown",
   "id": "d32be2ed",
   "metadata": {},
   "source": [
    "### Deleting Items in Tuple : Deleting the entire tuple is possible but not items in it as tuples are immutable"
   ]
  },
  {
   "cell_type": "code",
   "execution_count": 68,
   "id": "c9847b85",
   "metadata": {
    "ExecuteTime": {
     "end_time": "2023-02-26T17:58:00.986870Z",
     "start_time": "2023-02-26T17:58:00.954600Z"
    }
   },
   "outputs": [
    {
     "ename": "TypeError",
     "evalue": "'tuple' object doesn't support item deletion",
     "output_type": "error",
     "traceback": [
      "\u001b[1;31m---------------------------------------------------------------------------\u001b[0m",
      "\u001b[1;31mTypeError\u001b[0m                                 Traceback (most recent call last)",
      "\u001b[1;32m~\\AppData\\Local\\Temp\\ipykernel_24676\\1264371335.py\u001b[0m in \u001b[0;36m<cell line: 2>\u001b[1;34m()\u001b[0m\n\u001b[0;32m      1\u001b[0m \u001b[0mt1\u001b[0m \u001b[1;33m=\u001b[0m \u001b[1;33m(\u001b[0m\u001b[1;36m1\u001b[0m\u001b[1;33m,\u001b[0m\u001b[1;36m2\u001b[0m\u001b[1;33m,\u001b[0m\u001b[1;36m3\u001b[0m\u001b[1;33m,\u001b[0m\u001b[1;36m4\u001b[0m\u001b[1;33m)\u001b[0m\u001b[1;33m\u001b[0m\u001b[1;33m\u001b[0m\u001b[0m\n\u001b[1;32m----> 2\u001b[1;33m \u001b[1;32mdel\u001b[0m \u001b[0mt1\u001b[0m\u001b[1;33m[\u001b[0m\u001b[1;36m0\u001b[0m\u001b[1;33m]\u001b[0m\u001b[1;33m\u001b[0m\u001b[1;33m\u001b[0m\u001b[0m\n\u001b[0m",
      "\u001b[1;31mTypeError\u001b[0m: 'tuple' object doesn't support item deletion"
     ]
    }
   ],
   "source": [
    "t1 = (1,2,3,4)\n",
    "del t1[0]"
   ]
  },
  {
   "cell_type": "code",
   "execution_count": 69,
   "id": "988ecfd0",
   "metadata": {
    "ExecuteTime": {
     "end_time": "2023-02-26T17:58:12.516018Z",
     "start_time": "2023-02-26T17:58:12.476948Z"
    }
   },
   "outputs": [
    {
     "ename": "NameError",
     "evalue": "name 't1' is not defined",
     "output_type": "error",
     "traceback": [
      "\u001b[1;31m---------------------------------------------------------------------------\u001b[0m",
      "\u001b[1;31mNameError\u001b[0m                                 Traceback (most recent call last)",
      "\u001b[1;32m~\\AppData\\Local\\Temp\\ipykernel_24676\\2945310797.py\u001b[0m in \u001b[0;36m<cell line: 3>\u001b[1;34m()\u001b[0m\n\u001b[0;32m      1\u001b[0m \u001b[0mt1\u001b[0m \u001b[1;33m=\u001b[0m \u001b[1;33m(\u001b[0m\u001b[1;36m1\u001b[0m\u001b[1;33m,\u001b[0m\u001b[1;36m2\u001b[0m\u001b[1;33m,\u001b[0m\u001b[1;36m3\u001b[0m\u001b[1;33m,\u001b[0m\u001b[1;36m4\u001b[0m\u001b[1;33m)\u001b[0m\u001b[1;33m\u001b[0m\u001b[1;33m\u001b[0m\u001b[0m\n\u001b[0;32m      2\u001b[0m \u001b[1;32mdel\u001b[0m \u001b[0mt1\u001b[0m\u001b[1;33m\u001b[0m\u001b[1;33m\u001b[0m\u001b[0m\n\u001b[1;32m----> 3\u001b[1;33m \u001b[0mt1\u001b[0m\u001b[1;33m\u001b[0m\u001b[1;33m\u001b[0m\u001b[0m\n\u001b[0m",
      "\u001b[1;31mNameError\u001b[0m: name 't1' is not defined"
     ]
    }
   ],
   "source": [
    "t1 = (1,2,3,4)\n",
    "del t1\n",
    "t1"
   ]
  },
  {
   "cell_type": "markdown",
   "id": "0db1a286",
   "metadata": {},
   "source": [
    "### Operations on Tuples"
   ]
  },
  {
   "cell_type": "markdown",
   "id": "b9e57b23",
   "metadata": {},
   "source": [
    "####  Arithmatic Operations : {+ & *}\n"
   ]
  },
  {
   "cell_type": "code",
   "execution_count": 71,
   "id": "a01b3b3a",
   "metadata": {
    "ExecuteTime": {
     "end_time": "2023-02-26T18:04:39.454225Z",
     "start_time": "2023-02-26T18:04:39.430156Z"
    }
   },
   "outputs": [
    {
     "name": "stdout",
     "output_type": "stream",
     "text": [
      "(1, 2, 3, 4, 5, 6)\n",
      "(1, 2, 3, 1, 2, 3, 1, 2, 3)\n"
     ]
    }
   ],
   "source": [
    "t1 = (1,2,3)\n",
    "t2 = (4,5,6)\n",
    "\n",
    "print(t1+t2)\n",
    "print(t1*3)"
   ]
  },
  {
   "cell_type": "markdown",
   "id": "bac2f646",
   "metadata": {},
   "source": [
    "#### Membership : {In/Not In} :"
   ]
  },
  {
   "cell_type": "code",
   "execution_count": 72,
   "id": "de4c60c3",
   "metadata": {
    "ExecuteTime": {
     "end_time": "2023-02-26T18:05:28.687247Z",
     "start_time": "2023-02-26T18:05:28.671091Z"
    }
   },
   "outputs": [
    {
     "name": "stdout",
     "output_type": "stream",
     "text": [
      "True\n"
     ]
    }
   ],
   "source": [
    "t1 = (1,2,3)\n",
    "print(1 in t1)"
   ]
  },
  {
   "cell_type": "markdown",
   "id": "ccfc622e",
   "metadata": {},
   "source": [
    "#### Loops/ Iteration :"
   ]
  },
  {
   "cell_type": "code",
   "execution_count": 73,
   "id": "21bc0075",
   "metadata": {
    "ExecuteTime": {
     "end_time": "2023-02-26T18:05:59.576951Z",
     "start_time": "2023-02-26T18:05:59.552910Z"
    }
   },
   "outputs": [
    {
     "name": "stdout",
     "output_type": "stream",
     "text": [
      "1\n",
      "2\n",
      "3\n"
     ]
    }
   ],
   "source": [
    "t1 = (1,2,3)\n",
    "for i in t1:\n",
    "    print(i)"
   ]
  },
  {
   "cell_type": "markdown",
   "id": "67d0ec12",
   "metadata": {},
   "source": [
    "### Function in Tuples :"
   ]
  },
  {
   "cell_type": "markdown",
   "id": "c4953515",
   "metadata": {},
   "source": [
    "#### Len/min/max/sum/sorted"
   ]
  },
  {
   "cell_type": "code",
   "execution_count": 74,
   "id": "9d09d5c4",
   "metadata": {
    "ExecuteTime": {
     "end_time": "2023-02-26T18:12:07.070231Z",
     "start_time": "2023-02-26T18:12:07.038585Z"
    }
   },
   "outputs": [
    {
     "name": "stdout",
     "output_type": "stream",
     "text": [
      "6\n",
      "1\n",
      "21\n",
      "34\n",
      "[1, 2, 3, 3, 4, 21]\n"
     ]
    }
   ],
   "source": [
    "t1 = (1,2,3,4,3,21)\n",
    "\n",
    "print(len(t1))\n",
    "print(min(t1))\n",
    "print(max(t1))\n",
    "print(sum(t1))\n",
    "print(sorted(t1))"
   ]
  },
  {
   "cell_type": "markdown",
   "id": "7b0b3ad1",
   "metadata": {},
   "source": [
    "#### Count"
   ]
  },
  {
   "cell_type": "code",
   "execution_count": 75,
   "id": "c5f0ea16",
   "metadata": {
    "ExecuteTime": {
     "end_time": "2023-02-26T18:12:49.312292Z",
     "start_time": "2023-02-26T18:12:49.287689Z"
    }
   },
   "outputs": [
    {
     "name": "stdout",
     "output_type": "stream",
     "text": [
      "2\n"
     ]
    }
   ],
   "source": [
    "t1 = (1,2,3,4,3,21)\n",
    "print(t1.count(3))"
   ]
  },
  {
   "cell_type": "markdown",
   "id": "301da941",
   "metadata": {},
   "source": [
    "#### Index "
   ]
  },
  {
   "cell_type": "code",
   "execution_count": 77,
   "id": "c36973e6",
   "metadata": {
    "ExecuteTime": {
     "end_time": "2023-02-26T18:13:19.189319Z",
     "start_time": "2023-02-26T18:13:19.172633Z"
    }
   },
   "outputs": [
    {
     "name": "stdout",
     "output_type": "stream",
     "text": [
      "5\n"
     ]
    }
   ],
   "source": [
    "t1 = (1,2,3,4,3,21)\n",
    "print(t1.index(21))"
   ]
  },
  {
   "cell_type": "markdown",
   "id": "bfee1840",
   "metadata": {},
   "source": [
    "### Difference between Lists and Tuples\n",
    "* Syntax : List [ ] ,Tuple()\n",
    "* Mutability : Lists mutable vs Tuple Immutable\n",
    "* Speed : Lists Slower vs Tuples Faster\n",
    "* Memory : Lists Consume more Memory vs Tuples Less\n",
    "* Built in Functionality : Lists have more Functionality vs Tuples less\n",
    "* Error Porne : Lists are error prone vs Tuples "
   ]
  },
  {
   "cell_type": "code",
   "execution_count": 4,
   "id": "67fd3c54",
   "metadata": {
    "ExecuteTime": {
     "end_time": "2023-02-26T18:36:06.821364Z",
     "start_time": "2023-02-26T18:36:06.797372Z"
    }
   },
   "outputs": [
    {
     "name": "stdout",
     "output_type": "stream",
     "text": [
      "Size of List :  136\n",
      "Size of Tuple :  120\n"
     ]
    }
   ],
   "source": [
    "import sys\n",
    "\n",
    "L = list(range(10))\n",
    "t = tuple(range(10))\n",
    "\n",
    "print('Size of List : ',sys.getsizeof(L))\n",
    "print('Size of Tuple : ',sys.getsizeof(t))"
   ]
  },
  {
   "cell_type": "markdown",
   "id": "1c9c363c",
   "metadata": {},
   "source": [
    "### Special Syntax :Tuple Unpacking"
   ]
  },
  {
   "cell_type": "code",
   "execution_count": 6,
   "id": "01b5be15",
   "metadata": {
    "ExecuteTime": {
     "end_time": "2023-02-26T18:40:24.597836Z",
     "start_time": "2023-02-26T18:40:24.582250Z"
    }
   },
   "outputs": [
    {
     "name": "stdout",
     "output_type": "stream",
     "text": [
      "1\n",
      "2\n",
      "3\n"
     ]
    }
   ],
   "source": [
    "a,b,c = (1,2,3)\n",
    "print(a)\n",
    "print(b) \n",
    "print(c)"
   ]
  },
  {
   "cell_type": "code",
   "execution_count": 7,
   "id": "4df63dc6",
   "metadata": {
    "ExecuteTime": {
     "end_time": "2023-02-26T18:41:42.961457Z",
     "start_time": "2023-02-26T18:41:42.937422Z"
    }
   },
   "outputs": [
    {
     "name": "stdout",
     "output_type": "stream",
     "text": [
      "2 1\n"
     ]
    }
   ],
   "source": [
    "## Swapping DIGITS\n",
    "\n",
    "a = 1\n",
    "b = 2\n",
    "\n",
    "a,b = b,a\n",
    "print(a,b)"
   ]
  },
  {
   "cell_type": "code",
   "execution_count": 9,
   "id": "9e5831a9",
   "metadata": {
    "ExecuteTime": {
     "end_time": "2023-02-26T18:42:36.191372Z",
     "start_time": "2023-02-26T18:42:36.166744Z"
    }
   },
   "outputs": [
    {
     "name": "stdout",
     "output_type": "stream",
     "text": [
      "1\n",
      "2\n",
      "[3, 4, 5, 6]\n"
     ]
    }
   ],
   "source": [
    "a,b,*others = (1,2,3,4,5,6)\n",
    "\n",
    "print(a)\n",
    "print(b)\n",
    "print(others)"
   ]
  },
  {
   "cell_type": "markdown",
   "id": "17d8e364",
   "metadata": {},
   "source": [
    "### Zipping Tuples"
   ]
  },
  {
   "cell_type": "code",
   "execution_count": 11,
   "id": "fa4a44af",
   "metadata": {
    "ExecuteTime": {
     "end_time": "2023-02-26T18:43:59.053349Z",
     "start_time": "2023-02-26T18:43:59.028736Z"
    }
   },
   "outputs": [
    {
     "data": {
      "text/plain": [
       "[(1, 5), (2, 6), (3, 7), (4, 8)]"
      ]
     },
     "execution_count": 11,
     "metadata": {},
     "output_type": "execute_result"
    }
   ],
   "source": [
    "t1 = (1,2,3,4)\n",
    "t2 = (5,6,7,8)\n",
    "\n",
    "t3 = zip(t1,t2)\n",
    "list(t3)"
   ]
  },
  {
   "cell_type": "markdown",
   "id": "258f8812",
   "metadata": {},
   "source": [
    "## Sets :\n",
    "A set is an unordered collection of items. Every set element is unique(no duplicates) and must be immutable(Cannot be changed).\n",
    "\n",
    "However, a set itself is mutable. We can add or remove items from it .\n",
    "\n",
    "Set can also be used to perform mathematical set operations like union, intersection, symmetric difference etc.\n",
    "\n",
    "Characteristics:\n",
    "   \n",
    "   - Unordered \n",
    "   - Mutable\n",
    "   - No Duplicates\n",
    "   - Can't contain mutable data types"
   ]
  },
  {
   "cell_type": "markdown",
   "id": "b89910f0",
   "metadata": {
    "ExecuteTime": {
     "end_time": "2023-02-27T07:04:06.926105Z",
     "start_time": "2023-02-27T07:04:06.917087Z"
    }
   },
   "source": [
    "### Creating a Set :"
   ]
  },
  {
   "cell_type": "markdown",
   "id": "bc73bfed",
   "metadata": {},
   "source": [
    "#### Empty Set :"
   ]
  },
  {
   "cell_type": "code",
   "execution_count": 3,
   "id": "21801b2a",
   "metadata": {
    "ExecuteTime": {
     "end_time": "2023-02-27T07:05:05.231970Z",
     "start_time": "2023-02-27T07:05:05.222217Z"
    }
   },
   "outputs": [
    {
     "name": "stdout",
     "output_type": "stream",
     "text": [
      "set() <class 'set'>\n"
     ]
    }
   ],
   "source": [
    "s= set()\n",
    "print(s, type(s))"
   ]
  },
  {
   "cell_type": "markdown",
   "id": "f9bb5b44",
   "metadata": {},
   "source": [
    "#### 1D and 2D Sets :\n",
    "2D sets are not allowed as sets do not allow mutable data type to be present in a set."
   ]
  },
  {
   "cell_type": "code",
   "execution_count": 4,
   "id": "bd5cea49",
   "metadata": {
    "ExecuteTime": {
     "end_time": "2023-02-27T07:05:55.132180Z",
     "start_time": "2023-02-27T07:05:55.121249Z"
    }
   },
   "outputs": [
    {
     "name": "stdout",
     "output_type": "stream",
     "text": [
      "{1, 2, 3, 4}\n"
     ]
    }
   ],
   "source": [
    "s= {1,2,3,4}\n",
    "print(s)"
   ]
  },
  {
   "cell_type": "code",
   "execution_count": 5,
   "id": "60b9d60f",
   "metadata": {
    "ExecuteTime": {
     "end_time": "2023-02-27T07:06:26.370571Z",
     "start_time": "2023-02-27T07:06:26.036690Z"
    }
   },
   "outputs": [
    {
     "ename": "TypeError",
     "evalue": "unhashable type: 'set'",
     "output_type": "error",
     "traceback": [
      "\u001b[1;31m---------------------------------------------------------------------------\u001b[0m",
      "\u001b[1;31mTypeError\u001b[0m                                 Traceback (most recent call last)",
      "\u001b[1;32m~\\AppData\\Local\\Temp\\ipykernel_13040\\3196204541.py\u001b[0m in \u001b[0;36m<cell line: 1>\u001b[1;34m()\u001b[0m\n\u001b[1;32m----> 1\u001b[1;33m \u001b[0ms\u001b[0m \u001b[1;33m=\u001b[0m \u001b[1;33m{\u001b[0m\u001b[1;36m1\u001b[0m\u001b[1;33m,\u001b[0m\u001b[1;36m2\u001b[0m\u001b[1;33m,\u001b[0m\u001b[1;36m3\u001b[0m\u001b[1;33m,\u001b[0m\u001b[1;36m4\u001b[0m\u001b[1;33m,\u001b[0m\u001b[1;33m{\u001b[0m\u001b[1;36m5\u001b[0m\u001b[1;33m,\u001b[0m\u001b[1;36m6\u001b[0m\u001b[1;33m}\u001b[0m\u001b[1;33m}\u001b[0m\u001b[1;33m\u001b[0m\u001b[1;33m\u001b[0m\u001b[0m\n\u001b[0m\u001b[0;32m      2\u001b[0m \u001b[0mprint\u001b[0m\u001b[1;33m(\u001b[0m\u001b[0ms\u001b[0m\u001b[1;33m)\u001b[0m\u001b[1;33m\u001b[0m\u001b[1;33m\u001b[0m\u001b[0m\n",
      "\u001b[1;31mTypeError\u001b[0m: unhashable type: 'set'"
     ]
    }
   ],
   "source": [
    "s = {1,2,3,4,{5,6}}\n",
    "print(s)"
   ]
  },
  {
   "cell_type": "markdown",
   "id": "1b51c7b3",
   "metadata": {},
   "source": [
    "#### Hetrogeneous Sets :"
   ]
  },
  {
   "cell_type": "code",
   "execution_count": 7,
   "id": "1be32141",
   "metadata": {
    "ExecuteTime": {
     "end_time": "2023-02-27T07:09:46.618487Z",
     "start_time": "2023-02-27T07:09:46.602037Z"
    }
   },
   "outputs": [
    {
     "name": "stdout",
     "output_type": "stream",
     "text": [
      "{(5, 6, 7), 1, 4.5, 'hello'}\n"
     ]
    }
   ],
   "source": [
    "s = {1,'hello',4.5,(5,6,7)} ## (5,6,7) did not throw any error because tuples are immutable and set allows insertion of immutable datatypes\n",
    "print(s)"
   ]
  },
  {
   "cell_type": "markdown",
   "id": "62f5dec2",
   "metadata": {},
   "source": [
    "#### Type Conversion :"
   ]
  },
  {
   "cell_type": "code",
   "execution_count": 8,
   "id": "19d0f00b",
   "metadata": {
    "ExecuteTime": {
     "end_time": "2023-02-27T07:10:25.826356Z",
     "start_time": "2023-02-27T07:10:25.806847Z"
    }
   },
   "outputs": [
    {
     "name": "stdout",
     "output_type": "stream",
     "text": [
      "{1, 2, 3, 4}\n"
     ]
    }
   ],
   "source": [
    "s = set([1,2,3,4])\n",
    "print(s)"
   ]
  },
  {
   "cell_type": "markdown",
   "id": "d5e804da",
   "metadata": {
    "ExecuteTime": {
     "end_time": "2023-02-27T07:11:38.407116Z",
     "start_time": "2023-02-27T07:11:38.375522Z"
    }
   },
   "source": [
    "#### Duplicates not allowed :"
   ]
  },
  {
   "cell_type": "code",
   "execution_count": 10,
   "id": "7e2fecd3",
   "metadata": {
    "ExecuteTime": {
     "end_time": "2023-02-27T07:13:02.006711Z",
     "start_time": "2023-02-27T07:13:01.990165Z"
    }
   },
   "outputs": [
    {
     "name": "stdout",
     "output_type": "stream",
     "text": [
      "{1, 2, 3, 4}\n"
     ]
    }
   ],
   "source": [
    "s = {1,2,3,4,1,True} ## True is not printed as python treats true as 1 and 1 is already present.\n",
    "print(s)"
   ]
  },
  {
   "cell_type": "markdown",
   "id": "c957411d",
   "metadata": {},
   "source": [
    "#### Set's cannot have mutable items :"
   ]
  },
  {
   "cell_type": "code",
   "execution_count": 11,
   "id": "c9d7c686",
   "metadata": {
    "ExecuteTime": {
     "end_time": "2023-02-27T07:13:45.116549Z",
     "start_time": "2023-02-27T07:13:45.096177Z"
    }
   },
   "outputs": [
    {
     "ename": "TypeError",
     "evalue": "unhashable type: 'list'",
     "output_type": "error",
     "traceback": [
      "\u001b[1;31m---------------------------------------------------------------------------\u001b[0m",
      "\u001b[1;31mTypeError\u001b[0m                                 Traceback (most recent call last)",
      "\u001b[1;32m~\\AppData\\Local\\Temp\\ipykernel_13040\\1834543863.py\u001b[0m in \u001b[0;36m<cell line: 1>\u001b[1;34m()\u001b[0m\n\u001b[1;32m----> 1\u001b[1;33m \u001b[0ms\u001b[0m \u001b[1;33m=\u001b[0m \u001b[1;33m{\u001b[0m\u001b[1;36m1\u001b[0m\u001b[1;33m,\u001b[0m\u001b[1;36m2\u001b[0m\u001b[1;33m,\u001b[0m\u001b[1;36m3\u001b[0m\u001b[1;33m,\u001b[0m\u001b[1;36m4\u001b[0m\u001b[1;33m,\u001b[0m\u001b[1;33m[\u001b[0m\u001b[1;36m5\u001b[0m\u001b[1;33m,\u001b[0m\u001b[1;36m6\u001b[0m\u001b[1;33m,\u001b[0m\u001b[1;36m7\u001b[0m\u001b[1;33m]\u001b[0m\u001b[1;33m}\u001b[0m\u001b[1;33m\u001b[0m\u001b[1;33m\u001b[0m\u001b[0m\n\u001b[0m\u001b[0;32m      2\u001b[0m \u001b[0mprint\u001b[0m\u001b[1;33m(\u001b[0m\u001b[0ms\u001b[0m\u001b[1;33m)\u001b[0m\u001b[1;33m\u001b[0m\u001b[1;33m\u001b[0m\u001b[0m\n",
      "\u001b[1;31mTypeError\u001b[0m: unhashable type: 'list'"
     ]
    }
   ],
   "source": [
    "s = {1,2,3,4,[5,6,7]}\n",
    "print(s)"
   ]
  },
  {
   "cell_type": "markdown",
   "id": "deaa67cc",
   "metadata": {},
   "source": [
    "#### Sets are unordered :"
   ]
  },
  {
   "cell_type": "code",
   "execution_count": 12,
   "id": "bcc89467",
   "metadata": {
    "ExecuteTime": {
     "end_time": "2023-02-27T07:14:56.603315Z",
     "start_time": "2023-02-27T07:14:56.587605Z"
    }
   },
   "outputs": [
    {
     "data": {
      "text/plain": [
       "True"
      ]
     },
     "execution_count": 12,
     "metadata": {},
     "output_type": "execute_result"
    }
   ],
   "source": [
    "s1 = {1,2,3}\n",
    "s2 = {3,2,1}\n",
    "\n",
    "s1==s2"
   ]
  },
  {
   "cell_type": "markdown",
   "id": "4ad62c0e",
   "metadata": {},
   "source": [
    "### Accessing Items : Slicing and Indexing both cannot be done as sets are unordered."
   ]
  },
  {
   "cell_type": "code",
   "execution_count": 14,
   "id": "cc1a540d",
   "metadata": {
    "ExecuteTime": {
     "end_time": "2023-02-27T07:17:38.459899Z",
     "start_time": "2023-02-27T07:17:38.433463Z"
    }
   },
   "outputs": [
    {
     "ename": "TypeError",
     "evalue": "'set' object is not subscriptable",
     "output_type": "error",
     "traceback": [
      "\u001b[1;31m---------------------------------------------------------------------------\u001b[0m",
      "\u001b[1;31mTypeError\u001b[0m                                 Traceback (most recent call last)",
      "\u001b[1;32m~\\AppData\\Local\\Temp\\ipykernel_13040\\1235465609.py\u001b[0m in \u001b[0;36m<cell line: 2>\u001b[1;34m()\u001b[0m\n\u001b[0;32m      1\u001b[0m \u001b[0ms1\u001b[0m \u001b[1;33m=\u001b[0m \u001b[1;33m{\u001b[0m\u001b[1;36m1\u001b[0m\u001b[1;33m,\u001b[0m\u001b[1;36m2\u001b[0m\u001b[1;33m,\u001b[0m\u001b[1;36m3\u001b[0m\u001b[1;33m}\u001b[0m\u001b[1;33m\u001b[0m\u001b[1;33m\u001b[0m\u001b[0m\n\u001b[1;32m----> 2\u001b[1;33m \u001b[0ms\u001b[0m\u001b[1;33m[\u001b[0m\u001b[1;36m1\u001b[0m\u001b[1;33m:\u001b[0m\u001b[1;36m3\u001b[0m\u001b[1;33m]\u001b[0m\u001b[1;33m\u001b[0m\u001b[1;33m\u001b[0m\u001b[0m\n\u001b[0m",
      "\u001b[1;31mTypeError\u001b[0m: 'set' object is not subscriptable"
     ]
    }
   ],
   "source": [
    "s1 = {1,2,3}\n",
    "s[1:3]"
   ]
  },
  {
   "cell_type": "markdown",
   "id": "95b57931",
   "metadata": {},
   "source": [
    "### Editing Items : Not allowed as sets are unordered "
   ]
  },
  {
   "cell_type": "code",
   "execution_count": 15,
   "id": "6a79085e",
   "metadata": {
    "ExecuteTime": {
     "end_time": "2023-02-27T07:18:54.404573Z",
     "start_time": "2023-02-27T07:18:54.377672Z"
    }
   },
   "outputs": [
    {
     "ename": "TypeError",
     "evalue": "'set' object does not support item assignment",
     "output_type": "error",
     "traceback": [
      "\u001b[1;31m---------------------------------------------------------------------------\u001b[0m",
      "\u001b[1;31mTypeError\u001b[0m                                 Traceback (most recent call last)",
      "\u001b[1;32m~\\AppData\\Local\\Temp\\ipykernel_13040\\1737341076.py\u001b[0m in \u001b[0;36m<cell line: 2>\u001b[1;34m()\u001b[0m\n\u001b[0;32m      1\u001b[0m \u001b[0ms1\u001b[0m \u001b[1;33m=\u001b[0m \u001b[1;33m{\u001b[0m\u001b[1;36m1\u001b[0m\u001b[1;33m,\u001b[0m\u001b[1;36m2\u001b[0m\u001b[1;33m,\u001b[0m\u001b[1;36m3\u001b[0m\u001b[1;33m}\u001b[0m\u001b[1;33m\u001b[0m\u001b[1;33m\u001b[0m\u001b[0m\n\u001b[1;32m----> 2\u001b[1;33m \u001b[0ms1\u001b[0m\u001b[1;33m[\u001b[0m\u001b[1;36m2\u001b[0m\u001b[1;33m]\u001b[0m \u001b[1;33m=\u001b[0m \u001b[1;36m100\u001b[0m\u001b[1;33m\u001b[0m\u001b[1;33m\u001b[0m\u001b[0m\n\u001b[0m\u001b[0;32m      3\u001b[0m \u001b[0ms1\u001b[0m\u001b[1;33m\u001b[0m\u001b[1;33m\u001b[0m\u001b[0m\n",
      "\u001b[1;31mTypeError\u001b[0m: 'set' object does not support item assignment"
     ]
    }
   ],
   "source": [
    "s1 = {1,2,3}\n",
    "s1[2] = 100\n",
    "s1"
   ]
  },
  {
   "cell_type": "markdown",
   "id": "f3dd2a02",
   "metadata": {},
   "source": [
    "#### Adding Items"
   ]
  },
  {
   "cell_type": "code",
   "execution_count": 16,
   "id": "3afa2377",
   "metadata": {
    "ExecuteTime": {
     "end_time": "2023-02-27T07:19:58.120745Z",
     "start_time": "2023-02-27T07:19:58.088818Z"
    }
   },
   "outputs": [
    {
     "data": {
      "text/plain": [
       "{1, 2, 3, 22}"
      ]
     },
     "execution_count": 16,
     "metadata": {},
     "output_type": "execute_result"
    }
   ],
   "source": [
    "s1 = {1,2,3}\n",
    "s1.add(22)\n",
    "s1"
   ]
  },
  {
   "cell_type": "markdown",
   "id": "a1616a9d",
   "metadata": {},
   "source": [
    "##### Adding Multiple items :"
   ]
  },
  {
   "cell_type": "code",
   "execution_count": 19,
   "id": "9f19876f",
   "metadata": {
    "ExecuteTime": {
     "end_time": "2023-02-27T07:23:44.290985Z",
     "start_time": "2023-02-27T07:23:44.265950Z"
    }
   },
   "outputs": [
    {
     "data": {
      "text/plain": [
       "{1, 2, 22, 3, 4, 4.5, 6, 7, 8, 'Jack'}"
      ]
     },
     "execution_count": 19,
     "metadata": {},
     "output_type": "execute_result"
    }
   ],
   "source": [
    "s1 = {1,2,3}\n",
    "s1.update([4,22,4.5,'Jack',6,8,7])\n",
    "s1"
   ]
  },
  {
   "cell_type": "markdown",
   "id": "a456f23a",
   "metadata": {},
   "source": [
    "#### Deleting Items "
   ]
  },
  {
   "cell_type": "markdown",
   "id": "e8f5d849",
   "metadata": {},
   "source": [
    "##### Del"
   ]
  },
  {
   "cell_type": "code",
   "execution_count": 20,
   "id": "0ca3ad80",
   "metadata": {
    "ExecuteTime": {
     "end_time": "2023-02-27T07:25:09.592810Z",
     "start_time": "2023-02-27T07:25:09.552822Z"
    }
   },
   "outputs": [
    {
     "ename": "NameError",
     "evalue": "name 's' is not defined",
     "output_type": "error",
     "traceback": [
      "\u001b[1;31m---------------------------------------------------------------------------\u001b[0m",
      "\u001b[1;31mNameError\u001b[0m                                 Traceback (most recent call last)",
      "\u001b[1;32m~\\AppData\\Local\\Temp\\ipykernel_13040\\2091313937.py\u001b[0m in \u001b[0;36m<cell line: 3>\u001b[1;34m()\u001b[0m\n\u001b[0;32m      1\u001b[0m \u001b[0ms\u001b[0m \u001b[1;33m=\u001b[0m \u001b[1;33m{\u001b[0m\u001b[1;36m1\u001b[0m\u001b[1;33m,\u001b[0m\u001b[1;36m2\u001b[0m\u001b[1;33m,\u001b[0m\u001b[1;36m3\u001b[0m\u001b[1;33m}\u001b[0m\u001b[1;33m\u001b[0m\u001b[1;33m\u001b[0m\u001b[0m\n\u001b[0;32m      2\u001b[0m \u001b[1;32mdel\u001b[0m \u001b[0ms\u001b[0m\u001b[1;33m\u001b[0m\u001b[1;33m\u001b[0m\u001b[0m\n\u001b[1;32m----> 3\u001b[1;33m \u001b[0ms\u001b[0m\u001b[1;33m\u001b[0m\u001b[1;33m\u001b[0m\u001b[0m\n\u001b[0m",
      "\u001b[1;31mNameError\u001b[0m: name 's' is not defined"
     ]
    }
   ],
   "source": [
    "s = {1,2,3}\n",
    "del s\n",
    "s"
   ]
  },
  {
   "cell_type": "markdown",
   "id": "d148ac54",
   "metadata": {},
   "source": [
    "##### Discard : if item is not available for deletion it'd not throw an error"
   ]
  },
  {
   "cell_type": "code",
   "execution_count": 21,
   "id": "7c514a8f",
   "metadata": {
    "ExecuteTime": {
     "end_time": "2023-02-27T07:26:37.433643Z",
     "start_time": "2023-02-27T07:26:37.401750Z"
    }
   },
   "outputs": [
    {
     "data": {
      "text/plain": [
       "{1, 2}"
      ]
     },
     "execution_count": 21,
     "metadata": {},
     "output_type": "execute_result"
    }
   ],
   "source": [
    "s1 = {1,2,3}\n",
    "s1.discard(3)\n",
    "s1"
   ]
  },
  {
   "cell_type": "markdown",
   "id": "64190eed",
   "metadata": {},
   "source": [
    "##### Remove : If item is not available for deletion, Remove will throw an Error"
   ]
  },
  {
   "cell_type": "code",
   "execution_count": 22,
   "id": "498420b0",
   "metadata": {
    "ExecuteTime": {
     "end_time": "2023-02-27T07:27:27.935253Z",
     "start_time": "2023-02-27T07:27:27.903294Z"
    }
   },
   "outputs": [
    {
     "data": {
      "text/plain": [
       "{1, 3}"
      ]
     },
     "execution_count": 22,
     "metadata": {},
     "output_type": "execute_result"
    }
   ],
   "source": [
    "s1 = {1,2,3}\n",
    "s1.remove(2)\n",
    "s1"
   ]
  },
  {
   "cell_type": "markdown",
   "id": "46190136",
   "metadata": {},
   "source": [
    "##### Pop : We have no control on which item would be deleted. It'd randomly delete 1 item"
   ]
  },
  {
   "cell_type": "code",
   "execution_count": 23,
   "id": "a923675d",
   "metadata": {
    "ExecuteTime": {
     "end_time": "2023-02-27T07:31:41.259808Z",
     "start_time": "2023-02-27T07:31:41.227326Z"
    }
   },
   "outputs": [
    {
     "data": {
      "text/plain": [
       "1"
      ]
     },
     "execution_count": 23,
     "metadata": {},
     "output_type": "execute_result"
    }
   ],
   "source": [
    "s1 = {1,2,3}\n",
    "s1.pop()"
   ]
  },
  {
   "cell_type": "markdown",
   "id": "9f3f8983",
   "metadata": {},
   "source": [
    "##### Clear"
   ]
  },
  {
   "cell_type": "code",
   "execution_count": 24,
   "id": "3c249251",
   "metadata": {
    "ExecuteTime": {
     "end_time": "2023-02-27T07:31:57.208094Z",
     "start_time": "2023-02-27T07:31:57.183436Z"
    }
   },
   "outputs": [
    {
     "data": {
      "text/plain": [
       "set()"
      ]
     },
     "execution_count": 24,
     "metadata": {},
     "output_type": "execute_result"
    }
   ],
   "source": [
    "s1 = {1,2,3}\n",
    "s1.clear()\n",
    "s1"
   ]
  },
  {
   "cell_type": "markdown",
   "id": "fbacf17f",
   "metadata": {},
   "source": [
    "### Set Operations :"
   ]
  },
  {
   "cell_type": "markdown",
   "id": "cb017e6c",
   "metadata": {},
   "source": [
    "#### Union (|) : Prints unique items from 2 sets "
   ]
  },
  {
   "cell_type": "code",
   "execution_count": 27,
   "id": "0ab2bada",
   "metadata": {
    "ExecuteTime": {
     "end_time": "2023-02-27T07:43:37.669996Z",
     "start_time": "2023-02-27T07:43:37.645968Z"
    }
   },
   "outputs": [
    {
     "data": {
      "text/plain": [
       "{1, 2, 3, 4, 5, 6, 7, 8}"
      ]
     },
     "execution_count": 27,
     "metadata": {},
     "output_type": "execute_result"
    }
   ],
   "source": [
    "s1 = {1,2,3,4,5}\n",
    "s2 = {4,5,6,7,8}\n",
    "\n",
    "s1|s2"
   ]
  },
  {
   "cell_type": "markdown",
   "id": "e94d4821",
   "metadata": {},
   "source": [
    "#### Intersection (&) : Prints matching items from 2 sets"
   ]
  },
  {
   "cell_type": "code",
   "execution_count": 28,
   "id": "d817b12d",
   "metadata": {
    "ExecuteTime": {
     "end_time": "2023-02-27T07:43:39.705544Z",
     "start_time": "2023-02-27T07:43:39.680832Z"
    }
   },
   "outputs": [
    {
     "data": {
      "text/plain": [
       "{4, 5}"
      ]
     },
     "execution_count": 28,
     "metadata": {},
     "output_type": "execute_result"
    }
   ],
   "source": [
    "s1 = {1,2,3,4,5}\n",
    "s2 = {4,5,6,7,8}\n",
    "\n",
    "s1 & s2"
   ]
  },
  {
   "cell_type": "markdown",
   "id": "d1ba3447",
   "metadata": {
    "ExecuteTime": {
     "end_time": "2023-02-27T07:43:41.237722Z",
     "start_time": "2023-02-27T07:43:41.222349Z"
    }
   },
   "source": [
    "#### Difference (-):"
   ]
  },
  {
   "cell_type": "code",
   "execution_count": 31,
   "id": "1691255c",
   "metadata": {
    "ExecuteTime": {
     "end_time": "2023-02-27T07:45:53.103879Z",
     "start_time": "2023-02-27T07:45:53.080117Z"
    }
   },
   "outputs": [
    {
     "name": "stdout",
     "output_type": "stream",
     "text": [
      "{1, 2, 3}\n",
      "{8, 6, 7}\n"
     ]
    }
   ],
   "source": [
    "s1 = {1,2,3,4,5}\n",
    "s2 = {4,5,6,7,8}\n",
    "\n",
    "print(s1 - s2) ## Items from s1 that are not present in s2\n",
    "print(s2 - s1) ## Items of s2 that are not present in s1"
   ]
  },
  {
   "cell_type": "markdown",
   "id": "5d1d8ed4",
   "metadata": {},
   "source": [
    "#### Symmetric Difference (^): Prints all the items from 2 sets except the common items"
   ]
  },
  {
   "cell_type": "code",
   "execution_count": 32,
   "id": "5c976cad",
   "metadata": {
    "ExecuteTime": {
     "end_time": "2023-02-27T07:47:20.462396Z",
     "start_time": "2023-02-27T07:47:20.430030Z"
    }
   },
   "outputs": [
    {
     "data": {
      "text/plain": [
       "{1, 2, 3, 6, 7, 8}"
      ]
     },
     "execution_count": 32,
     "metadata": {},
     "output_type": "execute_result"
    }
   ],
   "source": [
    "s1 = {1,2,3,4,5}\n",
    "s2 = {4,5,6,7,8}\n",
    "\n",
    "s1^s2"
   ]
  },
  {
   "cell_type": "markdown",
   "id": "adefc01e",
   "metadata": {},
   "source": [
    "#### Membership : in/not in"
   ]
  },
  {
   "cell_type": "code",
   "execution_count": 34,
   "id": "3a820bb0",
   "metadata": {
    "ExecuteTime": {
     "end_time": "2023-02-27T07:49:21.027428Z",
     "start_time": "2023-02-27T07:49:21.002617Z"
    }
   },
   "outputs": [
    {
     "data": {
      "text/plain": [
       "True"
      ]
     },
     "execution_count": 34,
     "metadata": {},
     "output_type": "execute_result"
    }
   ],
   "source": [
    "s1 = {1,2,3,4,5}\n",
    "5 in s1"
   ]
  },
  {
   "cell_type": "code",
   "execution_count": 35,
   "id": "53a41fb3",
   "metadata": {
    "ExecuteTime": {
     "end_time": "2023-02-27T07:49:40.859192Z",
     "start_time": "2023-02-27T07:49:40.836038Z"
    }
   },
   "outputs": [
    {
     "data": {
      "text/plain": [
       "True"
      ]
     },
     "execution_count": 35,
     "metadata": {},
     "output_type": "execute_result"
    }
   ],
   "source": [
    "s1 = {1,2,3,4,5}\n",
    "7 not in s1"
   ]
  },
  {
   "cell_type": "markdown",
   "id": "c3b1f59e",
   "metadata": {},
   "source": [
    "#### Loops/iterations"
   ]
  },
  {
   "cell_type": "code",
   "execution_count": 36,
   "id": "1eafa4d2",
   "metadata": {
    "ExecuteTime": {
     "end_time": "2023-02-27T07:50:11.674484Z",
     "start_time": "2023-02-27T07:50:11.649867Z"
    }
   },
   "outputs": [
    {
     "name": "stdout",
     "output_type": "stream",
     "text": [
      "1\n",
      "2\n",
      "3\n",
      "4\n",
      "5\n"
     ]
    }
   ],
   "source": [
    "s1 = {1,2,3,4,5}\n",
    "for i in s1:\n",
    "    print(i)"
   ]
  },
  {
   "cell_type": "markdown",
   "id": "03599647",
   "metadata": {},
   "source": [
    "### Set Functions :"
   ]
  },
  {
   "cell_type": "markdown",
   "id": "289dbdb5",
   "metadata": {},
   "source": [
    "#### len/min/max/sum/sorted"
   ]
  },
  {
   "cell_type": "code",
   "execution_count": 37,
   "id": "2167dbe1",
   "metadata": {
    "ExecuteTime": {
     "end_time": "2023-02-27T07:51:57.954762Z",
     "start_time": "2023-02-27T07:51:57.932151Z"
    }
   },
   "outputs": [
    {
     "name": "stdout",
     "output_type": "stream",
     "text": [
      "5\n",
      "1\n",
      "5\n",
      "15\n",
      "[1, 2, 3, 4, 5]\n"
     ]
    }
   ],
   "source": [
    "s1 = {1,2,3,4,5}\n",
    "print(len(s1))\n",
    "print(min(s1))\n",
    "print(max(s1))\n",
    "print(sum(s1))\n",
    "print(sorted(s1))"
   ]
  },
  {
   "cell_type": "markdown",
   "id": "a49552d5",
   "metadata": {},
   "source": [
    "#### union/update"
   ]
  },
  {
   "cell_type": "code",
   "execution_count": 39,
   "id": "81ac3a41",
   "metadata": {
    "ExecuteTime": {
     "end_time": "2023-02-27T07:55:36.132938Z",
     "start_time": "2023-02-27T07:55:36.108522Z"
    }
   },
   "outputs": [
    {
     "data": {
      "text/plain": [
       "{1, 2, 3, 4, 5, 6, 7, 8}"
      ]
     },
     "execution_count": 39,
     "metadata": {},
     "output_type": "execute_result"
    }
   ],
   "source": [
    "# S1 | s2\n",
    "\n",
    "s1 = {1,2,3,4,5}\n",
    "s2 = {4,5,6,7,8}\n",
    "\n",
    "s1.union(s2)"
   ]
  },
  {
   "cell_type": "code",
   "execution_count": 40,
   "id": "9fd7dea8",
   "metadata": {
    "ExecuteTime": {
     "end_time": "2023-02-27T07:56:56.934648Z",
     "start_time": "2023-02-27T07:56:56.918637Z"
    }
   },
   "outputs": [
    {
     "name": "stdout",
     "output_type": "stream",
     "text": [
      "{1, 2, 3, 4, 5, 6, 7, 8}\n",
      "{4, 5, 6, 7, 8}\n"
     ]
    }
   ],
   "source": [
    "s1 = {1,2,3,4,5}\n",
    "s2 = {4,5,6,7,8}\n",
    "s1.update(s2)\n",
    "\n",
    "print(s1) ## Union on s1 but s2 remains the same\n",
    "print(s2)"
   ]
  },
  {
   "cell_type": "markdown",
   "id": "bea5f692",
   "metadata": {},
   "source": [
    "#### intersection/intersection_update"
   ]
  },
  {
   "cell_type": "code",
   "execution_count": 41,
   "id": "b4eb4ed8",
   "metadata": {
    "ExecuteTime": {
     "end_time": "2023-02-27T07:59:02.799493Z",
     "start_time": "2023-02-27T07:59:02.767864Z"
    }
   },
   "outputs": [
    {
     "data": {
      "text/plain": [
       "{4, 5}"
      ]
     },
     "execution_count": 41,
     "metadata": {},
     "output_type": "execute_result"
    }
   ],
   "source": [
    "## s1 & s2\n",
    "\n",
    "s1 = {1,2,3,4,5}\n",
    "s2 = {4,5,6,7,8}\n",
    "\n",
    "s1.intersection(s2)"
   ]
  },
  {
   "cell_type": "code",
   "execution_count": 44,
   "id": "c799bfe9",
   "metadata": {
    "ExecuteTime": {
     "end_time": "2023-02-27T08:00:26.631376Z",
     "start_time": "2023-02-27T08:00:26.608206Z"
    }
   },
   "outputs": [
    {
     "name": "stdout",
     "output_type": "stream",
     "text": [
      "{4, 5}\n",
      "{4, 5, 6, 7, 8}\n"
     ]
    }
   ],
   "source": [
    "s1 = {1,2,3,4,5}\n",
    "s2 = {4,5,6,7,8}\n",
    "\n",
    "s1.intersection_update(s2)\n",
    "print(s1) ## Returns similar items of s1 and s2 in s1\n",
    "print(s2) ## No changes made to s2"
   ]
  },
  {
   "cell_type": "markdown",
   "id": "0d1266e2",
   "metadata": {},
   "source": [
    "#### Difference  / Difference_update"
   ]
  },
  {
   "cell_type": "code",
   "execution_count": 46,
   "id": "6864e79e",
   "metadata": {
    "ExecuteTime": {
     "end_time": "2023-02-27T09:13:00.272848Z",
     "start_time": "2023-02-27T09:13:00.240140Z"
    }
   },
   "outputs": [
    {
     "data": {
      "text/plain": [
       "{1, 2, 3}"
      ]
     },
     "execution_count": 46,
     "metadata": {},
     "output_type": "execute_result"
    }
   ],
   "source": [
    "## s1 - s2\n",
    "\n",
    "s1 = {1,2,3,4,5}\n",
    "s2 = {4,5,6,7,8}\n",
    "\n",
    "s1.difference(s2)"
   ]
  },
  {
   "cell_type": "code",
   "execution_count": 48,
   "id": "a5ca257a",
   "metadata": {
    "ExecuteTime": {
     "end_time": "2023-02-27T09:13:39.016977Z",
     "start_time": "2023-02-27T09:13:39.001746Z"
    }
   },
   "outputs": [
    {
     "name": "stdout",
     "output_type": "stream",
     "text": [
      "{1, 2, 3}\n",
      "{4, 5, 6, 7, 8}\n"
     ]
    }
   ],
   "source": [
    "## s1 - s2\n",
    "\n",
    "s1 = {1,2,3,4,5}\n",
    "s2 = {4,5,6,7,8}\n",
    "\n",
    "s1.difference_update(s2)\n",
    "print(s1)\n",
    "print(s2)"
   ]
  },
  {
   "cell_type": "markdown",
   "id": "5659bf06",
   "metadata": {},
   "source": [
    "#### Symmetric_Difference / Symmetric_Difference_Update :"
   ]
  },
  {
   "cell_type": "code",
   "execution_count": 49,
   "id": "1f2d4312",
   "metadata": {
    "ExecuteTime": {
     "end_time": "2023-02-27T09:15:27.407527Z",
     "start_time": "2023-02-27T09:15:27.376129Z"
    }
   },
   "outputs": [
    {
     "data": {
      "text/plain": [
       "{1, 2, 3, 6, 7, 8}"
      ]
     },
     "execution_count": 49,
     "metadata": {},
     "output_type": "execute_result"
    }
   ],
   "source": [
    "## s1 ^ s2\n",
    "\n",
    "s1 = {1,2,3,4,5}\n",
    "s2 = {4,5,6,7,8}\n",
    "\n",
    "s1.symmetric_difference(s2)"
   ]
  },
  {
   "cell_type": "code",
   "execution_count": 52,
   "id": "da54feef",
   "metadata": {
    "ExecuteTime": {
     "end_time": "2023-02-27T09:16:46.666424Z",
     "start_time": "2023-02-27T09:16:46.642447Z"
    }
   },
   "outputs": [
    {
     "name": "stdout",
     "output_type": "stream",
     "text": [
      "{1, 2, 3, 6, 7, 8}\n",
      "{4, 5, 6, 7, 8}\n"
     ]
    }
   ],
   "source": [
    "## s1 - s2\n",
    "\n",
    "s1 = {1,2,3,4,5}\n",
    "s2 = {4,5,6,7,8}\n",
    "\n",
    "s1.symmetric_difference_update(s2)\n",
    "print(s1)\n",
    "print(s2)"
   ]
  },
  {
   "cell_type": "markdown",
   "id": "bf4b901a",
   "metadata": {},
   "source": [
    "#### isdisjoint/issubset/issuperset"
   ]
  },
  {
   "cell_type": "markdown",
   "id": "7f584803",
   "metadata": {},
   "source": [
    "##### isdisjoint : returns True if the 2 sets do not have any values in common"
   ]
  },
  {
   "cell_type": "code",
   "execution_count": 53,
   "id": "2de6024a",
   "metadata": {
    "ExecuteTime": {
     "end_time": "2023-02-27T09:20:24.678007Z",
     "start_time": "2023-02-27T09:20:24.645806Z"
    }
   },
   "outputs": [
    {
     "data": {
      "text/plain": [
       "False"
      ]
     },
     "execution_count": 53,
     "metadata": {},
     "output_type": "execute_result"
    }
   ],
   "source": [
    "s1 = {1,2,3,4,5}\n",
    "s2 = {4,5,6,7,8}\n",
    "\n",
    "s1.isdisjoint(s2)"
   ]
  },
  {
   "cell_type": "code",
   "execution_count": 54,
   "id": "03b07431",
   "metadata": {
    "ExecuteTime": {
     "end_time": "2023-02-27T09:20:51.607217Z",
     "start_time": "2023-02-27T09:20:51.574781Z"
    }
   },
   "outputs": [
    {
     "data": {
      "text/plain": [
       "True"
      ]
     },
     "execution_count": 54,
     "metadata": {},
     "output_type": "execute_result"
    }
   ],
   "source": [
    "s1 = {1,2,3,4,5}\n",
    "s2 = {6,7,8,9,10}\n",
    "\n",
    "s1.isdisjoint(s2)"
   ]
  },
  {
   "cell_type": "markdown",
   "id": "a9e13bab",
   "metadata": {},
   "source": [
    "##### issubset"
   ]
  },
  {
   "cell_type": "code",
   "execution_count": 55,
   "id": "5772e420",
   "metadata": {
    "ExecuteTime": {
     "end_time": "2023-02-27T09:21:59.034666Z",
     "start_time": "2023-02-27T09:21:59.018643Z"
    }
   },
   "outputs": [
    {
     "data": {
      "text/plain": [
       "True"
      ]
     },
     "execution_count": 55,
     "metadata": {},
     "output_type": "execute_result"
    }
   ],
   "source": [
    "s1 = {1,2,3,4,5}\n",
    "s2 = {3,4,5}\n",
    "\n",
    "s2.issubset(s1)"
   ]
  },
  {
   "cell_type": "markdown",
   "id": "902a8b40",
   "metadata": {},
   "source": [
    "##### issuperset"
   ]
  },
  {
   "cell_type": "code",
   "execution_count": 56,
   "id": "dda1aae4",
   "metadata": {
    "ExecuteTime": {
     "end_time": "2023-02-27T09:22:49.340735Z",
     "start_time": "2023-02-27T09:22:49.324425Z"
    }
   },
   "outputs": [
    {
     "data": {
      "text/plain": [
       "True"
      ]
     },
     "execution_count": 56,
     "metadata": {},
     "output_type": "execute_result"
    }
   ],
   "source": [
    "s1 = {1,2,3,4,5}\n",
    "s2 = {3,4,5}\n",
    "\n",
    "s1.issuperset(s2)"
   ]
  },
  {
   "cell_type": "markdown",
   "id": "3431492e",
   "metadata": {},
   "source": [
    "#### Copy :"
   ]
  },
  {
   "cell_type": "code",
   "execution_count": 57,
   "id": "8f7f1c5d",
   "metadata": {
    "ExecuteTime": {
     "end_time": "2023-02-27T09:24:07.620274Z",
     "start_time": "2023-02-27T09:24:07.606548Z"
    }
   },
   "outputs": [
    {
     "name": "stdout",
     "output_type": "stream",
     "text": [
      "{1, 2, 3, 4, 5} 1323951289728\n",
      "{1, 2, 3, 4, 5} 1323951135424\n"
     ]
    }
   ],
   "source": [
    "s1 = {1,2,3,4,5}\n",
    "\n",
    "s2 = s1.copy()\n",
    "\n",
    "print(s1,id(s1))\n",
    "print(s2,id(s2))"
   ]
  },
  {
   "cell_type": "markdown",
   "id": "673a7f32",
   "metadata": {},
   "source": [
    "### Frozenset :\n",
    "Frozen set is an immutable version of a python set object."
   ]
  },
  {
   "cell_type": "markdown",
   "id": "cd8e637b",
   "metadata": {},
   "source": [
    "#### Create frozen set :"
   ]
  },
  {
   "cell_type": "code",
   "execution_count": 58,
   "id": "b4d63358",
   "metadata": {
    "ExecuteTime": {
     "end_time": "2023-02-27T09:29:10.272984Z",
     "start_time": "2023-02-27T09:29:10.248605Z"
    }
   },
   "outputs": [
    {
     "data": {
      "text/plain": [
       "frozenset({1, 2, 3})"
      ]
     },
     "execution_count": 58,
     "metadata": {},
     "output_type": "execute_result"
    }
   ],
   "source": [
    "fs = frozenset([1,2,3])\n",
    "fs"
   ]
  },
  {
   "cell_type": "markdown",
   "id": "3c2aabea",
   "metadata": {},
   "source": [
    "#### What operations work on frozen sets and what does not :\n",
    "\n",
    "##### Works :\n",
    "* All read functions (len/min/max/sum/sorted/union/intersection/difference/symmetric_differrence/ isdisjoint/issubset/issuperset)\n",
    "\n",
    "#### Doesnot work :\n",
    "* All write operation (Adding items, deleting items)"
   ]
  },
  {
   "cell_type": "markdown",
   "id": "147b656d",
   "metadata": {},
   "source": [
    "### Set comprehension is allowed :"
   ]
  },
  {
   "cell_type": "code",
   "execution_count": 61,
   "id": "a313a40a",
   "metadata": {
    "ExecuteTime": {
     "end_time": "2023-02-27T09:36:38.200155Z",
     "start_time": "2023-02-27T09:36:38.168112Z"
    }
   },
   "outputs": [
    {
     "data": {
      "text/plain": [
       "{1, 2, 3, 4, 5, 6, 7, 8, 9, 10}"
      ]
     },
     "execution_count": 61,
     "metadata": {},
     "output_type": "execute_result"
    }
   ],
   "source": [
    "{i for i in range(1,11) }"
   ]
  },
  {
   "cell_type": "markdown",
   "id": "f3526533",
   "metadata": {},
   "source": [
    "## Dictionaries :\n",
    "Dictionary in python is a collection of keys values, used to store data values like a map, which, unlike other data types which hold only a single value as an element.\n",
    "\n",
    "In some languages it is known as map or assosiative array\n",
    "\n",
    "dict : {'name':'prateek', 'age':33,'gender'='male'}\n",
    "\n",
    "**Characteristics**\n",
    "* Mutable.\n",
    "* indexing has no meaning.\n",
    "* key's cannot be duplicated.\n",
    "* key's cannot be mutable items."
   ]
  },
  {
   "cell_type": "markdown",
   "id": "67190a28",
   "metadata": {},
   "source": [
    "### Creating Dictionary :"
   ]
  },
  {
   "cell_type": "markdown",
   "id": "0af689a3",
   "metadata": {},
   "source": [
    "#### Empty Dictionary :"
   ]
  },
  {
   "cell_type": "code",
   "execution_count": 2,
   "id": "73522699",
   "metadata": {
    "ExecuteTime": {
     "end_time": "2023-02-27T13:06:14.456342Z",
     "start_time": "2023-02-27T13:06:14.440336Z"
    }
   },
   "outputs": [
    {
     "name": "stdout",
     "output_type": "stream",
     "text": [
      "{} <class 'dict'>\n"
     ]
    }
   ],
   "source": [
    "d = {}\n",
    "print(d,type(d))"
   ]
  },
  {
   "cell_type": "code",
   "execution_count": 4,
   "id": "6d07077c",
   "metadata": {
    "ExecuteTime": {
     "end_time": "2023-02-27T13:11:31.129594Z",
     "start_time": "2023-02-27T13:11:31.113570Z"
    }
   },
   "outputs": [],
   "source": [
    "#### 1D Dictionary :"
   ]
  },
  {
   "cell_type": "code",
   "execution_count": 5,
   "id": "057f44ac",
   "metadata": {
    "ExecuteTime": {
     "end_time": "2023-02-27T13:11:39.455009Z",
     "start_time": "2023-02-27T13:11:39.431015Z"
    }
   },
   "outputs": [
    {
     "data": {
      "text/plain": [
       "{'name': 'prateek', 'gender': 'male'}"
      ]
     },
     "execution_count": 5,
     "metadata": {},
     "output_type": "execute_result"
    }
   ],
   "source": [
    "d =  {'name':'prateek','gender':'male'}\n",
    "d"
   ]
  },
  {
   "cell_type": "markdown",
   "id": "7675be3b",
   "metadata": {},
   "source": [
    "#### with mixed keys :"
   ]
  },
  {
   "cell_type": "code",
   "execution_count": 6,
   "id": "00f22111",
   "metadata": {
    "ExecuteTime": {
     "end_time": "2023-02-27T13:12:52.919231Z",
     "start_time": "2023-02-27T13:12:52.895059Z"
    }
   },
   "outputs": [
    {
     "data": {
      "text/plain": [
       "{(1, 2, 3): 1, 'hello': 'world'}"
      ]
     },
     "execution_count": 6,
     "metadata": {},
     "output_type": "execute_result"
    }
   ],
   "source": [
    "d = {(1,2,3):1,'hello':'world'} ## Alled as tuple is an immutable data type\n",
    "d"
   ]
  },
  {
   "cell_type": "markdown",
   "id": "466e15bb",
   "metadata": {},
   "source": [
    "#### 2D dictionary :"
   ]
  },
  {
   "cell_type": "code",
   "execution_count": 8,
   "id": "0c936524",
   "metadata": {
    "ExecuteTime": {
     "end_time": "2023-02-27T13:16:35.299717Z",
     "start_time": "2023-02-27T13:16:35.267733Z"
    }
   },
   "outputs": [
    {
     "data": {
      "text/plain": [
       "{'name': 'Prateek',\n",
       " 'college': 'vtu',\n",
       " 'sem': 4,\n",
       " 'subjects': {'dsa': 50, 'maths': 60, 'english': 89}}"
      ]
     },
     "execution_count": 8,
     "metadata": {},
     "output_type": "execute_result"
    }
   ],
   "source": [
    "d = {\n",
    "    'name':'Prateek',\n",
    "    'college':'vtu',\n",
    "    'sem':4,\n",
    "    'subjects':{\n",
    "        'dsa':50,\n",
    "        'maths':60,\n",
    "        'english':89\n",
    "        }\n",
    "    }\n",
    "d"
   ]
  },
  {
   "cell_type": "markdown",
   "id": "85ec7d0e",
   "metadata": {},
   "source": [
    "#### Using sequence and dictionary function:"
   ]
  },
  {
   "cell_type": "code",
   "execution_count": 13,
   "id": "c11163a6",
   "metadata": {
    "ExecuteTime": {
     "end_time": "2023-02-27T13:18:58.094443Z",
     "start_time": "2023-02-27T13:18:58.062211Z"
    }
   },
   "outputs": [
    {
     "data": {
      "text/plain": [
       "{'name': 'prateek', 'age': 33}"
      ]
     },
     "execution_count": 13,
     "metadata": {},
     "output_type": "execute_result"
    }
   ],
   "source": [
    "d = dict([('name','prateek'),('age',33)])\n",
    "d"
   ]
  },
  {
   "cell_type": "markdown",
   "id": "160f8616",
   "metadata": {},
   "source": [
    "#### Duplicate Keys : Not allowed, it'd return only the recent duplicate keys record"
   ]
  },
  {
   "cell_type": "code",
   "execution_count": 14,
   "id": "e3023d9f",
   "metadata": {
    "ExecuteTime": {
     "end_time": "2023-02-27T13:19:50.489015Z",
     "start_time": "2023-02-27T13:19:50.465269Z"
    }
   },
   "outputs": [
    {
     "data": {
      "text/plain": [
       "{'name': 'Rahul', 'gender': 'male'}"
      ]
     },
     "execution_count": 14,
     "metadata": {},
     "output_type": "execute_result"
    }
   ],
   "source": [
    "d =  {'name':'prateek','gender':'male','name':'Rahul'} \n",
    "d"
   ]
  },
  {
   "cell_type": "markdown",
   "id": "68ea9162",
   "metadata": {},
   "source": [
    "#### Mutable items as keys: Not allowed"
   ]
  },
  {
   "cell_type": "code",
   "execution_count": 15,
   "id": "02338edb",
   "metadata": {
    "ExecuteTime": {
     "end_time": "2023-02-27T13:21:12.832944Z",
     "start_time": "2023-02-27T13:21:12.164655Z"
    }
   },
   "outputs": [
    {
     "ename": "TypeError",
     "evalue": "unhashable type: 'list'",
     "output_type": "error",
     "traceback": [
      "\u001b[1;31m---------------------------------------------------------------------------\u001b[0m",
      "\u001b[1;31mTypeError\u001b[0m                                 Traceback (most recent call last)",
      "\u001b[1;32m~\\AppData\\Local\\Temp\\ipykernel_19844\\12915132.py\u001b[0m in \u001b[0;36m<cell line: 1>\u001b[1;34m()\u001b[0m\n\u001b[1;32m----> 1\u001b[1;33m \u001b[0md\u001b[0m \u001b[1;33m=\u001b[0m \u001b[1;33m{\u001b[0m\u001b[1;33m[\u001b[0m\u001b[1;36m1\u001b[0m\u001b[1;33m,\u001b[0m\u001b[1;36m2\u001b[0m\u001b[1;33m,\u001b[0m\u001b[1;36m3\u001b[0m\u001b[1;33m]\u001b[0m\u001b[1;33m:\u001b[0m\u001b[1;34m'prateek'\u001b[0m\u001b[1;33m,\u001b[0m\u001b[1;34m'age'\u001b[0m\u001b[1;33m:\u001b[0m\u001b[1;36m33\u001b[0m\u001b[1;33m}\u001b[0m\u001b[1;33m\u001b[0m\u001b[1;33m\u001b[0m\u001b[0m\n\u001b[0m\u001b[0;32m      2\u001b[0m \u001b[0md\u001b[0m\u001b[1;33m\u001b[0m\u001b[1;33m\u001b[0m\u001b[0m\n",
      "\u001b[1;31mTypeError\u001b[0m: unhashable type: 'list'"
     ]
    }
   ],
   "source": [
    "d = {[1,2,3]:'prateek','age':33}\n",
    "d"
   ]
  },
  {
   "cell_type": "markdown",
   "id": "335b2601",
   "metadata": {},
   "source": [
    "### Accessing Item :"
   ]
  },
  {
   "cell_type": "code",
   "execution_count": 18,
   "id": "05166904",
   "metadata": {
    "ExecuteTime": {
     "end_time": "2023-02-27T13:26:15.936766Z",
     "start_time": "2023-02-27T13:26:15.913202Z"
    }
   },
   "outputs": [
    {
     "name": "stdout",
     "output_type": "stream",
     "text": [
      "33\n",
      "prateek\n"
     ]
    }
   ],
   "source": [
    "d =  {'name':'prateek','gender':'male','age':33} \n",
    "\n",
    "## []\n",
    "print(d['age'])\n",
    "\n",
    "## get\n",
    "print(d.get('name'))"
   ]
  },
  {
   "cell_type": "markdown",
   "id": "b00b769c",
   "metadata": {},
   "source": [
    "##### Accessing items in a 2D list :"
   ]
  },
  {
   "cell_type": "code",
   "execution_count": 30,
   "id": "4097f709",
   "metadata": {
    "ExecuteTime": {
     "end_time": "2023-02-27T13:41:54.795078Z",
     "start_time": "2023-02-27T13:41:54.771476Z"
    }
   },
   "outputs": [
    {
     "data": {
      "text/plain": [
       "{'name': 'Prateek',\n",
       " 'college': 'vtu',\n",
       " 'sem': 4,\n",
       " 'subjects': {'dsa': 50, 'maths': 60, 'english': 89}}"
      ]
     },
     "execution_count": 30,
     "metadata": {},
     "output_type": "execute_result"
    }
   ],
   "source": [
    "d = {\n",
    "    'name':'Prateek',\n",
    "    'college':'vtu',\n",
    "    'sem':4,\n",
    "    'subjects':{\n",
    "        'dsa':50,\n",
    "        'maths':60,\n",
    "        'english':89\n",
    "        }\n",
    "    }\n",
    "d"
   ]
  },
  {
   "cell_type": "code",
   "execution_count": 32,
   "id": "b063cdaa",
   "metadata": {
    "ExecuteTime": {
     "end_time": "2023-02-27T13:42:26.740703Z",
     "start_time": "2023-02-27T13:42:26.716797Z"
    }
   },
   "outputs": [
    {
     "data": {
      "text/plain": [
       "{'dsa': 50, 'maths': 60, 'english': 89}"
      ]
     },
     "execution_count": 32,
     "metadata": {},
     "output_type": "execute_result"
    }
   ],
   "source": [
    "d['subjects']"
   ]
  },
  {
   "cell_type": "code",
   "execution_count": 33,
   "id": "d8088538",
   "metadata": {
    "ExecuteTime": {
     "end_time": "2023-02-27T13:42:42.632906Z",
     "start_time": "2023-02-27T13:42:42.611179Z"
    }
   },
   "outputs": [
    {
     "data": {
      "text/plain": [
       "89"
      ]
     },
     "execution_count": 33,
     "metadata": {},
     "output_type": "execute_result"
    }
   ],
   "source": [
    "d['subjects']['english']"
   ]
  },
  {
   "cell_type": "markdown",
   "id": "a19429ba",
   "metadata": {},
   "source": [
    "### Adding key-value pairs :"
   ]
  },
  {
   "cell_type": "code",
   "execution_count": 22,
   "id": "61ce511a",
   "metadata": {
    "ExecuteTime": {
     "end_time": "2023-02-27T13:28:55.856920Z",
     "start_time": "2023-02-27T13:28:55.824912Z"
    }
   },
   "outputs": [
    {
     "data": {
      "text/plain": [
       "{'name': 'prateek', 'gender': 'male', 'weight': 110}"
      ]
     },
     "execution_count": 22,
     "metadata": {},
     "output_type": "execute_result"
    }
   ],
   "source": [
    "d =  {'name':'prateek','gender':'male'} \n",
    "d['weight']=110\n",
    "d"
   ]
  },
  {
   "cell_type": "code",
   "execution_count": 34,
   "id": "d77d0733",
   "metadata": {
    "ExecuteTime": {
     "end_time": "2023-02-27T13:44:40.654973Z",
     "start_time": "2023-02-27T13:44:40.630911Z"
    }
   },
   "outputs": [
    {
     "data": {
      "text/plain": [
       "{'name': 'Prateek',\n",
       " 'college': 'vtu',\n",
       " 'sem': 4,\n",
       " 'subjects': {'dsa': 50, 'maths': 60, 'english': 89, 'French': 80}}"
      ]
     },
     "execution_count": 34,
     "metadata": {},
     "output_type": "execute_result"
    }
   ],
   "source": [
    "d = {\n",
    "    'name':'Prateek',\n",
    "    'college':'vtu',\n",
    "    'sem':4,\n",
    "    'subjects':{\n",
    "        'dsa':50,\n",
    "        'maths':60,\n",
    "        'english':89\n",
    "        }\n",
    "    }\n",
    "d\n",
    "\n",
    "d['subjects']['French'] = 80\n",
    "d"
   ]
  },
  {
   "cell_type": "markdown",
   "id": "fa4c6270",
   "metadata": {},
   "source": [
    "### Remove keys-values pairs :"
   ]
  },
  {
   "cell_type": "markdown",
   "id": "9ed1828d",
   "metadata": {},
   "source": [
    "#### Pop :Need to specify the item to remove"
   ]
  },
  {
   "cell_type": "code",
   "execution_count": 24,
   "id": "977462ec",
   "metadata": {
    "ExecuteTime": {
     "end_time": "2023-02-27T13:34:13.468737Z",
     "start_time": "2023-02-27T13:34:13.437772Z"
    }
   },
   "outputs": [
    {
     "data": {
      "text/plain": [
       "{'name': 'prateek', 'gender': 'male'}"
      ]
     },
     "execution_count": 24,
     "metadata": {},
     "output_type": "execute_result"
    }
   ],
   "source": [
    "d = {'name': 'prateek', 'gender': 'male', 'weight': 110}\n",
    "d.pop('weight')\n",
    "d"
   ]
  },
  {
   "cell_type": "markdown",
   "id": "98233bfb",
   "metadata": {},
   "source": [
    "#### Pop Item : Removes last item"
   ]
  },
  {
   "cell_type": "code",
   "execution_count": 25,
   "id": "9fef1a1f",
   "metadata": {
    "ExecuteTime": {
     "end_time": "2023-02-27T13:35:23.670623Z",
     "start_time": "2023-02-27T13:35:23.646600Z"
    }
   },
   "outputs": [
    {
     "data": {
      "text/plain": [
       "{'name': 'prateek', 'gender': 'male'}"
      ]
     },
     "execution_count": 25,
     "metadata": {},
     "output_type": "execute_result"
    }
   ],
   "source": [
    "d = {'name': 'prateek', 'gender': 'male', 'weight': 110}\n",
    "d.popitem()\n",
    "d"
   ]
  },
  {
   "cell_type": "markdown",
   "id": "b47514ba",
   "metadata": {},
   "source": [
    "#### Del"
   ]
  },
  {
   "cell_type": "code",
   "execution_count": 27,
   "id": "b38607d8",
   "metadata": {
    "ExecuteTime": {
     "end_time": "2023-02-27T13:36:52.077101Z",
     "start_time": "2023-02-27T13:36:52.030248Z"
    }
   },
   "outputs": [
    {
     "ename": "NameError",
     "evalue": "name 'd' is not defined",
     "output_type": "error",
     "traceback": [
      "\u001b[1;31m---------------------------------------------------------------------------\u001b[0m",
      "\u001b[1;31mNameError\u001b[0m                                 Traceback (most recent call last)",
      "\u001b[1;32m~\\AppData\\Local\\Temp\\ipykernel_19844\\3169993954.py\u001b[0m in \u001b[0;36m<cell line: 3>\u001b[1;34m()\u001b[0m\n\u001b[0;32m      1\u001b[0m \u001b[0md\u001b[0m \u001b[1;33m=\u001b[0m \u001b[1;33m{\u001b[0m\u001b[1;34m'name'\u001b[0m\u001b[1;33m:\u001b[0m \u001b[1;34m'prateek'\u001b[0m\u001b[1;33m,\u001b[0m \u001b[1;34m'gender'\u001b[0m\u001b[1;33m:\u001b[0m \u001b[1;34m'male'\u001b[0m\u001b[1;33m,\u001b[0m \u001b[1;34m'weight'\u001b[0m\u001b[1;33m:\u001b[0m \u001b[1;36m110\u001b[0m\u001b[1;33m}\u001b[0m\u001b[1;33m\u001b[0m\u001b[1;33m\u001b[0m\u001b[0m\n\u001b[0;32m      2\u001b[0m \u001b[1;32mdel\u001b[0m \u001b[1;33m(\u001b[0m\u001b[0md\u001b[0m\u001b[1;33m)\u001b[0m\u001b[1;33m\u001b[0m\u001b[1;33m\u001b[0m\u001b[0m\n\u001b[1;32m----> 3\u001b[1;33m \u001b[0md\u001b[0m\u001b[1;33m\u001b[0m\u001b[1;33m\u001b[0m\u001b[0m\n\u001b[0m",
      "\u001b[1;31mNameError\u001b[0m: name 'd' is not defined"
     ]
    }
   ],
   "source": [
    "d = {'name': 'prateek', 'gender': 'male', 'weight': 110}\n",
    "del (d)\n",
    "d"
   ]
  },
  {
   "cell_type": "code",
   "execution_count": 29,
   "id": "0a739c6b",
   "metadata": {
    "ExecuteTime": {
     "end_time": "2023-02-27T13:39:53.205905Z",
     "start_time": "2023-02-27T13:39:53.182429Z"
    }
   },
   "outputs": [
    {
     "data": {
      "text/plain": [
       "{'name': 'prateek', 'weight': 110}"
      ]
     },
     "execution_count": 29,
     "metadata": {},
     "output_type": "execute_result"
    }
   ],
   "source": [
    "d = {'name': 'prateek', 'gender': 'male', 'weight': 110}\n",
    "del (d['gender'])\n",
    "d"
   ]
  },
  {
   "cell_type": "code",
   "execution_count": 35,
   "id": "f2368d2e",
   "metadata": {
    "ExecuteTime": {
     "end_time": "2023-02-27T13:46:07.287249Z",
     "start_time": "2023-02-27T13:46:07.254503Z"
    }
   },
   "outputs": [
    {
     "data": {
      "text/plain": [
       "{'name': 'Prateek',\n",
       " 'college': 'vtu',\n",
       " 'sem': 4,\n",
       " 'subjects': {'dsa': 50, 'maths': 60}}"
      ]
     },
     "execution_count": 35,
     "metadata": {},
     "output_type": "execute_result"
    }
   ],
   "source": [
    "d = {\n",
    "    'name':'Prateek',\n",
    "    'college':'vtu',\n",
    "    'sem':4,\n",
    "    'subjects':{\n",
    "        'dsa':50,\n",
    "        'maths':60,\n",
    "        'english':89\n",
    "        }\n",
    "    }\n",
    "d\n",
    "\n",
    "del (d['subjects']['english'])\n",
    "d"
   ]
  },
  {
   "cell_type": "markdown",
   "id": "e01fdec3",
   "metadata": {},
   "source": [
    "#### Clear "
   ]
  },
  {
   "cell_type": "code",
   "execution_count": 28,
   "id": "4ce477b4",
   "metadata": {
    "ExecuteTime": {
     "end_time": "2023-02-27T13:37:16.264205Z",
     "start_time": "2023-02-27T13:37:16.240448Z"
    }
   },
   "outputs": [
    {
     "data": {
      "text/plain": [
       "{}"
      ]
     },
     "execution_count": 28,
     "metadata": {},
     "output_type": "execute_result"
    }
   ],
   "source": [
    "d = {'name': 'prateek', 'gender': 'male', 'weight': 110}\n",
    "d.clear()\n",
    "d"
   ]
  },
  {
   "cell_type": "markdown",
   "id": "f90b020f",
   "metadata": {},
   "source": [
    "### Editing key-value pair :"
   ]
  },
  {
   "cell_type": "code",
   "execution_count": 36,
   "id": "2d0f90f6",
   "metadata": {
    "ExecuteTime": {
     "end_time": "2023-02-27T13:48:19.471358Z",
     "start_time": "2023-02-27T13:48:19.439355Z"
    }
   },
   "outputs": [
    {
     "data": {
      "text/plain": [
       "{'name': 'prateek', 'gender': 'male', 'weight': 70}"
      ]
     },
     "execution_count": 36,
     "metadata": {},
     "output_type": "execute_result"
    }
   ],
   "source": [
    "d = {'name': 'prateek', 'gender': 'male', 'weight': 110}\n",
    "d['weight']= 70\n",
    "d"
   ]
  },
  {
   "cell_type": "markdown",
   "id": "3941d381",
   "metadata": {},
   "source": [
    "### Dictionary Operations :"
   ]
  },
  {
   "cell_type": "markdown",
   "id": "2f67e2ef",
   "metadata": {},
   "source": [
    "#### Membership : in/ not in ==> works with keys and not values"
   ]
  },
  {
   "cell_type": "code",
   "execution_count": 37,
   "id": "adced74f",
   "metadata": {
    "ExecuteTime": {
     "end_time": "2023-02-27T13:49:48.567781Z",
     "start_time": "2023-02-27T13:49:48.543010Z"
    }
   },
   "outputs": [
    {
     "data": {
      "text/plain": [
       "True"
      ]
     },
     "execution_count": 37,
     "metadata": {},
     "output_type": "execute_result"
    }
   ],
   "source": [
    "d = {'name': 'prateek', 'gender': 'male', 'weight': 110}\n",
    "'name' in d"
   ]
  },
  {
   "cell_type": "code",
   "execution_count": 39,
   "id": "2cfe60d3",
   "metadata": {
    "ExecuteTime": {
     "end_time": "2023-02-27T13:51:27.156865Z",
     "start_time": "2023-02-27T13:51:27.124806Z"
    }
   },
   "outputs": [
    {
     "data": {
      "text/plain": [
       "False"
      ]
     },
     "execution_count": 39,
     "metadata": {},
     "output_type": "execute_result"
    }
   ],
   "source": [
    "d = {'name': 'prateek', 'gender': 'male', 'weight': 110}\n",
    "'prateek' in d     ## it is returing the returingsult of searching keys nby thee name prateek and not thee values"
   ]
  },
  {
   "cell_type": "markdown",
   "id": "4523e6a3",
   "metadata": {},
   "source": [
    "#### Iterations / Loops"
   ]
  },
  {
   "cell_type": "code",
   "execution_count": 40,
   "id": "9990292e",
   "metadata": {
    "ExecuteTime": {
     "end_time": "2023-02-27T13:52:11.077768Z",
     "start_time": "2023-02-27T13:52:11.053856Z"
    }
   },
   "outputs": [
    {
     "name": "stdout",
     "output_type": "stream",
     "text": [
      "name\n",
      "gender\n",
      "weight\n"
     ]
    }
   ],
   "source": [
    "d = {'name': 'prateek', 'gender': 'male', 'weight': 110}\n",
    "for i in d:\n",
    "    print(i)"
   ]
  },
  {
   "cell_type": "code",
   "execution_count": 43,
   "id": "4c155c1f",
   "metadata": {
    "ExecuteTime": {
     "end_time": "2023-02-27T13:53:20.743734Z",
     "start_time": "2023-02-27T13:53:20.719290Z"
    }
   },
   "outputs": [
    {
     "name": "stdout",
     "output_type": "stream",
     "text": [
      "name prateek\n",
      "gender male\n",
      "weight 110\n"
     ]
    }
   ],
   "source": [
    "d = {'name': 'prateek', 'gender': 'male', 'weight': 110}\n",
    "for i in d:\n",
    "    print(i,d[i])"
   ]
  },
  {
   "cell_type": "markdown",
   "id": "33b9eee5",
   "metadata": {},
   "source": [
    "### Dictionary Functions :"
   ]
  },
  {
   "cell_type": "markdown",
   "id": "d2ab1268",
   "metadata": {},
   "source": [
    "#### len/sorted/min/max"
   ]
  },
  {
   "cell_type": "code",
   "execution_count": 44,
   "id": "778fd6aa",
   "metadata": {
    "ExecuteTime": {
     "end_time": "2023-02-27T13:57:16.411620Z",
     "start_time": "2023-02-27T13:57:16.379402Z"
    }
   },
   "outputs": [
    {
     "name": "stdout",
     "output_type": "stream",
     "text": [
      "{'name': 'prateek', 'gender': 'male', 'weight': 110}\n",
      "3\n",
      "['gender', 'name', 'weight']\n",
      "gender\n",
      "weight\n"
     ]
    }
   ],
   "source": [
    "d = {'name': 'prateek', 'gender': 'male', 'weight': 110}\n",
    "print(d)\n",
    "print(len(d))\n",
    "print(sorted(d))\n",
    "print(min(d))\n",
    "print(max(d))"
   ]
  },
  {
   "cell_type": "markdown",
   "id": "3a1128da",
   "metadata": {},
   "source": [
    "#### Items/keys/values"
   ]
  },
  {
   "cell_type": "code",
   "execution_count": 46,
   "id": "4fa37950",
   "metadata": {
    "ExecuteTime": {
     "end_time": "2023-02-27T14:00:29.416336Z",
     "start_time": "2023-02-27T14:00:29.400235Z"
    }
   },
   "outputs": [
    {
     "name": "stdout",
     "output_type": "stream",
     "text": [
      "Prints items  dict_items([('name', 'prateek'), ('gender', 'male'), ('weight', 110)])\n",
      "Prints keys  dict_keys(['name', 'gender', 'weight'])\n",
      "Prints values  dict_values(['prateek', 'male', 110])\n"
     ]
    }
   ],
   "source": [
    "d = {'name': 'prateek', 'gender': 'male', 'weight': 110}\n",
    "print('Prints items ',d.items())\n",
    "print('Prints keys ',d.keys())\n",
    "print('Prints values ',d.values())"
   ]
  },
  {
   "cell_type": "markdown",
   "id": "cc2c2915",
   "metadata": {},
   "source": [
    "#### Update "
   ]
  },
  {
   "cell_type": "code",
   "execution_count": 47,
   "id": "0ae73d9c",
   "metadata": {
    "ExecuteTime": {
     "end_time": "2023-02-27T14:03:36.808138Z",
     "start_time": "2023-02-27T14:03:36.777742Z"
    }
   },
   "outputs": [
    {
     "name": "stdout",
     "output_type": "stream",
     "text": [
      "{'age': 33, 'gender': 'male', 'name': 'Rahul', 'id': 3003}\n"
     ]
    }
   ],
   "source": [
    "d1 = {'age':33,'gender':'male','name':'prateek'}\n",
    "d2 = {'name':'Rahul','id':3003}\n",
    "\n",
    "d1.update(d2) ## Edits the items already present and adds any additional items\n",
    "print(d1)"
   ]
  },
  {
   "cell_type": "markdown",
   "id": "ad81e5fa",
   "metadata": {},
   "source": [
    "### Dictionary Comprehension :\n",
    "\n",
    "{key : values for vars in iterable}"
   ]
  },
  {
   "cell_type": "markdown",
   "id": "f5955e4e",
   "metadata": {},
   "source": [
    "#### Print 1st 10 numbers and their squares :"
   ]
  },
  {
   "cell_type": "code",
   "execution_count": 48,
   "id": "19088c97",
   "metadata": {
    "ExecuteTime": {
     "end_time": "2023-02-27T14:19:11.747561Z",
     "start_time": "2023-02-27T14:19:11.715892Z"
    }
   },
   "outputs": [
    {
     "data": {
      "text/plain": [
       "{1: 1, 2: 4, 3: 9, 4: 16, 5: 25, 6: 36, 7: 49, 8: 64, 9: 81}"
      ]
     },
     "execution_count": 48,
     "metadata": {},
     "output_type": "execute_result"
    }
   ],
   "source": [
    "{i:i**2 for i in range(1,10)}"
   ]
  },
  {
   "cell_type": "code",
   "execution_count": 64,
   "id": "8cc1aebd",
   "metadata": {
    "ExecuteTime": {
     "end_time": "2023-02-27T14:31:50.627083Z",
     "start_time": "2023-02-27T14:31:50.603969Z"
    }
   },
   "outputs": [
    {
     "data": {
      "text/plain": [
       "{'Delhi': 620.0, 'Mumbai': 1240.0, 'Bengaluru': 1860.0}"
      ]
     },
     "execution_count": 64,
     "metadata": {},
     "output_type": "execute_result"
    }
   ],
   "source": [
    "distances = {'Delhi':1000,'Mumbai':2000,'Bengaluru':3000}\n",
    "{key:value*0.62 for key,value in distances.items()}"
   ]
  },
  {
   "cell_type": "markdown",
   "id": "6cd5cb48",
   "metadata": {},
   "source": [
    "### using Zip :"
   ]
  },
  {
   "cell_type": "code",
   "execution_count": 68,
   "id": "a2853a28",
   "metadata": {
    "ExecuteTime": {
     "end_time": "2023-02-27T14:37:48.310708Z",
     "start_time": "2023-02-27T14:37:48.287145Z"
    }
   },
   "outputs": [
    {
     "data": {
      "text/plain": [
       "{'Sunday': 30.5,\n",
       " 'Monday': 32.6,\n",
       " 'Tuesday': 21.8,\n",
       " 'Wednesday': 33,\n",
       " 'Thursday': 4,\n",
       " 'Friday': 29.8,\n",
       " 'Saturday': 30.2}"
      ]
     },
     "execution_count": 68,
     "metadata": {},
     "output_type": "execute_result"
    }
   ],
   "source": [
    "days = ['Sunday','Monday','Tuesday','Wednesday','Thursday','Friday','Saturday']\n",
    "temp_C = [30.5,32.6,21.8,33,4,29.8,30.2,29.9]\n",
    "\n",
    "{i:j for i,j in zip(days,temp_C)}"
   ]
  },
  {
   "cell_type": "code",
   "execution_count": 70,
   "id": "30ed7092",
   "metadata": {
    "ExecuteTime": {
     "end_time": "2023-02-27T14:42:13.738890Z",
     "start_time": "2023-02-27T14:42:13.706855Z"
    }
   },
   "outputs": [
    {
     "data": {
      "text/plain": [
       "{'Phone': 10, 'charger': 32}"
      ]
     },
     "execution_count": 70,
     "metadata": {},
     "output_type": "execute_result"
    }
   ],
   "source": [
    "### Using if condition :\n",
    "products = {'Phone':10,'laptop':0,'charger':32,'tablet':0}\n",
    "\n",
    "{ keys:values for keys,values in products.items() if values > 0}"
   ]
  },
  {
   "cell_type": "markdown",
   "id": "6ac85460",
   "metadata": {},
   "source": [
    "### Nested Comprehension :"
   ]
  },
  {
   "cell_type": "code",
   "execution_count": 78,
   "id": "be8a8a38",
   "metadata": {
    "ExecuteTime": {
     "end_time": "2023-02-27T14:48:28.873381Z",
     "start_time": "2023-02-27T14:48:28.854578Z"
    }
   },
   "outputs": [
    {
     "data": {
      "text/plain": [
       "{2: {2, 4, 6, 8, 10, 12, 14, 16, 18, 20},\n",
       " 3: {3, 6, 9, 12, 15, 18, 21, 24, 27, 30},\n",
       " 4: {4, 8, 12, 16, 20, 24, 28, 32, 36, 40}}"
      ]
     },
     "execution_count": 78,
     "metadata": {},
     "output_type": "execute_result"
    }
   ],
   "source": [
    "{i:{j*i for j in range(1,11)} for i in range(2,5)}"
   ]
  },
  {
   "cell_type": "markdown",
   "id": "76019380",
   "metadata": {},
   "source": [
    "## Functions in Python :\n",
    "Functions are a block of code which give us a desired output. These can be termed as a blackbox as we do not know the code inside a function all the time nor do we care about the code, we just care about the functionality of it. eg : Print\n",
    "There are basically 2 types of functions:\n",
    "\n",
    "1. Predefined eg: print,type,id etc.\n",
    "2. User defined : Yhe functions a user creates to cater to his needs."
   ]
  },
  {
   "cell_type": "markdown",
   "id": "8aafc4eb",
   "metadata": {},
   "source": [
    "### Actual Format for writing a function :"
   ]
  },
  {
   "cell_type": "code",
   "execution_count": 1,
   "id": "291dfe31",
   "metadata": {},
   "outputs": [],
   "source": [
    "def is_even(input): ## Here input is a parameter\n",
    "    \"\"\"This function returns if a given number is odd or even\n",
    "    input - Any integer\n",
    "    output - odd/even\n",
    "    \"\"\"\n",
    "    if type(input) == int:\n",
    "        if input%2==0:\n",
    "            return('Even')\n",
    "        else:\n",
    "            return('odd')\n",
    "    else:\n",
    "        return ('Enter integer as an input')"
   ]
  },
  {
   "cell_type": "code",
   "execution_count": 4,
   "id": "36a711e2",
   "metadata": {},
   "outputs": [
    {
     "name": "stdout",
     "output_type": "stream",
     "text": [
      "1 odd\n",
      "2 Even\n",
      "3 odd\n",
      "4 Even\n",
      "5 odd\n",
      "6 Even\n",
      "7 odd\n",
      "8 Even\n",
      "9 odd\n",
      "10 Even\n"
     ]
    }
   ],
   "source": [
    "for i in range(1,11):\n",
    "    x = is_even(i) ## Here is an argument\n",
    "    print(i,x)"
   ]
  },
  {
   "cell_type": "markdown",
   "id": "4703ffd3",
   "metadata": {},
   "source": [
    "### Types of Arguments :\n",
    "* Default Argument\n",
    "* Positional Argument\n",
    "* Keyword Argument"
   ]
  },
  {
   "cell_type": "markdown",
   "id": "21eb8f68",
   "metadata": {},
   "source": [
    "#### Default Argument :"
   ]
  },
  {
   "cell_type": "markdown",
   "id": "8fcd081e",
   "metadata": {},
   "source": [
    "\n",
    "**Imagine we write a function as below but a different user doesnot read the doc string or understand the code and provides 0 or just 1 input.Then the code would throw an error, to avoid this we use default arguments where we specify a predefined value if not entered by the user**\n",
    "    \n",
    "    def power(a,b):\n",
    "        return a**b"
   ]
  },
  {
   "cell_type": "code",
   "execution_count": 5,
   "id": "9033a9f9",
   "metadata": {},
   "outputs": [],
   "source": [
    "def power_with_Default_Argument(a=1,b=1):\n",
    "    return a**b"
   ]
  },
  {
   "cell_type": "code",
   "execution_count": 6,
   "id": "0b0a8ef8",
   "metadata": {},
   "outputs": [
    {
     "data": {
      "text/plain": [
       "1"
      ]
     },
     "execution_count": 6,
     "metadata": {},
     "output_type": "execute_result"
    }
   ],
   "source": [
    "power_with_Default_Argument()"
   ]
  },
  {
   "cell_type": "markdown",
   "id": "098e2f05",
   "metadata": {},
   "source": [
    "#### Positional Argument :\n",
    "The order in which the arguments are sent. In the same order, they are sent to the parameter.Eg:"
   ]
  },
  {
   "cell_type": "code",
   "execution_count": 7,
   "id": "2ba65ce4",
   "metadata": {},
   "outputs": [
    {
     "data": {
      "text/plain": [
       "8"
      ]
     },
     "execution_count": 7,
     "metadata": {},
     "output_type": "execute_result"
    }
   ],
   "source": [
    "power_with_Default_Argument(2,3) ## Positional Argument for a = 2 and b = 3"
   ]
  },
  {
   "cell_type": "markdown",
   "id": "24ee605b",
   "metadata": {},
   "source": [
    "#### Keyword Argument :\n",
    "In keyword argument, we specify the inputs for the parameters rather than the position. By providing this, positional argument is ignored and Keyword is followed."
   ]
  },
  {
   "cell_type": "code",
   "execution_count": 8,
   "id": "ff08125e",
   "metadata": {},
   "outputs": [
    {
     "data": {
      "text/plain": [
       "8"
      ]
     },
     "execution_count": 8,
     "metadata": {},
     "output_type": "execute_result"
    }
   ],
   "source": [
    "power_with_Default_Argument(b=3,a=2) ## Here, b would be the value for 2 parameter and a for the 1st"
   ]
  },
  {
   "cell_type": "markdown",
   "id": "5f8103ed",
   "metadata": {},
   "source": [
    "### *args and **kwargs\n",
    "***args** and ****kwargs** are special python keywords that are used to pass the variabe length of arguments in a function"
   ]
  },
  {
   "cell_type": "markdown",
   "id": "8e0b9d9e",
   "metadata": {},
   "source": [
    "##### *args\n",
    " Allows us to pass to pass a variable number of non-keyword arguments to a function."
   ]
  },
  {
   "cell_type": "code",
   "execution_count": 9,
   "id": "269f8089",
   "metadata": {},
   "outputs": [],
   "source": [
    "def multiply(*args): ##It is not necessary to use *args, we can use any name *jack,*multiply,*anything\n",
    "    product =1\n",
    "    \n",
    "    for i in args:\n",
    "        product = product*i\n",
    "    return(product)"
   ]
  },
  {
   "cell_type": "code",
   "execution_count": 10,
   "id": "d6cda8ab",
   "metadata": {},
   "outputs": [
    {
     "data": {
      "text/plain": [
       "40320"
      ]
     },
     "execution_count": 10,
     "metadata": {},
     "output_type": "execute_result"
    }
   ],
   "source": [
    "multiply(1,2,3,4,5,6,7,8)"
   ]
  },
  {
   "cell_type": "markdown",
   "id": "c2947852",
   "metadata": {},
   "source": [
    "#####  **kwargs \n",
    "* **kwargs allows us to pass any number of keyword arguments.\n",
    "* Keyword arguments means that they contain a key-value pair, like a Python Dictionary."
   ]
  },
  {
   "cell_type": "code",
   "execution_count": 11,
   "id": "a40fdff5",
   "metadata": {},
   "outputs": [],
   "source": [
    "def display(**naam_daalo):\n",
    "    \n",
    "    for key,value in naam_daalo.items():\n",
    "        print(key,' ==> ',value)"
   ]
  },
  {
   "cell_type": "code",
   "execution_count": 12,
   "id": "863e74b9",
   "metadata": {},
   "outputs": [
    {
     "name": "stdout",
     "output_type": "stream",
     "text": [
      "India  ==>  Delhi\n",
      "Srilanka  ==>  Colombo\n",
      "Nepal  ==>  Kathmandu\n"
     ]
    }
   ],
   "source": [
    "display(India='Delhi',Srilanka = 'Colombo',Nepal = 'Kathmandu')"
   ]
  },
  {
   "cell_type": "markdown",
   "id": "4a18dcf7",
   "metadata": {},
   "source": [
    "#### Points to remember while using *args and **kwargs:\n",
    "* Order of the argument matters (mormal--> *args --> **kwargs)\n",
    "* The word \"args\" and \"kwargs\" are only a convention, you can use any name of your choice."
   ]
  },
  {
   "cell_type": "markdown",
   "id": "79600661",
   "metadata": {},
   "source": [
    "### Without return statement"
   ]
  },
  {
   "cell_type": "code",
   "execution_count": 11,
   "id": "101d7e9d",
   "metadata": {
    "ExecuteTime": {
     "end_time": "2023-02-28T13:40:44.271755Z",
     "start_time": "2023-02-28T13:40:44.250731Z"
    }
   },
   "outputs": [],
   "source": [
    "def multiply(*args): \n",
    "    product =1\n",
    "    \n",
    "    for i in args:\n",
    "        product = product*i"
   ]
  },
  {
   "cell_type": "code",
   "execution_count": 16,
   "id": "8a9638ae",
   "metadata": {
    "ExecuteTime": {
     "end_time": "2023-02-28T13:42:36.772067Z",
     "start_time": "2023-02-28T13:42:36.765378Z"
    }
   },
   "outputs": [
    {
     "name": "stdout",
     "output_type": "stream",
     "text": [
      "6\n"
     ]
    }
   ],
   "source": [
    "print(multiply(1,2,3)) ## without return it gives out None instead of the answer"
   ]
  },
  {
   "cell_type": "code",
   "execution_count": 13,
   "id": "5012e225",
   "metadata": {
    "ExecuteTime": {
     "end_time": "2023-02-28T13:41:09.106868Z",
     "start_time": "2023-02-28T13:41:09.088670Z"
    }
   },
   "outputs": [],
   "source": [
    "def multiply(*args): \n",
    "    product =1\n",
    "    \n",
    "    for i in args:\n",
    "        product = product*i\n",
    "    return(product)"
   ]
  },
  {
   "cell_type": "code",
   "execution_count": 15,
   "id": "740a1d2a",
   "metadata": {
    "ExecuteTime": {
     "end_time": "2023-02-28T13:41:40.772302Z",
     "start_time": "2023-02-28T13:41:40.758992Z"
    }
   },
   "outputs": [
    {
     "name": "stdout",
     "output_type": "stream",
     "text": [
      "6\n"
     ]
    }
   ],
   "source": [
    "print(multiply(1,2,3))"
   ]
  },
  {
   "cell_type": "markdown",
   "id": "9990f1a4",
   "metadata": {},
   "source": [
    "### Variable Scope :\n",
    "* Global Variable vs Local Variable"
   ]
  },
  {
   "cell_type": "code",
   "execution_count": 17,
   "id": "c6ba0eb8",
   "metadata": {
    "ExecuteTime": {
     "end_time": "2023-02-28T13:51:53.496162Z",
     "start_time": "2023-02-28T13:51:53.473991Z"
    }
   },
   "outputs": [],
   "source": [
    "def g(y):## y is a local variable local variable can access Global variable but Global variable cannot access Local Variable \n",
    "    print(x) ## Now x is not available in the function hence the function searches for x in global space\n",
    "    print(x+1)"
   ]
  },
  {
   "cell_type": "code",
   "execution_count": 18,
   "id": "1cbc4e36",
   "metadata": {
    "ExecuteTime": {
     "end_time": "2023-02-28T13:52:31.686322Z",
     "start_time": "2023-02-28T13:52:31.674224Z"
    }
   },
   "outputs": [
    {
     "name": "stdout",
     "output_type": "stream",
     "text": [
      "5\n",
      "6\n",
      "5\n"
     ]
    }
   ],
   "source": [
    "x = 5 ## Global Variable\n",
    "g(x)\n",
    "print(x)"
   ]
  },
  {
   "cell_type": "code",
   "execution_count": 19,
   "id": "0e0be24b",
   "metadata": {
    "ExecuteTime": {
     "end_time": "2023-02-28T14:01:58.012702Z",
     "start_time": "2023-02-28T14:01:58.001649Z"
    }
   },
   "outputs": [
    {
     "name": "stdout",
     "output_type": "stream",
     "text": [
      "2\n",
      "5\n"
     ]
    }
   ],
   "source": [
    "def f(y):\n",
    "    x = 1 ## Local Variable\n",
    "    x += 1\n",
    "    print(x)\n",
    "x = 5 ## Global Variable\n",
    "f(x) ## Even though f(x) was passed, there was a x in the Local space hence the function used it and no the Global variable x\n",
    "print(x)"
   ]
  },
  {
   "cell_type": "code",
   "execution_count": 23,
   "id": "12bb5f1a",
   "metadata": {
    "ExecuteTime": {
     "end_time": "2023-02-28T14:13:57.152484Z",
     "start_time": "2023-02-28T14:13:57.106556Z"
    }
   },
   "outputs": [
    {
     "ename": "UnboundLocalError",
     "evalue": "local variable 'x' referenced before assignment",
     "output_type": "error",
     "traceback": [
      "\u001b[1;31m---------------------------------------------------------------------------\u001b[0m",
      "\u001b[1;31mUnboundLocalError\u001b[0m                         Traceback (most recent call last)",
      "\u001b[1;32m~\\AppData\\Local\\Temp\\ipykernel_17384\\180859179.py\u001b[0m in \u001b[0;36m<cell line: 5>\u001b[1;34m()\u001b[0m\n\u001b[0;32m      3\u001b[0m     \u001b[0mprint\u001b[0m\u001b[1;33m(\u001b[0m\u001b[0mx\u001b[0m\u001b[1;33m)\u001b[0m\u001b[1;31m## Code throws and error as Local Variable can access a Global Variable but cannot make changes to it.\u001b[0m\u001b[1;33m\u001b[0m\u001b[1;33m\u001b[0m\u001b[0m\n\u001b[0;32m      4\u001b[0m \u001b[0mx\u001b[0m \u001b[1;33m=\u001b[0m \u001b[1;36m5\u001b[0m\u001b[1;33m\u001b[0m\u001b[1;33m\u001b[0m\u001b[0m\n\u001b[1;32m----> 5\u001b[1;33m \u001b[0mh\u001b[0m\u001b[1;33m(\u001b[0m\u001b[0mx\u001b[0m\u001b[1;33m)\u001b[0m\u001b[1;33m\u001b[0m\u001b[1;33m\u001b[0m\u001b[0m\n\u001b[0m\u001b[0;32m      6\u001b[0m \u001b[0mprint\u001b[0m\u001b[1;33m(\u001b[0m\u001b[0mx\u001b[0m\u001b[1;33m)\u001b[0m\u001b[1;33m\u001b[0m\u001b[1;33m\u001b[0m\u001b[0m\n",
      "\u001b[1;32m~\\AppData\\Local\\Temp\\ipykernel_17384\\180859179.py\u001b[0m in \u001b[0;36mh\u001b[1;34m(y)\u001b[0m\n\u001b[0;32m      1\u001b[0m \u001b[1;32mdef\u001b[0m \u001b[0mh\u001b[0m\u001b[1;33m(\u001b[0m\u001b[0my\u001b[0m\u001b[1;33m)\u001b[0m\u001b[1;33m:\u001b[0m\u001b[1;33m\u001b[0m\u001b[1;33m\u001b[0m\u001b[0m\n\u001b[1;32m----> 2\u001b[1;33m     \u001b[0mx\u001b[0m \u001b[1;33m+=\u001b[0m \u001b[1;36m1\u001b[0m \u001b[1;31m## Here we are trying to increment the value of Global Variable x by 1\u001b[0m\u001b[1;33m\u001b[0m\u001b[1;33m\u001b[0m\u001b[0m\n\u001b[0m\u001b[0;32m      3\u001b[0m     \u001b[0mprint\u001b[0m\u001b[1;33m(\u001b[0m\u001b[0mx\u001b[0m\u001b[1;33m)\u001b[0m\u001b[1;31m## Code throws and error as Local Variable can access a Global Variable but cannot make changes to it.\u001b[0m\u001b[1;33m\u001b[0m\u001b[1;33m\u001b[0m\u001b[0m\n\u001b[0;32m      4\u001b[0m \u001b[0mx\u001b[0m \u001b[1;33m=\u001b[0m \u001b[1;36m5\u001b[0m\u001b[1;33m\u001b[0m\u001b[1;33m\u001b[0m\u001b[0m\n\u001b[0;32m      5\u001b[0m \u001b[0mh\u001b[0m\u001b[1;33m(\u001b[0m\u001b[0mx\u001b[0m\u001b[1;33m)\u001b[0m\u001b[1;33m\u001b[0m\u001b[1;33m\u001b[0m\u001b[0m\n",
      "\u001b[1;31mUnboundLocalError\u001b[0m: local variable 'x' referenced before assignment"
     ]
    }
   ],
   "source": [
    "def h(y):\n",
    "    x += 1 ## Here we are trying to increment the value of Global Variable x by 1\n",
    "    print(x) ## Code throws and error as Local Variable can access a Global Variable but cannot make changes to it.\n",
    "x = 5\n",
    "h(x)\n",
    "print(x)"
   ]
  },
  {
   "cell_type": "markdown",
   "id": "6fe1e446",
   "metadata": {},
   "source": [
    "**Local Variable can use a Global Variable but Global Variable cannot use local Variable**\n",
    "\n",
    "**Global variable can make changes to Local Variable but Local Variable cannot make changes to Global Variable --- Python does give us an option to make changes but its a bad programming practice and should be avoided.**"
   ]
  },
  {
   "cell_type": "code",
   "execution_count": 29,
   "id": "abf0f350",
   "metadata": {
    "ExecuteTime": {
     "end_time": "2023-02-28T14:21:42.460989Z",
     "start_time": "2023-02-28T14:21:42.434626Z"
    }
   },
   "outputs": [
    {
     "name": "stdout",
     "output_type": "stream",
     "text": [
      "6\n",
      "6\n"
     ]
    }
   ],
   "source": [
    "def h(y):\n",
    "    global x ## This means we are allowing the local variable to make changes to the Global Variable\n",
    "    x += 1 \n",
    "    print(x) \n",
    "x = 5\n",
    "h(x)\n",
    "print(x)"
   ]
  },
  {
   "cell_type": "markdown",
   "id": "44b95599",
   "metadata": {},
   "source": [
    "### Nested Functions : Function Inside a Function"
   ]
  },
  {
   "cell_type": "code",
   "execution_count": 30,
   "id": "b8033c72",
   "metadata": {
    "ExecuteTime": {
     "end_time": "2023-02-28T14:26:46.641338Z",
     "start_time": "2023-02-28T14:26:46.610448Z"
    }
   },
   "outputs": [
    {
     "name": "stdout",
     "output_type": "stream",
     "text": [
      "Inside function g\n",
      "inside function f\n"
     ]
    }
   ],
   "source": [
    "def f():\n",
    "    def g():\n",
    "        print('Inside function g')\n",
    "    g()\n",
    "    print('inside function f')\n",
    "    \n",
    "f()"
   ]
  },
  {
   "cell_type": "markdown",
   "id": "296a1780",
   "metadata": {},
   "source": [
    "### Functions are First Class citizens in Python :\n",
    "Which means functions act like a tdata type in python and can perform all the operations which a data type can."
   ]
  },
  {
   "cell_type": "markdown",
   "id": "a988f826",
   "metadata": {},
   "source": [
    "#### Type and Id on a function :"
   ]
  },
  {
   "cell_type": "code",
   "execution_count": 35,
   "id": "cab8a8bf",
   "metadata": {
    "ExecuteTime": {
     "end_time": "2023-02-28T16:01:06.213894Z",
     "start_time": "2023-02-28T16:01:06.188992Z"
    }
   },
   "outputs": [],
   "source": [
    "def square(num):\n",
    "    return(num**2)"
   ]
  },
  {
   "cell_type": "code",
   "execution_count": 36,
   "id": "c41a32cd",
   "metadata": {
    "ExecuteTime": {
     "end_time": "2023-02-28T16:01:06.805233Z",
     "start_time": "2023-02-28T16:01:06.781754Z"
    }
   },
   "outputs": [
    {
     "data": {
      "text/plain": [
       "function"
      ]
     },
     "execution_count": 36,
     "metadata": {},
     "output_type": "execute_result"
    }
   ],
   "source": [
    "type(square)"
   ]
  },
  {
   "cell_type": "code",
   "execution_count": 37,
   "id": "5d6b1d02",
   "metadata": {
    "ExecuteTime": {
     "end_time": "2023-02-28T16:01:07.303584Z",
     "start_time": "2023-02-28T16:01:07.287703Z"
    }
   },
   "outputs": [
    {
     "data": {
      "text/plain": [
       "2217876005504"
      ]
     },
     "execution_count": 37,
     "metadata": {},
     "output_type": "execute_result"
    }
   ],
   "source": [
    "id(square)"
   ]
  },
  {
   "cell_type": "code",
   "execution_count": 38,
   "id": "3303c1ff",
   "metadata": {
    "ExecuteTime": {
     "end_time": "2023-02-28T16:01:08.125719Z",
     "start_time": "2023-02-28T16:01:08.108817Z"
    }
   },
   "outputs": [
    {
     "data": {
      "text/plain": [
       "int"
      ]
     },
     "execution_count": 38,
     "metadata": {},
     "output_type": "execute_result"
    }
   ],
   "source": [
    "type(square(2))"
   ]
  },
  {
   "cell_type": "code",
   "execution_count": 39,
   "id": "b0c44a83",
   "metadata": {
    "ExecuteTime": {
     "end_time": "2023-02-28T16:01:23.072740Z",
     "start_time": "2023-02-28T16:01:23.056426Z"
    }
   },
   "outputs": [
    {
     "data": {
      "text/plain": [
       "2217750849936"
      ]
     },
     "execution_count": 39,
     "metadata": {},
     "output_type": "execute_result"
    }
   ],
   "source": [
    "id(square(2))"
   ]
  },
  {
   "cell_type": "markdown",
   "id": "1aca5ff9",
   "metadata": {},
   "source": [
    "#### Reassigning"
   ]
  },
  {
   "cell_type": "code",
   "execution_count": 40,
   "id": "69baa7cf",
   "metadata": {
    "ExecuteTime": {
     "end_time": "2023-02-28T16:02:32.505414Z",
     "start_time": "2023-02-28T16:02:32.481136Z"
    }
   },
   "outputs": [
    {
     "data": {
      "text/plain": [
       "4"
      ]
     },
     "execution_count": 40,
     "metadata": {},
     "output_type": "execute_result"
    }
   ],
   "source": [
    "x = square\n",
    "x(2)"
   ]
  },
  {
   "cell_type": "markdown",
   "id": "9720348e",
   "metadata": {},
   "source": [
    "#### Deleting a Function "
   ]
  },
  {
   "cell_type": "code",
   "execution_count": 41,
   "id": "50c0add3",
   "metadata": {
    "ExecuteTime": {
     "end_time": "2023-02-28T16:03:36.448869Z",
     "start_time": "2023-02-28T16:03:36.433599Z"
    }
   },
   "outputs": [],
   "source": [
    "del square"
   ]
  },
  {
   "cell_type": "code",
   "execution_count": 42,
   "id": "7f20f477",
   "metadata": {
    "ExecuteTime": {
     "end_time": "2023-02-28T16:03:40.566608Z",
     "start_time": "2023-02-28T16:03:40.526582Z"
    }
   },
   "outputs": [
    {
     "ename": "NameError",
     "evalue": "name 'square' is not defined",
     "output_type": "error",
     "traceback": [
      "\u001b[1;31m---------------------------------------------------------------------------\u001b[0m",
      "\u001b[1;31mNameError\u001b[0m                                 Traceback (most recent call last)",
      "\u001b[1;32m~\\AppData\\Local\\Temp\\ipykernel_17384\\709835675.py\u001b[0m in \u001b[0;36m<cell line: 1>\u001b[1;34m()\u001b[0m\n\u001b[1;32m----> 1\u001b[1;33m \u001b[0msquare\u001b[0m\u001b[1;33m\u001b[0m\u001b[1;33m\u001b[0m\u001b[0m\n\u001b[0m",
      "\u001b[1;31mNameError\u001b[0m: name 'square' is not defined"
     ]
    }
   ],
   "source": [
    "square"
   ]
  },
  {
   "cell_type": "markdown",
   "id": "21429b2d",
   "metadata": {},
   "source": [
    "#### Sorting"
   ]
  },
  {
   "cell_type": "code",
   "execution_count": 43,
   "id": "d90588ee",
   "metadata": {
    "ExecuteTime": {
     "end_time": "2023-02-28T16:05:50.778128Z",
     "start_time": "2023-02-28T16:05:50.753546Z"
    }
   },
   "outputs": [],
   "source": [
    "def square(num):\n",
    "    return(num**2)"
   ]
  },
  {
   "cell_type": "code",
   "execution_count": 46,
   "id": "b201ce92",
   "metadata": {
    "ExecuteTime": {
     "end_time": "2023-02-28T16:06:51.003864Z",
     "start_time": "2023-02-28T16:06:50.980222Z"
    }
   },
   "outputs": [
    {
     "data": {
      "text/plain": [
       "[1, 2, 3, <function __main__.square(num)>]"
      ]
     },
     "execution_count": 46,
     "metadata": {},
     "output_type": "execute_result"
    }
   ],
   "source": [
    "L = [1,2,3,square]\n",
    "L"
   ]
  },
  {
   "cell_type": "markdown",
   "id": "ab90c581",
   "metadata": {},
   "source": [
    "##### Calling a function from a list and performing the function operation :"
   ]
  },
  {
   "cell_type": "code",
   "execution_count": 47,
   "id": "2321cc77",
   "metadata": {
    "ExecuteTime": {
     "end_time": "2023-02-28T16:07:43.246690Z",
     "start_time": "2023-02-28T16:07:43.222362Z"
    }
   },
   "outputs": [
    {
     "data": {
      "text/plain": [
       "9"
      ]
     },
     "execution_count": 47,
     "metadata": {},
     "output_type": "execute_result"
    }
   ],
   "source": [
    "L[-1](3)"
   ]
  },
  {
   "cell_type": "markdown",
   "id": "f4d9b96d",
   "metadata": {},
   "source": [
    "#### Function is a mutable data type"
   ]
  },
  {
   "cell_type": "markdown",
   "id": "9d22bf08",
   "metadata": {},
   "source": [
    "#### Returning a Function :"
   ]
  },
  {
   "cell_type": "code",
   "execution_count": 48,
   "id": "3134d099",
   "metadata": {
    "ExecuteTime": {
     "end_time": "2023-02-28T16:14:40.016107Z",
     "start_time": "2023-02-28T16:14:39.999147Z"
    }
   },
   "outputs": [],
   "source": [
    "def f():  ## step 1\n",
    "    def x(a,b): ## Step 3 : Takes the values of 3,4\n",
    "        return a+b ## Step 4 : Returns 3 + 4\n",
    "    return x ## step 2 "
   ]
  },
  {
   "cell_type": "code",
   "execution_count": 49,
   "id": "bfda1c40",
   "metadata": {
    "ExecuteTime": {
     "end_time": "2023-02-28T16:14:59.068122Z",
     "start_time": "2023-02-28T16:14:59.044509Z"
    }
   },
   "outputs": [
    {
     "data": {
      "text/plain": [
       "7"
      ]
     },
     "execution_count": 49,
     "metadata": {},
     "output_type": "execute_result"
    }
   ],
   "source": [
    "val = f()(3,4) ## (3,4) is a value for the inner function\n",
    "val"
   ]
  },
  {
   "cell_type": "markdown",
   "id": "6ced7465",
   "metadata": {},
   "source": [
    "#### Function as an argument :"
   ]
  },
  {
   "cell_type": "code",
   "execution_count": 51,
   "id": "f56a14d5",
   "metadata": {
    "ExecuteTime": {
     "end_time": "2023-02-28T16:28:32.602792Z",
     "start_time": "2023-02-28T16:28:32.578316Z"
    }
   },
   "outputs": [
    {
     "name": "stdout",
     "output_type": "stream",
     "text": [
      "inside function b\n",
      "inside function a\n",
      "None\n"
     ]
    }
   ],
   "source": [
    "def func_a(): ## Step 4\n",
    "    print('inside function a') ## Step 5\n",
    "\n",
    "def func_b(z): ## Step 1 : where z is func_a\n",
    "    print('inside function b') ## Step 2 \n",
    "    return z() ## Step 3 : its equivalent to func_a()\n",
    "\n",
    "print(func_b(func_a))"
   ]
  },
  {
   "cell_type": "markdown",
   "id": "5dc8eaf3",
   "metadata": {},
   "source": [
    "### Benefits of Using a Function :\n",
    "\n",
    "* Code Modularity : Eg for a login registration program, we could divide the code into different modules such as function for login ,function for registration, function for search. If there is a problem, we could go to that perticular function and make changes rather than searching the entire code.\n",
    "\n",
    "* Code Readibility : Since the code is sub-divided into different functions. We could have different people working on different functions. \n",
    "\n",
    "* Code Reusability : Can be used Multiple times once a function is created."
   ]
  },
  {
   "attachments": {
    "image-2.png": {
     "image/png": "[encoded data removed]"
    }
   },
   "cell_type": "markdown",
   "id": "4ea2ce26",
   "metadata": {},
   "source": [
    "### Lambda Functions :\n",
    "\n",
    "A lambda functions is a small anonymous functions.\n",
    "\n",
    "A lambda function can take any number of arguments, but can only have one expression.\n",
    "\n",
    "![image-2.png](attachment:image-2.png)"
   ]
  },
  {
   "cell_type": "code",
   "execution_count": 53,
   "id": "0319eeb0",
   "metadata": {
    "ExecuteTime": {
     "end_time": "2023-02-28T18:21:48.131053Z",
     "start_time": "2023-02-28T18:21:48.106196Z"
    }
   },
   "outputs": [
    {
     "data": {
      "text/plain": [
       "9"
      ]
     },
     "execution_count": 53,
     "metadata": {},
     "output_type": "execute_result"
    }
   ],
   "source": [
    "sq = lambda x : x**2\n",
    "sq(3)"
   ]
  },
  {
   "cell_type": "code",
   "execution_count": 54,
   "id": "7f1ef4a9",
   "metadata": {
    "ExecuteTime": {
     "end_time": "2023-02-28T18:22:32.966110Z",
     "start_time": "2023-02-28T18:22:32.933037Z"
    }
   },
   "outputs": [
    {
     "data": {
      "text/plain": [
       "5"
      ]
     },
     "execution_count": 54,
     "metadata": {},
     "output_type": "execute_result"
    }
   ],
   "source": [
    "add = lambda x,y: x+y\n",
    "add(2,3)"
   ]
  },
  {
   "cell_type": "code",
   "execution_count": 57,
   "id": "48289b40",
   "metadata": {
    "ExecuteTime": {
     "end_time": "2023-02-28T18:35:17.074101Z",
     "start_time": "2023-02-28T18:35:17.042684Z"
    }
   },
   "outputs": [
    {
     "data": {
      "text/plain": [
       "False"
      ]
     },
     "execution_count": 57,
     "metadata": {},
     "output_type": "execute_result"
    }
   ],
   "source": [
    "str = lambda x : 'a' in x\n",
    "str('Helllo')"
   ]
  },
  {
   "cell_type": "code",
   "execution_count": 58,
   "id": "67091930",
   "metadata": {
    "ExecuteTime": {
     "end_time": "2023-02-28T18:36:27.959583Z",
     "start_time": "2023-02-28T18:36:27.935414Z"
    }
   },
   "outputs": [
    {
     "data": {
      "text/plain": [
       "'even'"
      ]
     },
     "execution_count": 58,
     "metadata": {},
     "output_type": "execute_result"
    }
   ],
   "source": [
    "odd_even = lambda x : 'even' if x%2==0 else 'odd'\n",
    "odd_even(6)"
   ]
  },
  {
   "cell_type": "markdown",
   "id": "0279229f",
   "metadata": {},
   "source": [
    "### Difference between Lambda vs Normal Function :\n",
    "* No Name\n",
    "* lambda has no return value(infact, returns a function if not stored in a variable) \n",
    "* lambda is written in 1 line.\n",
    "* not reusable."
   ]
  },
  {
   "cell_type": "markdown",
   "id": "0ef6c248",
   "metadata": {},
   "source": [
    "### Why use Lambda functions ?\n",
    "They are used with HOF(Higher Order Functions)\n",
    "\n",
    "HOF are functions which return a function or except a function as an input."
   ]
  },
  {
   "cell_type": "markdown",
   "id": "114d2f92",
   "metadata": {},
   "source": [
    "#### Map \n",
    "using Map, we can pass an entire List on which a perticular operation has to be performed and Map would pick each item from the list and perform the operation."
   ]
  },
  {
   "cell_type": "code",
   "execution_count": 60,
   "id": "3c738841",
   "metadata": {
    "ExecuteTime": {
     "end_time": "2023-02-28T18:47:16.372420Z",
     "start_time": "2023-02-28T18:47:16.356516Z"
    }
   },
   "outputs": [
    {
     "data": {
      "text/plain": [
       "[1, 4, 9, 16, 25, 36]"
      ]
     },
     "execution_count": 60,
     "metadata": {},
     "output_type": "execute_result"
    }
   ],
   "source": [
    "## Square of items of a list :\n",
    "\n",
    "list(map(lambda x:x**2,[1,2,3,4,5,6]))"
   ]
  },
  {
   "cell_type": "code",
   "execution_count": 63,
   "id": "d6e947c6",
   "metadata": {
    "ExecuteTime": {
     "end_time": "2023-02-28T18:50:25.742802Z",
     "start_time": "2023-02-28T18:50:25.719580Z"
    }
   },
   "outputs": [
    {
     "data": {
      "text/plain": [
       "['even', 'even', 'even', 'odd', 'odd', 'odd', 'even', 'odd', 'even']"
      ]
     },
     "execution_count": 63,
     "metadata": {},
     "output_type": "execute_result"
    }
   ],
   "source": [
    "## odd/Even labeling of Items :\n",
    "L = [22,34,56,23,453,3,2,453,58]\n",
    "list(map(lambda x : 'even' if x%2 == 0 else 'odd',L))"
   ]
  },
  {
   "cell_type": "code",
   "execution_count": 65,
   "id": "8929092e",
   "metadata": {
    "ExecuteTime": {
     "end_time": "2023-02-28T18:52:42.496400Z",
     "start_time": "2023-02-28T18:52:42.464689Z"
    }
   },
   "outputs": [],
   "source": [
    "## Fetching names from a list of Dictionary :\n",
    "\n",
    "users = [\n",
    "    {\n",
    "        'name':'Rahul',\n",
    "        'age':45,\n",
    "        'gender':'male'\n",
    "    },\n",
    "    {\n",
    "        'name':'Nitin',\n",
    "        'age':55,\n",
    "        'gender':'male'\n",
    "    },\n",
    "    {\n",
    "        'name':'Ankita',\n",
    "        'age':65,\n",
    "        'gender':'female'\n",
    "    }\n",
    "]"
   ]
  },
  {
   "cell_type": "code",
   "execution_count": 80,
   "id": "985b9205",
   "metadata": {
    "ExecuteTime": {
     "end_time": "2023-02-28T18:58:45.984070Z",
     "start_time": "2023-02-28T18:58:45.960021Z"
    }
   },
   "outputs": [
    {
     "data": {
      "text/plain": [
       "['Rahul', 'Nitin', 'Ankita']"
      ]
     },
     "execution_count": 80,
     "metadata": {},
     "output_type": "execute_result"
    }
   ],
   "source": [
    "list(map(lambda x : x['name'],users)) "
   ]
  },
  {
   "cell_type": "markdown",
   "id": "846e94a5",
   "metadata": {},
   "source": [
    "#### Filter\n",
    "HOF that filters data from a list"
   ]
  },
  {
   "cell_type": "code",
   "execution_count": 83,
   "id": "2a2a8395",
   "metadata": {
    "ExecuteTime": {
     "end_time": "2023-02-28T19:04:40.964385Z",
     "start_time": "2023-02-28T19:04:40.939961Z"
    }
   },
   "outputs": [
    {
     "data": {
      "text/plain": [
       "[22, 34, 56, 23, 453, 453, 58]"
      ]
     },
     "execution_count": 83,
     "metadata": {},
     "output_type": "execute_result"
    }
   ],
   "source": [
    "## Number greater than 5\n",
    "\n",
    "L = [22,34,56,23,453,3,2,453,58]\n",
    "\n",
    "list(filter(lambda x : x>5,L))"
   ]
  },
  {
   "cell_type": "code",
   "execution_count": 85,
   "id": "0fe95301",
   "metadata": {
    "ExecuteTime": {
     "end_time": "2023-02-28T19:07:25.171263Z",
     "start_time": "2023-02-28T19:07:25.140656Z"
    }
   },
   "outputs": [
    {
     "data": {
      "text/plain": [
       "['apple', 'apricot']"
      ]
     },
     "execution_count": 85,
     "metadata": {},
     "output_type": "execute_result"
    }
   ],
   "source": [
    "## Fetching the fruit that starts with 'a'\n",
    "\n",
    "fruits = ['apple','banana','cherry','apricot']\n",
    "\n",
    "list(filter(lambda x: x.startswith('a'),fruits))"
   ]
  },
  {
   "cell_type": "markdown",
   "id": "41c799cf",
   "metadata": {},
   "source": [
    "#### Reduce : "
   ]
  },
  {
   "cell_type": "code",
   "execution_count": 86,
   "id": "6633f759",
   "metadata": {
    "ExecuteTime": {
     "end_time": "2023-02-28T19:13:39.885354Z",
     "start_time": "2023-02-28T19:13:39.853753Z"
    }
   },
   "outputs": [
    {
     "data": {
      "text/plain": [
       "15"
      ]
     },
     "execution_count": 86,
     "metadata": {},
     "output_type": "execute_result"
    }
   ],
   "source": [
    "import functools\n",
    "## Sum\n",
    "functools.reduce(lambda x,y : x+y,[1,2,3,4,5])"
   ]
  },
  {
   "cell_type": "code",
   "execution_count": 87,
   "id": "9c9d8ea9",
   "metadata": {
    "ExecuteTime": {
     "end_time": "2023-02-28T19:14:57.336909Z",
     "start_time": "2023-02-28T19:14:57.307565Z"
    }
   },
   "outputs": [
    {
     "data": {
      "text/plain": [
       "2"
      ]
     },
     "execution_count": 87,
     "metadata": {},
     "output_type": "execute_result"
    }
   ],
   "source": [
    "## Min no.\n",
    "functools.reduce(lambda x,y: x if x<y else y,[12,34,23,567,21,2])"
   ]
  },
  {
   "cell_type": "code",
   "execution_count": null,
   "id": "b497df61",
   "metadata": {},
   "outputs": [],
   "source": []
  }
 ],
 "metadata": {
  "kernelspec": {
   "display_name": "Python 3 (ipykernel)",
   "language": "python",
   "name": "python3"
  },
  "language_info": {
   "codemirror_mode": {
    "name": "ipython",
    "version": 3
   },
   "file_extension": ".py",
   "mimetype": "text/x-python",
   "name": "python",
   "nbconvert_exporter": "python",
   "pygments_lexer": "ipython3",
   "version": "3.9.12"
  },
  "toc": {
   "base_numbering": 1,
   "nav_menu": {},
   "number_sections": true,
   "sideBar": true,
   "skip_h1_title": false,
   "title_cell": "Table of Contents",
   "title_sidebar": "Contents",
   "toc_cell": false,
   "toc_position": {},
   "toc_section_display": true,
   "toc_window_display": false
  }
 },
 "nbformat": 4,
 "nbformat_minor": 5
}
