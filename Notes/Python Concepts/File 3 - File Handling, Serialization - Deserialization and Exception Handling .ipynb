{
 "cells": [
  {
   "cell_type": "markdown",
   "id": "4e6aded0",
   "metadata": {
    "ExecuteTime": {
     "end_time": "2023-03-06T19:45:12.208111Z",
     "start_time": "2023-03-06T19:45:12.191297Z"
    }
   },
   "source": [
    "# Types of Data used for I/O:\n",
    "   - Text : '12345' a sequence of unicode Characters\n",
    "   - Binary : 12345 as a sequence of bytes of its binary equivalent.\n",
    "    \n",
    "* Hence there are 2 file types to deal with :\n",
    "   - Text Files : All program files are text files.\n",
    "   - Binary Files : Images,music,video,exe files."
   ]
  },
  {
   "cell_type": "markdown",
   "id": "566ec29a",
   "metadata": {},
   "source": [
    "## How File I/O is done in most Programming Languages :\n",
    "   - Open a File\n",
    "   - Read/Write Data\n",
    "   - Close the File"
   ]
  },
  {
   "cell_type": "markdown",
   "id": "96d5d193",
   "metadata": {},
   "source": [
    "### Writing to a File :"
   ]
  },
  {
   "cell_type": "markdown",
   "id": "ed30edff",
   "metadata": {
    "ExecuteTime": {
     "end_time": "2023-03-06T19:51:58.000284Z",
     "start_time": "2023-03-06T19:51:57.976198Z"
    }
   },
   "source": [
    "#### Case 1 - If the File is not present"
   ]
  },
  {
   "cell_type": "code",
   "execution_count": 4,
   "id": "c951f01c",
   "metadata": {
    "ExecuteTime": {
     "end_time": "2023-03-06T19:55:02.751922Z",
     "start_time": "2023-03-06T19:55:02.727726Z"
    }
   },
   "outputs": [],
   "source": [
    "f = open('sample.txt','w')\n",
    "f.write('HELLO World')\n",
    "f.close() ## Once the file is closed, write operation will not work. We'd have to open the file again in Write mode."
   ]
  },
  {
   "attachments": {
    "image.png": {
     "image/png": "[encoded data removed]"
    }
   },
   "cell_type": "markdown",
   "id": "9cc3f4ca",
   "metadata": {},
   "source": [
    "##### Writing Multiple Strings :\n",
    "\n",
    "![image.png](attachment:image.png)"
   ]
  },
  {
   "cell_type": "code",
   "execution_count": 5,
   "id": "bdf83f8c",
   "metadata": {
    "ExecuteTime": {
     "end_time": "2023-03-06T19:59:59.280751Z",
     "start_time": "2023-03-06T19:59:59.265019Z"
    }
   },
   "outputs": [],
   "source": [
    "f = open('Sample1.txt','w')\n",
    "f.write('Hello World')\n",
    "f.write('\\nHow are you ?')\n",
    "f.close()"
   ]
  },
  {
   "attachments": {
    "image.png": {
     "image/png": "[encoded data removed]"
    }
   },
   "cell_type": "markdown",
   "id": "1acc948e",
   "metadata": {},
   "source": [
    "#### Case 2 : If the File already Exists\n",
    "If we are opening an Existing file and performing a write operation on it, the old content is erased and the new content is added to the file.\n",
    "\n",
    "![image.png](attachment:image.png)"
   ]
  },
  {
   "cell_type": "code",
   "execution_count": 6,
   "id": "f9b85963",
   "metadata": {
    "ExecuteTime": {
     "end_time": "2023-03-06T20:04:28.216829Z",
     "start_time": "2023-03-06T20:04:28.193178Z"
    }
   },
   "outputs": [],
   "source": [
    "f = open('Sample1.txt','w')\n",
    "f.write('Salman Khan')\n",
    "f.close()"
   ]
  },
  {
   "attachments": {
    "image.png": {
     "image/png": "[encoded data removed]"
    }
   },
   "cell_type": "markdown",
   "id": "f9bfa667",
   "metadata": {},
   "source": [
    "#### Case 3:  Write multiple lines in 1 go :\n",
    "\n",
    "![image.png](attachment:image.png)"
   ]
  },
  {
   "cell_type": "code",
   "execution_count": 9,
   "id": "26b2ab21",
   "metadata": {
    "ExecuteTime": {
     "end_time": "2023-03-06T20:17:50.703176Z",
     "start_time": "2023-03-06T20:17:50.679142Z"
    }
   },
   "outputs": [],
   "source": [
    "L = ['Salman\\n','Katrina\\n','Jackie Bhabhi']\n",
    "\n",
    "f = open('Sample1.txt','w')\n",
    "f.writelines(L)\n",
    "f.close()"
   ]
  },
  {
   "attachments": {
    "image-2.png": {
     "image/png": "[encoded data removed]"
    }
   },
   "cell_type": "markdown",
   "id": "d5bdebec",
   "metadata": {},
   "source": [
    "#### Problem with w Mode:\n",
    "* Replaces the entire content of a file to the new content.\n",
    "\n",
    "#### Append 'A' :\n",
    "Used where, we do not want to replace the entire content of a document but we want to append/add new content.\n",
    "\n",
    "![image-2.png](attachment:image-2.png)"
   ]
  },
  {
   "cell_type": "code",
   "execution_count": 10,
   "id": "03250901",
   "metadata": {
    "ExecuteTime": {
     "end_time": "2023-03-06T20:17:53.162363Z",
     "start_time": "2023-03-06T20:17:53.138293Z"
    }
   },
   "outputs": [],
   "source": [
    "f = open('Sample1.txt','a')\n",
    "f.write('\\nDhinka Chika Dhinka Chika Dhinka Chika')\n",
    "f.close()"
   ]
  },
  {
   "cell_type": "markdown",
   "id": "aff9da90",
   "metadata": {},
   "source": [
    "### Reading from Files "
   ]
  },
  {
   "cell_type": "markdown",
   "id": "651f39ec",
   "metadata": {
    "ExecuteTime": {
     "end_time": "2023-03-07T06:38:17.856498Z",
     "start_time": "2023-03-07T06:38:17.841564Z"
    }
   },
   "source": [
    "#### read() :\n",
    "Reads the entire document at once."
   ]
  },
  {
   "cell_type": "code",
   "execution_count": 2,
   "id": "960000c0",
   "metadata": {
    "ExecuteTime": {
     "end_time": "2023-03-07T06:39:17.428749Z",
     "start_time": "2023-03-07T06:39:17.399405Z"
    }
   },
   "outputs": [
    {
     "name": "stdout",
     "output_type": "stream",
     "text": [
      "Salman\n",
      "Katrina\n",
      "Jackie Bhabhi\n",
      "Dhinka Chika Dhinka Chika Dhinka Chika\n"
     ]
    }
   ],
   "source": [
    "f = open('Sample1.txt','r')\n",
    "s = f.read()\n",
    "print(s)\n",
    "f.close()"
   ]
  },
  {
   "cell_type": "markdown",
   "id": "9c618674",
   "metadata": {
    "ExecuteTime": {
     "end_time": "2023-03-07T06:40:51.373851Z",
     "start_time": "2023-03-07T06:40:51.361837Z"
    }
   },
   "source": [
    "#### Reading upto n characters :"
   ]
  },
  {
   "cell_type": "code",
   "execution_count": 4,
   "id": "bd0cd513",
   "metadata": {
    "ExecuteTime": {
     "end_time": "2023-03-07T06:41:11.461561Z",
     "start_time": "2023-03-07T06:41:11.445025Z"
    }
   },
   "outputs": [
    {
     "name": "stdout",
     "output_type": "stream",
     "text": [
      "Salman\n",
      "Kat\n"
     ]
    }
   ],
   "source": [
    "f = open('Sample1.txt','r')\n",
    "s = f.read(10) ## Reads 10 characters\n",
    "print(s)\n",
    "f.close()"
   ]
  },
  {
   "cell_type": "markdown",
   "id": "b26ea2ed",
   "metadata": {},
   "source": [
    "#### readline():\n",
    "Reads document line by line."
   ]
  },
  {
   "cell_type": "code",
   "execution_count": 5,
   "id": "abfd06e5",
   "metadata": {
    "ExecuteTime": {
     "end_time": "2023-03-07T06:43:27.929610Z",
     "start_time": "2023-03-07T06:43:27.916664Z"
    }
   },
   "outputs": [
    {
     "name": "stdout",
     "output_type": "stream",
     "text": [
      "Salman\n",
      "\n",
      "Katrina\n",
      "\n"
     ]
    }
   ],
   "source": [
    "f = open('Sample1.txt','r')\n",
    "print(f.readline())\n",
    "print(f.readline())\n",
    "f.close()"
   ]
  },
  {
   "cell_type": "markdown",
   "id": "5c569ab6",
   "metadata": {},
   "source": [
    "We see 2 lines gap in the text printed, that is because readlines also goes to the next line and so does \\n in the document."
   ]
  },
  {
   "cell_type": "code",
   "execution_count": 6,
   "id": "c93d88bf",
   "metadata": {
    "ExecuteTime": {
     "end_time": "2023-03-07T06:44:55.859571Z",
     "start_time": "2023-03-07T06:44:55.828490Z"
    }
   },
   "outputs": [
    {
     "name": "stdout",
     "output_type": "stream",
     "text": [
      "Salman\n",
      "Katrina\n"
     ]
    }
   ],
   "source": [
    "f = open('Sample1.txt','r')\n",
    "print(f.readline(),end='')\n",
    "print(f.readline(),end='')\n",
    "f.close()"
   ]
  },
  {
   "cell_type": "markdown",
   "id": "7bee6477",
   "metadata": {},
   "source": [
    "#### Reading the entire document using readline"
   ]
  },
  {
   "cell_type": "code",
   "execution_count": 7,
   "id": "3c906c42",
   "metadata": {
    "ExecuteTime": {
     "end_time": "2023-03-07T06:52:18.296373Z",
     "start_time": "2023-03-07T06:52:18.276371Z"
    }
   },
   "outputs": [
    {
     "name": "stdout",
     "output_type": "stream",
     "text": [
      "Salman\n",
      "Katrina\n",
      "Jackie Bhabhi\n",
      "Dhinka Chika Dhinka Chika Dhinka Chika"
     ]
    }
   ],
   "source": [
    "f = open('Sample1.txt', 'r')\n",
    "\n",
    "while True:\n",
    "\n",
    "    data = f.readline()\n",
    "\n",
    "    if data == '':\n",
    "        break\n",
    "\n",
    "    else:\n",
    "        print(data, end='')\n",
    "\n",
    "f.close()"
   ]
  },
  {
   "cell_type": "markdown",
   "id": "918a6e9f",
   "metadata": {
    "ExecuteTime": {
     "end_time": "2023-03-07T06:53:19.740831Z",
     "start_time": "2023-03-07T06:53:19.724980Z"
    }
   },
   "source": [
    "#### With using Context Manager :\n",
    "* It's a good idea to close a file after usage as it will free up the resources.\n",
    "* If we don't close it, garbage collector would eventually close it.\n",
    "* with keyword closes the file as soon as the usage is over."
   ]
  },
  {
   "cell_type": "code",
   "execution_count": 10,
   "id": "381e112b",
   "metadata": {
    "ExecuteTime": {
     "end_time": "2023-03-07T07:02:17.095932Z",
     "start_time": "2023-03-07T07:02:17.064638Z"
    }
   },
   "outputs": [],
   "source": [
    "with open ('Sample.txt', 'w') as f:\n",
    "    f.write('John Abraham')"
   ]
  },
  {
   "cell_type": "code",
   "execution_count": 11,
   "id": "061a248a",
   "metadata": {
    "ExecuteTime": {
     "end_time": "2023-03-07T07:02:33.490399Z",
     "start_time": "2023-03-07T07:02:33.461492Z"
    }
   },
   "outputs": [
    {
     "ename": "ValueError",
     "evalue": "I/O operation on closed file.",
     "output_type": "error",
     "traceback": [
      "\u001b[1;31m---------------------------------------------------------------------------\u001b[0m",
      "\u001b[1;31mValueError\u001b[0m                                Traceback (most recent call last)",
      "\u001b[1;32m~\\AppData\\Local\\Temp\\ipykernel_18564\\1146076080.py\u001b[0m in \u001b[0;36m<cell line: 1>\u001b[1;34m()\u001b[0m\n\u001b[1;32m----> 1\u001b[1;33m \u001b[0mf\u001b[0m\u001b[1;33m.\u001b[0m\u001b[0mwrite\u001b[0m\u001b[1;33m(\u001b[0m\u001b[1;34m'Bips'\u001b[0m\u001b[1;33m)\u001b[0m\u001b[1;33m\u001b[0m\u001b[1;33m\u001b[0m\u001b[0m\n\u001b[0m",
      "\u001b[1;31mValueError\u001b[0m: I/O operation on closed file."
     ]
    }
   ],
   "source": [
    "f.write('Bips') ## Shows the file is closed."
   ]
  },
  {
   "cell_type": "code",
   "execution_count": 13,
   "id": "a90da16a",
   "metadata": {
    "ExecuteTime": {
     "end_time": "2023-03-07T07:04:54.141102Z",
     "start_time": "2023-03-07T07:04:54.111749Z"
    }
   },
   "outputs": [
    {
     "name": "stdout",
     "output_type": "stream",
     "text": [
      "Salman\n",
      "Katrina\n",
      "Jackie Bhabhi\n",
      "Dhinka Chika Dhinka Chika Dhinka Chika\n"
     ]
    }
   ],
   "source": [
    "with open('Sample1.txt', 'r') as f:\n",
    "    print(f.read())"
   ]
  },
  {
   "cell_type": "markdown",
   "id": "b3d8f81f",
   "metadata": {},
   "source": [
    "#### Moving with in a File :\n",
    "printing 10 characters then next 10 so that then ram is not too loaded incase of a very big file."
   ]
  },
  {
   "cell_type": "code",
   "execution_count": 14,
   "id": "139ee74c",
   "metadata": {
    "ExecuteTime": {
     "end_time": "2023-03-07T07:10:39.116597Z",
     "start_time": "2023-03-07T07:10:39.087078Z"
    }
   },
   "outputs": [
    {
     "name": "stdout",
     "output_type": "stream",
     "text": [
      "Salman\n",
      "Kat\n"
     ]
    }
   ],
   "source": [
    "with open('Sample1.txt', 'r') as f:\n",
    "    print(f.read(10))"
   ]
  },
  {
   "cell_type": "code",
   "execution_count": 15,
   "id": "2607fe6a",
   "metadata": {
    "ExecuteTime": {
     "end_time": "2023-03-07T07:10:53.764016Z",
     "start_time": "2023-03-07T07:10:53.748744Z"
    }
   },
   "outputs": [
    {
     "name": "stdout",
     "output_type": "stream",
     "text": [
      "Salman\n",
      "Kat\n",
      "rina\n",
      "Jacki\n"
     ]
    }
   ],
   "source": [
    "with open('Sample1.txt', 'r') as f:\n",
    "    print(f.read(10))\n",
    "    print(f.read(10))"
   ]
  },
  {
   "cell_type": "markdown",
   "id": "d0e6e7b4",
   "metadata": {},
   "source": [
    "#### Loading a big file in chunks :"
   ]
  },
  {
   "cell_type": "code",
   "execution_count": 3,
   "id": "ca6ad782",
   "metadata": {
    "ExecuteTime": {
     "end_time": "2023-03-07T13:19:33.365731Z",
     "start_time": "2023-03-07T13:19:33.341831Z"
    }
   },
   "outputs": [
    {
     "name": "stdout",
     "output_type": "stream",
     "text": [
      "Salman\n",
      "**Katrina\n",
      "**Jackie Bha**bhi\n",
      "**Dhinka Chi**ka Dhinka **Chika Dhin**ka Chika**"
     ]
    }
   ],
   "source": [
    "with open('Sample1.txt','r') as f:\n",
    "    \n",
    "    chunk_size = 10\n",
    "\n",
    "    while True:\n",
    "\n",
    "        data = f.readline(chunk_size)\n",
    "\n",
    "        if data == '':\n",
    "            break\n",
    "\n",
    "        else:\n",
    "            print(data, end='**')\n"
   ]
  },
  {
   "cell_type": "markdown",
   "id": "edf4ae9f",
   "metadata": {},
   "source": [
    "#### Seek & Tell :\n",
    "\n",
    "- Tell : Lets us know what position is the cursor is currently at.\n",
    "- Seek : Let's us take the cursor to the index position where we want."
   ]
  },
  {
   "cell_type": "code",
   "execution_count": 9,
   "id": "816a3f90",
   "metadata": {
    "ExecuteTime": {
     "end_time": "2023-03-07T13:23:32.958012Z",
     "start_time": "2023-03-07T13:23:32.933971Z"
    }
   },
   "outputs": [
    {
     "name": "stdout",
     "output_type": "stream",
     "text": [
      "Salman\n",
      "Kat\n",
      "11\n",
      "\n",
      "kie Bhabhi\n",
      "Dhin36\n"
     ]
    }
   ],
   "source": [
    "with open('Sample1.txt','r') as f:\n",
    "    print(f.read(10))\n",
    "    print(f.tell())\n",
    "    print()\n",
    "    \n",
    "    f.seek(20)\n",
    "    print(f.read(15),end='')\n",
    "    print(f.tell())"
   ]
  },
  {
   "cell_type": "markdown",
   "id": "df1c14e1",
   "metadata": {},
   "source": [
    "#### Seek during write :"
   ]
  },
  {
   "cell_type": "code",
   "execution_count": 10,
   "id": "621c2922",
   "metadata": {
    "ExecuteTime": {
     "end_time": "2023-03-07T13:26:55.968258Z",
     "start_time": "2023-03-07T13:26:55.936700Z"
    }
   },
   "outputs": [],
   "source": [
    "with open('Sample.txt','w') as f:\n",
    "    f.write('Hello')\n",
    "    f.seek(0)\n",
    "    f.write('X')   "
   ]
  },
  {
   "cell_type": "code",
   "execution_count": 12,
   "id": "57fc2b18",
   "metadata": {
    "ExecuteTime": {
     "end_time": "2023-03-07T13:27:56.852605Z",
     "start_time": "2023-03-07T13:27:56.828631Z"
    }
   },
   "outputs": [
    {
     "name": "stdout",
     "output_type": "stream",
     "text": [
      "Xello\n"
     ]
    }
   ],
   "source": [
    "with open('Sample.txt','r') as f:\n",
    "    print(f.read())"
   ]
  },
  {
   "cell_type": "markdown",
   "id": "ee25b026",
   "metadata": {
    "ExecuteTime": {
     "end_time": "2023-03-07T13:28:50.298547Z",
     "start_time": "2023-03-07T13:28:50.227709Z"
    }
   },
   "source": [
    "Here, we wee the entire text is not replaced with X but just the index position with number of characters to be written."
   ]
  },
  {
   "cell_type": "code",
   "execution_count": 14,
   "id": "ca18f899",
   "metadata": {
    "ExecuteTime": {
     "end_time": "2023-03-07T13:29:34.591970Z",
     "start_time": "2023-03-07T13:29:34.560911Z"
    }
   },
   "outputs": [
    {
     "name": "stdout",
     "output_type": "stream",
     "text": [
      "Jallo\n"
     ]
    }
   ],
   "source": [
    "with open('Sample.txt','w') as f:\n",
    "    f.write('Hello')\n",
    "    f.seek(0)\n",
    "    f.write('Ja')   \n",
    "    \n",
    "with open('Sample.txt','r') as f:\n",
    "    print(f.read())"
   ]
  },
  {
   "cell_type": "markdown",
   "id": "739d7eb8",
   "metadata": {},
   "source": [
    "### Problem with working in Text Mode :\n",
    "- Can not work with Binary Files like Images.\n",
    "- Not good for other Data types like int/float/list/tuples"
   ]
  },
  {
   "cell_type": "markdown",
   "id": "884b06e0",
   "metadata": {},
   "source": [
    "## Working With Binary Files :"
   ]
  },
  {
   "cell_type": "code",
   "execution_count": 18,
   "id": "12343fbf",
   "metadata": {
    "ExecuteTime": {
     "end_time": "2023-03-07T13:44:08.159414Z",
     "start_time": "2023-03-07T13:44:08.136183Z"
    }
   },
   "outputs": [],
   "source": [
    "with open (r\"C:\\Users\\prate\\OneDrive\\Pictures\\Screenshots\\Screenshot_20221029_110530.png\",\"rb\") as f:  ## Open the file in rb - read Binary\n",
    "    with open('Screenshoot_copy.png','wb') as wf: ## Open a new file to make a copy of original file\n",
    "        wf.write(f.read())  ## Write the file to make a copy"
   ]
  },
  {
   "cell_type": "markdown",
   "id": "157213a1",
   "metadata": {
    "ExecuteTime": {
     "end_time": "2023-03-07T13:47:19.130434Z",
     "start_time": "2023-03-07T13:47:19.106418Z"
    }
   },
   "source": [
    "## Working on other Data types :\n",
    "We see we below that we cannot add any other data type we have to convert it to string Data Type only."
   ]
  },
  {
   "cell_type": "code",
   "execution_count": 20,
   "id": "d578be96",
   "metadata": {
    "ExecuteTime": {
     "end_time": "2023-03-07T13:50:51.177156Z",
     "start_time": "2023-03-07T13:50:50.444615Z"
    }
   },
   "outputs": [
    {
     "ename": "TypeError",
     "evalue": "write() argument must be str, not int",
     "output_type": "error",
     "traceback": [
      "\u001b[1;31m---------------------------------------------------------------------------\u001b[0m",
      "\u001b[1;31mTypeError\u001b[0m                                 Traceback (most recent call last)",
      "\u001b[1;32m~\\AppData\\Local\\Temp\\ipykernel_16068\\3539725270.py\u001b[0m in \u001b[0;36m<cell line: 1>\u001b[1;34m()\u001b[0m\n\u001b[0;32m      1\u001b[0m \u001b[1;32mwith\u001b[0m \u001b[0mopen\u001b[0m\u001b[1;33m(\u001b[0m\u001b[1;34m'sample.txt'\u001b[0m\u001b[1;33m,\u001b[0m\u001b[1;34m'w'\u001b[0m\u001b[1;33m)\u001b[0m \u001b[1;32mas\u001b[0m \u001b[0mf\u001b[0m\u001b[1;33m:\u001b[0m\u001b[1;33m\u001b[0m\u001b[1;33m\u001b[0m\u001b[0m\n\u001b[1;32m----> 2\u001b[1;33m     \u001b[0mf\u001b[0m\u001b[1;33m.\u001b[0m\u001b[0mwrite\u001b[0m\u001b[1;33m(\u001b[0m\u001b[1;36m5\u001b[0m\u001b[1;33m)\u001b[0m\u001b[1;33m\u001b[0m\u001b[1;33m\u001b[0m\u001b[0m\n\u001b[0m",
      "\u001b[1;31mTypeError\u001b[0m: write() argument must be str, not int"
     ]
    }
   ],
   "source": [
    "with open('sample.txt','w') as f:\n",
    "    f.write(5) ## Int data type not allowed"
   ]
  },
  {
   "cell_type": "code",
   "execution_count": 21,
   "id": "6bd50ec2",
   "metadata": {
    "ExecuteTime": {
     "end_time": "2023-03-07T13:52:32.225205Z",
     "start_time": "2023-03-07T13:52:32.201016Z"
    }
   },
   "outputs": [],
   "source": [
    "with open('sample.txt','w') as f:\n",
    "    f.write('5')  ## Pass the data in string format."
   ]
  },
  {
   "cell_type": "code",
   "execution_count": 22,
   "id": "459f9c39",
   "metadata": {
    "ExecuteTime": {
     "end_time": "2023-03-07T13:54:20.901120Z",
     "start_time": "2023-03-07T13:54:20.877086Z"
    }
   },
   "outputs": [
    {
     "name": "stdout",
     "output_type": "stream",
     "text": [
      "Data Type ==>  <class 'str'> \n"
     ]
    }
   ],
   "source": [
    "with open('sample.txt','r') as f:\n",
    "    print('Data Type ==> ',type(f.read()),f.read())"
   ]
  },
  {
   "cell_type": "code",
   "execution_count": 23,
   "id": "1216159e",
   "metadata": {
    "ExecuteTime": {
     "end_time": "2023-03-07T13:54:55.532201Z",
     "start_time": "2023-03-07T13:54:55.492619Z"
    }
   },
   "outputs": [
    {
     "name": "stdout",
     "output_type": "stream",
     "text": [
      "Data Type ==>  <class 'str'> \n"
     ]
    },
    {
     "ename": "TypeError",
     "evalue": "can only concatenate str (not \"int\") to str",
     "output_type": "error",
     "traceback": [
      "\u001b[1;31m---------------------------------------------------------------------------\u001b[0m",
      "\u001b[1;31mTypeError\u001b[0m                                 Traceback (most recent call last)",
      "\u001b[1;32m~\\AppData\\Local\\Temp\\ipykernel_16068\\2265408407.py\u001b[0m in \u001b[0;36m<cell line: 3>\u001b[1;34m()\u001b[0m\n\u001b[0;32m      3\u001b[0m \u001b[1;32mwith\u001b[0m \u001b[0mopen\u001b[0m\u001b[1;33m(\u001b[0m\u001b[1;34m'sample.txt'\u001b[0m\u001b[1;33m,\u001b[0m\u001b[1;34m'r'\u001b[0m\u001b[1;33m)\u001b[0m \u001b[1;32mas\u001b[0m \u001b[0mf\u001b[0m\u001b[1;33m:\u001b[0m\u001b[1;33m\u001b[0m\u001b[1;33m\u001b[0m\u001b[0m\n\u001b[0;32m      4\u001b[0m     \u001b[0mprint\u001b[0m\u001b[1;33m(\u001b[0m\u001b[1;34m'Data Type ==> '\u001b[0m\u001b[1;33m,\u001b[0m\u001b[0mtype\u001b[0m\u001b[1;33m(\u001b[0m\u001b[0mf\u001b[0m\u001b[1;33m.\u001b[0m\u001b[0mread\u001b[0m\u001b[1;33m(\u001b[0m\u001b[1;33m)\u001b[0m\u001b[1;33m)\u001b[0m\u001b[1;33m,\u001b[0m\u001b[0mf\u001b[0m\u001b[1;33m.\u001b[0m\u001b[0mread\u001b[0m\u001b[1;33m(\u001b[0m\u001b[1;33m)\u001b[0m\u001b[1;33m)\u001b[0m\u001b[1;33m\u001b[0m\u001b[1;33m\u001b[0m\u001b[0m\n\u001b[1;32m----> 5\u001b[1;33m     \u001b[0mprint\u001b[0m\u001b[1;33m(\u001b[0m\u001b[0mf\u001b[0m\u001b[1;33m.\u001b[0m\u001b[0mread\u001b[0m\u001b[1;33m(\u001b[0m\u001b[1;33m)\u001b[0m\u001b[1;33m+\u001b[0m\u001b[1;36m5\u001b[0m\u001b[1;33m)\u001b[0m\u001b[1;33m\u001b[0m\u001b[1;33m\u001b[0m\u001b[0m\n\u001b[0m",
      "\u001b[1;31mTypeError\u001b[0m: can only concatenate str (not \"int\") to str"
     ]
    }
   ],
   "source": [
    "## Operations as below would not work :\n",
    "\n",
    "with open('sample.txt','r') as f:\n",
    "    print('Data Type ==> ',type(f.read()),f.read())\n",
    "    print(f.read()+5)"
   ]
  },
  {
   "cell_type": "code",
   "execution_count": 25,
   "id": "c96286d6",
   "metadata": {
    "ExecuteTime": {
     "end_time": "2023-03-07T13:56:40.363164Z",
     "start_time": "2023-03-07T13:56:40.338740Z"
    }
   },
   "outputs": [
    {
     "name": "stdout",
     "output_type": "stream",
     "text": [
      "10\n"
     ]
    }
   ],
   "source": [
    "## We'd have to explicitly convert the data type for the code to work :\n",
    "\n",
    "with open('sample.txt','r') as f:\n",
    "    print(int(f.read())+5)    ## Data Type Conversion"
   ]
  },
  {
   "cell_type": "code",
   "execution_count": 26,
   "id": "c81c7ce9",
   "metadata": {
    "ExecuteTime": {
     "end_time": "2023-03-07T14:00:51.385819Z",
     "start_time": "2023-03-07T14:00:51.353810Z"
    }
   },
   "outputs": [
    {
     "ename": "TypeError",
     "evalue": "write() argument must be str, not dict",
     "output_type": "error",
     "traceback": [
      "\u001b[1;31m---------------------------------------------------------------------------\u001b[0m",
      "\u001b[1;31mTypeError\u001b[0m                                 Traceback (most recent call last)",
      "\u001b[1;32m~\\AppData\\Local\\Temp\\ipykernel_16068\\3279681928.py\u001b[0m in \u001b[0;36m<cell line: 9>\u001b[1;34m()\u001b[0m\n\u001b[0;32m      8\u001b[0m \u001b[1;33m\u001b[0m\u001b[0m\n\u001b[0;32m      9\u001b[0m \u001b[1;32mwith\u001b[0m \u001b[0mopen\u001b[0m\u001b[1;33m(\u001b[0m\u001b[1;34m'sample.txt'\u001b[0m\u001b[1;33m,\u001b[0m\u001b[1;34m'w'\u001b[0m\u001b[1;33m)\u001b[0m \u001b[1;32mas\u001b[0m \u001b[0mf\u001b[0m\u001b[1;33m:\u001b[0m\u001b[1;33m\u001b[0m\u001b[1;33m\u001b[0m\u001b[0m\n\u001b[1;32m---> 10\u001b[1;33m     \u001b[0mf\u001b[0m\u001b[1;33m.\u001b[0m\u001b[0mwrite\u001b[0m\u001b[1;33m(\u001b[0m\u001b[0md\u001b[0m\u001b[1;33m)\u001b[0m\u001b[1;33m\u001b[0m\u001b[1;33m\u001b[0m\u001b[0m\n\u001b[0m",
      "\u001b[1;31mTypeError\u001b[0m: write() argument must be str, not dict"
     ]
    }
   ],
   "source": [
    "##### Example with Dict.\n",
    "\n",
    "d = {\n",
    "    'name':'Prateek',\n",
    "    'age':33,\n",
    "    'Gender' : 'Male'\n",
    "}\n",
    "\n",
    "with open('sample.txt','w') as f:\n",
    "    f.write(d)"
   ]
  },
  {
   "cell_type": "code",
   "execution_count": 27,
   "id": "79bd9abe",
   "metadata": {
    "ExecuteTime": {
     "end_time": "2023-03-07T14:02:37.680397Z",
     "start_time": "2023-03-07T14:02:37.656410Z"
    }
   },
   "outputs": [],
   "source": [
    "d = {\n",
    "    'name':'Prateek',\n",
    "    'age':33,\n",
    "    'Gender' : 'Male'\n",
    "}\n",
    "\n",
    "with open('sample.txt','w') as f:\n",
    "    f.write(str(d))"
   ]
  },
  {
   "cell_type": "code",
   "execution_count": 29,
   "id": "85b64a6e",
   "metadata": {
    "ExecuteTime": {
     "end_time": "2023-03-07T14:03:39.269044Z",
     "start_time": "2023-03-07T14:03:39.237613Z"
    }
   },
   "outputs": [
    {
     "name": "stdout",
     "output_type": "stream",
     "text": [
      "{'name': 'Prateek', 'age': 33, 'Gender': 'Male'}\n",
      "<class 'str'>\n"
     ]
    }
   ],
   "source": [
    "with open('sample.txt','r') as f:\n",
    "    print(f.read())\n",
    "    print(type(f.read()))"
   ]
  },
  {
   "cell_type": "code",
   "execution_count": 30,
   "id": "6ae74a56",
   "metadata": {
    "ExecuteTime": {
     "end_time": "2023-03-07T14:05:50.863825Z",
     "start_time": "2023-03-07T14:05:50.824692Z"
    }
   },
   "outputs": [
    {
     "ename": "ValueError",
     "evalue": "dictionary update sequence element #0 has length 1; 2 is required",
     "output_type": "error",
     "traceback": [
      "\u001b[1;31m---------------------------------------------------------------------------\u001b[0m",
      "\u001b[1;31mValueError\u001b[0m                                Traceback (most recent call last)",
      "\u001b[1;32m~\\AppData\\Local\\Temp\\ipykernel_16068\\1868317307.py\u001b[0m in \u001b[0;36m<cell line: 3>\u001b[1;34m()\u001b[0m\n\u001b[0;32m      2\u001b[0m \u001b[1;33m\u001b[0m\u001b[0m\n\u001b[0;32m      3\u001b[0m \u001b[1;32mwith\u001b[0m \u001b[0mopen\u001b[0m\u001b[1;33m(\u001b[0m\u001b[1;34m'sample.txt'\u001b[0m\u001b[1;33m,\u001b[0m\u001b[1;34m'r'\u001b[0m\u001b[1;33m)\u001b[0m \u001b[1;32mas\u001b[0m \u001b[0mf\u001b[0m\u001b[1;33m:\u001b[0m\u001b[1;33m\u001b[0m\u001b[1;33m\u001b[0m\u001b[0m\n\u001b[1;32m----> 4\u001b[1;33m     \u001b[0mprint\u001b[0m\u001b[1;33m(\u001b[0m\u001b[0mdict\u001b[0m\u001b[1;33m(\u001b[0m\u001b[0mf\u001b[0m\u001b[1;33m.\u001b[0m\u001b[0mread\u001b[0m\u001b[1;33m(\u001b[0m\u001b[1;33m)\u001b[0m\u001b[1;33m)\u001b[0m\u001b[1;33m)\u001b[0m\u001b[1;33m\u001b[0m\u001b[1;33m\u001b[0m\u001b[0m\n\u001b[0m",
      "\u001b[1;31mValueError\u001b[0m: dictionary update sequence element #0 has length 1; 2 is required"
     ]
    }
   ],
   "source": [
    "## But to work on Dictionary, we try to convert it dict type but it'd throw an error \n",
    "## because we cannot convert a str to Dict as the info about the key and value is lost.\n",
    "\n",
    "with open('sample.txt','r') as f:\n",
    "    print(dict(f.read()))"
   ]
  },
  {
   "cell_type": "markdown",
   "id": "00c70700",
   "metadata": {},
   "source": [
    "# Serialization and Deserialization :\n",
    "\n",
    "- Serialization : Process of converting Python Data types to JSON format.\n",
    "- Deserialization : Process of converting JSON data types to Python Format."
   ]
  },
  {
   "cell_type": "markdown",
   "id": "3083ad53",
   "metadata": {},
   "source": [
    "## What is JSON?\n",
    "\n",
    "Java Script on Notation. Universal Data type that is understood by all the languages. Looks like key value pairs in Pyton."
   ]
  },
  {
   "cell_type": "markdown",
   "id": "e75485cf",
   "metadata": {},
   "source": [
    "### Serialization using JSON module :"
   ]
  },
  {
   "cell_type": "markdown",
   "id": "dad07d94",
   "metadata": {},
   "source": [
    "#### Example List :"
   ]
  },
  {
   "cell_type": "code",
   "execution_count": 31,
   "id": "c2bfcbe3",
   "metadata": {
    "ExecuteTime": {
     "end_time": "2023-03-07T14:14:47.919340Z",
     "start_time": "2023-03-07T14:14:47.895195Z"
    }
   },
   "outputs": [],
   "source": [
    "import json"
   ]
  },
  {
   "cell_type": "code",
   "execution_count": 39,
   "id": "7c44c19c",
   "metadata": {
    "ExecuteTime": {
     "end_time": "2023-03-07T14:24:17.695812Z",
     "start_time": "2023-03-07T14:24:17.672643Z"
    }
   },
   "outputs": [],
   "source": [
    "L = [1,2,3,4,'fat',['Salman','Khan']]\n",
    "\n",
    "with open ('demo.json','w') as f:\n",
    "    json.dump(L,f)"
   ]
  },
  {
   "cell_type": "markdown",
   "id": "3337ee68",
   "metadata": {},
   "source": [
    "### Deserialization :"
   ]
  },
  {
   "cell_type": "code",
   "execution_count": 40,
   "id": "2f7f7ab8",
   "metadata": {
    "ExecuteTime": {
     "end_time": "2023-03-07T14:24:21.635274Z",
     "start_time": "2023-03-07T14:24:21.620295Z"
    }
   },
   "outputs": [
    {
     "name": "stdout",
     "output_type": "stream",
     "text": [
      "[1, 2, 3, 4, 'fat', ['Salman', 'Khan']]\n",
      "<class 'list'>\n"
     ]
    }
   ],
   "source": [
    "with open ('demo.json','r') as f:\n",
    "    d= json.load(f)\n",
    "    print(d)\n",
    "    print(type(d))"
   ]
  },
  {
   "cell_type": "markdown",
   "id": "5963d626",
   "metadata": {},
   "source": [
    "#### Example with Dictionary :"
   ]
  },
  {
   "cell_type": "code",
   "execution_count": 47,
   "id": "aed16172",
   "metadata": {
    "ExecuteTime": {
     "end_time": "2023-03-07T16:41:18.561201Z",
     "start_time": "2023-03-07T16:41:18.537720Z"
    }
   },
   "outputs": [],
   "source": [
    "d = {\n",
    "    'name':'Prateek',\n",
    "    'age':33,\n",
    "    'Gender' : 'Male'\n",
    "}\n",
    "\n",
    "with open('demo.json','w') as f:\n",
    "    json.dump(d,f,indent=4) ## Indent 4 is used to view the code in a multiple lines instead of 1."
   ]
  },
  {
   "cell_type": "code",
   "execution_count": 49,
   "id": "d8f46cae",
   "metadata": {
    "ExecuteTime": {
     "end_time": "2023-03-07T16:41:40.985704Z",
     "start_time": "2023-03-07T16:41:40.961012Z"
    }
   },
   "outputs": [
    {
     "name": "stdout",
     "output_type": "stream",
     "text": [
      "{'name': 'Prateek', 'age': 33, 'Gender': 'Male'}\n",
      "<class 'dict'>\n"
     ]
    }
   ],
   "source": [
    "with open ('demo.json','r') as f:\n",
    "    d= json.load(f)\n",
    "    print(d)\n",
    "    print(type(d))"
   ]
  },
  {
   "cell_type": "markdown",
   "id": "740d04ae",
   "metadata": {},
   "source": [
    "#### Example with Tuple :\n",
    "\n",
    "A Tuple is converted to list while saving it as json file."
   ]
  },
  {
   "cell_type": "code",
   "execution_count": 50,
   "id": "59340e68",
   "metadata": {
    "ExecuteTime": {
     "end_time": "2023-03-07T16:41:44.384847Z",
     "start_time": "2023-03-07T16:41:44.360812Z"
    }
   },
   "outputs": [],
   "source": [
    "t = (1,2,3,4,5)\n",
    "\n",
    "with open('demo.json','w') as f:\n",
    "    json.dump(t,f,indent=4)"
   ]
  },
  {
   "cell_type": "code",
   "execution_count": 51,
   "id": "2d955815",
   "metadata": {
    "ExecuteTime": {
     "end_time": "2023-03-07T16:41:48.811948Z",
     "start_time": "2023-03-07T16:41:48.787843Z"
    }
   },
   "outputs": [
    {
     "name": "stdout",
     "output_type": "stream",
     "text": [
      "[1, 2, 3, 4, 5]\n",
      "<class 'list'>\n"
     ]
    }
   ],
   "source": [
    "with open ('demo.json','r') as f:\n",
    "    d= json.load(f)\n",
    "    print(d)\n",
    "    print(type(d))"
   ]
  },
  {
   "cell_type": "markdown",
   "id": "5a795020",
   "metadata": {},
   "source": [
    "#### Example with nested dict :"
   ]
  },
  {
   "cell_type": "code",
   "execution_count": 52,
   "id": "f508c050",
   "metadata": {
    "ExecuteTime": {
     "end_time": "2023-03-07T16:46:35.869878Z",
     "start_time": "2023-03-07T16:46:35.846069Z"
    }
   },
   "outputs": [],
   "source": [
    "d = {\n",
    "    'name':'Prateek',\n",
    "    'Marks': [43,57,89,65]\n",
    "}\n",
    "\n",
    "with open ('demo.json','w') as f:\n",
    "    json.dump(d,f)"
   ]
  },
  {
   "cell_type": "code",
   "execution_count": 53,
   "id": "d908ce4c",
   "metadata": {
    "ExecuteTime": {
     "end_time": "2023-03-07T16:48:36.729958Z",
     "start_time": "2023-03-07T16:48:36.705831Z"
    }
   },
   "outputs": [
    {
     "name": "stdout",
     "output_type": "stream",
     "text": [
      "{'name': 'Prateek', 'Marks': [43, 57, 89, 65]}\n",
      "<class 'dict'>\n"
     ]
    }
   ],
   "source": [
    "with open ('demo.json','r') as f:\n",
    "    df = json.load(f)\n",
    "    print(df)\n",
    "    print(type(df))"
   ]
  },
  {
   "cell_type": "markdown",
   "id": "2711206f",
   "metadata": {},
   "source": [
    "#### Serialization and Deserialization Custom Objects :"
   ]
  },
  {
   "cell_type": "code",
   "execution_count": 54,
   "id": "1fa27d46",
   "metadata": {
    "ExecuteTime": {
     "end_time": "2023-03-07T17:04:29.410904Z",
     "start_time": "2023-03-07T17:04:29.386508Z"
    }
   },
   "outputs": [],
   "source": [
    "class Person:\n",
    "    \n",
    "    def __init__(self,fname,lname,age,gender):\n",
    "        self.fname = fname\n",
    "        self.lname = lname\n",
    "        self.age = age\n",
    "        self.gender = gender"
   ]
  },
  {
   "cell_type": "markdown",
   "id": "688f1ee7",
   "metadata": {},
   "source": [
    "Format to print in :\n",
    "Prateek---AP-Age -->33, gender--->male"
   ]
  },
  {
   "cell_type": "code",
   "execution_count": 55,
   "id": "0ca02734",
   "metadata": {
    "ExecuteTime": {
     "end_time": "2023-03-07T17:06:42.727197Z",
     "start_time": "2023-03-07T17:06:42.703489Z"
    }
   },
   "outputs": [],
   "source": [
    "person = Person('Prateek','AP',33,'Male')"
   ]
  },
  {
   "cell_type": "code",
   "execution_count": 56,
   "id": "bd95f3cf",
   "metadata": {
    "ExecuteTime": {
     "end_time": "2023-03-07T17:12:18.335542Z",
     "start_time": "2023-03-07T17:12:18.196560Z"
    }
   },
   "outputs": [
    {
     "ename": "TypeError",
     "evalue": "Object of type Person is not JSON serializable",
     "output_type": "error",
     "traceback": [
      "\u001b[1;31m---------------------------------------------------------------------------\u001b[0m",
      "\u001b[1;31mTypeError\u001b[0m                                 Traceback (most recent call last)",
      "\u001b[1;32m~\\AppData\\Local\\Temp\\ipykernel_16068\\3610273572.py\u001b[0m in \u001b[0;36m<cell line: 5>\u001b[1;34m()\u001b[0m\n\u001b[0;32m      4\u001b[0m \u001b[1;33m\u001b[0m\u001b[0m\n\u001b[0;32m      5\u001b[0m \u001b[1;32mwith\u001b[0m \u001b[0mopen\u001b[0m \u001b[1;33m(\u001b[0m\u001b[1;34m'demo.json'\u001b[0m\u001b[1;33m,\u001b[0m\u001b[1;34m'w'\u001b[0m\u001b[1;33m)\u001b[0m \u001b[1;32mas\u001b[0m \u001b[0mf\u001b[0m\u001b[1;33m:\u001b[0m\u001b[1;33m\u001b[0m\u001b[1;33m\u001b[0m\u001b[0m\n\u001b[1;32m----> 6\u001b[1;33m     \u001b[0mjson\u001b[0m\u001b[1;33m.\u001b[0m\u001b[0mdump\u001b[0m\u001b[1;33m(\u001b[0m\u001b[0mperson\u001b[0m\u001b[1;33m,\u001b[0m\u001b[0mf\u001b[0m\u001b[1;33m)\u001b[0m\u001b[1;33m\u001b[0m\u001b[1;33m\u001b[0m\u001b[0m\n\u001b[0m",
      "\u001b[1;32m~\\anaconda3\\lib\\json\\__init__.py\u001b[0m in \u001b[0;36mdump\u001b[1;34m(obj, fp, skipkeys, ensure_ascii, check_circular, allow_nan, cls, indent, separators, default, sort_keys, **kw)\u001b[0m\n\u001b[0;32m    177\u001b[0m     \u001b[1;31m# could accelerate with writelines in some versions of Python, at\u001b[0m\u001b[1;33m\u001b[0m\u001b[1;33m\u001b[0m\u001b[0m\n\u001b[0;32m    178\u001b[0m     \u001b[1;31m# a debuggability cost\u001b[0m\u001b[1;33m\u001b[0m\u001b[1;33m\u001b[0m\u001b[0m\n\u001b[1;32m--> 179\u001b[1;33m     \u001b[1;32mfor\u001b[0m \u001b[0mchunk\u001b[0m \u001b[1;32min\u001b[0m \u001b[0miterable\u001b[0m\u001b[1;33m:\u001b[0m\u001b[1;33m\u001b[0m\u001b[1;33m\u001b[0m\u001b[0m\n\u001b[0m\u001b[0;32m    180\u001b[0m         \u001b[0mfp\u001b[0m\u001b[1;33m.\u001b[0m\u001b[0mwrite\u001b[0m\u001b[1;33m(\u001b[0m\u001b[0mchunk\u001b[0m\u001b[1;33m)\u001b[0m\u001b[1;33m\u001b[0m\u001b[1;33m\u001b[0m\u001b[0m\n\u001b[0;32m    181\u001b[0m \u001b[1;33m\u001b[0m\u001b[0m\n",
      "\u001b[1;32m~\\anaconda3\\lib\\json\\encoder.py\u001b[0m in \u001b[0;36m_iterencode\u001b[1;34m(o, _current_indent_level)\u001b[0m\n\u001b[0;32m    436\u001b[0m                     \u001b[1;32mraise\u001b[0m \u001b[0mValueError\u001b[0m\u001b[1;33m(\u001b[0m\u001b[1;34m\"Circular reference detected\"\u001b[0m\u001b[1;33m)\u001b[0m\u001b[1;33m\u001b[0m\u001b[1;33m\u001b[0m\u001b[0m\n\u001b[0;32m    437\u001b[0m                 \u001b[0mmarkers\u001b[0m\u001b[1;33m[\u001b[0m\u001b[0mmarkerid\u001b[0m\u001b[1;33m]\u001b[0m \u001b[1;33m=\u001b[0m \u001b[0mo\u001b[0m\u001b[1;33m\u001b[0m\u001b[1;33m\u001b[0m\u001b[0m\n\u001b[1;32m--> 438\u001b[1;33m             \u001b[0mo\u001b[0m \u001b[1;33m=\u001b[0m \u001b[0m_default\u001b[0m\u001b[1;33m(\u001b[0m\u001b[0mo\u001b[0m\u001b[1;33m)\u001b[0m\u001b[1;33m\u001b[0m\u001b[1;33m\u001b[0m\u001b[0m\n\u001b[0m\u001b[0;32m    439\u001b[0m             \u001b[1;32myield\u001b[0m \u001b[1;32mfrom\u001b[0m \u001b[0m_iterencode\u001b[0m\u001b[1;33m(\u001b[0m\u001b[0mo\u001b[0m\u001b[1;33m,\u001b[0m \u001b[0m_current_indent_level\u001b[0m\u001b[1;33m)\u001b[0m\u001b[1;33m\u001b[0m\u001b[1;33m\u001b[0m\u001b[0m\n\u001b[0;32m    440\u001b[0m             \u001b[1;32mif\u001b[0m \u001b[0mmarkers\u001b[0m \u001b[1;32mis\u001b[0m \u001b[1;32mnot\u001b[0m \u001b[1;32mNone\u001b[0m\u001b[1;33m:\u001b[0m\u001b[1;33m\u001b[0m\u001b[1;33m\u001b[0m\u001b[0m\n",
      "\u001b[1;32m~\\anaconda3\\lib\\json\\encoder.py\u001b[0m in \u001b[0;36mdefault\u001b[1;34m(self, o)\u001b[0m\n\u001b[0;32m    177\u001b[0m \u001b[1;33m\u001b[0m\u001b[0m\n\u001b[0;32m    178\u001b[0m         \"\"\"\n\u001b[1;32m--> 179\u001b[1;33m         raise TypeError(f'Object of type {o.__class__.__name__} '\n\u001b[0m\u001b[0;32m    180\u001b[0m                         f'is not JSON serializable')\n\u001b[0;32m    181\u001b[0m \u001b[1;33m\u001b[0m\u001b[0m\n",
      "\u001b[1;31mTypeError\u001b[0m: Object of type Person is not JSON serializable"
     ]
    }
   ],
   "source": [
    "## As a string \n",
    "\n",
    "import json\n",
    "    \n",
    "with open ('demo.json','w') as f:\n",
    "    json.dump(person,f)"
   ]
  },
  {
   "cell_type": "markdown",
   "id": "673bf245",
   "metadata": {},
   "source": [
    "**We will not be able to serialize a custom object like json.dump(person,f) this only works with Python predefined data types.**\n",
    "\n",
    "**To Serialize a custom object, we'd have to specify the format(show_object class we created below) which it needs to be saved in as belows:**"
   ]
  },
  {
   "cell_type": "code",
   "execution_count": 58,
   "id": "2ebf31a1",
   "metadata": {
    "ExecuteTime": {
     "end_time": "2023-03-07T17:17:49.128595Z",
     "start_time": "2023-03-07T17:17:49.107258Z"
    }
   },
   "outputs": [],
   "source": [
    "class Person:\n",
    "    \n",
    "    def __init__(self,fname,lname,age,gender):\n",
    "        self.fname = fname\n",
    "        self.lname = lname\n",
    "        self.age = age\n",
    "        self.gender = gender"
   ]
  },
  {
   "cell_type": "code",
   "execution_count": 59,
   "id": "fbefcdc8",
   "metadata": {
    "ExecuteTime": {
     "end_time": "2023-03-07T17:17:49.935341Z",
     "start_time": "2023-03-07T17:17:49.917318Z"
    }
   },
   "outputs": [],
   "source": [
    "person = Person('Prateek','AP',33,'Male')"
   ]
  },
  {
   "cell_type": "code",
   "execution_count": 62,
   "id": "9dae3d2c",
   "metadata": {
    "ExecuteTime": {
     "end_time": "2023-03-07T17:21:19.728189Z",
     "start_time": "2023-03-07T17:21:19.700422Z"
    }
   },
   "outputs": [],
   "source": [
    "## As a string \n",
    "\n",
    "import json\n",
    "\n",
    "def show_object(person):\n",
    "    if isinstance(person,Person):\n",
    "        return \"{}{} age -->{} gender -->{}\".format(person.fname,person.lname,person.age,person.gender)\n",
    "    \n",
    "with open ('demo.json','w') as f:\n",
    "    json.dump(person,f,default=show_object)"
   ]
  },
  {
   "cell_type": "code",
   "execution_count": 63,
   "id": "69aacb03",
   "metadata": {
    "ExecuteTime": {
     "end_time": "2023-03-07T17:21:45.953338Z",
     "start_time": "2023-03-07T17:21:45.932550Z"
    }
   },
   "outputs": [
    {
     "name": "stdout",
     "output_type": "stream",
     "text": [
      "PrateekAP age -->33 gender -->Male\n",
      "<class 'str'>\n"
     ]
    }
   ],
   "source": [
    "with open ('demo.json','r') as f:\n",
    "    df = json.load(f)\n",
    "    print(df)\n",
    "    print(type(df))"
   ]
  },
  {
   "cell_type": "markdown",
   "id": "e9ad13ff",
   "metadata": {},
   "source": [
    "# Pickling\n",
    "\n",
    "Pickling is the process whereby a Python object Hierarchy is converted into a byte stream, and unpickling is the inverse operation, where by a byte stream (from a binary file or bytes-like object) is converted into an object Hierarchy."
   ]
  },
  {
   "cell_type": "code",
   "execution_count": 64,
   "id": "7ab80dd5",
   "metadata": {
    "ExecuteTime": {
     "end_time": "2023-03-07T17:37:11.761457Z",
     "start_time": "2023-03-07T17:37:11.741457Z"
    }
   },
   "outputs": [],
   "source": [
    "class Person:\n",
    "    \n",
    "    def __init__(self,name,age):\n",
    "        self.name = name\n",
    "        self.age = age\n",
    "    \n",
    "    def display_info(self):\n",
    "        print('Hi my name is ',self.name,'and I am ',self.age,'Years old')"
   ]
  },
  {
   "cell_type": "code",
   "execution_count": 65,
   "id": "6b4b3982",
   "metadata": {
    "ExecuteTime": {
     "end_time": "2023-03-07T17:37:36.572955Z",
     "start_time": "2023-03-07T17:37:36.557751Z"
    }
   },
   "outputs": [],
   "source": [
    "p = Person('Prateek',33)"
   ]
  },
  {
   "cell_type": "code",
   "execution_count": 67,
   "id": "51db9eb2",
   "metadata": {
    "ExecuteTime": {
     "end_time": "2023-03-07T17:41:18.441842Z",
     "start_time": "2023-03-07T17:41:18.428628Z"
    }
   },
   "outputs": [],
   "source": [
    "import pickle\n",
    "\n",
    "with open('person.pkl','wb') as f:\n",
    "    pickle.dump(p,f)    ## This pickle file containg the object Person and can access any method in it.\n",
    "                        ## hence we dump ml models in Pickle format.We can download the pickle file and use it to execute the ml model in other system later."
   ]
  },
  {
   "cell_type": "code",
   "execution_count": 71,
   "id": "d2f66271",
   "metadata": {
    "ExecuteTime": {
     "end_time": "2023-03-07T17:44:08.827991Z",
     "start_time": "2023-03-07T17:44:08.802829Z"
    }
   },
   "outputs": [
    {
     "name": "stdout",
     "output_type": "stream",
     "text": [
      "Hi my name is  Prateek and I am  33 Years old\n",
      "None\n"
     ]
    }
   ],
   "source": [
    "with open('person.pkl','rb') as f:\n",
    "    p = pickle.load(f)\n",
    "    print(p.display_info())"
   ]
  },
  {
   "cell_type": "markdown",
   "id": "3e372cb8",
   "metadata": {},
   "source": [
    "## Pickle vs JSON\n",
    "\n",
    "Pickle lets the user store data in Binary format. Json lets the user store the data in human readable format."
   ]
  },
  {
   "cell_type": "markdown",
   "id": "b479f755",
   "metadata": {},
   "source": [
    "# Exception Handling "
   ]
  },
  {
   "cell_type": "markdown",
   "id": "04c70d50",
   "metadata": {},
   "source": [
    "There are 2 stages where error may happen in a Program :\n",
    "- During Compilation --> Syntax Error\n",
    "- During Execution --> Exceptions"
   ]
  },
  {
   "cell_type": "markdown",
   "id": "bec8872f",
   "metadata": {},
   "source": [
    "## Syntax Error :\n",
    "\n",
    "- Something in the program is not written according to the program grammar.\n",
    "- Error is raised by the interpreter/compiler.\n",
    "- You can solve it by rectifying the program."
   ]
  },
  {
   "cell_type": "code",
   "execution_count": 72,
   "id": "b82679ec",
   "metadata": {
    "ExecuteTime": {
     "end_time": "2023-03-07T18:04:52.632150Z",
     "start_time": "2023-03-07T18:04:52.562519Z"
    }
   },
   "outputs": [
    {
     "ename": "SyntaxError",
     "evalue": "Missing parentheses in call to 'print'. Did you mean print('Hello')? (1498706736.py, line 3)",
     "output_type": "error",
     "traceback": [
      "\u001b[1;36m  File \u001b[1;32m\"C:\\Users\\prate\\AppData\\Local\\Temp\\ipykernel_16068\\1498706736.py\"\u001b[1;36m, line \u001b[1;32m3\u001b[0m\n\u001b[1;33m    print 'Hello'\u001b[0m\n\u001b[1;37m          ^\u001b[0m\n\u001b[1;31mSyntaxError\u001b[0m\u001b[1;31m:\u001b[0m Missing parentheses in call to 'print'. Did you mean print('Hello')?\n"
     ]
    }
   ],
   "source": [
    "## Examples of Syntax Error :\n",
    "\n",
    "print 'Hello'"
   ]
  },
  {
   "cell_type": "markdown",
   "id": "1c4cb8dd",
   "metadata": {
    "ExecuteTime": {
     "end_time": "2023-03-07T18:08:28.424131Z",
     "start_time": "2023-03-07T18:08:28.406844Z"
    }
   },
   "source": [
    "### Other Examples of Syntax Error:\n",
    "\n",
    "- Leaving symbols like colon, brackets.\n",
    "- Miss-spelling a keyword.\n",
    "- Incorrect Indentation.\n",
    "- empty if/else/loops/class/functions"
   ]
  },
  {
   "cell_type": "markdown",
   "id": "795e944e",
   "metadata": {},
   "source": [
    "#### Index Error :\n",
    "Index error is thrown, when trying to access an item at an Invalid Index."
   ]
  },
  {
   "cell_type": "code",
   "execution_count": 76,
   "id": "cbf460e8",
   "metadata": {
    "ExecuteTime": {
     "end_time": "2023-03-07T18:13:18.033419Z",
     "start_time": "2023-03-07T18:13:17.995693Z"
    }
   },
   "outputs": [
    {
     "ename": "IndexError",
     "evalue": "list index out of range",
     "output_type": "error",
     "traceback": [
      "\u001b[1;31m---------------------------------------------------------------------------\u001b[0m",
      "\u001b[1;31mIndexError\u001b[0m                                Traceback (most recent call last)",
      "\u001b[1;32m~\\AppData\\Local\\Temp\\ipykernel_16068\\3401959724.py\u001b[0m in \u001b[0;36m<cell line: 2>\u001b[1;34m()\u001b[0m\n\u001b[0;32m      1\u001b[0m \u001b[0mL\u001b[0m \u001b[1;33m=\u001b[0m \u001b[1;33m[\u001b[0m\u001b[1;36m1\u001b[0m\u001b[1;33m,\u001b[0m\u001b[1;36m2\u001b[0m\u001b[1;33m,\u001b[0m\u001b[1;36m3\u001b[0m\u001b[1;33m,\u001b[0m\u001b[1;36m4\u001b[0m\u001b[1;33m]\u001b[0m\u001b[1;33m\u001b[0m\u001b[1;33m\u001b[0m\u001b[0m\n\u001b[1;32m----> 2\u001b[1;33m \u001b[0mL\u001b[0m\u001b[1;33m[\u001b[0m\u001b[1;36m10\u001b[0m\u001b[1;33m]\u001b[0m\u001b[1;33m\u001b[0m\u001b[1;33m\u001b[0m\u001b[0m\n\u001b[0m",
      "\u001b[1;31mIndexError\u001b[0m: list index out of range"
     ]
    }
   ],
   "source": [
    "L = [1,2,3,4]\n",
    "L[10]"
   ]
  },
  {
   "cell_type": "markdown",
   "id": "99dcc363",
   "metadata": {},
   "source": [
    "#### ModuleNotFoundError :\n",
    "ModuleNotFoundError is thrown when a Module could not be found."
   ]
  },
  {
   "cell_type": "code",
   "execution_count": 78,
   "id": "a6783aaa",
   "metadata": {
    "ExecuteTime": {
     "end_time": "2023-03-07T18:14:56.530977Z",
     "start_time": "2023-03-07T18:14:56.482810Z"
    }
   },
   "outputs": [
    {
     "ename": "ModuleNotFoundError",
     "evalue": "No module named 'bumpy'",
     "output_type": "error",
     "traceback": [
      "\u001b[1;31m---------------------------------------------------------------------------\u001b[0m",
      "\u001b[1;31mModuleNotFoundError\u001b[0m                       Traceback (most recent call last)",
      "\u001b[1;32m~\\AppData\\Local\\Temp\\ipykernel_16068\\2014201254.py\u001b[0m in \u001b[0;36m<cell line: 1>\u001b[1;34m()\u001b[0m\n\u001b[1;32m----> 1\u001b[1;33m \u001b[1;32mimport\u001b[0m \u001b[0mbumpy\u001b[0m\u001b[1;33m\u001b[0m\u001b[1;33m\u001b[0m\u001b[0m\n\u001b[0m",
      "\u001b[1;31mModuleNotFoundError\u001b[0m: No module named 'bumpy'"
     ]
    }
   ],
   "source": [
    "import bumpy"
   ]
  },
  {
   "cell_type": "markdown",
   "id": "d40da516",
   "metadata": {},
   "source": [
    "#### KeyError :\n",
    "KeyError is usually thrown, when a key is not found in a dictionary."
   ]
  },
  {
   "cell_type": "code",
   "execution_count": 81,
   "id": "56f7fc33",
   "metadata": {
    "ExecuteTime": {
     "end_time": "2023-03-07T18:16:57.640115Z",
     "start_time": "2023-03-07T18:16:57.600493Z"
    }
   },
   "outputs": [
    {
     "ename": "KeyError",
     "evalue": "'age'",
     "output_type": "error",
     "traceback": [
      "\u001b[1;31m---------------------------------------------------------------------------\u001b[0m",
      "\u001b[1;31mKeyError\u001b[0m                                  Traceback (most recent call last)",
      "\u001b[1;32m~\\AppData\\Local\\Temp\\ipykernel_16068\\402013664.py\u001b[0m in \u001b[0;36m<cell line: 2>\u001b[1;34m()\u001b[0m\n\u001b[0;32m      1\u001b[0m \u001b[0md\u001b[0m \u001b[1;33m=\u001b[0m \u001b[1;33m{\u001b[0m\u001b[1;34m'Name'\u001b[0m\u001b[1;33m:\u001b[0m\u001b[1;34m'Prateek'\u001b[0m\u001b[1;33m}\u001b[0m\u001b[1;33m\u001b[0m\u001b[1;33m\u001b[0m\u001b[0m\n\u001b[1;32m----> 2\u001b[1;33m \u001b[0md\u001b[0m\u001b[1;33m[\u001b[0m\u001b[1;34m'age'\u001b[0m\u001b[1;33m]\u001b[0m\u001b[1;33m\u001b[0m\u001b[1;33m\u001b[0m\u001b[0m\n\u001b[0m",
      "\u001b[1;31mKeyError\u001b[0m: 'age'"
     ]
    }
   ],
   "source": [
    "d = {'Name':'Prateek'}\n",
    "d['age']"
   ]
  },
  {
   "cell_type": "markdown",
   "id": "82057975",
   "metadata": {},
   "source": [
    "#### TypeError : \n",
    "The type error is thrown when an operation or functio is applied to an object of Inappropriate Type"
   ]
  },
  {
   "cell_type": "code",
   "execution_count": 83,
   "id": "0ccb9f07",
   "metadata": {
    "ExecuteTime": {
     "end_time": "2023-03-07T18:19:06.404829Z",
     "start_time": "2023-03-07T18:19:06.373326Z"
    }
   },
   "outputs": [
    {
     "ename": "TypeError",
     "evalue": "can only concatenate str (not \"float\") to str",
     "output_type": "error",
     "traceback": [
      "\u001b[1;31m---------------------------------------------------------------------------\u001b[0m",
      "\u001b[1;31mTypeError\u001b[0m                                 Traceback (most recent call last)",
      "\u001b[1;32m~\\AppData\\Local\\Temp\\ipykernel_16068\\2213546374.py\u001b[0m in \u001b[0;36m<cell line: 1>\u001b[1;34m()\u001b[0m\n\u001b[1;32m----> 1\u001b[1;33m \u001b[1;34m'a'\u001b[0m \u001b[1;33m+\u001b[0m \u001b[1;36m2.4\u001b[0m\u001b[1;33m\u001b[0m\u001b[1;33m\u001b[0m\u001b[0m\n\u001b[0m",
      "\u001b[1;31mTypeError\u001b[0m: can only concatenate str (not \"float\") to str"
     ]
    }
   ],
   "source": [
    "'a' + 2.4"
   ]
  },
  {
   "cell_type": "markdown",
   "id": "98bc1029",
   "metadata": {},
   "source": [
    "#### ValueError :\n",
    "ValueError is thrown when a functions argument is of an inappropriate type."
   ]
  },
  {
   "cell_type": "code",
   "execution_count": 84,
   "id": "b701be9b",
   "metadata": {
    "ExecuteTime": {
     "end_time": "2023-03-07T18:21:57.144901Z",
     "start_time": "2023-03-07T18:21:57.112234Z"
    }
   },
   "outputs": [
    {
     "ename": "ValueError",
     "evalue": "invalid literal for int() with base 10: 'a'",
     "output_type": "error",
     "traceback": [
      "\u001b[1;31m---------------------------------------------------------------------------\u001b[0m",
      "\u001b[1;31mValueError\u001b[0m                                Traceback (most recent call last)",
      "\u001b[1;32m~\\AppData\\Local\\Temp\\ipykernel_16068\\2121867093.py\u001b[0m in \u001b[0;36m<cell line: 1>\u001b[1;34m()\u001b[0m\n\u001b[1;32m----> 1\u001b[1;33m \u001b[0mint\u001b[0m\u001b[1;33m(\u001b[0m\u001b[1;34m'a'\u001b[0m\u001b[1;33m)\u001b[0m\u001b[1;33m\u001b[0m\u001b[1;33m\u001b[0m\u001b[0m\n\u001b[0m",
      "\u001b[1;31mValueError\u001b[0m: invalid literal for int() with base 10: 'a'"
     ]
    }
   ],
   "source": [
    "int('a')"
   ]
  },
  {
   "cell_type": "markdown",
   "id": "ef62e035",
   "metadata": {},
   "source": [
    "#### NameError :\n",
    "NameError is thrown when an object could not be found."
   ]
  },
  {
   "cell_type": "code",
   "execution_count": 85,
   "id": "129cbf62",
   "metadata": {
    "ExecuteTime": {
     "end_time": "2023-03-07T18:22:49.355650Z",
     "start_time": "2023-03-07T18:22:49.308178Z"
    }
   },
   "outputs": [
    {
     "ename": "NameError",
     "evalue": "name 'axzt' is not defined",
     "output_type": "error",
     "traceback": [
      "\u001b[1;31m---------------------------------------------------------------------------\u001b[0m",
      "\u001b[1;31mNameError\u001b[0m                                 Traceback (most recent call last)",
      "\u001b[1;32m~\\AppData\\Local\\Temp\\ipykernel_16068\\1212968999.py\u001b[0m in \u001b[0;36m<cell line: 1>\u001b[1;34m()\u001b[0m\n\u001b[1;32m----> 1\u001b[1;33m \u001b[0maxzt\u001b[0m\u001b[1;33m\u001b[0m\u001b[1;33m\u001b[0m\u001b[0m\n\u001b[0m",
      "\u001b[1;31mNameError\u001b[0m: name 'axzt' is not defined"
     ]
    }
   ],
   "source": [
    "axzt"
   ]
  },
  {
   "cell_type": "markdown",
   "id": "930bb8a0",
   "metadata": {
    "ExecuteTime": {
     "end_time": "2023-03-07T18:25:00.363534Z",
     "start_time": "2023-03-07T18:25:00.332370Z"
    }
   },
   "source": [
    "####  AttributeError:\n",
    "AttributeError is thrown when we are trying to access a method that doesnot exit in a class."
   ]
  },
  {
   "cell_type": "code",
   "execution_count": 87,
   "id": "862744da",
   "metadata": {
    "ExecuteTime": {
     "end_time": "2023-03-07T18:24:02.195558Z",
     "start_time": "2023-03-07T18:24:02.153786Z"
    }
   },
   "outputs": [
    {
     "ename": "AttributeError",
     "evalue": "'list' object has no attribute 'upper'",
     "output_type": "error",
     "traceback": [
      "\u001b[1;31m---------------------------------------------------------------------------\u001b[0m",
      "\u001b[1;31mAttributeError\u001b[0m                            Traceback (most recent call last)",
      "\u001b[1;32m~\\AppData\\Local\\Temp\\ipykernel_16068\\2270488342.py\u001b[0m in \u001b[0;36m<cell line: 2>\u001b[1;34m()\u001b[0m\n\u001b[0;32m      1\u001b[0m \u001b[0mL\u001b[0m \u001b[1;33m=\u001b[0m \u001b[1;33m[\u001b[0m\u001b[1;36m1\u001b[0m\u001b[1;33m,\u001b[0m\u001b[1;36m2\u001b[0m\u001b[1;33m,\u001b[0m\u001b[1;36m3\u001b[0m\u001b[1;33m]\u001b[0m\u001b[1;33m\u001b[0m\u001b[1;33m\u001b[0m\u001b[0m\n\u001b[1;32m----> 2\u001b[1;33m \u001b[0mL\u001b[0m\u001b[1;33m.\u001b[0m\u001b[0mupper\u001b[0m\u001b[1;33m(\u001b[0m\u001b[1;33m)\u001b[0m\u001b[1;33m\u001b[0m\u001b[1;33m\u001b[0m\u001b[0m\n\u001b[0m",
      "\u001b[1;31mAttributeError\u001b[0m: 'list' object has no attribute 'upper'"
     ]
    }
   ],
   "source": [
    "L = [1,2,3]\n",
    "L.upper()"
   ]
  },
  {
   "cell_type": "markdown",
   "id": "2e24bc83",
   "metadata": {},
   "source": [
    "## Exceptions :"
   ]
  },
  {
   "cell_type": "markdown",
   "id": "0024426d",
   "metadata": {},
   "source": [
    "If things go wrong during the execution of the program(runtime). It generally happens when something unforeseen has happened.\n",
    "* Exceptions are raised by python runtime.\n",
    "* You have to tackle it on the fly.\n",
    "\n",
    "**Examples :**\n",
    "\n",
    "- Memory overflow\n",
    "- Divide by 0 --> LogicalError\n",
    "- Database Error."
   ]
  },
  {
   "attachments": {
    "image.png": {
     "image/png": "[encoded data removed]"
    }
   },
   "cell_type": "markdown",
   "id": "ce2d5c24",
   "metadata": {},
   "source": [
    "Why is it Important to handle Exceptions :\n",
    "\n",
    "- User Experience \n",
    "- Security \n",
    "\n",
    "an error is thrown as below, which is scary for an app user and stacktrace shows us the file location, code and other details anyone could copy your code. Hence security is another concern\n",
    "\n",
    "![image.png](attachment:image.png)"
   ]
  },
  {
   "cell_type": "markdown",
   "id": "58d76f8b",
   "metadata": {},
   "source": [
    "### Handling Exceptions : Try -- Except"
   ]
  },
  {
   "cell_type": "code",
   "execution_count": 89,
   "id": "f843a84e",
   "metadata": {
    "ExecuteTime": {
     "end_time": "2023-03-07T18:51:46.772455Z",
     "start_time": "2023-03-07T18:51:46.748413Z"
    }
   },
   "outputs": [],
   "source": [
    "with open ('sample.txt','w') as f:\n",
    "    f.write('Hello World')"
   ]
  },
  {
   "cell_type": "code",
   "execution_count": 90,
   "id": "22c33b28",
   "metadata": {
    "ExecuteTime": {
     "end_time": "2023-03-07T18:59:24.960701Z",
     "start_time": "2023-03-07T18:59:24.936615Z"
    }
   },
   "outputs": [
    {
     "name": "stdout",
     "output_type": "stream",
     "text": [
      "Hello World\n"
     ]
    }
   ],
   "source": [
    "try:\n",
    "    with open ('sample.txt','r') as f:\n",
    "        print(f.read())\n",
    "except:\n",
    "    print('File not found')"
   ]
  },
  {
   "cell_type": "code",
   "execution_count": 91,
   "id": "7655cfce",
   "metadata": {
    "ExecuteTime": {
     "end_time": "2023-03-07T18:59:37.809933Z",
     "start_time": "2023-03-07T18:59:37.786365Z"
    }
   },
   "outputs": [
    {
     "name": "stdout",
     "output_type": "stream",
     "text": [
      "File not found\n"
     ]
    }
   ],
   "source": [
    "try:\n",
    "    with open ('sample23.txt','r') as f:\n",
    "        print(f.read())\n",
    "except:\n",
    "    print('File not found')"
   ]
  },
  {
   "cell_type": "markdown",
   "id": "5cc37438",
   "metadata": {},
   "source": [
    "#### Excepting specific Exceptions :"
   ]
  },
  {
   "cell_type": "code",
   "execution_count": 102,
   "id": "e87990e6",
   "metadata": {
    "ExecuteTime": {
     "end_time": "2023-03-07T19:25:06.937704Z",
     "start_time": "2023-03-07T19:25:06.898199Z"
    }
   },
   "outputs": [
    {
     "name": "stdout",
     "output_type": "stream",
     "text": [
      "<built-in method with_traceback of FileNotFoundError object at 0x0000021B0EF545C0>\n"
     ]
    }
   ],
   "source": [
    "try :\n",
    "    with open('sample.txt123','r') as f:\n",
    "        print(f.read())\n",
    "        \n",
    "    \n",
    "except Exception as e:\n",
    "    print(e.with_traceback)"
   ]
  },
  {
   "cell_type": "code",
   "execution_count": 107,
   "id": "f604e7c0",
   "metadata": {
    "ExecuteTime": {
     "end_time": "2023-03-07T19:27:34.385765Z",
     "start_time": "2023-03-07T19:27:34.358992Z"
    }
   },
   "outputs": [
    {
     "name": "stdout",
     "output_type": "stream",
     "text": [
      "File Not Found\n"
     ]
    }
   ],
   "source": [
    "try :\n",
    "    with open('sample.txt123','r') as f:\n",
    "        print(f.read())\n",
    "        \n",
    "except FileNotFoundError:\n",
    "    print('File Not Found')\n",
    "    \n",
    "    \n",
    "except Exception as e:\n",
    "    print(e.with_traceback)"
   ]
  },
  {
   "cell_type": "code",
   "execution_count": 108,
   "id": "b2d88462",
   "metadata": {
    "ExecuteTime": {
     "end_time": "2023-03-07T19:28:09.192812Z",
     "start_time": "2023-03-07T19:28:09.160251Z"
    }
   },
   "outputs": [
    {
     "name": "stdout",
     "output_type": "stream",
     "text": [
      "Hello World\n",
      "<built-in method with_traceback of NameError object at 0x0000021B0FF12A40>\n"
     ]
    }
   ],
   "source": [
    "try :\n",
    "    with open('sample.txt','r') as f:\n",
    "        print(f.read())\n",
    "        print(m)\n",
    "        \n",
    "except FileNotFoundError:\n",
    "    print('File Not Found')\n",
    "    \n",
    "    \n",
    "except Exception as e:\n",
    "    print(e.with_traceback)"
   ]
  },
  {
   "cell_type": "code",
   "execution_count": 109,
   "id": "aeba2129",
   "metadata": {
    "ExecuteTime": {
     "end_time": "2023-03-07T19:29:06.643685Z",
     "start_time": "2023-03-07T19:29:06.618643Z"
    }
   },
   "outputs": [
    {
     "name": "stdout",
     "output_type": "stream",
     "text": [
      "Hello World\n",
      "Variable not defined\n"
     ]
    }
   ],
   "source": [
    "try :\n",
    "    with open('sample.txt','r') as f:\n",
    "        print(f.read())\n",
    "        print(m)\n",
    "        \n",
    "except FileNotFoundError:\n",
    "    print('File Not Found')\n",
    "    \n",
    "except NameError:\n",
    "    print('Variable not defined')\n",
    "    \n",
    "    \n",
    "except Exception as e:\n",
    "    print(e.with_traceback)"
   ]
  },
  {
   "cell_type": "code",
   "execution_count": 110,
   "id": "cdbedf01",
   "metadata": {
    "ExecuteTime": {
     "end_time": "2023-03-07T19:29:42.638050Z",
     "start_time": "2023-03-07T19:29:42.606321Z"
    }
   },
   "outputs": [
    {
     "name": "stdout",
     "output_type": "stream",
     "text": [
      "Hello World\n",
      "5\n",
      "<built-in method with_traceback of ZeroDivisionError object at 0x0000021B0C0DCEF0>\n"
     ]
    }
   ],
   "source": [
    "try :\n",
    "    m = 5\n",
    "    with open('sample.txt','r') as f:\n",
    "        print(f.read())\n",
    "        print(m)\n",
    "        print(5/0)\n",
    "        \n",
    "except FileNotFoundError:\n",
    "    print('File Not Found')\n",
    "    \n",
    "except NameError:\n",
    "    print('Variable not defined')\n",
    "    \n",
    "    \n",
    "except Exception as e:\n",
    "    print(e.with_traceback)   ## Will give us the Error"
   ]
  },
  {
   "cell_type": "code",
   "execution_count": 111,
   "id": "64065db7",
   "metadata": {
    "ExecuteTime": {
     "end_time": "2023-03-07T19:31:04.008639Z",
     "start_time": "2023-03-07T19:31:03.968609Z"
    }
   },
   "outputs": [
    {
     "name": "stdout",
     "output_type": "stream",
     "text": [
      "Hello World\n",
      "5\n",
      "2.5\n",
      "list index out of range\n"
     ]
    }
   ],
   "source": [
    "try :\n",
    "    m = 5\n",
    "    with open('sample.txt','r') as f:\n",
    "        print(f.read())\n",
    "        print(m)\n",
    "        print(5/2)\n",
    "        l = [1,2,3]\n",
    "        l[100]\n",
    "        \n",
    "except FileNotFoundError:\n",
    "    print('File Not Found')\n",
    "    \n",
    "except NameError:\n",
    "    print('Variable not defined')\n",
    "    \n",
    "except ZeroDivisionError:\n",
    "    print('Cannot divide by Zero')\n",
    "    \n",
    "    \n",
    "except Exception as e:  ## This would tell the user the error\n",
    "    print(e)"
   ]
  },
  {
   "cell_type": "markdown",
   "id": "0f4d1482",
   "metadata": {},
   "source": [
    "### Else : \n",
    "Else would contain the code(The code we are sure of that will not throw any error) that we want to execute after the code in Try block(The code we are not sure of) has successfully executed. Eg:"
   ]
  },
  {
   "cell_type": "code",
   "execution_count": 112,
   "id": "df44002b",
   "metadata": {
    "ExecuteTime": {
     "end_time": "2023-03-07T19:41:40.565304Z",
     "start_time": "2023-03-07T19:41:40.540901Z"
    }
   },
   "outputs": [
    {
     "name": "stdout",
     "output_type": "stream",
     "text": [
      "Hello World\n"
     ]
    }
   ],
   "source": [
    "try :\n",
    "    f = open('sample.txt','r')   ## First the Control is at try. If the code fails one of the 2 exceptions would be triggered.\n",
    "                                 ## Else the control would go to else :\n",
    "    \n",
    "except FileNotFoundError:\n",
    "    print('File Nahi Mili')\n",
    "except Exception:\n",
    "    print(e)\n",
    "\n",
    "else:\n",
    "    print(f.read())"
   ]
  },
  {
   "cell_type": "markdown",
   "id": "7c219dbf",
   "metadata": {},
   "source": [
    "### Finally :\n",
    "\n",
    "Finally is the block, where in we put the code that has to be executed irrespective if the code throws exception or executes."
   ]
  },
  {
   "cell_type": "code",
   "execution_count": 113,
   "id": "04248ef8",
   "metadata": {
    "ExecuteTime": {
     "end_time": "2023-03-07T19:52:36.488313Z",
     "start_time": "2023-03-07T19:52:36.463964Z"
    }
   },
   "outputs": [
    {
     "name": "stdout",
     "output_type": "stream",
     "text": [
      "File Nahi Mili\n",
      "Ye to print hoga hi\n"
     ]
    }
   ],
   "source": [
    "try :\n",
    "    f = open('sample123.txt','r')\n",
    "    \n",
    "except FileNotFoundError:\n",
    "    print('File Nahi Mili')\n",
    "except Exception:\n",
    "    print(e)\n",
    "\n",
    "else:\n",
    "    print(f.read())\n",
    "    \n",
    "finally:\n",
    "    print('Ye to print hoga hi')"
   ]
  },
  {
   "cell_type": "markdown",
   "id": "7832c0a3",
   "metadata": {},
   "source": [
    "### Raise Exception :\n",
    "\n",
    "* In python, exceptions are raised when error occurs at runtime.\n",
    "* We can manually raise exceptions using the raise keyword.\n",
    "* We can optionally pass value to the exception to clarify why that exception was raised."
   ]
  },
  {
   "cell_type": "code",
   "execution_count": 1,
   "id": "0dc5475b",
   "metadata": {
    "ExecuteTime": {
     "end_time": "2023-03-08T13:55:38.881876Z",
     "start_time": "2023-03-08T13:55:38.857855Z"
    }
   },
   "outputs": [],
   "source": [
    "class Bank:\n",
    "    \n",
    "    def __init__(self,balance):\n",
    "        self.balance = balance\n",
    "        \n",
    "    def withdraw(self,amount):\n",
    "        \n",
    "        if amount < 0 :\n",
    "            raise Exception('Amount Cannot be Negitive')\n",
    "        if self.balance < amount:\n",
    "            raise Exception('Paise nahi hai itte tere paas')\n",
    "            \n",
    "        self.balance = self.balance-amount"
   ]
  },
  {
   "cell_type": "code",
   "execution_count": 8,
   "id": "eb789cd9",
   "metadata": {
    "ExecuteTime": {
     "end_time": "2023-03-08T14:11:34.170041Z",
     "start_time": "2023-03-08T14:11:34.145694Z"
    }
   },
   "outputs": [
    {
     "name": "stdout",
     "output_type": "stream",
     "text": [
      "Paise nahi hai itte tere paas\n"
     ]
    }
   ],
   "source": [
    "obj = Bank(10000)\n",
    "try:\n",
    "    obj.withdraw(155555)\n",
    "except Exception as e:\n",
    "    print(e)\n",
    "else:\n",
    "    print(obj.balance)    "
   ]
  },
  {
   "cell_type": "markdown",
   "id": "68107e3b",
   "metadata": {},
   "source": [
    "#### Raise Custom Exceptions :"
   ]
  },
  {
   "cell_type": "code",
   "execution_count": 11,
   "id": "58fa50ac",
   "metadata": {
    "ExecuteTime": {
     "end_time": "2023-03-08T14:17:20.014100Z",
     "start_time": "2023-03-08T14:17:19.995844Z"
    }
   },
   "outputs": [],
   "source": [
    "class MyException(Exception):\n",
    "\n",
    "    def __init__(self, message):\n",
    "        print(message)\n",
    "\n",
    "\n",
    "class Bank:\n",
    "\n",
    "    def __init__(self, balance):\n",
    "        self.balance = balance\n",
    "\n",
    "    def withdraw(self, amount):\n",
    "\n",
    "        if amount < 0:\n",
    "            raise MyException('Amount Cannot be Negitive')\n",
    "        if self.balance < amount:\n",
    "            raise MyException('Paise nahi hai itte tere paas')\n",
    "\n",
    "        self.balance = self.balance - amount"
   ]
  },
  {
   "cell_type": "code",
   "execution_count": 13,
   "id": "af8d01ce",
   "metadata": {
    "ExecuteTime": {
     "end_time": "2023-03-08T14:17:45.421070Z",
     "start_time": "2023-03-08T14:17:45.397831Z"
    }
   },
   "outputs": [
    {
     "name": "stdout",
     "output_type": "stream",
     "text": [
      "Paise nahi hai itte tere paas\n"
     ]
    }
   ],
   "source": [
    "obj = Bank(10000)\n",
    "try:\n",
    "    obj.withdraw(155555)\n",
    "except MyException as e:\n",
    "    pass\n",
    "else:\n",
    "    print(obj.balance)    "
   ]
  },
  {
   "cell_type": "markdown",
   "id": "a0a67e28",
   "metadata": {
    "ExecuteTime": {
     "end_time": "2023-03-08T14:26:47.854590Z",
     "start_time": "2023-03-08T14:26:47.822905Z"
    }
   },
   "source": [
    "**In the above code, there is no need of creating a custom MyException class because we are not doing anything new from the code where we raise there error from Exception class.**\n",
    "\n",
    "**The true power of creating a custom class is when we want to do something, when the exception occurs.**\n",
    "\n",
    "Eg We are creating a gmail application as below, where if the login details including there device match then, the application allows us to login else it terminates the connection."
   ]
  },
  {
   "cell_type": "code",
   "execution_count": 17,
   "id": "a2625577",
   "metadata": {
    "ExecuteTime": {
     "end_time": "2023-03-08T14:41:20.438047Z",
     "start_time": "2023-03-08T14:41:20.406246Z"
    }
   },
   "outputs": [
    {
     "name": "stdout",
     "output_type": "stream",
     "text": [
      "Message\n",
      "Logged out\n",
      "Database connection closed\n"
     ]
    }
   ],
   "source": [
    "class SecurityError(Exception):\n",
    "    def __init__(self,message):\n",
    "        print('Message')\n",
    "        \n",
    "    def logout(self):\n",
    "        print('Logged out')\n",
    "        \n",
    "        \n",
    "class Google:\n",
    "    def __init__(self,name,email,password,device):\n",
    "        self.name = name\n",
    "        self.email = email\n",
    "        self.password = password\n",
    "        self.device = device\n",
    "\n",
    "\n",
    "    def login(self,email,password,device):\n",
    "        if device != self.device:\n",
    "            raise SecurityError('Bhai tu to gaya!!!!')\n",
    "        if email == self.email and password == self.password:\n",
    "            print('Welcome')\n",
    "        else:\n",
    "            print('login error')\n",
    "        \n",
    "obj = Google('Prateek','prateek@gmail.com','1234','android')\n",
    "\n",
    "try:\n",
    "    obj.login('prateek@gmail.com','1234','ios')\n",
    "    \n",
    "except SecurityError as e:\n",
    "    e.logout()\n",
    "else:\n",
    "    print(obj.name)\n",
    "finally:\n",
    "    print('Database connection closed')"
   ]
  },
  {
   "cell_type": "code",
   "execution_count": null,
   "id": "ac29ccf5",
   "metadata": {},
   "outputs": [],
   "source": []
  }
 ],
 "metadata": {
  "kernelspec": {
   "display_name": "Python 3 (ipykernel)",
   "language": "python",
   "name": "python3"
  },
  "language_info": {
   "codemirror_mode": {
    "name": "ipython",
    "version": 3
   },
   "file_extension": ".py",
   "mimetype": "text/x-python",
   "name": "python",
   "nbconvert_exporter": "python",
   "pygments_lexer": "ipython3",
   "version": "3.9.12"
  },
  "toc": {
   "base_numbering": 1,
   "nav_menu": {},
   "number_sections": true,
   "sideBar": true,
   "skip_h1_title": false,
   "title_cell": "Table of Contents",
   "title_sidebar": "Contents",
   "toc_cell": false,
   "toc_position": {},
   "toc_section_display": true,
   "toc_window_display": false
  }
 },
 "nbformat": 4,
 "nbformat_minor": 5
}
