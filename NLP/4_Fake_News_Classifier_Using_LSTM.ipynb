{
  "nbformat": 4,
  "nbformat_minor": 0,
  "metadata": {
    "colab": {
      "provenance": [],
      "collapsed_sections": []
    },
    "kernelspec": {
      "name": "python3",
      "display_name": "Python 3"
    },
    "language_info": {
      "name": "python"
    }
  },
  "cells": [
    {
      "cell_type": "markdown",
      "source": [
        "#Fake News Classifier Using LSTM\n",
        "##### Dataset: https://www.kaggle.com/c/fake-news/data#\n",
        "\n",
        "\n"
      ],
      "metadata": {
        "id": "3vVmoI_UxZmc"
      }
    },
    {
      "cell_type": "code",
      "source": [
        "import pandas as pd\n",
        "import numpy as np\n",
        "import seaborn as sns\n",
        "import matplotlib.pyplot as plt\n",
        "import warnings\n",
        "warnings.filterwarnings('ignore')"
      ],
      "metadata": {
        "id": "Dx_JnYs9yZFO"
      },
      "execution_count": 1,
      "outputs": []
    },
    {
      "cell_type": "code",
      "source": [
        "df = pd.read_csv('/content/drive/MyDrive/DataScience/train.csv')\n",
        "df.tail(5)"
      ],
      "metadata": {
        "colab": {
          "base_uri": "https://localhost:8080/",
          "height": 406
        },
        "id": "KfO8Q2AAzCLX",
        "outputId": "db700d1d-2f63-4c54-c566-0c440167c1cf"
      },
      "execution_count": 2,
      "outputs": [
        {
          "output_type": "execute_result",
          "data": {
            "text/plain": [
              "          id                                              title  \\\n",
              "20795  20795  Rapper T.I.: Trump a ’Poster Child For White S...   \n",
              "20796  20796  N.F.L. Playoffs: Schedule, Matchups and Odds -...   \n",
              "20797  20797  Macy’s Is Said to Receive Takeover Approach by...   \n",
              "20798  20798  NATO, Russia To Hold Parallel Exercises In Bal...   \n",
              "20799  20799                          What Keeps the F-35 Alive   \n",
              "\n",
              "                                          author  \\\n",
              "20795                              Jerome Hudson   \n",
              "20796                           Benjamin Hoffman   \n",
              "20797  Michael J. de la Merced and Rachel Abrams   \n",
              "20798                                Alex Ansary   \n",
              "20799                              David Swanson   \n",
              "\n",
              "                                                    text  label  \n",
              "20795  Rapper T. I. unloaded on black celebrities who...      0  \n",
              "20796  When the Green Bay Packers lost to the Washing...      0  \n",
              "20797  The Macy’s of today grew from the union of sev...      0  \n",
              "20798  NATO, Russia To Hold Parallel Exercises In Bal...      1  \n",
              "20799    David Swanson is an author, activist, journa...      1  "
            ],
            "text/html": [
              "\n",
              "  <div id=\"df-2810c9cf-7921-4c7b-bfdf-487cfb7b769a\">\n",
              "    <div class=\"colab-df-container\">\n",
              "      <div>\n",
              "<style scoped>\n",
              "    .dataframe tbody tr th:only-of-type {\n",
              "        vertical-align: middle;\n",
              "    }\n",
              "\n",
              "    .dataframe tbody tr th {\n",
              "        vertical-align: top;\n",
              "    }\n",
              "\n",
              "    .dataframe thead th {\n",
              "        text-align: right;\n",
              "    }\n",
              "</style>\n",
              "<table border=\"1\" class=\"dataframe\">\n",
              "  <thead>\n",
              "    <tr style=\"text-align: right;\">\n",
              "      <th></th>\n",
              "      <th>id</th>\n",
              "      <th>title</th>\n",
              "      <th>author</th>\n",
              "      <th>text</th>\n",
              "      <th>label</th>\n",
              "    </tr>\n",
              "  </thead>\n",
              "  <tbody>\n",
              "    <tr>\n",
              "      <th>20795</th>\n",
              "      <td>20795</td>\n",
              "      <td>Rapper T.I.: Trump a ’Poster Child For White S...</td>\n",
              "      <td>Jerome Hudson</td>\n",
              "      <td>Rapper T. I. unloaded on black celebrities who...</td>\n",
              "      <td>0</td>\n",
              "    </tr>\n",
              "    <tr>\n",
              "      <th>20796</th>\n",
              "      <td>20796</td>\n",
              "      <td>N.F.L. Playoffs: Schedule, Matchups and Odds -...</td>\n",
              "      <td>Benjamin Hoffman</td>\n",
              "      <td>When the Green Bay Packers lost to the Washing...</td>\n",
              "      <td>0</td>\n",
              "    </tr>\n",
              "    <tr>\n",
              "      <th>20797</th>\n",
              "      <td>20797</td>\n",
              "      <td>Macy’s Is Said to Receive Takeover Approach by...</td>\n",
              "      <td>Michael J. de la Merced and Rachel Abrams</td>\n",
              "      <td>The Macy’s of today grew from the union of sev...</td>\n",
              "      <td>0</td>\n",
              "    </tr>\n",
              "    <tr>\n",
              "      <th>20798</th>\n",
              "      <td>20798</td>\n",
              "      <td>NATO, Russia To Hold Parallel Exercises In Bal...</td>\n",
              "      <td>Alex Ansary</td>\n",
              "      <td>NATO, Russia To Hold Parallel Exercises In Bal...</td>\n",
              "      <td>1</td>\n",
              "    </tr>\n",
              "    <tr>\n",
              "      <th>20799</th>\n",
              "      <td>20799</td>\n",
              "      <td>What Keeps the F-35 Alive</td>\n",
              "      <td>David Swanson</td>\n",
              "      <td>David Swanson is an author, activist, journa...</td>\n",
              "      <td>1</td>\n",
              "    </tr>\n",
              "  </tbody>\n",
              "</table>\n",
              "</div>\n",
              "      <button class=\"colab-df-convert\" onclick=\"convertToInteractive('df-2810c9cf-7921-4c7b-bfdf-487cfb7b769a')\"\n",
              "              title=\"Convert this dataframe to an interactive table.\"\n",
              "              style=\"display:none;\">\n",
              "        \n",
              "  <svg xmlns=\"http://www.w3.org/2000/svg\" height=\"24px\"viewBox=\"0 0 24 24\"\n",
              "       width=\"24px\">\n",
              "    <path d=\"M0 0h24v24H0V0z\" fill=\"none\"/>\n",
              "    <path d=\"M18.56 5.44l.94 2.06.94-2.06 2.06-.94-2.06-.94-.94-2.06-.94 2.06-2.06.94zm-11 1L8.5 8.5l.94-2.06 2.06-.94-2.06-.94L8.5 2.5l-.94 2.06-2.06.94zm10 10l.94 2.06.94-2.06 2.06-.94-2.06-.94-.94-2.06-.94 2.06-2.06.94z\"/><path d=\"M17.41 7.96l-1.37-1.37c-.4-.4-.92-.59-1.43-.59-.52 0-1.04.2-1.43.59L10.3 9.45l-7.72 7.72c-.78.78-.78 2.05 0 2.83L4 21.41c.39.39.9.59 1.41.59.51 0 1.02-.2 1.41-.59l7.78-7.78 2.81-2.81c.8-.78.8-2.07 0-2.86zM5.41 20L4 18.59l7.72-7.72 1.47 1.35L5.41 20z\"/>\n",
              "  </svg>\n",
              "      </button>\n",
              "      \n",
              "  <style>\n",
              "    .colab-df-container {\n",
              "      display:flex;\n",
              "      flex-wrap:wrap;\n",
              "      gap: 12px;\n",
              "    }\n",
              "\n",
              "    .colab-df-convert {\n",
              "      background-color: #E8F0FE;\n",
              "      border: none;\n",
              "      border-radius: 50%;\n",
              "      cursor: pointer;\n",
              "      display: none;\n",
              "      fill: #1967D2;\n",
              "      height: 32px;\n",
              "      padding: 0 0 0 0;\n",
              "      width: 32px;\n",
              "    }\n",
              "\n",
              "    .colab-df-convert:hover {\n",
              "      background-color: #E2EBFA;\n",
              "      box-shadow: 0px 1px 2px rgba(60, 64, 67, 0.3), 0px 1px 3px 1px rgba(60, 64, 67, 0.15);\n",
              "      fill: #174EA6;\n",
              "    }\n",
              "\n",
              "    [theme=dark] .colab-df-convert {\n",
              "      background-color: #3B4455;\n",
              "      fill: #D2E3FC;\n",
              "    }\n",
              "\n",
              "    [theme=dark] .colab-df-convert:hover {\n",
              "      background-color: #434B5C;\n",
              "      box-shadow: 0px 1px 3px 1px rgba(0, 0, 0, 0.15);\n",
              "      filter: drop-shadow(0px 1px 2px rgba(0, 0, 0, 0.3));\n",
              "      fill: #FFFFFF;\n",
              "    }\n",
              "  </style>\n",
              "\n",
              "      <script>\n",
              "        const buttonEl =\n",
              "          document.querySelector('#df-2810c9cf-7921-4c7b-bfdf-487cfb7b769a button.colab-df-convert');\n",
              "        buttonEl.style.display =\n",
              "          google.colab.kernel.accessAllowed ? 'block' : 'none';\n",
              "\n",
              "        async function convertToInteractive(key) {\n",
              "          const element = document.querySelector('#df-2810c9cf-7921-4c7b-bfdf-487cfb7b769a');\n",
              "          const dataTable =\n",
              "            await google.colab.kernel.invokeFunction('convertToInteractive',\n",
              "                                                     [key], {});\n",
              "          if (!dataTable) return;\n",
              "\n",
              "          const docLinkHtml = 'Like what you see? Visit the ' +\n",
              "            '<a target=\"_blank\" href=https://colab.research.google.com/notebooks/data_table.ipynb>data table notebook</a>'\n",
              "            + ' to learn more about interactive tables.';\n",
              "          element.innerHTML = '';\n",
              "          dataTable['output_type'] = 'display_data';\n",
              "          await google.colab.output.renderOutput(dataTable, element);\n",
              "          const docLink = document.createElement('div');\n",
              "          docLink.innerHTML = docLinkHtml;\n",
              "          element.appendChild(docLink);\n",
              "        }\n",
              "      </script>\n",
              "    </div>\n",
              "  </div>\n",
              "  "
            ]
          },
          "metadata": {},
          "execution_count": 2
        }
      ]
    },
    {
      "cell_type": "markdown",
      "source": [
        "#### Checking Duplicates"
      ],
      "metadata": {
        "id": "Ax0OIhfn0kwT"
      }
    },
    {
      "cell_type": "code",
      "source": [
        "df.duplicated().sum()"
      ],
      "metadata": {
        "colab": {
          "base_uri": "https://localhost:8080/"
        },
        "id": "LA-VWn1R0f5m",
        "outputId": "a93c3078-329e-4f13-c783-312e126d2666"
      },
      "execution_count": 3,
      "outputs": [
        {
          "output_type": "execute_result",
          "data": {
            "text/plain": [
              "0"
            ]
          },
          "metadata": {},
          "execution_count": 3
        }
      ]
    },
    {
      "cell_type": "markdown",
      "source": [
        "#### Checking Null Values"
      ],
      "metadata": {
        "id": "5acsq_NA0qSN"
      }
    },
    {
      "cell_type": "code",
      "source": [
        "df.isnull().sum()"
      ],
      "metadata": {
        "colab": {
          "base_uri": "https://localhost:8080/"
        },
        "id": "SpxTgbfHzIUO",
        "outputId": "267edb77-782c-4b63-ebfa-81729d0a613c"
      },
      "execution_count": 4,
      "outputs": [
        {
          "output_type": "execute_result",
          "data": {
            "text/plain": [
              "id           0\n",
              "title      558\n",
              "author    1957\n",
              "text        39\n",
              "label        0\n",
              "dtype: int64"
            ]
          },
          "metadata": {},
          "execution_count": 4
        }
      ]
    },
    {
      "cell_type": "code",
      "source": [
        "df.shape"
      ],
      "metadata": {
        "colab": {
          "base_uri": "https://localhost:8080/"
        },
        "id": "dIb__wYzzvkb",
        "outputId": "2d4faba0-310b-4fbd-c15b-02e1dbb0cf32"
      },
      "execution_count": 5,
      "outputs": [
        {
          "output_type": "execute_result",
          "data": {
            "text/plain": [
              "(20800, 5)"
            ]
          },
          "metadata": {},
          "execution_count": 5
        }
      ]
    },
    {
      "cell_type": "markdown",
      "source": [
        "We have decided to drop the null values as the dataset size is big and practically we cannot replace the text with randomly anything"
      ],
      "metadata": {
        "id": "tTvGnnTM0u8u"
      }
    },
    {
      "cell_type": "code",
      "source": [
        "df.dropna(inplace=True)"
      ],
      "metadata": {
        "id": "V38YAXN2z35I"
      },
      "execution_count": 6,
      "outputs": []
    },
    {
      "cell_type": "code",
      "source": [
        "df.isnull().sum()"
      ],
      "metadata": {
        "colab": {
          "base_uri": "https://localhost:8080/"
        },
        "id": "9gZCpKrv0AlB",
        "outputId": "5109b9d9-d70a-442d-93fe-334df8f8befc"
      },
      "execution_count": 7,
      "outputs": [
        {
          "output_type": "execute_result",
          "data": {
            "text/plain": [
              "id        0\n",
              "title     0\n",
              "author    0\n",
              "text      0\n",
              "label     0\n",
              "dtype: int64"
            ]
          },
          "metadata": {},
          "execution_count": 7
        }
      ]
    },
    {
      "cell_type": "markdown",
      "source": [
        "#### Combining all the features in X to get 1 single feature"
      ],
      "metadata": {
        "id": "ruouAC378YfH"
      }
    },
    {
      "cell_type": "code",
      "source": [
        "df['news_details'] = df['author']+' '+df['title']\n",
        "df.head(3)"
      ],
      "metadata": {
        "colab": {
          "base_uri": "https://localhost:8080/",
          "height": 378
        },
        "id": "aJUazAzz8XfT",
        "outputId": "a6d60da5-c073-4148-e42c-5e2493208d24"
      },
      "execution_count": 8,
      "outputs": [
        {
          "output_type": "execute_result",
          "data": {
            "text/plain": [
              "   id                                              title              author  \\\n",
              "0   0  House Dem Aide: We Didn’t Even See Comey’s Let...       Darrell Lucus   \n",
              "1   1  FLYNN: Hillary Clinton, Big Woman on Campus - ...     Daniel J. Flynn   \n",
              "2   2                  Why the Truth Might Get You Fired  Consortiumnews.com   \n",
              "\n",
              "                                                text  label  \\\n",
              "0  House Dem Aide: We Didn’t Even See Comey’s Let...      1   \n",
              "1  Ever get the feeling your life circles the rou...      0   \n",
              "2  Why the Truth Might Get You Fired October 29, ...      1   \n",
              "\n",
              "                                        news_details  \n",
              "0  Darrell Lucus House Dem Aide: We Didn’t Even S...  \n",
              "1  Daniel J. Flynn FLYNN: Hillary Clinton, Big Wo...  \n",
              "2  Consortiumnews.com Why the Truth Might Get You...  "
            ],
            "text/html": [
              "\n",
              "  <div id=\"df-dc481842-8bd8-4907-a352-20e05db2068f\">\n",
              "    <div class=\"colab-df-container\">\n",
              "      <div>\n",
              "<style scoped>\n",
              "    .dataframe tbody tr th:only-of-type {\n",
              "        vertical-align: middle;\n",
              "    }\n",
              "\n",
              "    .dataframe tbody tr th {\n",
              "        vertical-align: top;\n",
              "    }\n",
              "\n",
              "    .dataframe thead th {\n",
              "        text-align: right;\n",
              "    }\n",
              "</style>\n",
              "<table border=\"1\" class=\"dataframe\">\n",
              "  <thead>\n",
              "    <tr style=\"text-align: right;\">\n",
              "      <th></th>\n",
              "      <th>id</th>\n",
              "      <th>title</th>\n",
              "      <th>author</th>\n",
              "      <th>text</th>\n",
              "      <th>label</th>\n",
              "      <th>news_details</th>\n",
              "    </tr>\n",
              "  </thead>\n",
              "  <tbody>\n",
              "    <tr>\n",
              "      <th>0</th>\n",
              "      <td>0</td>\n",
              "      <td>House Dem Aide: We Didn’t Even See Comey’s Let...</td>\n",
              "      <td>Darrell Lucus</td>\n",
              "      <td>House Dem Aide: We Didn’t Even See Comey’s Let...</td>\n",
              "      <td>1</td>\n",
              "      <td>Darrell Lucus House Dem Aide: We Didn’t Even S...</td>\n",
              "    </tr>\n",
              "    <tr>\n",
              "      <th>1</th>\n",
              "      <td>1</td>\n",
              "      <td>FLYNN: Hillary Clinton, Big Woman on Campus - ...</td>\n",
              "      <td>Daniel J. Flynn</td>\n",
              "      <td>Ever get the feeling your life circles the rou...</td>\n",
              "      <td>0</td>\n",
              "      <td>Daniel J. Flynn FLYNN: Hillary Clinton, Big Wo...</td>\n",
              "    </tr>\n",
              "    <tr>\n",
              "      <th>2</th>\n",
              "      <td>2</td>\n",
              "      <td>Why the Truth Might Get You Fired</td>\n",
              "      <td>Consortiumnews.com</td>\n",
              "      <td>Why the Truth Might Get You Fired October 29, ...</td>\n",
              "      <td>1</td>\n",
              "      <td>Consortiumnews.com Why the Truth Might Get You...</td>\n",
              "    </tr>\n",
              "  </tbody>\n",
              "</table>\n",
              "</div>\n",
              "      <button class=\"colab-df-convert\" onclick=\"convertToInteractive('df-dc481842-8bd8-4907-a352-20e05db2068f')\"\n",
              "              title=\"Convert this dataframe to an interactive table.\"\n",
              "              style=\"display:none;\">\n",
              "        \n",
              "  <svg xmlns=\"http://www.w3.org/2000/svg\" height=\"24px\"viewBox=\"0 0 24 24\"\n",
              "       width=\"24px\">\n",
              "    <path d=\"M0 0h24v24H0V0z\" fill=\"none\"/>\n",
              "    <path d=\"M18.56 5.44l.94 2.06.94-2.06 2.06-.94-2.06-.94-.94-2.06-.94 2.06-2.06.94zm-11 1L8.5 8.5l.94-2.06 2.06-.94-2.06-.94L8.5 2.5l-.94 2.06-2.06.94zm10 10l.94 2.06.94-2.06 2.06-.94-2.06-.94-.94-2.06-.94 2.06-2.06.94z\"/><path d=\"M17.41 7.96l-1.37-1.37c-.4-.4-.92-.59-1.43-.59-.52 0-1.04.2-1.43.59L10.3 9.45l-7.72 7.72c-.78.78-.78 2.05 0 2.83L4 21.41c.39.39.9.59 1.41.59.51 0 1.02-.2 1.41-.59l7.78-7.78 2.81-2.81c.8-.78.8-2.07 0-2.86zM5.41 20L4 18.59l7.72-7.72 1.47 1.35L5.41 20z\"/>\n",
              "  </svg>\n",
              "      </button>\n",
              "      \n",
              "  <style>\n",
              "    .colab-df-container {\n",
              "      display:flex;\n",
              "      flex-wrap:wrap;\n",
              "      gap: 12px;\n",
              "    }\n",
              "\n",
              "    .colab-df-convert {\n",
              "      background-color: #E8F0FE;\n",
              "      border: none;\n",
              "      border-radius: 50%;\n",
              "      cursor: pointer;\n",
              "      display: none;\n",
              "      fill: #1967D2;\n",
              "      height: 32px;\n",
              "      padding: 0 0 0 0;\n",
              "      width: 32px;\n",
              "    }\n",
              "\n",
              "    .colab-df-convert:hover {\n",
              "      background-color: #E2EBFA;\n",
              "      box-shadow: 0px 1px 2px rgba(60, 64, 67, 0.3), 0px 1px 3px 1px rgba(60, 64, 67, 0.15);\n",
              "      fill: #174EA6;\n",
              "    }\n",
              "\n",
              "    [theme=dark] .colab-df-convert {\n",
              "      background-color: #3B4455;\n",
              "      fill: #D2E3FC;\n",
              "    }\n",
              "\n",
              "    [theme=dark] .colab-df-convert:hover {\n",
              "      background-color: #434B5C;\n",
              "      box-shadow: 0px 1px 3px 1px rgba(0, 0, 0, 0.15);\n",
              "      filter: drop-shadow(0px 1px 2px rgba(0, 0, 0, 0.3));\n",
              "      fill: #FFFFFF;\n",
              "    }\n",
              "  </style>\n",
              "\n",
              "      <script>\n",
              "        const buttonEl =\n",
              "          document.querySelector('#df-dc481842-8bd8-4907-a352-20e05db2068f button.colab-df-convert');\n",
              "        buttonEl.style.display =\n",
              "          google.colab.kernel.accessAllowed ? 'block' : 'none';\n",
              "\n",
              "        async function convertToInteractive(key) {\n",
              "          const element = document.querySelector('#df-dc481842-8bd8-4907-a352-20e05db2068f');\n",
              "          const dataTable =\n",
              "            await google.colab.kernel.invokeFunction('convertToInteractive',\n",
              "                                                     [key], {});\n",
              "          if (!dataTable) return;\n",
              "\n",
              "          const docLinkHtml = 'Like what you see? Visit the ' +\n",
              "            '<a target=\"_blank\" href=https://colab.research.google.com/notebooks/data_table.ipynb>data table notebook</a>'\n",
              "            + ' to learn more about interactive tables.';\n",
              "          element.innerHTML = '';\n",
              "          dataTable['output_type'] = 'display_data';\n",
              "          await google.colab.output.renderOutput(dataTable, element);\n",
              "          const docLink = document.createElement('div');\n",
              "          docLink.innerHTML = docLinkHtml;\n",
              "          element.appendChild(docLink);\n",
              "        }\n",
              "      </script>\n",
              "    </div>\n",
              "  </div>\n",
              "  "
            ]
          },
          "metadata": {},
          "execution_count": 8
        }
      ]
    },
    {
      "cell_type": "code",
      "source": [
        "df = df.reset_index()\n",
        "df.drop(['index','id'],axis=1,inplace=True)"
      ],
      "metadata": {
        "id": "ju_Ym4bLASpT"
      },
      "execution_count": 9,
      "outputs": []
    },
    {
      "cell_type": "markdown",
      "source": [
        "### Text Pre-Processing"
      ],
      "metadata": {
        "id": "v4RNrmou6UY_"
      }
    },
    {
      "cell_type": "code",
      "source": [
        "df['news_details'] = df['news_details'].str.lower()"
      ],
      "metadata": {
        "id": "5YpERYTpCBot"
      },
      "execution_count": 10,
      "outputs": []
    },
    {
      "cell_type": "markdown",
      "source": [
        "##### - Removing Punctuations"
      ],
      "metadata": {
        "id": "kg-3J07_XVaL"
      }
    },
    {
      "cell_type": "code",
      "source": [
        "import string\n",
        "exclude = string.punctuation+ ('·')+('•')\n",
        "exclude"
      ],
      "metadata": {
        "colab": {
          "base_uri": "https://localhost:8080/",
          "height": 36
        },
        "id": "1FulBl2tXVJl",
        "outputId": "4bc45393-12e0-4a3e-9dde-ee754bb245ff"
      },
      "execution_count": 11,
      "outputs": [
        {
          "output_type": "execute_result",
          "data": {
            "text/plain": [
              "'!\"#$%&\\'()*+,-./:;<=>?@[\\\\]^_`{|}~·•'"
            ],
            "application/vnd.google.colaboratory.intrinsic+json": {
              "type": "string"
            }
          },
          "metadata": {},
          "execution_count": 11
        }
      ]
    },
    {
      "cell_type": "code",
      "source": [
        "def remove_punctuations(text):\n",
        "    return text.translate(str.maketrans('','',exclude))"
      ],
      "metadata": {
        "id": "0UbjZReaXUPF"
      },
      "execution_count": 12,
      "outputs": []
    },
    {
      "cell_type": "code",
      "source": [
        "df['news_details'] = df['news_details'].apply((remove_punctuations))"
      ],
      "metadata": {
        "id": "mLFjGp8uYV0P"
      },
      "execution_count": 13,
      "outputs": []
    },
    {
      "cell_type": "markdown",
      "source": [
        "##### - Removing Email's,Websites,digits"
      ],
      "metadata": {
        "id": "puJhlQJQa9jH"
      }
    },
    {
      "cell_type": "code",
      "source": [
        "from tqdm import tqdm\n",
        "import re"
      ],
      "metadata": {
        "id": "e8EHqByvZjXG"
      },
      "execution_count": 14,
      "outputs": []
    },
    {
      "cell_type": "code",
      "source": [
        "for i in tqdm(range(len(df))):\n",
        "  df['news_details'][i] = re.sub('\\d+','',df['news_details'][i])\n",
        "  df['news_details'][i] = re.sub('[a-z0-9]+@[a-z0-9]+.[0-9a-z]+','',df['news_details'][i])\n",
        "  df['news_details'][i] = re.sub('http\\S+|www\\S+','',df['news_details'][i])"
      ],
      "metadata": {
        "colab": {
          "base_uri": "https://localhost:8080/"
        },
        "id": "GDSVdjlQF146",
        "outputId": "3d5c6a35-3426-4446-e251-0185c0a2b77a"
      },
      "execution_count": 15,
      "outputs": [
        {
          "output_type": "stream",
          "name": "stderr",
          "text": [
            "100%|██████████| 18285/18285 [00:32<00:00, 562.01it/s]\n"
          ]
        }
      ]
    },
    {
      "cell_type": "markdown",
      "source": [
        "##### - Removing Stop words and Stemming"
      ],
      "metadata": {
        "id": "5veQCrtmamHF"
      }
    },
    {
      "cell_type": "code",
      "source": [
        "from nltk.stem.porter import PorterStemmer\n",
        "ps = PorterStemmer()"
      ],
      "metadata": {
        "id": "CKH8XPWdJugz"
      },
      "execution_count": 16,
      "outputs": []
    },
    {
      "cell_type": "code",
      "source": [
        "import nltk\n",
        "nltk.download('stopwords')\n",
        "from nltk.corpus import stopwords"
      ],
      "metadata": {
        "colab": {
          "base_uri": "https://localhost:8080/"
        },
        "id": "AV6wsk738FYI",
        "outputId": "870cdd52-712e-42fc-d856-280b912e89d7"
      },
      "execution_count": 17,
      "outputs": [
        {
          "output_type": "stream",
          "name": "stderr",
          "text": [
            "[nltk_data] Downloading package stopwords to /root/nltk_data...\n",
            "[nltk_data]   Package stopwords is already up-to-date!\n"
          ]
        }
      ]
    },
    {
      "cell_type": "code",
      "source": [
        "stoplist = stopwords.words('english')"
      ],
      "metadata": {
        "id": "dl8fzn5sZ5la"
      },
      "execution_count": 18,
      "outputs": []
    },
    {
      "cell_type": "code",
      "source": [
        "def remove_stopwords(text):\n",
        "    new_text = []\n",
        "    for words in text.split():\n",
        "        if not words in stoplist:\n",
        "            stem_word = ps.stem(words)\n",
        "            new_text.append(stem_word)\n",
        "    return \" \".join(new_text)"
      ],
      "metadata": {
        "id": "NWWNTR7eF11c"
      },
      "execution_count": 19,
      "outputs": []
    },
    {
      "cell_type": "code",
      "source": [
        "df['news_details'] = df['news_details'].apply(remove_stopwords)"
      ],
      "metadata": {
        "id": "ZohBeqdQ8FMw"
      },
      "execution_count": 20,
      "outputs": []
    },
    {
      "cell_type": "code",
      "source": [
        "corpus = []\n",
        "for i in tqdm(range(len(df))):\n",
        "  corpus.append(df['news_details'][i])"
      ],
      "metadata": {
        "colab": {
          "base_uri": "https://localhost:8080/"
        },
        "id": "mOrVhFEWdDJc",
        "outputId": "aefbde11-13c0-42fe-a63a-b4b60e1064bd"
      },
      "execution_count": 21,
      "outputs": [
        {
          "output_type": "stream",
          "name": "stderr",
          "text": [
            "100%|██████████| 18285/18285 [00:00<00:00, 194503.80it/s]\n"
          ]
        }
      ]
    },
    {
      "cell_type": "code",
      "source": [
        "corpus"
      ],
      "metadata": {
        "colab": {
          "base_uri": "https://localhost:8080/"
        },
        "id": "LDdqO7yidDF3",
        "outputId": "cb118a6d-8533-4ff8-d722-f301cce53756"
      },
      "execution_count": 22,
      "outputs": [
        {
          "output_type": "execute_result",
          "data": {
            "text/plain": [
              "['darrel lucu hous dem aid didn’t even see comey’ letter jason chaffetz tweet',\n",
              " 'daniel j flynn flynn hillari clinton big woman campu breitbart',\n",
              " 'consortiumnewscom truth might get fire',\n",
              " 'jessica purkiss civilian kill singl us airstrik identifi',\n",
              " 'howard portnoy iranian woman jail fiction unpublish stori woman stone death adulteri',\n",
              " 'daniel nussbaum jacki mason hollywood would love trump bomb north korea lack tran bathroom exclus video breitbart',\n",
              " 'alissa j rubin benoît hamon win french socialist party’ presidenti nomin new york time',\n",
              " 'megan twohey scott shane backchannel plan ukrain russia courtesi trump associ new york time',\n",
              " 'aaron klein obama’ organ action partner soroslink ‘indivisible’ disrupt trump’ agenda',\n",
              " 'chri tomlinson bbc comedi sketch real housew isi caus outrag',\n",
              " 'amando flavio russian research discov secret nazi militari base ‘treasur hunter’ arctic photo',\n",
              " 'jason ditz us offici see link trump russia',\n",
              " 'anotheranni ye paid govern troll social media blog forum websit',\n",
              " 'jack william major leagu soccer argentin find home success new york time',\n",
              " 'michael corkeri staci cowley well fargo chief abruptli step new york time',\n",
              " 'starkman anonym donor pay million releas everyon arrest dakota access pipelin',\n",
              " 'doc fbi close hillari',\n",
              " 'jeff poor chuck todd ’buzzfe donald trump polit favor’ breitbart',\n",
              " 'jerom hudson monica lewinski clinton sex scandal set ’american crime story’',\n",
              " 'pam key rob reiner trump ’mental unstable’ breitbart',\n",
              " 'donald g mcneil jr pam belluck abort pill order rise latin american nation zika alert new york time',\n",
              " 'ira helfand nuke un histor treati ban nuclear weapon',\n",
              " 'aaron klein ali wake exclus islam state support vow ‘shake’ west follow manchest terrorist massacr breitbart',\n",
              " 'amanda shea humili hillari tri hide camera caught min ralli',\n",
              " 'jim dwyer andrea tantaro fox news claim retali sex harass complaint new york time',\n",
              " 'mark landler hillari clinton becam hawk new york time',\n",
              " 'ian hanchett chuck todd buzzfe eic ’you publish fake news’ breitbart',\n",
              " 'steven erlang bori johnson ‘brexit’ leader fumbl new york time',\n",
              " 'clifford krauss texa oil field rebound price lull job left behind new york time',\n",
              " 'lesli picker danni hakim michael j de la merc bayer deal monsanto follow agribusi trend rais worri farmer new york time',\n",
              " 'andrew higgin russia move ban jehovah’ wit ‘extremist’ new york time',\n",
              " 'greanfinish still ‘the danger zone’ januari th',\n",
              " 'b open thread us elect',\n",
              " 'awr hawkin democrat gutierrez blame chicago’ gun violenc nra breitbart',\n",
              " 'aaron e carrol avoid peanut avoid allergi bad strategi new york time',\n",
              " 'dr susan berri mri show detail imag week unborn babi breitbart',\n",
              " 'alexandria laredo best kind milk aren’t dairi',\n",
              " 'kati roger ryan locht drop speedo usa retail new york time',\n",
              " 'ian mason conserv urg session clean obama’ civil right divis breitbart',\n",
              " 'jim rutenberg ben protess emili steel intern inquiri seal fate roger ail fox new york time',\n",
              " 'gordon duff senior editor press tv debat duff lebanon hezbollah aoun’ presid video',\n",
              " 'brian x chen samsung combust galaxi note unveil new smartphon new york time',\n",
              " 'virginia hale poland vow referendum migrant quota amidst eu pressur ’the public’ voic heard’ breitbart',\n",
              " 'lanc schuttler spark inner revolut',\n",
              " 'nate church studi half car crash involv driver distract cell phone breitbart',\n",
              " 'lanc schuttler trump elect spark individu collect heal',\n",
              " 'madelin ep fade black jimmi church w laura eisenhow restor balanc video',\n",
              " 'mr islam cognit true islam book review',\n",
              " 'doc donald trump win elect biggest miracl us polit histori',\n",
              " 'jeff gordini mind eat way fight bing new york time',\n",
              " 'neil irwin major potenti impact corpor tax overhaul new york time',\n",
              " 'anonym coward uid wonder glp like day elect',\n",
              " 'kenneth chang sewel chan maker world’ smallest machin award nobel prize chemistri new york time',\n",
              " 'truth broadcast network massiv antitrump protest union squar nyc live stream',\n",
              " 'scott review ‘lion’ bring tear lost boy wipe dri googl new york time',\n",
              " 'kristina wong us gener islam state chemic attack ’no impact’ us forc',\n",
              " 'admin juri find oregon standoff defend guilti feder conspiraci gun charg',\n",
              " 'doc clinton campaign stun fbi reportedli reopen probe hillari clinton email',\n",
              " 'jeremi w peter penc speak antiabort ralli new york time',\n",
              " 'jason easley berni sander say media won’t trump gutless polit coward',\n",
              " 'chri black make briquett daili wast',\n",
              " 'ivan stakhanovet treason nyt vow reded report',\n",
              " 'jacey fortin dress like woman mean new york time',\n",
              " 'brett anderson ella brennan still feed lead new orlean new york time',\n",
              " 'jane perlez press asia agenda obama tread lightli human right new york time',\n",
              " 'josh katz democrat percent chanc retak senat new york time',\n",
              " 'redflag newsdesk judg spank transgenderobsess obama lie redflag news',\n",
              " 'mark landler us diplomat urg strike assad syria new york time',\n",
              " 'pam key franken call ’independ investigation’ trump’ ’putin crush’ breitbart',\n",
              " 'andrea kannapel sandra stevenson louisiana simon bile us presidenti race tuesday even brief new york time',\n",
              " 'breitbart london turkey threaten open migrant ’land passage’ europ row dutch',\n",
              " 'steve sailer huma’ weiner dog hillari',\n",
              " 'scott osborn colin kaepernick start black pantherinspir youth camp wow',\n",
              " 'nichola kulish vivian yee caitlin dickerson liz robbin fernanda santo jennif medina trump’ immigr polici explain new york time',\n",
              " 'niraj chokshi liam stack mari tyler moor mourn dick van dyke star new york time',\n",
              " 'heather callaghan poison',\n",
              " 'jack heali trump fan ralli across nation support presid new york time',\n",
              " 'kayla brandon fox biz report cant help bash clinton’ ralli cover trump’ pack event day',\n",
              " 'amanda hess fiction podcast worth listen new york time',\n",
              " 'mike birbiglia mike birbiglia’ tip make small hollywood anywher new york time',\n",
              " 'mac slavo invest strategist forecast collaps timelin ‘the last gasp econom cycl come ’',\n",
              " 'nichola casey patricia torr venezuela muzzl legislatur move closer oneman rule new york time',\n",
              " 'natur news editor whether john mccain mitt romney donald trump democrat alway run war women tactic destroy republican candid',\n",
              " 'breitbart news breitbart news daili trump boom breitbart',\n",
              " 'edwin mora white hous confirm gitmo transfer obama leav offic',\n",
              " 'katherin rodriguez poll voter heard democrat elect candid breitbart',\n",
              " 'vivian yee migrant confront judgment day old deport order new york time',\n",
              " 'tara siegel bernard mit nyu yale su retir plan fee new york time',\n",
              " 'activist post technocraci real reason un want control internet',\n",
              " 'matt richtel american driver regain appetit ga guzzler new york time',\n",
              " 'nichola confessor rachel shorey hillari clinton build million war chest doubl donald trump new york time',\n",
              " 'amanda shea trump catch sick report snuck interview priceless respons',\n",
              " 'joel b pollak senat contact russian govern week',\n",
              " 'antimedia imag perfectli illustr struggl dakota access pipelin',\n",
              " 'michael patrick leahi washington state take refuge muslim rest countri take refuge muslim breitbart',\n",
              " 'warner todd huston ncaa big keep watch eye texa bathroom bill breitbart',\n",
              " 'dylan gwinn massiv espn financi subscrib loss drag disney’ firstquart sale breitbart',\n",
              " 'john koblin megyn kelli contract set expir next year prime big show new york time',\n",
              " 'katherin rodriguez teacher suspend allow student hit trump pinata cinco de mayo',\n",
              " 'ami moreno break trump express concern anthoni weiner’ “illeg access” classifi info month ago – truthfe',\n",
              " 'michael j de la merc snap share leap debut investor doubt valu vanish new york time',\n",
              " 'admin clinton campaign chair dinner top doj offici one day hillary’ benghazi hear',\n",
              " 'warner todd huston tv seri ’first femal mlb pitcher’ can one lowrat season breitbart',\n",
              " 'jeré longman seek best fit women’ final four return fridaysunday new york time',\n",
              " 'ian austen propos canadian nation bird ruffl feather new york time',\n",
              " 'jon parel review beyoncé make ‘lemonade’ marit strife new york time',\n",
              " 'glenn thrush kate kelli maggi haberman trump ask sharp increas militari spend offici say new york time',\n",
              " 'contribut author waterg smoke gun email discuss “clean up” obamahillari email',\n",
              " 'eric striker “chapo trap house” new leftw podcast flagrant ripoff right stuff',\n",
              " 'michael forsyth chri buckley taiwan respond china send carrier taiwan strait new york time',\n",
              " 'david stockman mother octob surprises—whi hous card come tumbl',\n",
              " 'wmwadmin explos assangepilg interview us elect expect riot hillari win',\n",
              " 'denni overby telescop ‘ate astronomy’ track surpass hubbl new york time',\n",
              " 'mujib mashal close afghanpakistani border becom ‘humanitarian crisis’ new york time',\n",
              " 'kristina wong tv anchor arriv white hous lunch donald trump breitbart',\n",
              " 'trent baker pelosi republican tell trump he’ ’bring dishonor’ presid breitbart',\n",
              " 'editor beauti prehistor world earth wasteland',\n",
              " 'farhad manjoo ignor trump news week here’ learn new york time',\n",
              " 'nick corasan maggi haberman donald trump unveil plan famili bid women’ vote new york time',\n",
              " 'ben kew montana democrat vote bill ban sharia law call ’repugnant’ breitbart',\n",
              " 'editor monsanto tribun go happen',\n",
              " 'victor mather doug mill chang w lee it’ offici simon bile world’ best gymnast new york time',\n",
              " 'beforeitsnewscom liter hurt brain read econom idioci emit trumpkin libertarian',\n",
              " 'geoffrey grider un secretari gener complain ‘mass reject globalism’ favor nation',\n",
              " 'steelman trump bollywood ad meant sway indian american voter hilari fail video',\n",
              " 'zero hedg fbi find previous unseen hillari clinton email weiner’ laptop',\n",
              " 'starkman year american journalist kill ‘conspiraci theories’ syria proven fact',\n",
              " 'awr hawkin report illeg alien forego food stamp stay trump’ radar',\n",
              " 'european union time make netherland great hahaha spread worldwid',\n",
              " 'aaron klein four kill injur jerusalem truckram terror attack',\n",
              " 'andrew anglin leader salut comrad newt brutal megyn sic kelli beatdown “we don’t play games”',\n",
              " 'colin taylor student black colleg got beaten mace protest kkk’ david duke',\n",
              " 'awr hawkin despit strict gun control one ’child youth’ shot everi day ontario',\n",
              " 'amanda hess rise internet fan bulli new york time',\n",
              " 'jason horowitz newli vibrant washington fear trump drain cultur new york time',\n",
              " 'binyamin appelbaum fed hold interest rate steadi plan slower increas new york time',\n",
              " 'ari lieberman battl unesco',\n",
              " 'juli hirschfeld davi latest test white hous pull easter egg roll new york time',\n",
              " 'katherin rodriguez burlesqu dancer fire investig secret servic trump assassin tweet breitbart',\n",
              " 'nathan j robinson clinton haiti',\n",
              " 'vivian yee cuomo christi parallel path top troubl got new york time',\n",
              " 'dikran arakelian noreplybloggercom top place world your allow visit',\n",
              " 'whitney webb new studi link fluorid consumpt hypothyroid weight gain wors',\n",
              " 'david swanson jame matti secretari offens',\n",
              " 'colin taylor black church burn spraypaint “vote trump”',\n",
              " 'michael j de la merc sear agre sell craftsman stanley black amp decker rais cash new york time',\n",
              " 'jonathan sobl takata chief execut resign financi pressur mount new york time',\n",
              " 'christoph shea goodby good black sabbath new york time',\n",
              " 'adel nazarian teen ’geisha dolls’ gang bust arm robberi breitbart',\n",
              " 'jame fulford mohamad khwei anoth “virginia man” palestinianamerican muslim charg terror',\n",
              " 'pam key price obamacar replac ‘nobodi wors financially’ breitbart',\n",
              " 'arnaldo rodger va fail properli examin thousand veteran',\n",
              " 'guest trump famili alreadi ‘sworn secrecy’ fake moon land soon',\n",
              " 'warner todd huston sport writer nfl great jim brown’ decad civil right work eras say nice thing donald trump breitbart',\n",
              " 'jeremi w peter ‘i watch tv’ excus republican skip donald trump convent new york time',\n",
              " 'colin taylor open letter trump voter told “like is”',\n",
              " 'runsinquicksand comment power corpor lobbi quietli back hillari — nobody’ talk runsinquicksand',\n",
              " 'declan walsh hijack end peac libyan airlin land malta new york time',\n",
              " 'wesley morri don’t like girl ‘girls’ that’ geniu new york time',\n",
              " 'carl zimmer scientist say canadian bacteria fossil may earth’ oldest new york time',\n",
              " 'ann barnard karam shoumali progovern forc advanc syria amid talk usrussia cooper new york time',\n",
              " 'rt cancer agenc fire withhold ‘carcinogen glyphosate’ document',\n",
              " 'gretchen reynold work walk minut work new york time',\n",
              " 'sopan deb steve harvey talk hous presidentelect trump new york time',\n",
              " 'edwin mora coalit us troop fight mosul offens ’come fire’',\n",
              " 'barenakedislam uk citizen war hero get cheap prefab hous muslim colon get taxpayerfund luxuri council home',\n",
              " 'iwb vet fight war fed demand money back… illeg refuge keep money',\n",
              " 'robert draper mr trump’ wild ride new york time',\n",
              " 'dsg fbi director comey bamboozl doj congress clinton',\n",
              " 'twain yobra food natur unclog arteri prevent heart attack',\n",
              " 'consortiumnewscom death ‘twostat solution’',\n",
              " 'facespac comment parent date asleep car cop arriv kill facespac',\n",
              " 'eric lipton charli savag michael schmidt donald trump’ team show sign postelect moder new york time',\n",
              " 'lizett alvarez miami beach tri tame raucou street fishbowl drink stay new york time',\n",
              " 'starkman doctor mysteri found dead summit breakthrough cure cancer',\n",
              " 'declan walsh donald trump unsink candid new york time',\n",
              " 'daili sheepl shock new mock hillari ad campaign warn she’ll take us war enlistforh fightforh dieforh',\n",
              " 'bob price exclus famili slain border patrol agent brian terri say eric holder among ’the real criminals’ respons',\n",
              " 'adam shaw trump tell report ‘wall work ask israel’ breitbart',\n",
              " 'tim king america surviv next year',\n",
              " 'david waldstein commission start press cleveland indian logo new york time',\n",
              " 'starkman un plan implant everyon biometr id drill',\n",
              " 'jonathan weisman eric lichtblau charli savag trump attack senator’ credibl gorsuch’ comment new york time',\n",
              " 'dawn parabellum clinton advisor lose leak email hillary’ illeg activ',\n",
              " 'trent baker art laffer ’paul ryan’ perfect right now’ breitbart',\n",
              " 'iwb donald trump blame econom crash',\n",
              " 'sausag machin pokemon go player inadvert stop peopl commit suicid japan',\n",
              " 'jennif medina california senat race tale divers flail gop new york time',\n",
              " 'toni lee exclus sourc say megyn kelli ‘would welcom back’ fox news',\n",
              " 'juli hirschfeld davi break preced obama envoy deni extens past inaugur day new york time',\n",
              " 'sarah lyall ‘brexit’ vote go monti python may offer clue new york time',\n",
              " 'starkman blind mystic predict bad news trump',\n",
              " 'john hayward total vet fail leftw snowden fan girl realiti winner get access nsa secret',\n",
              " 'mark mazzetti jeffrey gettleman eric schmitt somalia us escal shadow war new york time',\n",
              " 'alan blinder free care ‘blessing’ victim orlando nightclub attack new york time',\n",
              " 'howard portnoy durabl democrat counti countri could go trump',\n",
              " 'eduardo porter fed’ challeng rais rate may existenti new york time',\n",
              " 'angela borozna russia intent attack anyon absurd say vladimir putin',\n",
              " 'christoph mele faa investig errant flight involv harrison ford new york time',\n",
              " 'binyamin appelbaum fed rais key interest rate cite strengthen economi new york time',\n",
              " 'xavi puig la expresión “no lo siguiente” ya es la má utilizada lo siguient en el castellano',\n",
              " 'jim rutenberg trump berat news media new strategi need cover new york time',\n",
              " 'helen cooper us drone strike target taliban leader new york time',\n",
              " 'shepard ambella us intellig ‘expect alqaeda attack monday new york virginia texas’',\n",
              " 'paul fassa told cannabi great revers alzheimer’',\n",
              " 'daniel nussbaum report megyn kelli kick nbc show kardashian famili interview',\n",
              " 'robert frank karl russel local percent may rich think new york time',\n",
              " 'dr patrick slatteri dr david duke mark collett uk collett explain duke trump victori would chang polit forev',\n",
              " 'michael corkeri statement senat well fargo chief ‘deepli sorry’ new york time',\n",
              " 'luca nolan cnn statement distanc network buzzfe fake news dossier breitbart',\n",
              " 'andrew ross sorkin ceo ponder new game trump’ rule new york time',\n",
              " 'trent baker spicer brady’ stolen jersey ’anoth bad press’ breitbart',\n",
              " 'steph yin scaredycat’ investig peopl enjoy fear new york time',\n",
              " 'thoma sowel left’ vision',\n",
              " 'paul mozur showdown loom us question chines deal german chip design new york time',\n",
              " 'mark landler michael shear trump administr take harder tack trade china new york time',\n",
              " 'penni starr pew american trust level feder govern plummet histor low breitbart',\n",
              " 'jenna leigh richardson islam state support former nation guardsman plead guilti terror charg virginia',\n",
              " 'pam key spicer report ’we’r go rais hand like big boy girls’ breitbart',\n",
              " 'dr susan berri leader applaud gorsuch confirm ’win prolif movement’',\n",
              " 'noreplybloggercom der postillon newstick',\n",
              " 'dana thoma french vogue’ march cover featur transgend model new york time',\n",
              " 'ashley parker david herszenhorn trump veer parti line gun control new york time',\n",
              " 'pcr oligarchi prepar groundwork steal elect',\n",
              " 'xavi puig ya hay má reencuentro de “operación triunfo” que edicion de “operación triunfo”',\n",
              " 'elizabeth paton chatsworth hous tale five centuri new york time',\n",
              " 'mark leibovich uncomfort love affair donald trump new england patriot new york time',\n",
              " 'alan rappeport john mccain withdraw support donald trump disclosur record new york time',\n",
              " 'declan walsh nour youssef strang unend limbo egypt’ hosni mubarak new york time',\n",
              " 'eric zuess poverti rose us hous district obama’ presid',\n",
              " 'sean adltabatabai huma abedin seek fbi immun deal',\n",
              " 'sharon harrigan singl mom escap friend zone one nondat time new york time',\n",
              " 'nate church boe suit futur spaceflight new spacesuit design breitbart',\n",
              " 'carl huls juli hirschfeld davi alan rappeport maggi haberman trump float oliv branch might keep part health law new york time',\n",
              " 'breitbart tech wapo tri compar elizabeth warren break senat rule milo shut violent riot breitbart',\n",
              " 'alan blinder crumpl school bu leav chattanooga daze new york time',\n",
              " 'dikran arakelian noreplybloggercom die came back life incred messag human',\n",
              " 'graham bowley fight nation africanamerican museum new york time',\n",
              " 'breitbart london father manchest suicid bomber arrest libya breitbart',\n",
              " 'wakingtim secret true leader',\n",
              " 'admin muslim demand local don’t walk dog public – violat sharia “disrespects”',\n",
              " 'justen charter hillari campaign bed pac staff donat k fbi agent wife investig',\n",
              " 'mac slavo still tri “flip elector college” block trump’ win',\n",
              " 'toni lee al sharpton dem point appeal ‘archi bunker’ trump voter breitbart',\n",
              " 'anonym coward uid think mani doom sayer trump get offic',\n",
              " 'penni starr democrat jump session resign band wagon breitbart',\n",
              " 'darrel lucu altright architect glenn beck open fire altright ‘grave threat republic’ audio tweet',\n",
              " 'roger aronoff politic justic protect hillari',\n",
              " 'jess bidgood alan blinder jonathan katz north carolina satur surpris reel hurrican matthew new york time',\n",
              " 'new york time magazin live love submit memori new york time',\n",
              " 'matthew e may achiev mind work medit cushion requir new york time',\n",
              " 'amanda froelich world’ first zeroemiss hydrogenpow passeng train unveil germani',\n",
              " 'karen workman confus chip credit card get line new york time',\n",
              " 'ian hanchett brook trump ’side foreign leader us president’ israel russia breitbart',\n",
              " 'pamela bofferd there’ toxic air home get rid natur',\n",
              " 'vdarecom reader connecticut reader report record voter registration–inspir trump',\n",
              " 'melissa eddi germani react merkeltrump visit ‘could lot worse’ new york time',\n",
              " 'karen crous justin rose outduel henrik stenson golf gold medal new york time',\n",
              " 'dan koi iceland’ water cure new york time',\n",
              " 'emma g fitzsimmon mta shorten l train shutdown month new york time',\n",
              " 'nate cohn time presid decid new york time',\n",
              " 'rick gladston un relief offici call crisi aleppo ‘apex horror’ new york time',\n",
              " 'joel b pollak berkeley treat violent antispeech left like kkk',\n",
              " 'jafe arnoldski noreplybloggercom statist propaganda mani syrian us regimechang kill',\n",
              " 'alex william selfhelp guru jame altuch own thing new york time',\n",
              " 'ian mason trump’ religi liberti order give session major leeway breitbart',\n",
              " 'voltairenetorg ¡demoledor amparo contra salgado keiko congresista má',\n",
              " 'peter goodman era trump china’ presid champion econom global new york time',\n",
              " 'beau albrecht sad saga john walker lindh rebel without clue',\n",
              " 'monica davey court disagre michigan vote recount new york time',\n",
              " 'yamich alcindor berni sanders’ feud democrat leadership heat new york time',\n",
              " 'zach cartwright shortest power explan trump victori ever seen',\n",
              " 'andrew higgin russia look popul far east wimp need appli new york time',\n",
              " 'jeremi w peter johnson amend trump vow ‘destroy’ explain new york time',\n",
              " 'charli spier donald trump march life ‘you full support’',\n",
              " 'rick roja j david goodman polic offici found dead long island suicid suspect new york time',\n",
              " 'king world news radic chang store world global market readi',\n",
              " 'michael paulson it’ like make showbiz best friend new york time',\n",
              " 'juli hirschfeld davi mark landler trump nomin neil gorsuch suprem court new york time',\n",
              " 'ryan saavedra bidder cast doubt serious mexican border wall project',\n",
              " 'editori what’ stake us elect',\n",
              " 'isabel kershner israel approv addit fund settlement west bank new york time',\n",
              " 'pam key tx gov abbott sign legisl could put sheriff sanctuari citi jail breitbart',\n",
              " 'gardin harri john schwartz jacki calm jonathan martin donald trump hold ‘thank you’ ralli cincinnati announc pick defens secretari new york time',\n",
              " 'robert pear michael shear lawmak look bipartisanship health care new york time',\n",
              " 'michael wine insid conserv push state amend constitut new york time',\n",
              " 'ashley parker donald trump tell nra hillari clinton want let violent crimin go free new york time',\n",
              " 'charl mcdermid pope franci trump japan tuesday brief new york time',\n",
              " 'lana shadwick mayorsstandal day tout support illeg immigr',\n",
              " 'neal gabler trump’ campaign celebr',\n",
              " 'michel moon democrat drag jeff sessions’ confirm fight breitbart',\n",
              " 'sgt break news podesta brother pedo ring mr trump drain swamp — v guerrilla economist',\n",
              " 'redacción la frase má destacada del debat de investidura',\n",
              " 'hugh esco confus jihad hirabah wont build peac world',\n",
              " 'cliff kincaid lazi liber journalist smear bannon',\n",
              " 'brett cole australia close detent center manu island still won’t accept asylum seeker new york time',\n",
              " 'breitbart news politico hillari clinton run breitbart',\n",
              " 'dikran arakelian noreplybloggercom giant lynx make ador sound whenev human rub face',\n",
              " 'lana shadwick minnesota cop found guilti philando castil shoot trial',\n",
              " 'dave hodg million american kill minut',\n",
              " 'mohsen abdelmoumen wayn madsen cia alway serv interest wall street',\n",
              " 'david stockman novemb daili contrarian read',\n",
              " 'aaron klein flashback report obama’ campaign rep talk iran hama',\n",
              " 'anonym lesseroftwoevil',\n",
              " 'aya cash aya cash first time ate veget new york time',\n",
              " 'middl east eye trump advis say isra settlement ‘not illegal’',\n",
              " 'david waldstein serena william prevail open problem new york time',\n",
              " 'jerom hudson ’soul man’ sam moor ’honored’ perform trump inaugur',\n",
              " 'natali dickinson ferrel came back bush destroy trump video',\n",
              " 'john hayward chines govern concern tough talk trump cabinet breitbart',\n",
              " 'michael forsyth billionair report seiz hong kong hotel taken china new york time',\n",
              " 'anonym coward uid easi know link',\n",
              " 'maggi haberman homebodi find ultim home offic new york time',\n",
              " 'kati mchugh ann coulter unload paul ryan’ ’deepli unpopular’ obamacar bill breitbart',\n",
              " 'anemona hartocolli transgend bathroom debat turn person vermont high school new york time',\n",
              " 'stephen lendman obama hillari want libya’ gaddafi toppl kill',\n",
              " 'king world news alert former soro associ warn pro wrong gold silver skyrocket like',\n",
              " 'daniel greenfield hillari panick fbi weiner email',\n",
              " 'michael shear maggi haberman glenn thrush chaotic minut trump defend ‘finetun machine’ new york time',\n",
              " 'new york time one polic shift patrol anxiou america new york time',\n",
              " 'glen ford fight ghost fascist aid real one',\n",
              " 'jonah engel bromwich sandra stevenson monday even brief brexit abort ‘game thrones’ new york time',\n",
              " 'liam deacon eu increas ‘brexit bill’ demand € billion € billion',\n",
              " 'bob morri arianna huffington’ sleep revolut start home new york time',\n",
              " 'admin iranian missil accident destroy iranian ship aim syria',\n",
              " 'christina sarich sonoma counti california vote creat largest gmo free zone america',\n",
              " 'pam key fbi’ comey wikileak ‘intellig porn’ journal breitbart',\n",
              " 'vanessa friedman clare waight keller name first femal design givenchi new york time',\n",
              " 'anonym realiti face black canadian nation shame',\n",
              " 'robert j marlow top nfl draft prospect caleb brantley charg punch woman face breitbart',\n",
              " 'graywolf video pacif crest trail associ lavoy finicim murder',\n",
              " 'mind unleash life lesson man who’ seen death',\n",
              " 'robert pear jonathan martin trump gop work win repeal obama’ health act new york time',\n",
              " 'pam key atlantic’ goldberg i’m ‘not confident’ trump handl ‘matter life death’ breitbart',\n",
              " 'howard portnoy orthodox rabbi support trump',\n",
              " 'alex ansari nuclear tension us russia reach ‘dangerous’ point',\n",
              " 'henri wolff gambia join south africa burundi exodu intern crimin court',\n",
              " 'dylan gwinn peyton man golf presid trump sunday',\n",
              " 'juli hirschfeld davi obama urg donald trump send ‘signal unity’ minor group women new york time',\n",
              " 'kimiko de freytastamura ‘it’ like miracle’ woman give birth use ovari frozen sinc childhood new york time',\n",
              " 'jeré longman uconn’ recip success run run run new york time',\n",
              " 'truth broadcast network assang ‘final afford opportunity’ give statement rape accus',\n",
              " 'john falkenberg hillary’ puppet show much hillari care god omiss word',\n",
              " 'jeff sommer stock market gone high it’ problem new york time',\n",
              " 'gardin harri john kerri reject suggest us involv turkey coup new york time',\n",
              " 'jeff poor trump aid stephen miller us ’ha absolut sovereign right determin cannot enter country’ breitbart',\n",
              " 'svetlana arkhangelskaya special rbth year old russian girl speak languag',\n",
              " 'carey wedler power corpor lobbi quietli back hillari — nobody’ talk',\n",
              " 'john oti maintain sunni spirit face hardship new york time',\n",
              " 'pam key rush limbaugh comey fire ’epic troll’ trump dem breitbart',\n",
              " 'mike isaac twitter sue govern block unmask account critic trump new york time',\n",
              " 'scott cacciola warrior resili home cruis cavali new york time',\n",
              " 'adam goldman eric lichtblau matt apuzzo comey letter clinton email subject justic dept inquiri new york time',\n",
              " 'je dyer spain malta usuk pressur refus allow russian carrier group refuel port',\n",
              " 'jon parel review radiohead’ ‘a moon shape pool’ patient perfection new york time',\n",
              " 'isaac davi man militar polic stand rock work',\n",
              " 'eddi lavin woman arrest properti land stolen dapl',\n",
              " 'sydney ember pulitz prize new york time win daili news propublica share public servic award new york time',\n",
              " 'matthew boyl vanquish wit takeov bush clinton attend donald trump’ inaugur breitbart',\n",
              " 'warner todd huston specul possibl obama pardon edward snowden bow bergdahl chelsea man breitbart',\n",
              " 'tejal rao cheesi mash potato soul new york time',\n",
              " 'b unprincipl wapo editor damn comey critic join',\n",
              " 'admin nation ‘wrecked’ immigr civil war brew dogood swede turn muslim migrants’ violenc rape murder',\n",
              " 'christin hauser man shot dead offic crucifix gun polic say new york time',\n",
              " 'sean moran exclusive—rep jim jordan trump’ first day ‘i think we’r great start’ breitbart',\n",
              " 'pam key haley attack syria ’one president’ finest hours’ breitbart',\n",
              " 'colm williamson justin bieber defec ador irish fan hotel window',\n",
              " 'adan salazar cancer agenc fire withhold ‘carcinogen glyphosate’ document',\n",
              " 'davi gianno caldwel claim hillari care black vote black live',\n",
              " 'ben hubbard isi use ramadan call new terrorist attack new york time',\n",
              " 'daniel nussbaum ’daili show’ mock ’mahatma blondie’ megyn kelly’ nbc debut',\n",
              " 'joel b pollak health care bill’ failur part ’art deal’ breitbart',\n",
              " 'trent baker lewandowski comey ’a liar’ look sign major book deal breitbart',\n",
              " 'ben kew kimberli guilfoyl discuss potenti white hous press secretari job interview',\n",
              " 'vc clinton’ campaign chairman john podesta invit occult ‘spirit cooking’ dinner marina abramović',\n",
              " 'nate cohn obama coalit crumbl leav open trump new york time',\n",
              " 'pam belluck pregnanc chang brain way may help mother new york time',\n",
              " 'heather callaghan fema open loan window red cross tri shut shelter',\n",
              " 'editor gaiaport interweb gaia energet strengthen',\n",
              " 'pam key scarborough trump poop pant call ’modern art’ breitbart',\n",
              " 'mark bittman cook invest time work new york time',\n",
              " 'robert rich bad news jackson famili woman leak star’ sick k sex secret',\n",
              " 'karen zraick sandra stevenson gorsuch london republican parti thursday even brief new york time',\n",
              " 'daniel j flynn emma morano last person born die breitbart',\n",
              " 'john hayward loserpalooza craziest scene antitrump protest breitbart',\n",
              " 'patrick bond trump victori mean africa',\n",
              " 'kenneth chang vision life mar earth’ depth new york time',\n",
              " 'christin hauser obama cancel talk rodrigo dutert philippin say regret slur new york time',\n",
              " 'patrick mcgeehan new jersey increas ga tax ¢ end long polit stalem new york time',\n",
              " 'ian hanchett abc manchest attack ’like inflam antiislam sentiment’ breitbart',\n",
              " 'nathani mauka hidden plain sight – global depopul agenda',\n",
              " 'binyamin appelbaum job american new york time',\n",
              " 'carol adl sander ask obama interven dakota access pipelin disput',\n",
              " 'charli nash googl add job section search engin includ employ rate breitbart',\n",
              " 'amanda hess cri jordan meme won’t die new york time',\n",
              " 'ian hanchett dem rep sánchez trump use ’fear’ muslim immigr promot polici ’undermine’ valu breitbart',\n",
              " 'saker announc saker commun german saker blog vineyard saker',\n",
              " 'sheryl gay stolberg shoot victims’ famili watch gun measur stall new york time',\n",
              " 'gortex imag reveal crash schiaparelli mar lander',\n",
              " 'dr susan berri grassroot coalit share ‘mani question concern betsi devos’ senat',\n",
              " 'david stockman octob daili contrarian read',\n",
              " 'neil munro trump inaugur ball ’now work begin play games’ breitbart',\n",
              " 'jeremi w peter trump’ choic stephen bannon nod antiwashington base new york time',\n",
              " 'joel b pollak media outrag white hous ’exclusion’ fake news breitbart',\n",
              " 'jeremi r hammond benni morris’ unten denial ethnic cleans palestin',\n",
              " 'leigh haugh obama hillari clinton pardon could heal divid nation',\n",
              " 'jane bailey except handl',\n",
              " 'voltairenetorg nota conceptu para la presidencia de rusia',\n",
              " 'felip villamor respons philippin presid fatal blast rais fear new york time',\n",
              " 'michael kimmelman david adjay design museum speak differ languag new york time',\n",
              " 'admin bulletin righteou jew trump rule ruin gop establish etc item',\n",
              " 'oliv jj lane britain reduc terror level one notch ‘severe’ terror cell arrest',\n",
              " 'n r kleinfield mute alon never short kind word friend new york time',\n",
              " 'jenna leigh richardson iranian militari command claim rogu nation send elit fighter’ infiltr us europ',\n",
              " 'remi porter account',\n",
              " 'tom ciccotta watch muslim student claim nonbeliev kill islam countri breitbart',\n",
              " 'author yemen yet anoth “fals flag” protect saudi us interest middl east new eastern outlook',\n",
              " 'admin watch muslim ‘palestinians’ declar “we follow prophet muhammad kill christian jews”',\n",
              " 'citizen satirist street dog kerala call upon superdog krypto rescu human',\n",
              " 'telesur israel track ‘antigovernment’ journalist facebook',\n",
              " 'activist post new alaska law take first step common core',\n",
              " 'robert j marlow key baylor footbal execut demarko butler fire text scandal breitbart',\n",
              " 'pakalert calgari airport arriv yyc',\n",
              " 'kati roger georg michael wrestl fame frank sinatra advic new york time',\n",
              " 'dwight garner sharon old laureat sexual scrutin bodi ‘odes’ new york time',\n",
              " 'cliff kincaid blue collar elect shock liber media',\n",
              " 'jame verini ‘they die now’ new york time',\n",
              " 'alex ansari polic fire rubber bullet pipelin protest',\n",
              " 'ian mason ann coulter hit suppos ’gay icon’ kathi griffin isiscrib antic',\n",
              " 'noreplybloggercom alexand light contamin food china enter us organ label',\n",
              " 'magazin ten famou peopl read summer new york time',\n",
              " 'european union time hillari clinton knew year ago anthoni weiner pedophil wikileak',\n",
              " 'ted loo million stairway nowher far west side new york time',\n",
              " 'ernest partridg cyber war \\x97 trifl catastroph inform',\n",
              " 'gillian presid putin ask us stop provok russia',\n",
              " 'j david goodman william neuman inquiri cloud de blasio’ bid come strong manag ’ race new york time',\n",
              " 'jason ditz antiwarcom us drone strike afghanistan kill wound sever civilian',\n",
              " 'nate chinen bobbi hutcherson vibraphonist colorist rang sound die new york time',\n",
              " 'neil munro amnesti advoc boycott agenc meet proamerican advoc invit breitbart',\n",
              " 'admin project verita robert creamer’ illeg foreign wire transfer caught tape',\n",
              " 'warner todd huston exflotu michel obama trump want feed ’crap’ kid',\n",
              " 'jacey fortin jeffrey gettleman south sudan slide closer war gunfir rumbl capit new york time',\n",
              " 'griffe “nation mood” focu group reflect angri divid america',\n",
              " 'chriss w street bankrupt puerto rico vote us statehood breitbart',\n",
              " 'niraj chokshi daniel victor sewel chan overwhelm ‘brexit’ basic new york time',\n",
              " 'warner todd huston seattle’ gay mayor accus sexual molest teen breitbart',\n",
              " 'susan chira gender fluiditi runway new york time',\n",
              " 'pakalert us nato attack putin militari drill russia – world war red alert kopya',\n",
              " 'baxter dmitri new clinton email came underag sex pest anthoni weiner',\n",
              " 'christin hauser montana bear attack lesson hope surviv first aid new york time',\n",
              " 'lela moor sona patel ‘what best america’ new york time',\n",
              " 'david tani pecan step pie plate new york time',\n",
              " 'joel b pollak barack obama plagiar ’don’t tell word don’t matter’ breitbart',\n",
              " 'gina kolata lower back ach activ wait new guidelin say new york time',\n",
              " 'pamela druckerman ‘if sleep hour peopl die’ new york time',\n",
              " 'noel murray ‘veep’ season episod littl danc new york time',\n",
              " 'jame poniewozik ‘dr oz’ trump offer placebo transpar new york time',\n",
              " 'buck roger comment gold medalist wrestler get violent polic — cop choos engag deadli forc buck roger',\n",
              " 'adel nazarian one year water orang counti four day breitbart',\n",
              " 'matthieu aikin doctor enemi afghan forc target msf hospit new york time',\n",
              " 'author yearold hebrew mention jerusalem found',\n",
              " 'cassandra fairbank spirit cook disturb podesta email yet warn graphic content',\n",
              " 'patrick heali donald trump’ misstep risk put ceil support swing state new york time',\n",
              " 'dr marsha colemanadebayo green party’ margaret flower challeng us senat debat maryland undemocrat',\n",
              " 'amanda froelich offic rescu drown deer pool quickthink',\n",
              " 'katherin rodriguez polic suspect punch armi veteran steal servic dog outsid home bronx breitbart',\n",
              " 'shelbi andrew yike megyn kelli receiv rude awaken remind she’ replac',\n",
              " 'geoffrey grider iran send elit irgc warfight europ unit state prepar battl',\n",
              " 'dave hodg hillari endors donald trump presid accord wikileak',\n",
              " 'pam key woodward trump dossier ’garbag document’ intellig chief ’apologize’ trump breitbart',\n",
              " 'dave itzkoff emmi nomin traci morgan emot return ‘saturday night live’ new york time',\n",
              " 'michael shear trump pick mick mulvaney south carolina congressman budget director new york time',\n",
              " 'tomá fuent donald trump el primer president naranja de lo estado unido',\n",
              " 'reason fact attorney gener loretta lynch plead fifth',\n",
              " 'john hayward russia us missil defens ’pose deep risk’ secur asia',\n",
              " 'south front washington ‘plan b’ syria realli mean',\n",
              " 'kimiko de freytastamura upset brexit british jew look germani new york time',\n",
              " 'arnold monteverd noreplybloggercom girl ask boyfriend give iphon use money buy hous',\n",
              " 'european union time amnesti intern slam obama gov kill civilian syria',\n",
              " 'ben rawlenc find flock rural writer’ book club new york time',\n",
              " 'kaitlyn stegal venezuela crisi enter danger phase maduro foe go milit',\n",
              " 'rowan wolf emigr super bloc part viiith quasileg couphillari clinton inform oper elect',\n",
              " 'michael barbaro could question ask love one vote way new york time',\n",
              " 'michael krieger bbc ask – realli happen clinton haiti',\n",
              " 'michael shear trump pick thoma bossert top counterterror advis new york time',\n",
              " 'john kaminski come unglu',\n",
              " 'stephani kuklish trump jr suspici help arizona woman push stall car use photo op video',\n",
              " 'warner todd huston suicid chicago polic offic skyrocket',\n",
              " 'anonym coward uid think suv safe shock video',\n",
              " 'thoma william phd peopl tortur kill sufi muslim shrine pakistan',\n",
              " 'architectur clever arrang brick man transform heal process new earth media comment architectur clever arrang brick man transform heal process architectur clever arrang brick man transform heal process new earth media',\n",
              " 'editori hybrid war strategi africa – introduct',\n",
              " 'alex ansari julian assang speak prerecord rt interview',\n",
              " 'admin watch israel love hollywood actor issu major plea america minut that’ll rock elect',\n",
              " 'dave itzkoff ‘snl’ donald trump botch ‘independ day’ moment new york time',\n",
              " 'sean moran exclus congresswoman marsha blackburn say ‘elimin net neutral preserv open internet’ breitbart',\n",
              " 'elina stong attach yearround greenhous home',\n",
              " 'edjenn sheriff clark obama’ final day “obama’ like tenant who’ evict properti he’ gonna trash place way door” video',\n",
              " 'dr majid rafizadeh weird ban women iran',\n",
              " 'gillian end game close clinton deep state turn',\n",
              " 'author trump fight chanc establish new eastern outlook',\n",
              " 'keith bradsher trade stanc toward china clinton trump signal chill new york time',\n",
              " 'scott review ‘the secret life pets’ amus miss opportun new york time',\n",
              " 'fli tablefan first case demonetisationrel hiv man unprotect sex atm machin',\n",
              " 'heather callaghan thing need know dakota access pipelin protest',\n",
              " 'quest koch brother battl prevent dark money disclosur south dakota',\n",
              " 'tom ciccotta milo berkeley event evacu mask protest light fire storm venu breitbart',\n",
              " 'jafe arnoldski noreplybloggercom authoritarian west demon strong popular leader',\n",
              " 'chri tomlinson swedish journo sweden collaps without illeg migrant',\n",
              " 'newsbiscuit editori team promis internet career vine dead write newsbiscuit cheer',\n",
              " 'trip gabriel iowa trump voter unfaz controversi new york time',\n",
              " 'elliot bougi radic americangrown marxist terror group made announc januari th conserv daili post',\n",
              " 'aaron klein guardian opinion writer trump bannon count terrorist ’massacre’',\n",
              " 'colin taylor putin’ protrump onlin troll spill bean samantha bee',\n",
              " 'tyler hick along mosul’ front line desper civilian dugin troop fighter new york time',\n",
              " 'emma g fitzsimmon second avenu subway open train delay end happi tear new york time',\n",
              " 'luca nolan yearold cher don seethrough top nippl pasti billboard award',\n",
              " 'kati mchugh report stop nine percent illeg alien border crosser would pay trump’ border wall breitbart',\n",
              " 'bob adelmann ice union issu final warn voter',\n",
              " 'michael wilson elit new york polic unit rehears terrorist attack new york time',\n",
              " 'victoria taft trump hollywood star vandal out shameless new video taunt polic seek',\n",
              " 'mike mcphate california today view san francisco’ lean tower space new york time',\n",
              " 'ian hanchett matthew trump’ speech putin say ’america first’ ’hitlerian background’ breitbart',\n",
              " 'vladimir putin vladimir putin valdai intern discuss club «shape world tomorrow» vladimir putin',\n",
              " 'luca nolan chines social media rage unit airlin controversi breitbart',\n",
              " 'henri wolff america better without border',\n",
              " 'franc martel ’chaos’ terror tie make venezuela direct threat usa former un secur council presid say breitbart',\n",
              " 'zach schonbrun rick ross documentari video doubl ad checker new york time',\n",
              " 'chri kikila perrin oil spill pacif ocean sinc last month total ignor',\n",
              " 'zero hedg podesta mill “we go dump emails”',\n",
              " 'pcr thoughtlessli disbeliev “conspiraci theories” need read',\n",
              " 'dr patrick slatteri dr david duke dr slatteri expos hillary’ treason trump duke win',\n",
              " 'jafe arnoldski noreplybloggercom russian frigat syrian cost blast terrorist hq cruis missil video',\n",
              " 'david e sanger hillari clinton like covert action stay covert transcript show new york time',\n",
              " 'jason ditz us kurdish troop involv invad isi capit raqqa',\n",
              " 'berni suarez awaken human await fulli script end controversi elect day near',\n",
              " 'penni starr georg sorosback climat march bring celeb nation mall swelter saturday breitbart',\n",
              " 'irina aleksand edward snowden’ long strang journey hollywood new york time',\n",
              " 'colin taylor “black trump” man belong murder cult',\n",
              " 'admin bill clinton’ lover call ruthless hillari ‘the warden’',\n",
              " 'ariel noyola rodríguez russia cina e arabia saudita domano legemonia del dollaro di ariel noyola rodríguez',\n",
              " 'geeta anand hari kumar third month india’ cash shortag begin bite new york time',\n",
              " 'john carney there’ one trump administr posit that’ gain popular it’ go shock breitbart',\n",
              " 'warren mass bill clinton said white middleclass life expect declin obama year',\n",
              " 'grant stern furiou eric holder issu dire warn comey’ partisan smear',\n",
              " 'pat buchanan memo trump action day',\n",
              " 'ann barnard nick cummingbruc chao desper thousand flee aleppo amid govern advanc new york time',\n",
              " 'ian austen wildfir empti fort mcmurray alberta’ oil sand region new york time',\n",
              " 'pam key schumer session investig ’seem violating’ recus breitbart',\n",
              " 'kati roger amid divis march washington seek bring women togeth new york time',\n",
              " 'jerom hudson zoe saldana trump hollywood ’got cocki becam arrog bullies’',\n",
              " 'clair bernish ‘antiestablishment’ trump plan appoint goldman sach georg soro insid',\n",
              " 'sayer ji cholesterol drug men gonad',\n",
              " 'pam key trump flynn treat ’veri unfair’ ’fake media’ illeg leak breitbart',\n",
              " 'mike mcphate california today virtual realiti investig trayvon martin case new york time',\n",
              " 'alan blinder richard fausset nearli decad later apolog lynch georgia new york time',\n",
              " 'john koblin marcia clark final moment savor emmi new york time',\n",
              " 'stephen castl steven erlang ‘brexit’ speech theresa may outlin clean break uk new york time',\n",
              " 'n r kleinfield man hate black men found victim care other new york time',\n",
              " 'matthew rosenberg michael flynn fail disclos incom russialink entiti new york time',\n",
              " 'katherin rodriguez feder judg throw convict dc sniper’ four life sentenc',\n",
              " 'karen workman merril oliv donald trump obama thanksgiv weekend brief new york time',\n",
              " 'rt на русском очередная автоколонна мчс с гуманитарной помощью направилась в донбасс',\n",
              " 'poke staff vine celebr life death app clip',\n",
              " 'dan riehl squatti potti ceo griffin imag ’so divis disturb don’t decis really’',\n",
              " 'joe martino thing let go new year',\n",
              " 'dan comment polic union post pic hillari arrest facebook dan',\n",
              " 'eric zuess koch brother secretli alli w georg soro hillari clinton',\n",
              " 'nichola fando trump expand search secretari state new york time',\n",
              " 'elisabeth parker teacher yr old cant wait trump electedh go deport muslim',\n",
              " 'reed abelson cost choic top concern health insur custom new york time',\n",
              " 'trent baker shaq announc plan run sheriff breitbart',\n",
              " 'kelen illeg immigr cross border vote',\n",
              " 'josé tirado pirat fail take helm iceland’ pirat parti gain mileag enough steadi ship alon',\n",
              " 'alessandra stanley billionair who’ build davo new york time',\n",
              " 'cinthia ritchi run danger alaskan trail new york time',\n",
              " 'redacción la película de su vida descubr que ha llevado siempr un trozo de lechuga entr lo dient',\n",
              " 'dylan gwinn dem win congression basebal game give trophi republican steve scalis breitbart',\n",
              " 'awr hawkin franc present strict gun control paper tiger breitbart',\n",
              " 'king world news china russia silk road commod nixon massiv bull market gold silver',\n",
              " 'warner todd huston troubl quarterback johnni manziel appear shop mall sign autograph next super bowl breitbart',\n",
              " 'jerom hudson bob dylan accus lift part nobel prize speech sparknot',\n",
              " 'daniel redmond blimp crash e coli contamin snakebitten us open wit spectat death breitbart',\n",
              " 'john carney public employe shadow world american carnag',\n",
              " 'trent baker espn’ lz granderson ’justified’ think kaepernick ’blackballed’ nobodi sign breitbart',\n",
              " 'noreplybloggercom alexand light prescript painkil death drop state legal marijuana',\n",
              " 'neil irwin we’r lowgrowth world get new york time',\n",
              " 'charl mcdermid istanbul donald trump benjamin netanyahu morn brief new york time',\n",
              " 'ryan banist hitler hillari',\n",
              " 'brook barn dalian wanda’ hollywood event product new york time',\n",
              " 'timmi comment pm water cooler timmi',\n",
              " 'consortiumnewscom breakdown clinton money machin',\n",
              " 'adam nagourney henri fountain california forefront climat fight won’t back trump new york time',\n",
              " 'steve lohr ge yearold softwar startup new york time',\n",
              " 'matt flegenheim hillari clinton ‘hamilton’ would enough new york time',\n",
              " 'heather callaghan brain concuss children adult know vaccin damag',\n",
              " 'pcr trump great — paul craig robert',\n",
              " 'robert rich hillari frantic dirti secret implod get wors prison bombshel',\n",
              " 'elain glusac rent car know rule road new york time',\n",
              " 'amanda taub impeach polit brazil’ someth sinist new york time',\n",
              " 'michael shear juli hirschfeld davi maggi haberman trump interview moder view defi convent new york time',\n",
              " 'dwight garner review ‘sweetbitter’ ‘bright light big city’ restaur set new york time',\n",
              " 'karen crous gonzaga beat south carolina final four shot anoth first new york time',\n",
              " 'pam key gorka trump ’i interventionist commanderinchief’ ’noth changed’ breitbart',\n",
              " 'tatiana covington thank fbi clinton email investig shift poll number significantli trump’ favor',\n",
              " 'henri wolff race class dictat republican futur',\n",
              " 'ian hanchett gorsuch scalia ’lion law’ judg look law demand prefer breitbart',\n",
              " 'edjenn nc state provid student postelect comfort food therapi',\n",
              " 'margaret griffi iraqi troop push mosul kill across iraq',\n",
              " 'catherin saint loui pregnant women turn marijuana perhap harm infant new york time',\n",
              " 'noreplybloggercom alexand light biggest winner loser us presidenti elect',\n",
              " 'dsg trump psychic listen word one year ago look happen',\n",
              " 'pam key mccain trump’ attack press ’how dictat get started’ breitbart',\n",
              " 'geoffrey grider judgment day one reason everi christian jew america vote donald trump',\n",
              " 'dave hodg coup stolen elect',\n",
              " 'rt на русском сми в россии создадут систему для отслеживания приближающихся со стороны солнца тел',\n",
              " 'antimedia thing need know black dakota access pipelin protest',\n",
              " 'breitbart london germani iraqi asylumseek convict rape chines student',\n",
              " 'shelbi andrew teenag boy knock classmat assault femal teacher face it’ epic',\n",
              " 'pepe escobar take bring hillari clinton justic',\n",
              " 'bob price ice round crimin alien texa capit',\n",
              " 'wakingtim elect hate grief new stori',\n",
              " 'sarah hillari question michel obama help',\n",
              " 'stephen castl keith vaz british lawmak quit senior post amid sex drug scandal new york time',\n",
              " 'sunday devot whole univers grain — fellowship mind kommonsentsjan comment sunday devot whole univers grain sunday devot whole univers grain — fellowship mind kommonsentsjan',\n",
              " 'charl mcdermid donald trump syria emperor akihito morn brief new york time',\n",
              " 'ihtt hell frozen michel obama made hillarydestroy move twitter',\n",
              " 'daniel j flynn flynn critic call nuclear scientist miss usa ’dumb’ diss femin call health care ’privilege’ breitbart',\n",
              " 'tom ciccotta hampshir colleg student accus assault basketbal player wear hair braid claim ’cultur appropriation’ breitbart',\n",
              " 'jerrilynn scofield obamamometer’ toxic legaci rule lawless',\n",
              " 'karen crous simon manuel gold rippl beyond pool new york time',\n",
              " 'pcr vote machin program order steal elect',\n",
              " 'stevew redraw tree life scientist discov new bacteria group stun microbi divers underground',\n",
              " 'arnold monteverd noreplybloggercom trump putin destroy isi',\n",
              " 'v saxena photo game camera catch glimps possibl antler buck',\n",
              " 'patrick kingsley alissa j rubin turkey’ relat europ sink amid quarrel netherland new york time',\n",
              " 'madelin wikileak document reveal unit nation interest ufo video',\n",
              " 'joel b pollak blue state blue deliber politic intimaci',\n",
              " 'margalit fox clare hollingworth report broke news world war ii die new york time',\n",
              " 'niraj chokshi north miami polic offic shoot man aid patient autism new york time',\n",
              " 'informationclearinghouseinfo path total dictatorship america shadow govern silent coup',\n",
              " 'shaila dewan richard oppel jr effort curb polic abus mix record uncertain futur new york time',\n",
              " 'king world news signal major bottom gold silver',\n",
              " 'christoph shea hey ho it’ old england embrac punk rock year later new york time',\n",
              " 'henri wolff cano reek genocid theft white privileg say canadian professor',\n",
              " 'warren mass illeg immigr advoc pledg resist deport trump',\n",
              " 'noreplybloggercom alexand light cdc scientist confirm donald trump right vaccin autism',\n",
              " 'breitbart news breitbart news daili drain swamp breitbart',\n",
              " 'jare taylor trump media’ frankenstein monster',\n",
              " 'trent baker watch toni romo say goodby dalla cowboy instagram video breitbart',\n",
              " 'liam stack global farright conspiraci theori buoy trump new york time',\n",
              " 'alan blinder georgia father convict murder toddler’ death hot car new york time',\n",
              " 'paul vitello richard boll die wrote ‘what color parachute’ new york time',\n",
              " 'lee stranahan stranahan steve bannon nail media’ fight trump breitbart',\n",
              " 'dave hodg texa elector expect massiv corrupt relat elector colleg vote',\n",
              " 'john w whitehead guilti power nullif counteract govern tyranni',\n",
              " 'iwb trillion new debt day',\n",
              " 'carol adl tori councillor say homeless peopl ‘eliminated’',\n",
              " 'jennif senior review ‘hillbilli elegy’ tough love analysi poor back trump new york time',\n",
              " 'vnn criminalinchief',\n",
              " 'david swanson govern lie movi',\n",
              " 'daili bell staff trump brexit defeat global anyway',\n",
              " 'juliet macur face congress sport offici begin confront sexual abus new york time',\n",
              " 'kati benner airbnb end fight new york citi fine new york time',\n",
              " 'mike big pharma’ martin shkreli suspend twitter breitbart',\n",
              " 'nick wingfield next big tech corridor seattl vancouv planner hope new york time',\n",
              " 'clair cain miller evid robot win race american job new york time',\n",
              " 'jeffrey gettleman see africa road new york time',\n",
              " 'sarah happen hiphop hillari goe deadbrok brace',\n",
              " 'jim rutenberg bill maher isn’t high trump state free speech new era new york time',\n",
              " 'karen crous lpga tour donald trump it’ complic new york time',\n",
              " 'king world news legend art cashin trump presid new world order gold brexit great depress see panic',\n",
              " 'ian hanchett fl sheriff ’not day goe don’t arrest lot illeg aliens’ ’preying’ peopl breitbart',\n",
              " 'charli spier donald trump threaten cancel berkeley feder fund riot shut milo event',\n",
              " 'voltairenetorg концепция записка российского председательства',\n",
              " 'sam robert bill herz last ‘war worlds’ broadcast crew die new york time',\n",
              " 'maggi haberman alexand burn gari johnson equat syria death caus assad west new york time',\n",
              " 'adel nazarian republican senat bill defund un antiisrael resolut',\n",
              " 'william grime rose evanski pioneer women’ hairstyl die new york time',\n",
              " 'katherin rodriguez blackston saudi arabia announc billion invest us infrastructur breitbart',\n",
              " 'admin orissa satur fat heart diseas “the greatest scam histori medicine”',\n",
              " 'ian hanchett dem sen merkley gorsuch nomin ’courtpack scheme’ turn nomin breitbart',\n",
              " 'lisa tanner four common mistak burn wood',\n",
              " 'conor dougherti push internet privaci rule move statehous new york time',\n",
              " 'anni correal madonna gave surpris popup concert support clinton new york time',\n",
              " 'dan riehl trump support plan antitrump ralli lack tax reform',\n",
              " 'common constitutionalist british healthcar offer glimps futur obamacar',\n",
              " 'breitbart jerusalem trump iranian presid rouhani ’better careful’ breitbart',\n",
              " 'scott osborn break sec defens carter attempt fool american public veteran caught redhand',\n",
              " 'blanch benson putin’ advis take credit trump victori ‘mayb help bit wikileaks’',\n",
              " 'jame b stewart warren buffett stake suggest appl grown new york time',\n",
              " 'kalli fbi clinton email investig shift poll number significantli trump’ favor',\n",
              " 'amanda shea hillari horrifi pic surfac overnight didn’t want',\n",
              " 'jess bidgood paul lepag governor main say he’ quit new york time',\n",
              " 'dave hodg colorado radio station’ paul martin interview dave hodg elect fraud stand rock',\n",
              " 'conserv millenni bill clinton want call someth complet ridicul hillari elect',\n",
              " 'hilari sheet son’ death salli mann stage haunt show new york time',\n",
              " 'scott shane andrew e kramer trump team’ link russia crisscross washington new york time',\n",
              " 'richard c paddock rick gladston north korean arrest kill kim jongun’ half brother new york time',\n",
              " 'newsguy surgeon admit mammographi outdat harm women',\n",
              " 'wmwadmin war street pari arm migrant fight run battl french capit',\n",
              " 'jerom hudson oscar voter meryl streep nomin antitrump speech',\n",
              " 'merril hope texa enact ’antisharia’ law',\n",
              " 'awr hawkin chicago polic board chair windi citi need feder help turn tide crime breitbart',\n",
              " 'hefficid look beyond novemb th song oligarchi doom',\n",
              " 'heather callaghan neil young celebr st birthday perform stand rock',\n",
              " 'matthew boyl exclus — amid paul ryan’ obamacar push mississippi’ chri mcdaniel prep potenti senat run breitbart',\n",
              " 'tfpp writer boom short list peopl inspir michel obama',\n",
              " 'joe coscarelli ‘more artist go boycott’ grammi face fallout fraught award new york time',\n",
              " 'robert rich video idiot destroy trump’ hollywood star get bad news second later',\n",
              " 'contribut author “he elit want global economi collapse”',\n",
              " 'heather callaghan best health benefit sweat',\n",
              " 'coral davenport senat confirm scott pruitt epa head new york time',\n",
              " 'jim dwyer cricket snake crab mix fact fraud new york’ subway new york time',\n",
              " 'eric lichtblau sessions’ potenti deputi face stern test russia inquiri new york time',\n",
              " 'brook barn ‘suicid squad’ top box offic second weekend new york time',\n",
              " 'sean moran health insur plan rate hike obamacar exchang breitbart',\n",
              " 'dudleydooright look like someon think democrat ohio full manur',\n",
              " 'saker syrian war report – novemb govt forc relaunch offens oper insid outsid aleppo',\n",
              " 'post pm octob mysteri solv get hillari clinton get movin’ – twitchycom',\n",
              " 'noah weiland senat narrowli pass rollback obamaera ‘autoira’ rule new york time',\n",
              " 'conor dougherti cramp costli bay area cri build babi build new york time',\n",
              " 'jonathan martin patrick heali champion optim obama hail clinton polit heir new york time',\n",
              " 'jonah engel bromwich fiona appl releas trump protest chant new york time',\n",
              " 'kaitlyn stegal susan rice us must integr lgbt right gov’t foreign polici',\n",
              " 'noam scheiber trump organ move avoid possibl conflict interest new york time',\n",
              " 'henri wolff sweden brink polic forc push break point violenc amid migrant influx',\n",
              " 'hemp readdress cannabi – kuebikoco comment hemp vs cotton ultim showdown hemp readdress cannabi – kuebikoco',\n",
              " 'michael schmidt eric lipton charli savag jare kushner trump’ soninlaw clear serv advis new york time',\n",
              " 'katherin rodriguez fisherman face life prison catch worth cocain sell breitbart',\n",
              " 'john oti step ring roll punch new york time',\n",
              " 'jonah engel bromwich liam stack adnan sy ‘serial’ podcast get retrial murder case new york time',\n",
              " 'xcathdra scientist say weird signal space probabl alien',\n",
              " 'simon romero us swimmers’ disput robberi claim fuel tension brazil new york time',\n",
              " 'shivani vora way take selfcar vacat new york time',\n",
              " 'jason easley economist sign letter urg america vote donald trump',\n",
              " 'neil irwin campaign long expens chaotic mayb that’ good thing new york time',\n",
              " 'editor ‘alien megastructure’ star target million seti search',\n",
              " 'wai moe mike ive saw nang brazen kill myanmar lawyer came spar militari new york time',\n",
              " 'john koblin jane pauley back — new york time',\n",
              " 'editor deutsch bank consid altern pay cash bonu',\n",
              " 'poke staff “danni dyer’ footbal foul ups” dvd second',\n",
              " 'daniel victor lack oxford comma could cost main compani million overtim disput new york time',\n",
              " 'nate church european parliament committe consid legal right robot breitbart',\n",
              " 'clifford krauss rex tillerson aggress dealmak whose tie russia may prompt scrutini new york time',\n",
              " 'geoffrey grider fbi conduct new investig email clinton’ privat illeg server',\n",
              " 'shorti heart mine us empire’ cultur industri',\n",
              " 'wilmot proviso report megyn trash trump newt… murdoch announc replac avail',\n",
              " 'tass russian scientist track sea lion space',\n",
              " 'daili bell staff seiz definit ‘populism’ reuter warn us chao come',\n",
              " 'noah remnick seaworthi readi earli unveil new york time',\n",
              " 'mark landler donald trump add kt mcfarland nation secur team new york time',\n",
              " 'new york time snowstorm bring wintri mix slush gripe new york time',\n",
              " 'karen zraick lisa iaboni republican wilder tillerson thursday even brief new york time',\n",
              " 'neil genzling review bryan cranston shine lyndon johnson ‘all way’ new york time',\n",
              " 'associ press samsung urg consum stop use galaxi note batteri fire new york time',\n",
              " 'roosh valizadeh elect result discuss presidenti elect open thread',\n",
              " 'daisi luther ag lynch told fbi director comey go public new clinton email investig',\n",
              " 'steve sailer “donald trump rise white ident politics”',\n",
              " 'new york time red blue divid six view america new york time',\n",
              " 'benoît morenn franc identifi nd man attack church kill priest new york time',\n",
              " 'john binder dreamer arrest nationwid gang crackdown',\n",
              " 'pam key maxin water american public ’get weary’ trump impeach yet breitbart',\n",
              " 'gerri mcbride wwn’ horoscop',\n",
              " 'ildefonso ortiz deport italian mobster caught sneak across usmexico border',\n",
              " 'onan coca leak audio hillari clinton push “rigging” palestin elect',\n",
              " 'max fisher iraniansaudi proxi struggl tore apart middl east new york time',\n",
              " 'tass lavrov kerri discuss syrian settlement',\n",
              " 'manlio dinucci linfluenc de usa et de lotan dan le rapport de l’ue avec la chine manlio dinucci',\n",
              " 'john binder open border group gird hb fight',\n",
              " 'lili dane weinerg expos darker dirtier secret imagin',\n",
              " 'ben tanosborn trump’ elect break chain polit correct',\n",
              " 'franc martel whitehousegov take climat page put ’america first’ energi plan breitbart',\n",
              " 'geoffrey grider iran warn presidentelect trump mess sweetheart nuclear deal obama',\n",
              " 'dan riehl toni perkin trump eo reaffirm jefferson’ doctrin separ church state',\n",
              " 'kantzveldt moon fell heaven',\n",
              " 'dr susan berri ‘mom’ star launch campaign plan parenthood',\n",
              " 'ben hubbard assad’ lesson aleppo forc work consequ new york time',\n",
              " 'ian hanchett penc bossert bannon weren’t demot ’continu play import polici roles’ breitbart',\n",
              " 'j hey bundi ranch occupi acquit count challeng corrupt bureau land manag',\n",
              " 'charli nash report googl face fine billion eu antitrust case breitbart',\n",
              " 'poke staff don’t ask thom york write cover quot book',\n",
              " 'groucho marxist internet flasher',\n",
              " 'noam scheiber gretchen carlson suit aim retali discrimin new york time',\n",
              " 'luca nolan googl launch ai program detect ’hate speech’ breitbart',\n",
              " 'tfpp writer poll show hillari lead useless mislead cartoon',\n",
              " 'christoph mele lastsecond lane merger good traffic new york time',\n",
              " 'luca peterson macau skip casino embrac past new york time',\n",
              " 'ian austen montreal ungainli unlov christma tree new york time',\n",
              " 'kenneth chang photo jupit nasa spacecraft near far new york time',\n",
              " 'noam scheiber trump’ labor pick andrew puzder critic minimum wage increas new york time',\n",
              " 'brad spurgeon nico rosberg take formula one drivers’ titl despit lewi hamilton’ win abu dhabi new york time',\n",
              " 'richard friedman sensori isol tank taught brain new york time',\n",
              " 'daniel nussbaum chelsea handler botch tweet attack trump’ grandchild',\n",
              " 'neil w mccabe report trump move tax reform plan without speaker paul ryan breitbart',\n",
              " 'ben kew ag jeff session unveil program acceler deport imprison illeg breitbart',\n",
              " 'chri menahan former us attorney dc new hillari email probe result ‘revolt’ insid fbi',\n",
              " 'jame b stewart keep appear ruin former dalla banker new york time',\n",
              " 'michael greger md faclm sesam seed knee osteoarthr',\n",
              " 'andrew anglin white cop interact black real life',\n",
              " 'awr hawkin pennsylvania republican push ban privat gun sale breitbart',\n",
              " 'manohla dargi review ‘warcraft’ orc differ domain fight heart new york time',\n",
              " 'activist post good peopl share bad info — here’ need fact check click share',\n",
              " 'paul sullivan charit wed registri new york time',\n",
              " 'usa news flash nypd raid hillary’ properti found ruin life usa newsflash',\n",
              " 'ian hanchett feinstein gorsuch’ ’originalist’ doctrin ’realli troubling’ origin would allow segreg breitbart',\n",
              " 'mark landler confront flare obama’ travel parti reach china new york time',\n",
              " 'matt forney reason appli job trump administr',\n",
              " 'doc thought silver market rig',\n",
              " 'zachari woolf hear agn martin’ seren john zorn’ frenzi music new york time',\n",
              " 'barenakedislam must see “welcom family” mani hispanicamerican vote donald trump',\n",
              " 'omar aljawoshi sewel chan iraqi forc enter western mosul fierc battl isi new york time',\n",
              " 'inessa noreplybloggercom european futur putin migrant crisi video',\n",
              " 'haw spencer ben sisario roll stone defam case magazin report order pay million new york time',\n",
              " 'captain craptek hillari sick tire suffer weiner backup',\n",
              " 'karen workman sandra stevenson taiwan itali joe mcknight friday even brief new york time',\n",
              " 'gpd shiit militia say close tal afar turkey warn limit',\n",
              " 'nwo hatr brother clinton’ campaign chair activ foreign agent saudi arabian payrol',\n",
              " 'glenn thrush jonathan martin ‘we must fight them’ trump goe conserv freedom caucu new york time',\n",
              " 'jason ditz isi kidnap kill least civilian afghanistan',\n",
              " 'edjenn hold hillari account',\n",
              " 'ami moreno break ted cruz call special prosecutor investig hillari – truthfe',\n",
              " 'alan blinder kevin sack spare gunman charleston churchgoer describ night terror new york time',\n",
              " 'admin orissa war satur fat harm peopl poor countri shun tradit fat like coconut oil',\n",
              " 'carl huls democrat garland mind mobil suprem court fight new york time',\n",
              " 'best kind milk aren’t dairi – collect evolut apg editori comment best kind milk aren’t dairi best kind milk aren’t dairi – collect evolut apg editori',\n",
              " 'michael hayn harri reid blast comey misconduct drop bombshel fbi sit russiantrump info',\n",
              " 'jame kirkpatrick nation review conservat inc plan cave even immigr',\n",
              " 'conserv millenni watch thug call us marin “pussy” – bare live tell tale',\n",
              " 'admin next us presid psycho lesbian plu break news video',\n",
              " 'michael wine critic see effort counti town purg minor voter roll new york time',\n",
              " 'andrea kannapel sandra stevenson even brief hillari clinton donald trump cultur revolut new york time',\n",
              " 'admin orissa indiana parent lose babi year live jail “abuse” say never happen',\n",
              " 'jon parel roll stone paint blue new album new york time',\n",
              " 'mike isaac uber extend oliv branch local govern data new york time',\n",
              " 'jack montgomeri wilder put dutch first ’brussel africa asylum seekers’',\n",
              " 'charli spier donald trump good educ ‘enrich mind soul’',\n",
              " 'daniel nussbaum watch brad pitt play afghanistan war gener ’war machine’ teaser breitbart',\n",
              " 'carol adl two power earthquak strike central itali',\n",
              " 'elina stong indoor garden made easi nutritow',\n",
              " 'admin elizabeth warren defin sleazi hypocrisi',\n",
              " 'pam key rush limbaugh o’reilli departur ’natural’ ’campaign’ breitbart',\n",
              " 'robin pogrebin museum truste trump donor support group deni climat chang new york time',\n",
              " 'dr susan berri cecil richard credit plan parenthood support stop ahca breitbart',\n",
              " 'dailouk switch chip won’t know anymor',\n",
              " 'david e sanger us conced million payment iran delay prison ‘leverage’ new york time',\n",
              " 'michel inni australia say foil terrorist plot new york time',\n",
              " 'joel b pollak orovil dam state feder govern share blame',\n",
              " 'sven longshank daili traditionalist jeff schoep nsm',\n",
              " 'doc michael moor joe blow vote trump “ultim f–– elite… human molotov cocktail”',\n",
              " 'ken belson jaguar owner shahid khan oppos trump’ immigr ban new york time',\n",
              " 'sausag machin antitrump advert side bu realli visual clever see motion',\n",
              " 'alex vadukul piano man mani face stranger stori new york time',\n",
              " 'christoph shea ticket releas ‘harri potter curs child’ new york time',\n",
              " 'ryan banist fbi visit man home film us postal distribut center',\n",
              " 'henri wolff hispan crowd boo marco rubio stage',\n",
              " 'katherin rodriguez fire tv report i’v receiv thousand ’sexual violent’ threat',\n",
              " 'bob price detain illeg alien end day hunger strike',\n",
              " 'alan blinder break silenc offic testifi kill walter scott new york time',\n",
              " 'john binder illeg immigr allegedli kill park spot',\n",
              " 'michel moon presid trump honor littl sister poor first white hous nat’l day prayer year breitbart',\n",
              " 'mike rivero hillari clinton support call recount vote battleground state',\n",
              " 'daniel nussbaum hbo scrap jon stewart anim comedi seri',\n",
              " 'joel wickwir sentenc murder rare book dealer',\n",
              " 'beforeitsnewscom latest stock market invest book financi market',\n",
              " 'dr susan berri fashion industri ceo support plan parenthood ‘civic responsibility’',\n",
              " 'sergey gladysh antitrump protest paid stage craigslist reveal',\n",
              " 'gretchen reynold men exercis put damper sex life new york time',\n",
              " 'stevew bake soda coconut oil kill cancer eyeopen evid',\n",
              " 'maggi haberman matthew rosenberg glenn thrush trump cite evid suggest susan rice commit crime new york time',\n",
              " 'breitbart news breitbart news daili gorsuch scotu breitbart',\n",
              " 'mike rivero hillari arrest',\n",
              " 'ninja siri open smart lock let neighbor walk hous',\n",
              " 'andrea kannapel sandra stevenson donald trump michael phelp zika tuesday even brief new york time',\n",
              " 'amanda shea obama furiou fedup ‘deplorables’ drop piec gift',\n",
              " 'joel b pollak la mark year sinc rodney king riot breitbart',\n",
              " 'robert parri de facto usal qaeda allianc inform',\n",
              " 'jeff poor cori booker ’a paul rever moment’ underway ’the russian coming’ breitbart',\n",
              " 'niraj chokshi rapper troy ave shot brooklyn new york time',\n",
              " 'neil munro seattl judg ignor jihad convict prior impos refuge reform ban breitbart',\n",
              " 'bob price texa student skip school protest arrest violent crimin',\n",
              " 'helen cooper trump aid tri reassur europ mani wari new york time',\n",
              " 'jing jin china trigger next global recess',\n",
              " 'falih hassan tim arango omar aljawoshi bomb kill baghdad new york time',\n",
              " 'martin wright comment black racism martin wright',\n",
              " 'doc thank fbi clinton email investig shift poll number significantli trump’ favor',\n",
              " 'matthew rosenberg adam goldman us rescu attempt afghanistan miss western hostag hour new york time',\n",
              " 'king world news rick rule – look sprott asset manag clients’ money right',\n",
              " 'vicki batt farm owner arrest protest dakota access pipelin theft land',\n",
              " 'charli savag trump pois lift ban cia ‘black site’ prison new york time',\n",
              " 'daili bell staff tesla’ musk investig solarc congress',\n",
              " 'david g brown ridicul stupid thing men keep women',\n",
              " 'gordon duff senior editor press tv duff un condemn “moder terrorists”',\n",
              " 'jame petra nemesi scourg western world',\n",
              " 'michel moon trump budget ‘a new foundat american greatness’ breitbart',\n",
              " 'aaron klein ali wake exclus islam state support vow terror group retak mosul ‘liberators’',\n",
              " 'amanda hous roll thunder motorcyclist return dc honor powmia breitbart',\n",
              " 'thefitgirl interest fun fact stethoscop',\n",
              " 'edward wong china seek bigger role world stage xi jinp go davo world econom forum new york time',\n",
              " 'zach cartwright veteran prepar join stand rock protest stop dakota access pipelin',\n",
              " 'john hayward photo latin america condemn venezuela’ ’excess use force’ protest breitbart',\n",
              " 'paul fassa sugar doesn’t feed cancer cell may even creat',\n",
              " 'somini sengupta michael r gordon ann barnard john kerri urg ground militari aircraft ‘key areas’ syria new york time',\n",
              " 'nichola confessor rachel shorey outsid money favor hillari clinton rate donald trump new york time',\n",
              " 'joel b pollak fake news new york time target breitbart report truth breitbart',\n",
              " 'michael wilson samantha schmidt sarah maslin nir blast new yorker examin psycholog shrapnel new york time',\n",
              " 'jerom hudson resist schwarzenegg call ’grassroot revolution’ us exit pari agreement',\n",
              " 'christin hauser virginia offici request us inquiri inmat death jail new york time',\n",
              " 'mike rivero report voter fraud crash cours',\n",
              " 'mike adam associ press report admit fake news stori hillari clinton',\n",
              " 'jon caramanica review garth brook bring rous anthem ballad yanke stadium new york time',\n",
              " 'noreplybloggercom der postillon sicher trainieren beim spin gilt ab sofort helmpflicht',\n",
              " 'mac slavo everi asset class collaps ‘you need look wealth term mani chicken much ga buy’',\n",
              " 'jame poniewozik review ‘halt catch fire’ timetravel silicon valley’ dawn new york time',\n",
              " 'daniel greenfield obama use religi test favor muslim christian',\n",
              " 'poke staff wingsuit flyer vs tree',\n",
              " 'ceylan yeginsu rukmini callimachi turkey say airport bomber kyrgyzstan russia uzbekistan new york time',\n",
              " 'eddi lavin turmer power artifici drug',\n",
              " 'andrew anglin facebook caught sell target advertis exclud differ race',\n",
              " 'richard fausset gatlinburg resid return home wildfir destruct new york time',\n",
              " 'lana shadwick yearold girl use human bomb nigeria attack',\n",
              " 'joel b pollak shock berkeley poll california voter want democrat work trump breitbart',\n",
              " 'luca nolan famili terror attack victim sue twitter ’provid resourc servic isis’ breitbart',\n",
              " 'felip villamor philippin leader vow pardon polic accus mayor’ death new york time',\n",
              " 'brianna acuesta fda found manipul media favor big pharma',\n",
              " 'jay h lehr phd jay h lehr begin end epa',\n",
              " 'pakalert imahdi – arriv satan practic leader القادمون',\n",
              " 'pam key ag session dem sen harri ’i’m abl rush fast make nervous’ breitbart',\n",
              " 'somini sengupta un envoy say us still back palestinian state new york time',\n",
              " 'bruce thornton trump happen',\n",
              " 'motoko rich japan vote strengthen shinzo abe’ goal chang constitut new york time',\n",
              " 'colin taylor trump camp caught cam brag “voter suppression” women black video',\n",
              " 'charli savag chelsea man ask obama cut sentenc time serv new york time',\n",
              " 'dylan gwinn red sox broadcast jerri remi think foreign player shouldn’t use translat',\n",
              " 'jason ditz shi’it militia join iraq’ mosul attack',\n",
              " 'sapna maheshwari escap reign super bowl commerci polit prove inescap new york time',\n",
              " 'scott naval brief novemb th ledahu',\n",
              " 'dave hodg scandal video footag anonym expos huma hillari',\n",
              " 'carl huls jar new level confront conflict hit washington new york time',\n",
              " 'author clinton transmit classifi info lawyer',\n",
              " 'pam key hillari russian hack ’guid americans’ might trump breitbart',\n",
              " 'oliv jj lane gener elect campaign suspend wake manchest suicid bomb',\n",
              " 'author grand slam fatherson film smash hit famili',\n",
              " 'rowan wolf venezuela’ econom crisi mean left fail',\n",
              " 'ben kew herd stamped wild boar kill three islam state jihadist breitbart',\n",
              " 'anni murphi paul venu mar believ gender it’ often wrong new york time',\n",
              " 'sarah maslin nir obama’ pardon list hotel magnat own studio new york time',\n",
              " 'alex ansari suspect captur ‘ambushstyle’ kill two iowa cop',\n",
              " 'andrew anglin megyn sic kelli gowdi triumphantli comment hillari case reopen',\n",
              " 'justin wolfer familyfriendli polici that’ friendliest male professor new york time',\n",
              " 'kike garcía ringo starr anuncia que deja lo beatl',\n",
              " 'glen ford war less immin clinton defeat',\n",
              " 'jason ditz mi chief present russia grow threat british interest',\n",
              " 'alexand burn washington state upend trump’ travel ban new york time',\n",
              " 'rtcom protect swerv polic chief caught speed get laugh ticket video',\n",
              " 'ildefonso ortiz brandon darbi fake news trump hit mexico explod',\n",
              " 'wtrompoperamailcom wt go wikileak',\n",
              " 'luca nolan former cia director blame millenni wikileak document breitbart',\n",
              " 'lorn manli tell stori slaveri new york time',\n",
              " 'breitbart london live wire dutch elect high turnout expect controversi turkish mosqu poll centr',\n",
              " 'guest shave mean freedom omar',\n",
              " 'dawn parabellum bombshel leak email expos muslim got obama’ administr',\n",
              " 'admin nativ american part ten lost tribe jewish peopl',\n",
              " 'rebecca diserio blm rapper bill’ alleg son nasti surpris hillari',\n",
              " 'benjamin hoffman kevin durant join golden state warrior new york time',\n",
              " 'katherin rodriguez indian call center becom major center defraud american breitbart',\n",
              " 'pamela geller congress attorney gener lynch ‘plead fifth’ secret iran ‘ransom’ payment',\n",
              " 'joel b pollak lo angel time editori lose trump ’narcissist’ ’demagogue’ breitbart',\n",
              " 'dan barri swirl ‘untruths’ ‘falsehoods’ call lie lie new york time',\n",
              " 'katharin q seely hillari clinton lead donald trump new hampshir florida poll show new york time',\n",
              " 'andrea kannapel sandra stevenson gene wilder huma abedin donald trump monday even brief new york time',\n",
              " 'trent baker watch blimp crash catch fire us open breitbart',\n",
              " 'richard pérezpeña toddler loos gun car mother die new york time',\n",
              " 'amanda hess asianamerican actor fight visibl ignor new york time',\n",
              " 'gustavo arellano mexican feel environ',\n",
              " 'maggi haberman ashley parker jeremi w peter michael barbaro insid donald trump’ last stand anxiou nomine seek assur new york time',\n",
              " 'jennif schuessler park servic name divers nation landmark new york time',\n",
              " 'ian mason weiner rise white hous alli disgrac excongressman hire breitbart',\n",
              " 'mac slavo “if trump lose i’m grab musket” former congressman readi go full revolut',\n",
              " 'new york time decod north korea’ claim success nuclear test new york time',\n",
              " 'warner todd huston bill belichick wit list testifi aaron hernandez doubl murder case breitbart',\n",
              " 'michel moon la mayor silent city’ rise violent crime breitbart',\n",
              " 'stephen castl sewel chan theresa may new british prime minist give bori johnson key post new york time',\n",
              " 'andrea kannapel sandra stevenson donald trump hillari clinton iphon wednesday even brief new york time',\n",
              " 'noreplybloggercom alexand light usa kill million peopl victim nation sinc world war ii',\n",
              " 'dawn parabellum polic offic face backlash hillari photo',\n",
              " 'wrenfo shakespear remain authent bore',\n",
              " 'aaron klein georgia candid jon ossoff’ film firm financ facebook fact check funder',\n",
              " 'tim arango effort defeat isi us iran imped one anoth new york time',\n",
              " 'toni lee rick ‘put bullet trump’ wilson potu support see scalis shoot ‘blessing’ breitbart',\n",
              " 'quest western intellig agenc run alqaeda camp north africa',\n",
              " 'maggi haberman trump tell plan parenthood fund stay abort goe new york time',\n",
              " 'braindiseasecalledliber comment hillari clinton’ gun control agenda expos wikileak email braindiseasecalledliber',\n",
              " 'misti barack obama delay suspend elect hillari forc new fbi email investig',\n",
              " 'jonathan martin alexand burn donald trump incit feud gop candid flee shadow new york time',\n",
              " 'chri menahan germani student forc chant ‘allahu akbar’ punish refus trip mosqu',\n",
              " 'author meteor space junk rocket mysteri flash hit siberia',\n",
              " 'juli hirschfeld davi christoph drew nichola fando jeremi w peter trump nation secur advis call russian envoy day sanction impos new york time',\n",
              " 'cassandra fairbank project verita implic democrat oper claim credit romney video',\n",
              " 'julia preston laidoff american requir zip lip way grow bolder new york time',\n",
              " ...]"
            ]
          },
          "metadata": {},
          "execution_count": 22
        }
      ]
    },
    {
      "cell_type": "markdown",
      "source": [
        "Importing TensorFlow and necessary Libraries"
      ],
      "metadata": {
        "id": "XRBB3SNQ1DMb"
      }
    },
    {
      "cell_type": "code",
      "source": [
        "import tensorflow as tf"
      ],
      "metadata": {
        "id": "njtxjU2P0Y11"
      },
      "execution_count": 23,
      "outputs": []
    },
    {
      "cell_type": "code",
      "source": [
        "tf.__version__"
      ],
      "metadata": {
        "colab": {
          "base_uri": "https://localhost:8080/",
          "height": 36
        },
        "id": "i7cW8otV1Qd4",
        "outputId": "0a545876-07e4-47cb-898f-dea973be94e5"
      },
      "execution_count": 24,
      "outputs": [
        {
          "output_type": "execute_result",
          "data": {
            "text/plain": [
              "'2.8.2'"
            ],
            "application/vnd.google.colaboratory.intrinsic+json": {
              "type": "string"
            }
          },
          "metadata": {},
          "execution_count": 24
        }
      ]
    },
    {
      "cell_type": "code",
      "source": [
        "from tensorflow.keras.layers import Embedding\n",
        "from tensorflow.keras.preprocessing.sequence import pad_sequences\n",
        "from tensorflow.keras.models import Sequential\n",
        "from tensorflow.keras.preprocessing.text import one_hot\n",
        "from tensorflow.keras.layers import LSTM,Dropout\n",
        "from tensorflow.keras.layers import Dense\n",
        "from tensorflow.keras.callbacks import EarlyStopping\n",
        "from tensorflow.keras.optimizers import RMSprop"
      ],
      "metadata": {
        "id": "Cjpl9Htf1T_q"
      },
      "execution_count": 25,
      "outputs": []
    },
    {
      "cell_type": "markdown",
      "source": [
        "#### Determining Vocabulary Size"
      ],
      "metadata": {
        "id": "uDSXBGI15dXe"
      }
    },
    {
      "cell_type": "code",
      "source": [
        "vocab_size = 10000"
      ],
      "metadata": {
        "id": "9wOb_LRr5Yzl"
      },
      "execution_count": 26,
      "outputs": []
    },
    {
      "cell_type": "markdown",
      "source": [
        "### One-Hot Representation"
      ],
      "metadata": {
        "id": "aM2F_2st5n7y"
      }
    },
    {
      "cell_type": "code",
      "source": [
        "corpus[1]"
      ],
      "metadata": {
        "colab": {
          "base_uri": "https://localhost:8080/",
          "height": 36
        },
        "id": "0_MCBzTIdDDr",
        "outputId": "60cfbf48-b0b0-40f7-dfb9-4aebe229e400"
      },
      "execution_count": 27,
      "outputs": [
        {
          "output_type": "execute_result",
          "data": {
            "text/plain": [
              "'daniel j flynn flynn hillari clinton big woman campu breitbart'"
            ],
            "application/vnd.google.colaboratory.intrinsic+json": {
              "type": "string"
            }
          },
          "metadata": {},
          "execution_count": 27
        }
      ]
    },
    {
      "cell_type": "code",
      "source": [
        "onehot_repr = [one_hot(words,vocab_size)for words in corpus]\n",
        "onehot_repr[1]"
      ],
      "metadata": {
        "colab": {
          "base_uri": "https://localhost:8080/"
        },
        "id": "zcrGRM765ml3",
        "outputId": "8a52923f-37b1-45a5-e3e7-441605ca4919"
      },
      "execution_count": 28,
      "outputs": [
        {
          "output_type": "execute_result",
          "data": {
            "text/plain": [
              "[7607, 2878, 6539, 6539, 6261, 7780, 6338, 6857, 8445, 4342]"
            ]
          },
          "metadata": {},
          "execution_count": 28
        }
      ]
    },
    {
      "cell_type": "markdown",
      "source": [
        "### Embedding Representation"
      ],
      "metadata": {
        "id": "RttMJtsqgVar"
      }
    },
    {
      "cell_type": "code",
      "source": [
        "sent_len = 20\n",
        "embedded_docs = pad_sequences(onehot_repr,padding='post',maxlen=sent_len)\n",
        "print(embedded_docs)"
      ],
      "metadata": {
        "colab": {
          "base_uri": "https://localhost:8080/"
        },
        "id": "TnemQK6rfXEe",
        "outputId": "62105e71-4a17-4bfe-9f6d-b8e77d1cdd4e"
      },
      "execution_count": 29,
      "outputs": [
        {
          "output_type": "stream",
          "name": "stdout",
          "text": [
            "[[2874 3439 4908 ...    0    0    0]\n",
            " [7607 2878 6539 ...    0    0    0]\n",
            " [1897 6383 3143 ...    0    0    0]\n",
            " ...\n",
            " [2998 2878 6159 ...    0    0    0]\n",
            " [  95 7747 4773 ...    0    0    0]\n",
            " [8414 5902 1786 ...    0    0    0]]\n"
          ]
        }
      ]
    },
    {
      "cell_type": "code",
      "source": [
        "embedded_docs[1]"
      ],
      "metadata": {
        "colab": {
          "base_uri": "https://localhost:8080/"
        },
        "id": "K29PrjYBg4Vt",
        "outputId": "b9d25ee6-5518-4d64-9149-3d3585cd026f"
      },
      "execution_count": 30,
      "outputs": [
        {
          "output_type": "execute_result",
          "data": {
            "text/plain": [
              "array([7607, 2878, 6539, 6539, 6261, 7780, 6338, 6857, 8445, 4342,    0,\n",
              "          0,    0,    0,    0,    0,    0,    0,    0,    0], dtype=int32)"
            ]
          },
          "metadata": {},
          "execution_count": 30
        }
      ]
    },
    {
      "cell_type": "code",
      "source": [
        "embedded_docs[0]"
      ],
      "metadata": {
        "colab": {
          "base_uri": "https://localhost:8080/"
        },
        "id": "mmMDOmSVg8iN",
        "outputId": "fcf6413a-aa28-4598-aa5d-ede3e92ee772"
      },
      "execution_count": 31,
      "outputs": [
        {
          "output_type": "execute_result",
          "data": {
            "text/plain": [
              "array([2874, 3439, 4908,  140, 1418, 6153, 3772, 3527, 2712,  184, 8744,\n",
              "       6379, 7182,    0,    0,    0,    0,    0,    0,    0], dtype=int32)"
            ]
          },
          "metadata": {},
          "execution_count": 31
        }
      ]
    },
    {
      "cell_type": "markdown",
      "source": [
        "### Creating Model"
      ],
      "metadata": {
        "id": "hCx0-MNahMZD"
      }
    },
    {
      "cell_type": "code",
      "source": [
        "from nltk.translate import metrics\n",
        "features = 100\n",
        "\n",
        "model = Sequential()\n",
        "model.add(Embedding(vocab_size,features,input_length=sent_len))\n",
        "model.add(LSTM(100))\n",
        "model.add(Dense(256,activation='relu'))\n",
        "model.add(Dropout(0.5))\n",
        "model.add(Dense(1,activation='sigmoid'))\n",
        "model.compile(loss='binary_crossentropy',optimizer=RMSprop(),metrics=['accuracy'])\n",
        "print(model.summary())"
      ],
      "metadata": {
        "colab": {
          "base_uri": "https://localhost:8080/"
        },
        "id": "4lOLGwaXhHQh",
        "outputId": "96019e54-175c-45a3-c99b-312e57188ee3"
      },
      "execution_count": 32,
      "outputs": [
        {
          "output_type": "stream",
          "name": "stdout",
          "text": [
            "Model: \"sequential\"\n",
            "_________________________________________________________________\n",
            " Layer (type)                Output Shape              Param #   \n",
            "=================================================================\n",
            " embedding (Embedding)       (None, 20, 100)           1000000   \n",
            "                                                                 \n",
            " lstm (LSTM)                 (None, 100)               80400     \n",
            "                                                                 \n",
            " dense (Dense)               (None, 256)               25856     \n",
            "                                                                 \n",
            " dropout (Dropout)           (None, 256)               0         \n",
            "                                                                 \n",
            " dense_1 (Dense)             (None, 1)                 257       \n",
            "                                                                 \n",
            "=================================================================\n",
            "Total params: 1,106,513\n",
            "Trainable params: 1,106,513\n",
            "Non-trainable params: 0\n",
            "_________________________________________________________________\n",
            "None\n"
          ]
        }
      ]
    },
    {
      "cell_type": "code",
      "source": [
        "y = df['label']"
      ],
      "metadata": {
        "id": "0k-vfB29jjPd"
      },
      "execution_count": 33,
      "outputs": []
    },
    {
      "cell_type": "code",
      "source": [
        "len(embedded_docs),y.shape"
      ],
      "metadata": {
        "colab": {
          "base_uri": "https://localhost:8080/"
        },
        "id": "ICKHcrcwjN9B",
        "outputId": "c63ae426-ce24-4815-a145-ed08e5845db1"
      },
      "execution_count": 34,
      "outputs": [
        {
          "output_type": "execute_result",
          "data": {
            "text/plain": [
              "(18285, (18285,))"
            ]
          },
          "metadata": {},
          "execution_count": 34
        }
      ]
    },
    {
      "cell_type": "code",
      "source": [
        "X_final = np.array(embedded_docs)\n",
        "y_final = np.array(y)"
      ],
      "metadata": {
        "id": "u5IcFstkjpms"
      },
      "execution_count": 35,
      "outputs": []
    },
    {
      "cell_type": "code",
      "source": [
        "X_final.shape,y_final.shape"
      ],
      "metadata": {
        "colab": {
          "base_uri": "https://localhost:8080/"
        },
        "id": "T5WIOSRYkhKF",
        "outputId": "ad92fe31-ba3b-4a93-d4e8-0c1a9626054b"
      },
      "execution_count": 36,
      "outputs": [
        {
          "output_type": "execute_result",
          "data": {
            "text/plain": [
              "((18285, 20), (18285,))"
            ]
          },
          "metadata": {},
          "execution_count": 36
        }
      ]
    },
    {
      "cell_type": "code",
      "source": [
        "from sklearn.model_selection import train_test_split\n",
        "X_train, X_test, y_train, y_test = train_test_split(X_final, y_final, test_size=0.33, random_state=42)"
      ],
      "metadata": {
        "id": "Zsgnv6Wikmrb"
      },
      "execution_count": 37,
      "outputs": []
    },
    {
      "cell_type": "code",
      "source": [
        "model.fit(X_train,y_train,validation_data=(X_test,y_test),epochs=20,batch_size=64, callbacks=[EarlyStopping(monitor='val_loss',min_delta=0.0001)])"
      ],
      "metadata": {
        "colab": {
          "base_uri": "https://localhost:8080/"
        },
        "id": "p1u4CTR8k0dv",
        "outputId": "a6c0704f-d4ff-4ea8-cbb7-2efd16561563"
      },
      "execution_count": 38,
      "outputs": [
        {
          "output_type": "stream",
          "name": "stdout",
          "text": [
            "Epoch 1/20\n",
            "192/192 [==============================] - 5s 10ms/step - loss: 0.1362 - accuracy: 0.9411 - val_loss: 0.0645 - val_accuracy: 0.9808\n",
            "Epoch 2/20\n",
            "192/192 [==============================] - 2s 8ms/step - loss: 0.0274 - accuracy: 0.9929 - val_loss: 0.0672 - val_accuracy: 0.9826\n"
          ]
        },
        {
          "output_type": "execute_result",
          "data": {
            "text/plain": [
              "<keras.callbacks.History at 0x7fd5b2185f90>"
            ]
          },
          "metadata": {},
          "execution_count": 38
        }
      ]
    },
    {
      "cell_type": "code",
      "source": [
        "y_pred = model.predict(X_test)"
      ],
      "metadata": {
        "id": "Sf5AdvGonjVq"
      },
      "execution_count": 39,
      "outputs": []
    },
    {
      "cell_type": "code",
      "source": [
        "y_pred = np.where(y_pred>0.5,1,0)"
      ],
      "metadata": {
        "id": "jYzLVRHsnjSq"
      },
      "execution_count": 40,
      "outputs": []
    },
    {
      "cell_type": "code",
      "source": [
        "from sklearn.metrics import confusion_matrix"
      ],
      "metadata": {
        "id": "CC2yCJLunjP2"
      },
      "execution_count": 41,
      "outputs": []
    },
    {
      "cell_type": "code",
      "source": [
        "confusion_matrix(y_test,y_pred)"
      ],
      "metadata": {
        "colab": {
          "base_uri": "https://localhost:8080/"
        },
        "id": "3_7-tVcmn7w_",
        "outputId": "419c1c02-3cc9-41ad-e951-dec38166ee61"
      },
      "execution_count": 42,
      "outputs": [
        {
          "output_type": "execute_result",
          "data": {
            "text/plain": [
              "array([[3362,   57],\n",
              "       [  48, 2568]])"
            ]
          },
          "metadata": {},
          "execution_count": 42
        }
      ]
    },
    {
      "cell_type": "code",
      "source": [
        "from sklearn.metrics import accuracy_score\n",
        "accuracy_score(y_test,y_pred)"
      ],
      "metadata": {
        "colab": {
          "base_uri": "https://localhost:8080/"
        },
        "id": "ENf1OofQn9Fl",
        "outputId": "0290d68f-19e8-4eac-be0e-d22eda6c560b"
      },
      "execution_count": 43,
      "outputs": [
        {
          "output_type": "execute_result",
          "data": {
            "text/plain": [
              "0.9826014913007457"
            ]
          },
          "metadata": {},
          "execution_count": 43
        }
      ]
    },
    {
      "cell_type": "code",
      "source": [
        "from sklearn.metrics import classification_report\n",
        "print(classification_report(y_test,y_pred))"
      ],
      "metadata": {
        "colab": {
          "base_uri": "https://localhost:8080/"
        },
        "id": "0rdILkwxoAYn",
        "outputId": "ff9cd359-24e0-4304-aabe-87ed8d89ea59"
      },
      "execution_count": 44,
      "outputs": [
        {
          "output_type": "stream",
          "name": "stdout",
          "text": [
            "              precision    recall  f1-score   support\n",
            "\n",
            "           0       0.99      0.98      0.98      3419\n",
            "           1       0.98      0.98      0.98      2616\n",
            "\n",
            "    accuracy                           0.98      6035\n",
            "   macro avg       0.98      0.98      0.98      6035\n",
            "weighted avg       0.98      0.98      0.98      6035\n",
            "\n"
          ]
        }
      ]
    }
  ]
}