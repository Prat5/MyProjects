{
 "cells": [
  {
   "cell_type": "markdown",
   "id": "818cbd31",
   "metadata": {},
   "source": [
    "# Regular Expressions\n",
    "\n",
    "A Regular Expression (or Regex) is a pattern (or filter) that describes a set of strings that matches the pattern. In other words, a regex accepts a certain set of strings and rejects the rest.\n",
    "\n",
    "### Functions in Regex\n",
    "   - Search : Used to search a perticular pattern\n",
    "   - Match : Used to find if RE matches at the start of the string\n",
    "   - Finall : Used to find all the sub strings where RE is matched and returned as a list.\n",
    "   - finditer :  Used to find all the sub strings where RE is matched and returned as an iterator\n",
    "   - sub : It is used to find a perticular pattern and replace it with the desired pattern."
   ]
  },
  {
   "cell_type": "markdown",
   "id": "77f1e091",
   "metadata": {},
   "source": [
    "### Search Function"
   ]
  },
  {
   "cell_type": "code",
   "execution_count": 1,
   "id": "a0241051",
   "metadata": {},
   "outputs": [],
   "source": [
    "import re"
   ]
  },
  {
   "cell_type": "code",
   "execution_count": 2,
   "id": "0b832bda",
   "metadata": {},
   "outputs": [
    {
     "data": {
      "text/plain": [
       "\"India, officially the Republic of India (Hindi: Bhārat Gaṇarājya),[26] is a country in South Asia. It is the seventh-largest country by area, the second-most populous country, and the most populous democracy in the world. Bounded by the Indian Ocean on the south, the Arabian Sea on the southwest, and the Bay of Bengal on the southeast, it shares land borders with Pakistan to the west;[f] China, Nepal, and Bhutan to the north; and Bangladesh and Myanmar to the east. In the Indian Ocean, India is in the vicinity of Sri Lanka and the Maldives; its Andaman and Nicobar Islands share a maritime border with Thailand, Myanmar, and Indonesia. The nation's capital city is New Delhi.\""
      ]
     },
     "execution_count": 2,
     "metadata": {},
     "output_type": "execute_result"
    }
   ],
   "source": [
    "text = \"India, officially the Republic of India (Hindi: Bhārat Gaṇarājya),[26] is a country in South Asia. It is the seventh-largest country by area, the second-most populous country, and the most populous democracy in the world. Bounded by the Indian Ocean on the south, the Arabian Sea on the southwest, and the Bay of Bengal on the southeast, it shares land borders with Pakistan to the west;[f] China, Nepal, and Bhutan to the north; and Bangladesh and Myanmar to the east. In the Indian Ocean, India is in the vicinity of Sri Lanka and the Maldives; its Andaman and Nicobar Islands share a maritime border with Thailand, Myanmar, and Indonesia. The nation's capital city is New Delhi.\"\n",
    "text"
   ]
  },
  {
   "cell_type": "code",
   "execution_count": 6,
   "id": "31fad24f",
   "metadata": {},
   "outputs": [
    {
     "data": {
      "text/plain": [
       "<re.Match object; span=(631, 640), match='Indonesia'>"
      ]
     },
     "execution_count": 6,
     "metadata": {},
     "output_type": "execute_result"
    }
   ],
   "source": [
    "re.search('Indonesia',text)"
   ]
  },
  {
   "cell_type": "markdown",
   "id": "8b4e2959",
   "metadata": {},
   "source": [
    "span=(631, 640) indicates the word Indonesia starts from letter no. 631 and ends at letter no. 640"
   ]
  },
  {
   "cell_type": "code",
   "execution_count": 8,
   "id": "1fe33abe",
   "metadata": {},
   "outputs": [
    {
     "data": {
      "text/plain": [
       "'Indonesia'"
      ]
     },
     "execution_count": 8,
     "metadata": {},
     "output_type": "execute_result"
    }
   ],
   "source": [
    "## Printing the Matched Pattern(If the name is available in the text, it print s the name else throws up an error)\n",
    "\n",
    "name = re.search('Indonesia',text)\n",
    "name.group()"
   ]
  },
  {
   "cell_type": "code",
   "execution_count": 23,
   "id": "472ea77e",
   "metadata": {},
   "outputs": [],
   "source": [
    "def find_patterns(text,pattern):\n",
    "    if re.search(pattern,text):\n",
    "        return re.search(pattern,text)\n",
    "    else:\n",
    "        print('Pattern not found !!')"
   ]
  },
  {
   "cell_type": "code",
   "execution_count": 24,
   "id": "a9a1330f",
   "metadata": {},
   "outputs": [
    {
     "name": "stdout",
     "output_type": "stream",
     "text": [
      "Pattern not found !!\n"
     ]
    }
   ],
   "source": [
    "find_patterns(text,'America')"
   ]
  },
  {
   "cell_type": "code",
   "execution_count": 25,
   "id": "9b09998d",
   "metadata": {},
   "outputs": [
    {
     "data": {
      "text/plain": [
       "<re.Match object; span=(0, 5), match='India'>"
      ]
     },
     "execution_count": 25,
     "metadata": {},
     "output_type": "execute_result"
    }
   ],
   "source": [
    "find_patterns(text,'India')"
   ]
  },
  {
   "cell_type": "markdown",
   "id": "beec7758",
   "metadata": {},
   "source": [
    "##### Quantifier"
   ]
  },
  {
   "cell_type": "markdown",
   "id": "6d6ac8fc",
   "metadata": {},
   "source": [
    "######  '?': Tells us if the specified pattern is present or not"
   ]
  },
  {
   "cell_type": "code",
   "execution_count": 29,
   "id": "ad126af8",
   "metadata": {},
   "outputs": [],
   "source": [
    "def find_patterns(text,pattern):\n",
    "    if re.search(pattern,text):\n",
    "        return re.search(pattern,text)\n",
    "    else:\n",
    "        print('Pattern not found !!')"
   ]
  },
  {
   "cell_type": "code",
   "execution_count": 32,
   "id": "c82308b7",
   "metadata": {},
   "outputs": [
    {
     "data": {
      "text/plain": [
       "<re.Match object; span=(4, 5), match='a'>"
      ]
     },
     "execution_count": 32,
     "metadata": {},
     "output_type": "execute_result"
    }
   ],
   "source": [
    "find_patterns(\"India\",\"ac?\")"
   ]
  },
  {
   "cell_type": "markdown",
   "id": "759766d0",
   "metadata": {},
   "source": [
    "Show's there's only 1 match \"a\" and that is between position 4 and 5 in the word."
   ]
  },
  {
   "cell_type": "code",
   "execution_count": 36,
   "id": "88f6e436",
   "metadata": {},
   "outputs": [
    {
     "data": {
      "text/plain": [
       "<re.Match object; span=(1, 3), match='nd'>"
      ]
     },
     "execution_count": 36,
     "metadata": {},
     "output_type": "execute_result"
    }
   ],
   "source": [
    "find_patterns(\"India\",\"nd?\")"
   ]
  },
  {
   "cell_type": "code",
   "execution_count": 40,
   "id": "0a946e37",
   "metadata": {},
   "outputs": [
    {
     "data": {
      "text/plain": [
       "<re.Match object; span=(0, 1), match='I'>"
      ]
     },
     "execution_count": 40,
     "metadata": {},
     "output_type": "execute_result"
    }
   ],
   "source": [
    "find_patterns(\"INDIA\",\"IA?\")"
   ]
  },
  {
   "cell_type": "markdown",
   "id": "1dbd9efc",
   "metadata": {},
   "source": [
    "IT ONLY CHECKS TILL THE 1ST MATCH IS FOUND AND DOESNOT CARE IF THERE MAY BE MORE ACCURATE MATCHES"
   ]
  },
  {
   "cell_type": "markdown",
   "id": "45c7d2dd",
   "metadata": {},
   "source": [
    "######  '*' Zero or More "
   ]
  },
  {
   "cell_type": "code",
   "execution_count": 41,
   "id": "43f7376e",
   "metadata": {},
   "outputs": [
    {
     "data": {
      "text/plain": [
       "<re.Match object; span=(4, 5), match='a'>"
      ]
     },
     "execution_count": 41,
     "metadata": {},
     "output_type": "execute_result"
    }
   ],
   "source": [
    "find_patterns(\"India\",\"ac*\")"
   ]
  },
  {
   "cell_type": "code",
   "execution_count": 42,
   "id": "196a7b10",
   "metadata": {},
   "outputs": [
    {
     "data": {
      "text/plain": [
       "<re.Match object; span=(1, 3), match='nd'>"
      ]
     },
     "execution_count": 42,
     "metadata": {},
     "output_type": "execute_result"
    }
   ],
   "source": [
    "find_patterns(\"India\",\"nd*\")"
   ]
  },
  {
   "cell_type": "code",
   "execution_count": 49,
   "id": "5d9db8ec",
   "metadata": {},
   "outputs": [
    {
     "data": {
      "text/plain": [
       "<re.Match object; span=(5, 9), match='DIII'>"
      ]
     },
     "execution_count": 49,
     "metadata": {},
     "output_type": "execute_result"
    }
   ],
   "source": [
    "find_patterns(\"INNNNDIIIA\",\"DI*\")"
   ]
  },
  {
   "cell_type": "markdown",
   "id": "a4900c8b",
   "metadata": {},
   "source": [
    "######   '+' One or More"
   ]
  },
  {
   "cell_type": "code",
   "execution_count": 50,
   "id": "ba61dc92",
   "metadata": {},
   "outputs": [
    {
     "name": "stdout",
     "output_type": "stream",
     "text": [
      "Pattern not found !!\n"
     ]
    }
   ],
   "source": [
    "find_patterns(\"India\",\"ac+\")"
   ]
  },
  {
   "cell_type": "code",
   "execution_count": 51,
   "id": "48a45e50",
   "metadata": {},
   "outputs": [
    {
     "data": {
      "text/plain": [
       "<re.Match object; span=(1, 3), match='nd'>"
      ]
     },
     "execution_count": 51,
     "metadata": {},
     "output_type": "execute_result"
    }
   ],
   "source": [
    "find_patterns(\"India\",\"nd+\")"
   ]
  },
  {
   "cell_type": "code",
   "execution_count": 54,
   "id": "527251be",
   "metadata": {},
   "outputs": [
    {
     "data": {
      "text/plain": [
       "<re.Match object; span=(3, 8), match='IAAAA'>"
      ]
     },
     "execution_count": 54,
     "metadata": {},
     "output_type": "execute_result"
    }
   ],
   "source": [
    "find_patterns(\"INDIAAAA\",\"IA+\")"
   ]
  },
  {
   "cell_type": "markdown",
   "id": "14ef6380",
   "metadata": {},
   "source": [
    "###### '{}' Finding matches exact number of times"
   ]
  },
  {
   "cell_type": "code",
   "execution_count": 59,
   "id": "de39e5fe",
   "metadata": {},
   "outputs": [
    {
     "data": {
      "text/plain": [
       "<re.Match object; span=(4, 9), match='eAAAA'>"
      ]
     },
     "execution_count": 59,
     "metadata": {},
     "output_type": "execute_result"
    }
   ],
   "source": [
    "find_patterns(\"AApleAAAA\",\"eA{4}\")"
   ]
  },
  {
   "cell_type": "code",
   "execution_count": 60,
   "id": "08e80a1b",
   "metadata": {},
   "outputs": [
    {
     "data": {
      "text/plain": [
       "<re.Match object; span=(0, 4), match='IAAA'>"
      ]
     },
     "execution_count": 60,
     "metadata": {},
     "output_type": "execute_result"
    }
   ],
   "source": [
    "find_patterns(\"IAAAAppleIAA\",\"IA{3}\")"
   ]
  },
  {
   "cell_type": "code",
   "execution_count": 61,
   "id": "a6af88e9",
   "metadata": {},
   "outputs": [
    {
     "name": "stdout",
     "output_type": "stream",
     "text": [
      "Pattern not found !!\n"
     ]
    }
   ],
   "source": [
    "find_patterns(\"IAAAAPPLEIAA\",\"IA{5}\")"
   ]
  },
  {
   "cell_type": "markdown",
   "id": "61670759",
   "metadata": {},
   "source": [
    "###### {m,n} Finding in a range"
   ]
  },
  {
   "cell_type": "code",
   "execution_count": 62,
   "id": "358845fa",
   "metadata": {},
   "outputs": [
    {
     "data": {
      "text/plain": [
       "<re.Match object; span=(0, 8), match='IAAAAAAA'>"
      ]
     },
     "execution_count": 62,
     "metadata": {},
     "output_type": "execute_result"
    }
   ],
   "source": [
    "find_patterns(\"IAAAAAAAAAAPPLEIAA\",\"IA{3,7}\")"
   ]
  },
  {
   "cell_type": "code",
   "execution_count": 64,
   "id": "1c245a6b",
   "metadata": {},
   "outputs": [
    {
     "data": {
      "text/plain": [
       "<re.Match object; span=(0, 11), match='IAAAAAAAAAA'>"
      ]
     },
     "execution_count": 64,
     "metadata": {},
     "output_type": "execute_result"
    }
   ],
   "source": [
    "find_patterns(\"IAAAAAAAAAAPPLEIAA\",\"IA{4,}\")"
   ]
  },
  {
   "cell_type": "markdown",
   "id": "0432ed08",
   "metadata": {},
   "source": [
    "#### Anchors"
   ]
  },
  {
   "cell_type": "markdown",
   "id": "42e96a38",
   "metadata": {},
   "source": [
    "###### '^' Starts with"
   ]
  },
  {
   "cell_type": "code",
   "execution_count": 65,
   "id": "0c88482c",
   "metadata": {},
   "outputs": [
    {
     "data": {
      "text/plain": [
       "<re.Match object; span=(0, 1), match='j'>"
      ]
     },
     "execution_count": 65,
     "metadata": {},
     "output_type": "execute_result"
    }
   ],
   "source": [
    "find_patterns(\"jack\",\"^j\")"
   ]
  },
  {
   "cell_type": "code",
   "execution_count": 66,
   "id": "f0dc49e6",
   "metadata": {},
   "outputs": [
    {
     "name": "stdout",
     "output_type": "stream",
     "text": [
      "Pattern not found !!\n"
     ]
    }
   ],
   "source": [
    "find_patterns(\"jack\",\"^k\")"
   ]
  },
  {
   "cell_type": "markdown",
   "id": "ec67b5de",
   "metadata": {},
   "source": [
    "###### '$' Ends with"
   ]
  },
  {
   "cell_type": "code",
   "execution_count": 68,
   "id": "ec401020",
   "metadata": {},
   "outputs": [
    {
     "data": {
      "text/plain": [
       "<re.Match object; span=(3, 4), match='k'>"
      ]
     },
     "execution_count": 68,
     "metadata": {},
     "output_type": "execute_result"
    }
   ],
   "source": [
    "find_patterns(\"jack\",\"k$\")"
   ]
  },
  {
   "cell_type": "code",
   "execution_count": 69,
   "id": "80589849",
   "metadata": {},
   "outputs": [
    {
     "name": "stdout",
     "output_type": "stream",
     "text": [
      "Pattern not found !!\n"
     ]
    }
   ],
   "source": [
    "find_patterns(\"jack\",\"z$\")"
   ]
  },
  {
   "cell_type": "markdown",
   "id": "bd2fd95d",
   "metadata": {},
   "source": [
    "#### Wildcard '.' find any character"
   ]
  },
  {
   "cell_type": "code",
   "execution_count": 70,
   "id": "e7b4a16a",
   "metadata": {},
   "outputs": [
    {
     "data": {
      "text/plain": [
       "<re.Match object; span=(0, 1), match='j'>"
      ]
     },
     "execution_count": 70,
     "metadata": {},
     "output_type": "execute_result"
    }
   ],
   "source": [
    "find_patterns(\"jack\",\".\")"
   ]
  },
  {
   "cell_type": "markdown",
   "id": "8d848c1a",
   "metadata": {},
   "source": [
    "#### Character Sets '[ ]' \n",
    "match anything present in the [ ] with the text."
   ]
  },
  {
   "cell_type": "code",
   "execution_count": 74,
   "id": "3af8ab7a",
   "metadata": {},
   "outputs": [
    {
     "data": {
      "text/plain": [
       "<re.Match object; span=(1, 2), match='a'>"
      ]
     },
     "execution_count": 74,
     "metadata": {},
     "output_type": "execute_result"
    }
   ],
   "source": [
    "find_patterns(\"jack\",\"[ak]\")"
   ]
  },
  {
   "cell_type": "code",
   "execution_count": 81,
   "id": "84c73cc4",
   "metadata": {},
   "outputs": [
    {
     "data": {
      "text/plain": [
       "<re.Match object; span=(0, 1), match='j'>"
      ]
     },
     "execution_count": 81,
     "metadata": {},
     "output_type": "execute_result"
    }
   ],
   "source": [
    "find_patterns(\"jack\",\"[a-k]\") ## Searching in a range"
   ]
  },
  {
   "cell_type": "code",
   "execution_count": 83,
   "id": "851a1095",
   "metadata": {},
   "outputs": [
    {
     "data": {
      "text/plain": [
       "<re.Match object; span=(2, 3), match='C'>"
      ]
     },
     "execution_count": 83,
     "metadata": {},
     "output_type": "execute_result"
    }
   ],
   "source": [
    "find_patterns(\"jaCk\",\"[A-K]\") ## Searching in a range"
   ]
  },
  {
   "cell_type": "markdown",
   "id": "097ba54c",
   "metadata": {},
   "source": [
    "###### Doesnot belong to '[^]'"
   ]
  },
  {
   "cell_type": "code",
   "execution_count": 85,
   "id": "9a16eefe",
   "metadata": {},
   "outputs": [
    {
     "data": {
      "text/plain": [
       "<re.Match object; span=(0, 1), match='j'>"
      ]
     },
     "execution_count": 85,
     "metadata": {},
     "output_type": "execute_result"
    }
   ],
   "source": [
    "find_patterns(\"jaCk\",\"[^A-K]\")"
   ]
  },
  {
   "cell_type": "code",
   "execution_count": 86,
   "id": "51a5a137",
   "metadata": {},
   "outputs": [
    {
     "data": {
      "text/plain": [
       "<re.Match object; span=(2, 3), match='C'>"
      ]
     },
     "execution_count": 86,
     "metadata": {},
     "output_type": "execute_result"
    }
   ],
   "source": [
    "find_patterns(\"jaCk\",\"[^a-z]\")"
   ]
  },
  {
   "cell_type": "code",
   "execution_count": 88,
   "id": "f398b385",
   "metadata": {},
   "outputs": [
    {
     "data": {
      "text/plain": [
       "<re.Match object; span=(3, 4), match='k'>"
      ]
     },
     "execution_count": 88,
     "metadata": {},
     "output_type": "execute_result"
    }
   ],
   "source": [
    "find_patterns(\"jackz\",\"[^a-j]\")"
   ]
  },
  {
   "cell_type": "code",
   "execution_count": 89,
   "id": "e180ce58",
   "metadata": {},
   "outputs": [
    {
     "data": {
      "text/plain": [
       "<re.Match object; span=(4, 5), match='1'>"
      ]
     },
     "execution_count": 89,
     "metadata": {},
     "output_type": "execute_result"
    }
   ],
   "source": [
    "find_patterns(\"jaCk1\",\"[^a-zA-K]\")"
   ]
  },
  {
   "cell_type": "code",
   "execution_count": 92,
   "id": "121c88bc",
   "metadata": {},
   "outputs": [
    {
     "data": {
      "text/plain": [
       "<re.Match object; span=(2, 3), match='C'>"
      ]
     },
     "execution_count": 92,
     "metadata": {},
     "output_type": "execute_result"
    }
   ],
   "source": [
    "find_patterns(\"jaCk1\",\"[^a-z0-9]\")"
   ]
  },
  {
   "cell_type": "code",
   "execution_count": 93,
   "id": "0a34d4a1",
   "metadata": {},
   "outputs": [
    {
     "data": {
      "text/plain": [
       "<re.Match object; span=(5, 6), match='!'>"
      ]
     },
     "execution_count": 93,
     "metadata": {},
     "output_type": "execute_result"
    }
   ],
   "source": [
    "find_patterns(\"jaCk1!\",\"[^a-z0-9A-Z]\")"
   ]
  },
  {
   "cell_type": "markdown",
   "id": "683415bf",
   "metadata": {},
   "source": [
    "#### Meta Sequeces\n",
    "\n",
    "   - \\s search for spaces\n",
    "   - \\s no spaces\n",
    "   - \\d == [0-9] searchec for digits only\n",
    "   - \\D == [^0-9] searches for everything other than digits\n",
    "   - \\w == [a-zA-Z0-9] Searches for alphabets and numbers only\n",
    "   - \\W ==[^a-zA-Z0-9] Searches for everything other than alphabets and numbers."
   ]
  },
  {
   "cell_type": "markdown",
   "id": "989f0c6a",
   "metadata": {},
   "source": [
    "### Match Function : \n",
    "Used to find if RE matches at the start of the string"
   ]
  },
  {
   "cell_type": "code",
   "execution_count": 94,
   "id": "3ebe9698",
   "metadata": {},
   "outputs": [],
   "source": [
    "def match_patterns(text,pattern):\n",
    "    if re.match(pattern,text):\n",
    "        return re.search(pattern,text)\n",
    "    else:\n",
    "        print('Pattern not found !!')"
   ]
  },
  {
   "cell_type": "code",
   "execution_count": 97,
   "id": "a8b66601",
   "metadata": {},
   "outputs": [
    {
     "data": {
      "text/plain": [
       "<re.Match object; span=(0, 1), match='j'>"
      ]
     },
     "execution_count": 97,
     "metadata": {},
     "output_type": "execute_result"
    }
   ],
   "source": [
    "match_patterns(\"jaCk1\",\"j\")"
   ]
  },
  {
   "cell_type": "code",
   "execution_count": 98,
   "id": "13086eb2",
   "metadata": {},
   "outputs": [
    {
     "name": "stdout",
     "output_type": "stream",
     "text": [
      "Pattern not found !!\n"
     ]
    }
   ],
   "source": [
    "match_patterns(\"jaCk1\",\"1\")"
   ]
  },
  {
   "cell_type": "markdown",
   "id": "a34706bf",
   "metadata": {},
   "source": [
    "### Sub Function: \n",
    "It is used to find a perticular pattern and replace it with the desired pattern. It needs 3 parameters:\n",
    "   1. the text to be replaced\n",
    "   2. replacement text\n",
    "   3. Input text"
   ]
  },
  {
   "cell_type": "code",
   "execution_count": 101,
   "id": "3bbe2833",
   "metadata": {},
   "outputs": [
    {
     "data": {
      "text/plain": [
       "\"India, officially the Republic of India (Hindi: Bhārat Gaṇarājya),[26] is a country in South Asia. It is the seventh-largest country by area, the second-most populous country, and the most populous democracy in the world. Bounded by the Indian Ocean on the south, the Arabian Sea on the southwest, and the Bay of Bengal on the southeast, it shares land borders with Pakistan to the west;[f] China, Nepal, and Bhutan to the north; and Bangladesh and Myanmar to the east. In the Indian Ocean, India is in the vicinity of Sri Lanka and the Maldives; its Andaman and Nicobar Islands share a maritime border with Thailand, Myanmar, and Indonesia. The nation's capital city is New Delhi.\""
      ]
     },
     "execution_count": 101,
     "metadata": {},
     "output_type": "execute_result"
    }
   ],
   "source": [
    "input_text = \"India, officially the Republic of India (Hindi: Bhārat Gaṇarājya),[26] is a country in South Asia. It is the seventh-largest country by area, the second-most populous country, and the most populous democracy in the world. Bounded by the Indian Ocean on the south, the Arabian Sea on the southwest, and the Bay of Bengal on the southeast, it shares land borders with Pakistan to the west;[f] China, Nepal, and Bhutan to the north; and Bangladesh and Myanmar to the east. In the Indian Ocean, India is in the vicinity of Sri Lanka and the Maldives; its Andaman and Nicobar Islands share a maritime border with Thailand, Myanmar, and Indonesia. The nation's capital city is New Delhi.\"\n",
    "input_text"
   ]
  },
  {
   "cell_type": "code",
   "execution_count": 102,
   "id": "d3591ff2",
   "metadata": {},
   "outputs": [
    {
     "data": {
      "text/plain": [
       "\"## My Country ##, officially the Republic of ## My Country ## (Hindi: Bhārat Gaṇarājya),[26] is a country in South Asia. It is the seventh-largest country by area, the second-most populous country, and the most populous democracy in the world. Bounded by the ## My Country ##n Ocean on the south, the Arabian Sea on the southwest, and the Bay of Bengal on the southeast, it shares land borders with Pakistan to the west;[f] China, Nepal, and Bhutan to the north; and Bangladesh and Myanmar to the east. In the ## My Country ##n Ocean, ## My Country ## is in the vicinity of Sri Lanka and the Maldives; its Andaman and Nicobar Islands share a maritime border with Thailand, Myanmar, and Indonesia. The nation's capital city is New Delhi.\""
      ]
     },
     "execution_count": 102,
     "metadata": {},
     "output_type": "execute_result"
    }
   ],
   "source": [
    "re.sub(\"India\",\"## My Country ##\",input_text)"
   ]
  },
  {
   "cell_type": "markdown",
   "id": "3d16beb4",
   "metadata": {},
   "source": [
    "###### Using wild cards +sub"
   ]
  },
  {
   "cell_type": "code",
   "execution_count": 104,
   "id": "33f29f18",
   "metadata": {},
   "outputs": [
    {
     "data": {
      "text/plain": [
       "\"India, officially the Republic of India (Hindi: Bhārat Gaṇarājya),[26] is a country in South Asia. It is the seventh-largest country by area, the second-most populous country, and the most populous democracy in the world. Bounded by the Indian Ocean on the south, the Arabian Sea on the southwest, and the Bay of Bengal on the southeast, it shares land borders with Pakistan to the west;[f] ***CHINA***a, Nepal, and Bhutan to the north; and Bangladesh and Myanmar to the east. In the Indian Ocean, India is in the vicinity of Sri Lanka and the Maldives; its Andaman and Nicobar Islands share a maritime border with Thailand, Myanmar, and Indonesia. The nation's capital city is New Delhi.\""
      ]
     },
     "execution_count": 104,
     "metadata": {},
     "output_type": "execute_result"
    }
   ],
   "source": [
    "re.sub(\"Chi\\w\",\"***CHINA***\", input_text)"
   ]
  },
  {
   "cell_type": "markdown",
   "id": "fa259cba",
   "metadata": {},
   "source": [
    "### Findall Function :\n",
    "Used to find all the sub strings where RE is matched and returned as a list. It returns only the first matching item."
   ]
  },
  {
   "cell_type": "code",
   "execution_count": 112,
   "id": "19208224",
   "metadata": {},
   "outputs": [
    {
     "data": {
      "text/plain": [
       "['12', '24', '2022']"
      ]
     },
     "execution_count": 112,
     "metadata": {},
     "output_type": "execute_result"
    }
   ],
   "source": [
    "text = \"he is a monster 12/24/2022\"\n",
    "pattern = '\\d{1,4}'\n",
    "re.findall(pattern,text)"
   ]
  },
  {
   "cell_type": "code",
   "execution_count": 119,
   "id": "1215841e",
   "metadata": {},
   "outputs": [
    {
     "data": {
      "text/plain": [
       "[]"
      ]
     },
     "execution_count": 119,
     "metadata": {},
     "output_type": "execute_result"
    }
   ],
   "source": [
    "### Exteacting from url's:\n",
    "text = 'http://localhost:8888/notebooks-2022/10/31/Regular%20Expressions(regex)/2022/4/2.ipynb'\n",
    "pattern = '/(\\d{4})/(\\d{1,2})/(\\d{1,2})/'\n",
    "re.findall(pattern,text)"
   ]
  },
  {
   "cell_type": "markdown",
   "id": "aa49959c",
   "metadata": {},
   "source": [
    "### Finditer Function: \n",
    "Used to find all the sub strings where RE is matched and returned as an iterator.\n",
    "Used to find multmiple occurrences."
   ]
  },
  {
   "cell_type": "code",
   "execution_count": 125,
   "id": "38d54496",
   "metadata": {},
   "outputs": [
    {
     "name": "stdout",
     "output_type": "stream",
     "text": [
      "(9, 15)\n",
      "(23, 29)\n"
     ]
    }
   ],
   "source": [
    "text = 'Today is sunday and on sunday I paly football'\n",
    "pattern = 'sunday'\n",
    "\n",
    "for match in re.finditer(pattern,text):\n",
    "    print(match.span())"
   ]
  },
  {
   "cell_type": "code",
   "execution_count": null,
   "id": "8f68fcf5",
   "metadata": {},
   "outputs": [],
   "source": [
    "## Semantic Processing :\n",
    "\n",
    "Making machine understand what a sentence/paragrarph means or what is about."
   ]
  }
 ],
 "metadata": {
  "kernelspec": {
   "display_name": "Python 3 (ipykernel)",
   "language": "python",
   "name": "python3"
  },
  "language_info": {
   "codemirror_mode": {
    "name": "ipython",
    "version": 3
   },
   "file_extension": ".py",
   "mimetype": "text/x-python",
   "name": "python",
   "nbconvert_exporter": "python",
   "pygments_lexer": "ipython3",
   "version": "3.9.12"
  }
 },
 "nbformat": 4,
 "nbformat_minor": 5
}
