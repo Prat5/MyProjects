{
 "cells": [
  {
   "cell_type": "markdown",
   "id": "11cb511f",
   "metadata": {},
   "source": [
    "# Basic Text Classification"
   ]
  },
  {
   "cell_type": "code",
   "execution_count": 1,
   "id": "14aea36a",
   "metadata": {
    "ExecuteTime": {
     "end_time": "2022-10-01T03:57:11.585753Z",
     "start_time": "2022-10-01T03:57:11.162804Z"
    }
   },
   "outputs": [],
   "source": [
    "import os\n",
    "import numpy as np\n",
    "import warnings\n",
    "\n",
    "warnings.filterwarnings('ignore')"
   ]
  },
  {
   "cell_type": "code",
   "execution_count": 2,
   "id": "12ee1841",
   "metadata": {
    "ExecuteTime": {
     "end_time": "2022-10-01T03:57:11.616755Z",
     "start_time": "2022-10-01T03:57:11.593742Z"
    }
   },
   "outputs": [],
   "source": [
    "train_data = r\"C:\\Users\\prate\\Downloads\\1746559-1587322-1552868-1449301-r8-train-all-terms_(2)\\1552868-1449301-r8-train-all-terms.txt\"\n",
    "test_data = r\"C:\\Users\\prate\\Downloads\\1746561-1587323-1552872-1449303-r8-test-all-terms_(1)_(2)\\1552872-1449303-r8-test-all-terms_(1).txt\""
   ]
  },
  {
   "cell_type": "markdown",
   "id": "01b36d66",
   "metadata": {},
   "source": [
    "### Reading the Training Data"
   ]
  },
  {
   "cell_type": "code",
   "execution_count": 3,
   "id": "1e224a7b",
   "metadata": {
    "ExecuteTime": {
     "end_time": "2022-10-01T03:57:11.954857Z",
     "start_time": "2022-10-01T03:57:11.630745Z"
    }
   },
   "outputs": [],
   "source": [
    "X, y = [], []\n",
    "\n",
    "with open(train_data, \"r\") as f:\n",
    "    for line in f:\n",
    "        label, text = line.split('\\t')\n",
    "        X.append(text.split())\n",
    "        y.append(label)\n",
    "    X, y = np.array(X), np.array(y)"
   ]
  },
  {
   "cell_type": "code",
   "execution_count": 4,
   "id": "3533b4d8",
   "metadata": {
    "ExecuteTime": {
     "end_time": "2022-10-01T03:57:12.015845Z",
     "start_time": "2022-10-01T03:57:11.963853Z"
    }
   },
   "outputs": [
    {
     "data": {
      "text/plain": [
       "array(['earn', 'acq', 'earn', ..., 'earn', 'money-fx', 'ship'],\n",
       "      dtype='<U8')"
      ]
     },
     "execution_count": 4,
     "metadata": {},
     "output_type": "execute_result"
    }
   ],
   "source": [
    "y"
   ]
  },
  {
   "cell_type": "code",
   "execution_count": 5,
   "id": "8339849d",
   "metadata": {
    "ExecuteTime": {
     "end_time": "2022-10-01T03:57:12.046852Z",
     "start_time": "2022-10-01T03:57:12.024849Z"
    }
   },
   "outputs": [
    {
     "data": {
      "text/plain": [
       "(5485, 5485)"
      ]
     },
     "execution_count": 5,
     "metadata": {},
     "output_type": "execute_result"
    }
   ],
   "source": [
    "len(X),len(y)"
   ]
  },
  {
   "cell_type": "markdown",
   "id": "eb18b781",
   "metadata": {
    "ExecuteTime": {
     "end_time": "2022-10-02T01:46:03.033475Z",
     "start_time": "2022-10-02T01:46:03.009341Z"
    }
   },
   "source": [
    "### Reading the Test Data"
   ]
  },
  {
   "cell_type": "code",
   "execution_count": 6,
   "id": "632564f8",
   "metadata": {
    "ExecuteTime": {
     "end_time": "2022-10-01T03:57:12.185844Z",
     "start_time": "2022-10-01T03:57:12.054848Z"
    }
   },
   "outputs": [],
   "source": [
    "X_test, y_test = [], []\n",
    "\n",
    "with open(test_data, 'r') as f:\n",
    "    for line in f:\n",
    "        label, text = line.split('\\t')\n",
    "        X_test.append(text.split())\n",
    "        y_test.append(label)\n",
    "    X_test, y_test = np.array(X_test), np.array(y_test)"
   ]
  },
  {
   "cell_type": "code",
   "execution_count": 7,
   "id": "6afc09e7",
   "metadata": {
    "ExecuteTime": {
     "end_time": "2022-10-01T03:57:12.216863Z",
     "start_time": "2022-10-01T03:57:12.194846Z"
    }
   },
   "outputs": [
    {
     "data": {
      "text/plain": [
       "(2189, 2189)"
      ]
     },
     "execution_count": 7,
     "metadata": {},
     "output_type": "execute_result"
    }
   ],
   "source": [
    "len(X_test), len(y_test)"
   ]
  },
  {
   "cell_type": "code",
   "execution_count": 8,
   "id": "8c079fa4",
   "metadata": {
    "ExecuteTime": {
     "end_time": "2022-10-01T03:57:12.263849Z",
     "start_time": "2022-10-01T03:57:12.224850Z"
    }
   },
   "outputs": [
    {
     "data": {
      "text/plain": [
       "(array(['acq', 'crude', 'earn', 'grain', 'interest', 'money-fx', 'ship',\n",
       "        'trade'], dtype='<U8'),\n",
       " array([1596,  253, 2840,   41,  190,  206,  108,  251], dtype=int64))"
      ]
     },
     "execution_count": 8,
     "metadata": {},
     "output_type": "execute_result"
    }
   ],
   "source": [
    "np.unique(y, return_counts=True)"
   ]
  },
  {
   "cell_type": "code",
   "execution_count": 9,
   "id": "b8818c1e",
   "metadata": {
    "ExecuteTime": {
     "end_time": "2022-10-01T03:57:12.387844Z",
     "start_time": "2022-10-01T03:57:12.274854Z"
    }
   },
   "outputs": [
    {
     "name": "stdout",
     "output_type": "stream",
     "text": [
      "champion products ch approves stock split champion products inc said its board of directors approved a two for one stock split of its common shares for shareholders of record as of april the company also said its board voted to recommend to shareholders at the annual meeting april an increase in the authorized capital stock from five mln to mln shares reuter\n",
      "\n",
      "asian exporters fear damage from u s japan rift mounting trade friction between the u s and japan has raised fears among many of asia s exporting nations that the row could inflict far reaching economic damage businessmen and officials said they told reuter correspondents in asian capitals a u s move against japan might boost protectionist sentiment in the u s and lead to curbs on american imports of their products but some exporters said that while the conflict would hurt them in the long run in the short term tokyo s loss might be their gain the u s has said it will impose mln dlrs of tariffs on imports of japanese electronics goods on april in retaliation for japan s alleged failure to stick to a pact not to sell semiconductors on world markets at below cost unofficial japanese estimates put the impact of the tariffs at billion dlrs and spokesmen for major electronics firms said they would virtually halt exports of products hit by the new taxes we wouldn t be able to do business said a spokesman for leading japanese electronics firm matsushita electric industrial co ltd mc t if the tariffs remain in place for any length of time beyond a few months it will mean the complete erosion of exports of goods subject to tariffs to the u s said tom murtha a stock analyst at the tokyo office of broker james capel and co in taiwan businessmen and officials are also worried we are aware of the seriousness of the u s threat against japan because it serves as a warning to us said a senior taiwanese trade official who asked not to be named taiwan had a trade trade surplus of billion dlrs last year pct of it with the u s the surplus helped swell taiwan s foreign exchange reserves to billion dlrs among the world s largest we must quickly open our markets remove trade barriers and cut import tariffs to allow imports of u s products if we want to defuse problems from possible u s retaliation said paul sheen chairman of textile exporters taiwan safe group a senior official of south korea s trade promotion association said the trade dispute between the u s and japan might also lead to pressure on south korea whose chief exports are similar to those of japan last year south korea had a trade surplus of billion dlrs with the u s up from billion dlrs in in malaysia trade officers and businessmen said tough curbs against japan might allow hard hit producers of semiconductors in third countries to expand their sales to the u s in hong kong where newspapers have alleged japan has been selling below cost semiconductors some electronics manufacturers share that view but other businessmen said such a short term commercial advantage would be outweighed by further u s pressure to block imports that is a very short term view said lawrence mills director general of the federation of hong kong industry if the whole purpose is to prevent imports one day it will be extended to other sources much more serious for hong kong is the disadvantage of action restraining trade he said the u s last year was hong kong s biggest export market accounting for over pct of domestically produced exports the australian government is awaiting the outcome of trade talks between the u s and japan with interest and concern industry minister john button said in canberra last friday this kind of deterioration in trade relations between two countries which are major trading partners of ours is a very serious matter button said he said australia s concerns centred on coal and beef australia s two largest exports to japan and also significant u s exports to that country meanwhile u s japanese diplomatic manoeuvres to solve the trade stand off continue japan s ruling liberal democratic party yesterday outlined a package of economic measures to boost the japanese economy the measures proposed include a large supplementary budget and record public works spending in the first half of the financial year they also call for stepped up spending as an emergency measure to stimulate the economy despite prime minister yasuhiro nakasone s avowed fiscal reform program deputy u s trade representative michael smith and makoto kuroda japan s deputy minister of international trade and industry miti are due to meet in washington this week in an effort to end the dispute reuter\n",
      "\n"
     ]
    }
   ],
   "source": [
    "X_text = [\" \".join(val) for val in X]\n",
    "print(X_text[0]+ \"\\n\")\n",
    "\n",
    "X_test_text = [' '.join(val) for val in X_test]\n",
    "print(X_test_text[0]+ \"\\n\")"
   ]
  },
  {
   "cell_type": "markdown",
   "id": "8e21b52e",
   "metadata": {},
   "source": [
    "## Using Count Vectorizer"
   ]
  },
  {
   "cell_type": "code",
   "execution_count": 10,
   "id": "c224ce24",
   "metadata": {
    "ExecuteTime": {
     "end_time": "2022-10-01T03:57:15.367778Z",
     "start_time": "2022-10-01T03:57:12.394846Z"
    }
   },
   "outputs": [],
   "source": [
    "from sklearn.feature_extraction.text import CountVectorizer"
   ]
  },
  {
   "cell_type": "code",
   "execution_count": 11,
   "id": "202d4d43",
   "metadata": {
    "ExecuteTime": {
     "end_time": "2022-10-01T03:57:17.182350Z",
     "start_time": "2022-10-01T03:57:15.384772Z"
    }
   },
   "outputs": [
    {
     "data": {
      "text/html": [
       "<style>#sk-container-id-1 {color: black;background-color: white;}#sk-container-id-1 pre{padding: 0;}#sk-container-id-1 div.sk-toggleable {background-color: white;}#sk-container-id-1 label.sk-toggleable__label {cursor: pointer;display: block;width: 100%;margin-bottom: 0;padding: 0.3em;box-sizing: border-box;text-align: center;}#sk-container-id-1 label.sk-toggleable__label-arrow:before {content: \"▸\";float: left;margin-right: 0.25em;color: #696969;}#sk-container-id-1 label.sk-toggleable__label-arrow:hover:before {color: black;}#sk-container-id-1 div.sk-estimator:hover label.sk-toggleable__label-arrow:before {color: black;}#sk-container-id-1 div.sk-toggleable__content {max-height: 0;max-width: 0;overflow: hidden;text-align: left;background-color: #f0f8ff;}#sk-container-id-1 div.sk-toggleable__content pre {margin: 0.2em;color: black;border-radius: 0.25em;background-color: #f0f8ff;}#sk-container-id-1 input.sk-toggleable__control:checked~div.sk-toggleable__content {max-height: 200px;max-width: 100%;overflow: auto;}#sk-container-id-1 input.sk-toggleable__control:checked~label.sk-toggleable__label-arrow:before {content: \"▾\";}#sk-container-id-1 div.sk-estimator input.sk-toggleable__control:checked~label.sk-toggleable__label {background-color: #d4ebff;}#sk-container-id-1 div.sk-label input.sk-toggleable__control:checked~label.sk-toggleable__label {background-color: #d4ebff;}#sk-container-id-1 input.sk-hidden--visually {border: 0;clip: rect(1px 1px 1px 1px);clip: rect(1px, 1px, 1px, 1px);height: 1px;margin: -1px;overflow: hidden;padding: 0;position: absolute;width: 1px;}#sk-container-id-1 div.sk-estimator {font-family: monospace;background-color: #f0f8ff;border: 1px dotted black;border-radius: 0.25em;box-sizing: border-box;margin-bottom: 0.5em;}#sk-container-id-1 div.sk-estimator:hover {background-color: #d4ebff;}#sk-container-id-1 div.sk-parallel-item::after {content: \"\";width: 100%;border-bottom: 1px solid gray;flex-grow: 1;}#sk-container-id-1 div.sk-label:hover label.sk-toggleable__label {background-color: #d4ebff;}#sk-container-id-1 div.sk-serial::before {content: \"\";position: absolute;border-left: 1px solid gray;box-sizing: border-box;top: 0;bottom: 0;left: 50%;z-index: 0;}#sk-container-id-1 div.sk-serial {display: flex;flex-direction: column;align-items: center;background-color: white;padding-right: 0.2em;padding-left: 0.2em;position: relative;}#sk-container-id-1 div.sk-item {position: relative;z-index: 1;}#sk-container-id-1 div.sk-parallel {display: flex;align-items: stretch;justify-content: center;background-color: white;position: relative;}#sk-container-id-1 div.sk-item::before, #sk-container-id-1 div.sk-parallel-item::before {content: \"\";position: absolute;border-left: 1px solid gray;box-sizing: border-box;top: 0;bottom: 0;left: 50%;z-index: -1;}#sk-container-id-1 div.sk-parallel-item {display: flex;flex-direction: column;z-index: 1;position: relative;background-color: white;}#sk-container-id-1 div.sk-parallel-item:first-child::after {align-self: flex-end;width: 50%;}#sk-container-id-1 div.sk-parallel-item:last-child::after {align-self: flex-start;width: 50%;}#sk-container-id-1 div.sk-parallel-item:only-child::after {width: 0;}#sk-container-id-1 div.sk-dashed-wrapped {border: 1px dashed gray;margin: 0 0.4em 0.5em 0.4em;box-sizing: border-box;padding-bottom: 0.4em;background-color: white;}#sk-container-id-1 div.sk-label label {font-family: monospace;font-weight: bold;display: inline-block;line-height: 1.2em;}#sk-container-id-1 div.sk-label-container {text-align: center;}#sk-container-id-1 div.sk-container {/* jupyter's `normalize.less` sets `[hidden] { display: none; }` but bootstrap.min.css set `[hidden] { display: none !important; }` so we also need the `!important` here to be able to override the default hidden behavior on the sphinx rendered scikit-learn.org. See: https://github.com/scikit-learn/scikit-learn/issues/21755 */display: inline-block !important;position: relative;}#sk-container-id-1 div.sk-text-repr-fallback {display: none;}</style><div id=\"sk-container-id-1\" class=\"sk-top-container\"><div class=\"sk-text-repr-fallback\"><pre>CountVectorizer(max_features=5000, stop_words=&#x27;english&#x27;)</pre><b>In a Jupyter environment, please rerun this cell to show the HTML representation or trust the notebook. <br />On GitHub, the HTML representation is unable to render, please try loading this page with nbviewer.org.</b></div><div class=\"sk-container\" hidden><div class=\"sk-item\"><div class=\"sk-estimator sk-toggleable\"><input class=\"sk-toggleable__control sk-hidden--visually\" id=\"sk-estimator-id-1\" type=\"checkbox\" checked><label for=\"sk-estimator-id-1\" class=\"sk-toggleable__label sk-toggleable__label-arrow\">CountVectorizer</label><div class=\"sk-toggleable__content\"><pre>CountVectorizer(max_features=5000, stop_words=&#x27;english&#x27;)</pre></div></div></div></div></div>"
      ],
      "text/plain": [
       "CountVectorizer(max_features=5000, stop_words='english')"
      ]
     },
     "execution_count": 11,
     "metadata": {},
     "output_type": "execute_result"
    }
   ],
   "source": [
    "vect = CountVectorizer(stop_words='english',max_features=5000)\n",
    "vect.fit(X_text)"
   ]
  },
  {
   "cell_type": "code",
   "execution_count": 12,
   "id": "3c9600d1",
   "metadata": {
    "ExecuteTime": {
     "end_time": "2022-10-01T03:57:19.048003Z",
     "start_time": "2022-10-01T03:57:17.189346Z"
    }
   },
   "outputs": [],
   "source": [
    "X_train_transformed = vect.transform(X_text)\n",
    "X_test_transformed = vect.transform(X_test_text)"
   ]
  },
  {
   "cell_type": "code",
   "execution_count": 13,
   "id": "6bd49483",
   "metadata": {
    "ExecuteTime": {
     "end_time": "2022-10-01T03:57:19.078660Z",
     "start_time": "2022-10-01T03:57:19.052977Z"
    }
   },
   "outputs": [
    {
     "data": {
      "text/plain": [
       "[('champion', 759),\n",
       " ('products', 3488),\n",
       " ('approves', 264),\n",
       " ('stock', 4337),\n",
       " ('split', 4273),\n",
       " ('said', 3974),\n",
       " ('board', 532),\n",
       " ('directors', 1327),\n",
       " ('approved', 263),\n",
       " ('common', 895)]"
      ]
     },
     "execution_count": 13,
     "metadata": {},
     "output_type": "execute_result"
    }
   ],
   "source": [
    "list(vect.vocabulary_.items())[:10]"
   ]
  },
  {
   "cell_type": "code",
   "execution_count": 14,
   "id": "1448ec88",
   "metadata": {
    "ExecuteTime": {
     "end_time": "2022-10-01T03:57:19.124439Z",
     "start_time": "2022-10-01T03:57:19.085184Z"
    }
   },
   "outputs": [
    {
     "data": {
      "text/plain": [
       "5000"
      ]
     },
     "execution_count": 14,
     "metadata": {},
     "output_type": "execute_result"
    }
   ],
   "source": [
    "len(vect.vocabulary_)"
   ]
  },
  {
   "cell_type": "markdown",
   "id": "5bce46cb",
   "metadata": {},
   "source": [
    "### Using NB Methods"
   ]
  },
  {
   "cell_type": "markdown",
   "id": "7d000383",
   "metadata": {},
   "source": [
    "#### Using Bernoulli NB "
   ]
  },
  {
   "cell_type": "code",
   "execution_count": 15,
   "id": "80e8e212",
   "metadata": {
    "ExecuteTime": {
     "end_time": "2022-10-01T03:57:19.279431Z",
     "start_time": "2022-10-01T03:57:19.129439Z"
    }
   },
   "outputs": [],
   "source": [
    "from sklearn.metrics import accuracy_score\n",
    "from sklearn.naive_bayes import BernoulliNB\n",
    "\n",
    "bnb = BernoulliNB()"
   ]
  },
  {
   "cell_type": "code",
   "execution_count": 16,
   "id": "415c4c46",
   "metadata": {
    "ExecuteTime": {
     "end_time": "2022-10-01T03:57:19.355436Z",
     "start_time": "2022-10-01T03:57:19.285439Z"
    }
   },
   "outputs": [
    {
     "name": "stdout",
     "output_type": "stream",
     "text": [
      "Train Accuracy 0.8736554238833182\n",
      "Test Accuracy 0.8688899040657835\n"
     ]
    }
   ],
   "source": [
    "bnb.fit(X_train_transformed, y)\n",
    "\n",
    "pred_train_ys = bnb.predict(X_train_transformed)\n",
    "pred_test_ys = bnb.predict(X_test_transformed)\n",
    "\n",
    "print('Train Accuracy', accuracy_score(y, pred_train_ys))\n",
    "print('Test Accuracy', accuracy_score(y_test, pred_test_ys))"
   ]
  },
  {
   "cell_type": "markdown",
   "id": "f6d5a31f",
   "metadata": {},
   "source": [
    "#### Using Multinomial NB"
   ]
  },
  {
   "cell_type": "code",
   "execution_count": 17,
   "id": "a53dc285",
   "metadata": {
    "ExecuteTime": {
     "end_time": "2022-10-01T03:57:19.371438Z",
     "start_time": "2022-10-01T03:57:19.361431Z"
    }
   },
   "outputs": [],
   "source": [
    "from sklearn.naive_bayes import MultinomialNB\n",
    "\n",
    "mnb = MultinomialNB()"
   ]
  },
  {
   "cell_type": "code",
   "execution_count": 18,
   "id": "4564cb6e",
   "metadata": {
    "ExecuteTime": {
     "end_time": "2022-10-01T03:57:19.432437Z",
     "start_time": "2022-10-01T03:57:19.377426Z"
    }
   },
   "outputs": [
    {
     "name": "stdout",
     "output_type": "stream",
     "text": [
      "Train Accuracy 0.968094804010939\n",
      "Test Accuracy 0.9657377798081316\n"
     ]
    }
   ],
   "source": [
    "mnb.fit(X_train_transformed, y)\n",
    "\n",
    "pred_train_ys = mnb.predict(X_train_transformed)\n",
    "pred_test_ys = mnb.predict(X_test_transformed)\n",
    "\n",
    "print('Train Accuracy', accuracy_score(y, pred_train_ys))\n",
    "print('Test Accuracy', accuracy_score(y_test, pred_test_ys))"
   ]
  },
  {
   "cell_type": "markdown",
   "id": "b9b31319",
   "metadata": {},
   "source": [
    "## Using Word Embeddings"
   ]
  },
  {
   "cell_type": "markdown",
   "id": "8ecf1356",
   "metadata": {},
   "source": [
    "### Using Pre-Trained Model : GLOVE"
   ]
  },
  {
   "cell_type": "code",
   "execution_count": 19,
   "id": "b97673ec",
   "metadata": {
    "ExecuteTime": {
     "end_time": "2022-10-01T04:01:44.524677Z",
     "start_time": "2022-10-01T03:57:19.439429Z"
    }
   },
   "outputs": [
    {
     "data": {
      "text/plain": [
       "(400000, 200)"
      ]
     },
     "execution_count": 19,
     "metadata": {},
     "output_type": "execute_result"
    }
   ],
   "source": [
    "import gensim\n",
    "from gensim.scripts.glove2word2vec import glove2word2vec\n",
    "\n",
    "glove_input_file = r\"D:\\DataScience\\NLP\\Gensim Dictionary\\glove.6B\\glove.6B.200d.txt\"\n",
    "word2vec_output_file = 'glove.6B.200d.w2vformat.txt'\n",
    "glove2word2vec(glove_input_file, word2vec_output_file)"
   ]
  },
  {
   "cell_type": "code",
   "execution_count": 20,
   "id": "e8827d6b",
   "metadata": {
    "ExecuteTime": {
     "end_time": "2022-10-01T04:04:14.624396Z",
     "start_time": "2022-10-01T04:01:44.530686Z"
    }
   },
   "outputs": [],
   "source": [
    "from gensim.models.keyedvectors import KeyedVectors\n",
    "\n",
    "glove_model = KeyedVectors.load_word2vec_format('glove.6B.200d.w2vformat.txt',\n",
    "                                                binary=False)"
   ]
  },
  {
   "cell_type": "code",
   "execution_count": 21,
   "id": "ad5b013e",
   "metadata": {
    "ExecuteTime": {
     "end_time": "2022-10-01T04:04:16.094848Z",
     "start_time": "2022-10-01T04:04:14.630364Z"
    }
   },
   "outputs": [],
   "source": [
    "import nltk\n",
    "from nltk.corpus import stopwords\n",
    "\n",
    "stop_words = stopwords.words('english')"
   ]
  },
  {
   "cell_type": "code",
   "execution_count": 22,
   "id": "3d6284a4",
   "metadata": {
    "ExecuteTime": {
     "end_time": "2022-10-01T04:04:16.125841Z",
     "start_time": "2022-10-01T04:04:16.100852Z"
    }
   },
   "outputs": [],
   "source": [
    "def sent_vec(sent):\n",
    "    wv_res = np.zeros(glove_model.vector_size)\n",
    "    ctr = 1\n",
    "    for w in sent:\n",
    "        if w in glove_model:\n",
    "            ctr += 1\n",
    "            wv_res += glove_model[w]\n",
    "        wv_res = wv_res / ctr\n",
    "        return wv_res"
   ]
  },
  {
   "cell_type": "code",
   "execution_count": 23,
   "id": "11e1fedc",
   "metadata": {
    "ExecuteTime": {
     "end_time": "2022-10-01T04:04:19.953300Z",
     "start_time": "2022-10-01T04:04:16.130842Z"
    }
   },
   "outputs": [],
   "source": [
    "train_doc_vecs = []\n",
    "for doc in X:\n",
    "    doc_words = [term for term in doc if term not in stop_words]\n",
    "    train_doc_vecs.append(sent_vec(doc_words))"
   ]
  },
  {
   "cell_type": "code",
   "execution_count": 24,
   "id": "cdf9d4eb",
   "metadata": {
    "ExecuteTime": {
     "end_time": "2022-10-01T04:04:21.361341Z",
     "start_time": "2022-10-01T04:04:19.958288Z"
    }
   },
   "outputs": [],
   "source": [
    "test_doc_vecs = []\n",
    "for doc in X_test:\n",
    "    doc_words = [term for term in doc if term not in stop_words]\n",
    "    test_doc_vecs.append(sent_vec(doc_words))"
   ]
  },
  {
   "cell_type": "markdown",
   "id": "a7410c2b",
   "metadata": {},
   "source": [
    "#### Using Logistic Regression Model"
   ]
  },
  {
   "cell_type": "code",
   "execution_count": 25,
   "id": "8630251b",
   "metadata": {
    "ExecuteTime": {
     "end_time": "2022-10-01T04:04:21.377025Z",
     "start_time": "2022-10-01T04:04:21.366351Z"
    }
   },
   "outputs": [],
   "source": [
    "from sklearn.linear_model import LogisticRegression\n",
    "\n",
    "logreg = LogisticRegression(solver='liblinear',\n",
    "                            penalty=\"l1\",\n",
    "                            random_state=42,\n",
    "                            C=3.5)"
   ]
  },
  {
   "cell_type": "code",
   "execution_count": 26,
   "id": "9412729f",
   "metadata": {
    "ExecuteTime": {
     "end_time": "2022-10-01T04:04:22.114562Z",
     "start_time": "2022-10-01T04:04:21.382027Z"
    }
   },
   "outputs": [
    {
     "name": "stdout",
     "output_type": "stream",
     "text": [
      "Train Accuracy 0.9985414767547858\n",
      "Test Accuracy 0.9634536317953404\n"
     ]
    }
   ],
   "source": [
    "logreg.fit(X_train_transformed, y)\n",
    "\n",
    "pred_train_ys = logreg.predict(X_train_transformed)\n",
    "pred_test_ys = logreg.predict(X_test_transformed)\n",
    "\n",
    "print('Train Accuracy', accuracy_score(y, pred_train_ys))\n",
    "print('Test Accuracy', accuracy_score(y_test, pred_test_ys))"
   ]
  }
 ],
 "metadata": {
  "kernelspec": {
   "display_name": "Python 3 (ipykernel)",
   "language": "python",
   "name": "python3"
  },
  "language_info": {
   "codemirror_mode": {
    "name": "ipython",
    "version": 3
   },
   "file_extension": ".py",
   "mimetype": "text/x-python",
   "name": "python",
   "nbconvert_exporter": "python",
   "pygments_lexer": "ipython3",
   "version": "3.10.0"
  },
  "toc": {
   "base_numbering": 1,
   "nav_menu": {},
   "number_sections": true,
   "sideBar": true,
   "skip_h1_title": false,
   "title_cell": "Table of Contents",
   "title_sidebar": "Contents",
   "toc_cell": false,
   "toc_position": {},
   "toc_section_display": true,
   "toc_window_display": true
  }
 },
 "nbformat": 4,
 "nbformat_minor": 5
}
